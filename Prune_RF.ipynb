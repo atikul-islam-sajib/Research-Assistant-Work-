{
  "nbformat": 4,
  "nbformat_minor": 0,
  "metadata": {
    "colab": {
      "provenance": []
    },
    "kernelspec": {
      "name": "python3",
      "display_name": "Python 3"
    },
    "language_info": {
      "name": "python"
    }
  },
  "cells": [
    {
      "cell_type": "code",
      "execution_count": 11,
      "metadata": {
        "id": "RZMUD3TSMqof"
      },
      "outputs": [],
      "source": [
        "!git clone -b prune-experiment https://github.com/atikul-islam-sajib/TreeBasedModel.git"
      ]
    },
    {
      "cell_type": "code",
      "source": [
        "%cd /content/TreeBasedModel"
      ],
      "metadata": {
        "id": "02fYDUwCMywU"
      },
      "execution_count": 11,
      "outputs": []
    },
    {
      "cell_type": "code",
      "source": [
        "!pip install shap"
      ],
      "metadata": {
        "id": "Ysur0MyXM3qv"
      },
      "execution_count": 11,
      "outputs": []
    },
    {
      "cell_type": "code",
      "source": [
        "!pip install -e . --verbose"
      ],
      "metadata": {
        "id": "zmX86cC-M8ZS"
      },
      "execution_count": 11,
      "outputs": []
    },
    {
      "cell_type": "code",
      "source": [
        "from sklearn.datasets import make_classification\n",
        "from sklearn.model_selection import train_test_split\n",
        "import pandas as pd\n",
        "from sklearn.metrics import accuracy_score\n",
        "from TreeModelsFromScratch.RandomForest import RandomForest\n",
        "\n",
        "# Generate synthetic dataset\n",
        "X, y = make_classification(n_samples=200, n_features=20, n_informative=10, n_redundant=10, n_clusters_per_class=2, random_state=42)\n",
        "X = pd.DataFrame(X)\n",
        "y = pd.Series(y)\n",
        "\n",
        "# Split dataset\n",
        "X_train, X_test, y_train, y_test = train_test_split(X, y, test_size=0.25, random_state=42)\n",
        "\n",
        "# Instantiate RandomForest\n",
        "rf = RandomForest(n_trees=100, max_depth=10, min_samples_split=2, min_samples_leaf=1,\n",
        "                  n_feature=\"sqrt\", bootstrap=True, oob=True, criterion=\"gini\",\n",
        "                  treetype=\"classification\", random_state=42)\n",
        "\n",
        "# Fit the model\n",
        "rf.fit(X_train, y_train)\n",
        "\n",
        "# Function to write details to a file\n",
        "def write_tree_details_to_file(filename, rf, stage):\n",
        "    with open(filename, 'a') as file:\n",
        "        file.write(f\"\\nTree structure {stage} pruning:\\n\")\n",
        "        file.write(f\"Tree depth {stage} pruning: {rf.trees[0].max_depth_}\\n\")\n",
        "\n",
        "        for i, tree in enumerate(rf.trees):\n",
        "            file.write(f\"\\nTree {i} {stage} pruning:\\n\")\n",
        "            for node_id, node_info in tree.node_id_dict.items():\n",
        "                if node_info['is_leaf_node']:\n",
        "                    file.write(f\"Node ID: {node_id}, Depth: {node_info['depth']}, Samples: {node_info['samples']}\\n\")\n",
        "\n",
        "# Write details before pruning\n",
        "write_tree_details_to_file('tree_details.txt', rf, 'before')\n",
        "\n",
        "# Prune the forest with a higher min_samples_leaf value to force more pruning\n",
        "rf.prune(min_samples_leaf=30)\n",
        "\n",
        "# Write details after pruning\n",
        "write_tree_details_to_file('tree_details.txt', rf, 'after')\n",
        "\n",
        "# Evaluate the model\n",
        "y_pred = rf.predict(X_test)\n",
        "accuracy = accuracy_score(y_test, y_pred)\n",
        "\n",
        "# Write evaluation results to the file\n",
        "with open('tree_details.txt', 'a') as file:\n",
        "    file.write(f'\\nAccuracy: {accuracy:.2f}\\n')\n",
        "    file.write(f'OOB Score: {rf.oob_score:.2f}\\n')\n",
        "\n",
        "# Optionally, print the evaluation results to the console\n",
        "print(f'\\nAccuracy: {accuracy:.2f}')\n",
        "print(f'OOB Score: {rf.oob_score:.2f}')"
      ],
      "metadata": {
        "colab": {
          "base_uri": "https://localhost:8080/"
        },
        "id": "r1rI9F31M-4J",
        "outputId": "a75b1fbc-4a6d-4cfc-e1fe-70511facef79"
      },
      "execution_count": 14,
      "outputs": [
        {
          "output_type": "stream",
          "name": "stdout",
          "text": [
            "\n",
            "Accuracy: 0.80\n",
            "OOB Score: 0.82\n"
          ]
        }
      ]
    }
  ]
}