{
  "nbformat": 4,
  "nbformat_minor": 0,
  "metadata": {
    "colab": {
      "provenance": []
    },
    "kernelspec": {
      "name": "python3",
      "display_name": "Python 3"
    },
    "language_info": {
      "name": "python"
    }
  },
  "cells": [
    {
      "cell_type": "code",
      "source": [
        "import pandas as pd\n",
        "import re\n",
        "from datetime import datetime\n",
        "\n",
        "def read_html_file(file_path):\n",
        "    \"\"\"Read the content of an HTML file.\"\"\"\n",
        "    with open(file_path, 'r') as file:\n",
        "        return file.read()\n",
        "\n",
        "def extract_data_json(content):\n",
        "    \"\"\"Extract JSON data array from the HTML content.\"\"\"\n",
        "    pattern = re.compile(r'var datajson =\\s*(\\[\\s*\\[.*?\\]\\s*\\]);', re.DOTALL)\n",
        "    match = pattern.search(content)\n",
        "\n",
        "    if not match:\n",
        "        raise ValueError(\"No data found in the HTML file.\")\n",
        "\n",
        "    return match.group(1)\n",
        "\n",
        "def convert_js_dates_and_nulls(data_json):\n",
        "    \"\"\"Convert JavaScript dates to Python datetime and replace nulls with None.\"\"\"\n",
        "    # Replace JavaScript date with Python datetime\n",
        "    data_json = re.sub(r'new Date\\((\\d+),(\\d+),(\\d+)\\)',\n",
        "                       lambda m: f'datetime({m.group(1)},{int(m.group(2))+1},{m.group(3)})',\n",
        "                       data_json)\n",
        "    # Replace JavaScript null with Python None\n",
        "    data_json = data_json.replace('null', 'None')\n",
        "    return data_json\n",
        "\n",
        "def evaluate_data_json(data_json):\n",
        "    \"\"\"Evaluate the JSON data array to convert it into a Python list.\"\"\"\n",
        "    return eval(data_json, {\"datetime\": datetime, \"None\": None})\n",
        "\n",
        "def infer_columns(data):\n",
        "    \"\"\"Infer column names based on the first row of data.\"\"\"\n",
        "    num_columns = len(data[0])\n",
        "    # Ensure the first two columns are 'ID' and 'Date'\n",
        "    columns = ['ID', 'Date'] + [f'Feature_{i+3}' for i in range(num_columns - 2)]\n",
        "    return columns\n",
        "\n",
        "def create_dataframe(data):\n",
        "    \"\"\"Create a pandas DataFrame from the extracted data.\"\"\"\n",
        "    columns = infer_columns(data)\n",
        "    return pd.DataFrame(data, columns=columns)\n",
        "\n",
        "def main(file_path, to_csv):\n",
        "    content = read_html_file(file_path)\n",
        "    data_json = extract_data_json(content)\n",
        "    data_json = convert_js_dates_and_nulls(data_json)\n",
        "    data = evaluate_data_json(data_json)\n",
        "    df = create_dataframe(data)\n",
        "\n",
        "    if to_csv:\n",
        "      df.to_csv('./extracted_data.csv', index=False)\n",
        "\n",
        "    return df\n",
        "\n",
        "# Path to the HTML file\n",
        "file_path = '/content/divMotionChartrollMean2.html'\n",
        "\n",
        "# Execute main function\n",
        "df = main(file_path = file_path, to_csv=True) # To save the CSV file"
      ],
      "metadata": {
        "id": "MpjNeg3RpiOt"
      },
      "execution_count": 13,
      "outputs": []
    }
  ]
}