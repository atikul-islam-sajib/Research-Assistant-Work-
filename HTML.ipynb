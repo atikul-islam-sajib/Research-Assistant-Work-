{
  "nbformat": 4,
  "nbformat_minor": 0,
  "metadata": {
    "colab": {
      "provenance": []
    },
    "kernelspec": {
      "name": "python3",
      "display_name": "Python 3"
    },
    "language_info": {
      "name": "python"
    }
  },
  "cells": [
    {
      "cell_type": "markdown",
      "source": [
        "# SHAP Plots with `treeinterpreter` and Random Forest\n",
        "\n",
        "In this notebook, we'll demonstrate how to create SHAP-type plots using the `treeinterpreter` package along with SHAP. SHAP (SHapley Additive exPlanations) plots are a popular method for interpreting machine learning models by showing the contribution of each feature to a specific prediction. `treeinterpreter` is a tool that breaks down the predictions of tree-based models (e.g., Random Forests) into individual feature contributions. By combining these two tools, we can visualize and interpret the impact of features on model predictions.\n",
        "\n",
        "We'll walk through two examples using different datasets and discuss how to customize the plots for different classes.\n",
        "\n",
        "### Prerequisites\n",
        "Before running the examples, ensure that you have the necessary libraries installed:\n",
        "- `shap`\n",
        "- `treeinterpreter`\n",
        "- `scikit-learn`"
      ],
      "metadata": {
        "id": "aT5THrXfxeg6"
      }
    },
    {
      "cell_type": "code",
      "source": [
        "!pip install shap treeinterpreter"
      ],
      "metadata": {
        "id": "J2eYDjhtxhmo"
      },
      "execution_count": null,
      "outputs": []
    },
    {
      "cell_type": "code",
      "source": [
        "import shap\n",
        "import numpy as np\n",
        "import matplotlib.pyplot as plt\n",
        "from sklearn.datasets import load_wine\n",
        "from sklearn.datasets import load_iris\n",
        "from treeinterpreter import treeinterpreter as ti\n",
        "from sklearn.ensemble import RandomForestClassifier"
      ],
      "metadata": {
        "id": "AuE5oscutIN0"
      },
      "execution_count": null,
      "outputs": []
    },
    {
      "cell_type": "markdown",
      "source": [
        "## Example 1\n",
        "\n",
        "This script loads the Iris dataset, trains a RandomForestClassifier model, and uses\n",
        "TreeInterpreter and SHAP to analyze feature contributions.\n",
        "\n",
        "### Steps:\n",
        "1. Load the Iris dataset and train a RandomForestClassifier model.\n",
        "2. Use TreeInterpreter to obtain predictions, biases, and feature contributions.\n",
        "3. Focus on contributions for one class (class 0 in this example).\n",
        "4. Create a SHAP Explanation object.\n",
        "5. Generate various SHAP plots including a summary plot, a waterfall plot for the first instance,\n",
        "   and a bar plot of the mean absolute SHAP values across all features."
      ],
      "metadata": {
        "id": "xG4oL3sZtMds"
      }
    },
    {
      "cell_type": "code",
      "source": [
        "# Load dataset and train a model\n",
        "data = load_iris()\n",
        "X, y = data.data, data.target\n",
        "model = RandomForestClassifier()\n",
        "model.fit(X, y)\n",
        "\n",
        "# Use treeinterpreter to get the prediction, bias, and contributions\n",
        "prediction, bias, contributions = ti.predict(model, X)\n",
        "\n",
        "# contributions.shape is (n_samples, n_features, n_classes)\n",
        "# We reduce the dimensionality by selecting one class\n",
        "shap_values = contributions[:, :, 0]  # Choose class 0 for visualization\n",
        "\n",
        "# Creating a SHAP Explanation object\n",
        "explainer = shap.Explainer(model)\n",
        "shap_object = shap.Explanation(\n",
        "    values=shap_values,\n",
        "    base_values=bias[:, 0],  # Base values should match the selected class\n",
        "    data=X,\n",
        "    feature_names=data.feature_names\n",
        ")\n",
        "\n",
        "# Generate SHAP plots\n",
        "shap.summary_plot(shap_object.values, shap_object.data, feature_names=shap_object.feature_names)\n",
        "shap.waterfall_plot(shap_object[0])  # Example for the first instance\n",
        "\n",
        "# For the bar plot, extract the mean absolute values across all instances\n",
        "mean_abs_shap_values = np.abs(shap_object.values).mean(axis=0)\n",
        "shap.bar_plot(mean_abs_shap_values, feature_names=shap_object.feature_names)"
      ],
      "metadata": {
        "id": "VZ4nV8xYtOKF"
      },
      "execution_count": null,
      "outputs": []
    },
    {
      "cell_type": "markdown",
      "source": [
        "## Example - 1 customizations of the x-axis labels in SHAP plots\n",
        "\n",
        "\n",
        "This script demonstrates the process of loading the Iris dataset, training a\n",
        "RandomForestClassifier model, and using TreeInterpreter and SHAP to analyze feature contributions.\n",
        "It includes customizations of the x-axis labels in SHAP plots.\n",
        "\n",
        "### Steps:\n",
        "1. Load the Iris dataset and train a RandomForestClassifier model.\n",
        "2. Use TreeInterpreter to obtain predictions, biases, and feature contributions.\n",
        "3. Focus on contributions for one class (class 0 in this example).\n",
        "4. Create a SHAP Explanation object.\n",
        "5. Generate and customize SHAP plots including a summary plot (with a custom x-axis label),\n",
        "   a waterfall plot for the first instance, and a bar plot with a custom x-axis label."
      ],
      "metadata": {
        "id": "3-be6LGwtRri"
      }
    },
    {
      "cell_type": "code",
      "source": [
        "import numpy as np\n",
        "import shap\n",
        "from sklearn.datasets import load_iris\n",
        "from sklearn.ensemble import RandomForestClassifier\n",
        "from treeinterpreter import treeinterpreter as ti\n",
        "import matplotlib.pyplot as plt\n",
        "\n",
        "# Load dataset and train the model\n",
        "data = load_iris()\n",
        "X, y = data.data, data.target\n",
        "model = RandomForestClassifier()\n",
        "model.fit(X, y)\n",
        "\n",
        "# Use treeinterpreter to get the prediction, bias, and contributions\n",
        "prediction, bias, contributions = ti.predict(model, X)\n",
        "\n",
        "# Contributions.shape is (n_samples, n_features, n_classes)\n",
        "# We reduce the dimensionality by selecting one class\n",
        "shap_values = contributions[:, :, 0]  # Choose class 0 for visualization\n",
        "\n",
        "# Creating a SHAP Explanation object\n",
        "explainer = shap.Explainer(model)\n",
        "shap_object = shap.Explanation(\n",
        "    values=shap_values,\n",
        "    base_values=bias[:, 0],  # Base values should match the selected class\n",
        "    data=X,\n",
        "    feature_names=data.feature_names\n",
        ")\n",
        "\n",
        "# Generate SHAP summary plot (beeswarm plot) and modify the x-axis label directly\n",
        "shap.summary_plot(shap_object.values, shap_object.data, feature_names=shap_object.feature_names, show=False)\n",
        "plt.gca().set_xlabel(\"CUSTOM ------> CUSTOM ----->\")  # Modify the x-axis label\n",
        "plt.show()  # Display the plot with the updated label\n",
        "\n",
        "# Generate SHAP waterfall plot for the first instance\n",
        "shap.waterfall_plot(shap_object[0])\n",
        "\n",
        "# For the bar plot, extract the mean absolute values across all instances\n",
        "mean_abs_shap_values = np.abs(shap_object.values).mean(axis=0)\n",
        "shap.bar_plot(mean_abs_shap_values, feature_names=shap_object.feature_names)"
      ],
      "metadata": {
        "id": "JpnYOywPtVLY"
      },
      "execution_count": null,
      "outputs": []
    },
    {
      "cell_type": "markdown",
      "source": [
        "## Example 2\n",
        "\n",
        "This script demonstrates the process of loading the Wine dataset, training a\n",
        "RandomForestClassifier model, and using TreeInterpreter and SHAP to analyze feature contributions.\n",
        "It includes generating several SHAP plots for visualizing the contributions.\n",
        "\n",
        "### Steps:\n",
        "1. Load the Wine dataset and train a RandomForestClassifier model.\n",
        "2. Use TreeInterpreter to obtain predictions, biases, and feature contributions.\n",
        "3. Focus on contributions for one class (class 0 in this example).\n",
        "4. Create a SHAP Explanation object.\n",
        "5. Generate SHAP plots including a summary plot, a waterfall plot for the first instance,\n",
        "   and a bar plot showing the mean absolute SHAP values across all features."
      ],
      "metadata": {
        "id": "-BD0p702tYet"
      }
    },
    {
      "cell_type": "code",
      "source": [
        "# Load the Wine dataset\n",
        "data = load_wine()\n",
        "X, y = data.data, data.target\n",
        "model = RandomForestClassifier()\n",
        "model.fit(X, y)\n",
        "\n",
        "# Use treeinterpreter to get the prediction, bias, and contributions\n",
        "prediction, bias, contributions = ti.predict(model, X)\n",
        "\n",
        "# contributions.shape is (n_samples, n_features, n_classes)\n",
        "# We reduce the dimensionality by selecting one class\n",
        "shap_values = contributions[:, :, 0]  # Choose class 0 for visualization\n",
        "\n",
        "# Creating a SHAP Explanation object\n",
        "explainer = shap.Explainer(model)\n",
        "shap_object = shap.Explanation(\n",
        "    values=shap_values,\n",
        "    base_values=bias[:, 0],  # Base values should match the selected class\n",
        "    data=X,\n",
        "    feature_names=data.feature_names\n",
        ")\n",
        "\n",
        "# Generate SHAP plots\n",
        "shap.summary_plot(shap_object.values, shap_object.data, feature_names=shap_object.feature_names)\n",
        "shap.waterfall_plot(shap_object[0])  # Example for the first instance\n",
        "\n",
        "# For the bar plot, extract the mean absolute values across all instances\n",
        "mean_abs_shap_values = np.abs(shap_object.values).mean(axis=0)\n",
        "shap.bar_plot(mean_abs_shap_values, feature_names=shap_object.feature_names)"
      ],
      "metadata": {
        "id": "-NFDJ-drtaOk"
      },
      "execution_count": null,
      "outputs": []
    },
    {
      "cell_type": "markdown",
      "source": [
        "## Example -2 customizations of the x-axis labels in SHAP plots\n",
        "\n",
        "\n",
        "This script demonstrates the process of loading the Wine dataset, training a\n",
        "RandomForestClassifier model, and using TreeInterpreter and SHAP to analyze feature contributions.\n",
        "It includes customizations of the x-axis labels in SHAP plots.\n",
        "\n",
        "### Steps:\n",
        "1. Load the Wine dataset and train a RandomForestClassifier model.\n",
        "2. Use TreeInterpreter to obtain predictions, biases, and feature contributions.\n",
        "3. Focus on contributions for one class (class 0 in this example).\n",
        "4. Create a SHAP Explanation object.\n",
        "5. Generate and customize SHAP plots including a summary plot (with a custom x-axis label),\n",
        "   a waterfall plot for the first instance, and a bar plot with a custom x-axis label.\n"
      ],
      "metadata": {
        "id": "tj1KM-PEtdyH"
      }
    },
    {
      "cell_type": "code",
      "source": [
        "import numpy as np\n",
        "import shap\n",
        "from sklearn.datasets import load_wine\n",
        "from sklearn.ensemble import RandomForestClassifier\n",
        "from treeinterpreter import treeinterpreter as ti\n",
        "import matplotlib.pyplot as plt\n",
        "\n",
        "# Load the Wine dataset and train the model\n",
        "data = load_wine()\n",
        "X, y = data.data, data.target\n",
        "model = RandomForestClassifier()\n",
        "model.fit(X, y)\n",
        "\n",
        "# Use treeinterpreter to get the prediction, bias, and contributions\n",
        "prediction, bias, contributions = ti.predict(model, X)\n",
        "\n",
        "# contributions.shape is (n_samples, n_features, n_classes)\n",
        "# We reduce the dimensionality by selecting one class\n",
        "shap_values = contributions[:, :, 0]  # Choose class 0 for visualization\n",
        "\n",
        "# Creating a SHAP Explanation object\n",
        "explainer = shap.Explainer(model)\n",
        "shap_object = shap.Explanation(\n",
        "    values=shap_values,\n",
        "    base_values=bias[:, 0],  # Base values should match the selected class\n",
        "    data=X,\n",
        "    feature_names=data.feature_names\n",
        ")\n",
        "\n",
        "# Generate SHAP summary plot (beeswarm plot) and modify the x-axis label directly\n",
        "shap.summary_plot(shap_object.values, shap_object.data, feature_names=shap_object.feature_names, show=False)\n",
        "plt.gca().set_xlabel(\"Custom -----> CUSTOM -----> CUSTOM\")  # Modify the x-axis label\n",
        "plt.show()  # Display the plot with the updated label\n",
        "\n",
        "# Generate SHAP waterfall plot for the first instance\n",
        "shap.waterfall_plot(shap_object[0])\n",
        "\n",
        "# For the bar plot, extract the mean absolute values across all instances\n",
        "mean_abs_shap_values = np.abs(shap_object.values).mean(axis=0)\n",
        "shap.bar_plot(mean_abs_shap_values, feature_names=shap_object.feature_names)"
      ],
      "metadata": {
        "id": "bbYVTD_8tgjt"
      },
      "execution_count": null,
      "outputs": []
    },
    {
      "cell_type": "markdown",
      "source": [
        "## Example - 3\n",
        "\n",
        "\n",
        "This script demonstrates the process of loading the Wine dataset, training a\n",
        "RandomForestClassifier model, and using TreeInterpreter and SHAP to analyze feature contributions\n",
        "for two different classes (Class 0 and Class 1). It includes generating and visualizing SHAP plots\n",
        "for each class separately.\n",
        "\n",
        "### Steps:\n",
        "1. Load the Wine dataset and train a RandomForestClassifier model.\n",
        "2. Use TreeInterpreter to obtain predictions, biases, and feature contributions.\n",
        "3. Select SHAP values and base values for two different classes (Class 0 and Class 1).\n",
        "4. Create separate SHAP Explanation objects for each class.\n",
        "5. Generate SHAP visualizations (summary plot, waterfall plot, and bar plot) for each class.\n"
      ],
      "metadata": {
        "id": "Rr0gez2Ctk35"
      }
    },
    {
      "cell_type": "code",
      "source": [
        "# Load the Wine dataset\n",
        "data = load_wine()\n",
        "X, y = data.data, data.target\n",
        "model = RandomForestClassifier()\n",
        "model.fit(X, y)\n",
        "\n",
        "# Use treeinterpreter to get the prediction, bias, and contributions\n",
        "prediction, bias, contributions = ti.predict(model, X)\n",
        "\n",
        "# Select SHAP values for two different classes\n",
        "shap_values_class_0 = contributions[:, :, 0]  # Class 0\n",
        "shap_values_class_1 = contributions[:, :, 1]  # Class 1\n",
        "\n",
        "# Base values for each class\n",
        "base_values_class_0 = bias[:, 0]\n",
        "base_values_class_1 = bias[:, 1]\n",
        "\n",
        "# Create SHAP Explanation objects for each class\n",
        "explainer = shap.Explainer(model)\n",
        "shap_object_class_0 = shap.Explanation(\n",
        "    values=shap_values_class_0,\n",
        "    base_values=base_values_class_0,\n",
        "    data=X,\n",
        "    feature_names=data.feature_names\n",
        ")\n",
        "\n",
        "shap_object_class_1 = shap.Explanation(\n",
        "    values=shap_values_class_1,\n",
        "    base_values=base_values_class_1,\n",
        "    data=X,\n",
        "    feature_names=data.feature_names\n",
        ")\n",
        "\n",
        "# Plotting SHAP visuals for Class 0\n",
        "print(\"Class 0 SHAP Visualizations:\")\n",
        "shap.summary_plot(shap_object_class_0.values, shap_object_class_0.data, feature_names=shap_object_class_0.feature_names)\n",
        "shap.waterfall_plot(shap_object_class_0[0], max_display=10)\n",
        "mean_abs_shap_values_class_0 = np.abs(shap_object_class_0.values).mean(axis=0)\n",
        "shap.bar_plot(mean_abs_shap_values_class_0, feature_names=shap_object_class_0.feature_names)\n",
        "\n",
        "# Plotting SHAP visuals for Class 1\n",
        "print(\"\\nClass 1 SHAP Visualizations:\")\n",
        "shap.summary_plot(shap_object_class_1.values, shap_object_class_1.data, feature_names=shap_object_class_1.feature_names)\n",
        "shap.waterfall_plot(shap_object_class_1[0], max_display=10)\n",
        "mean_abs_shap_values_class_1 = np.abs(shap_object_class_1.values).mean(axis=0)\n",
        "shap.bar_plot(mean_abs_shap_values_class_1, feature_names=shap_object_class_1.feature_names)"
      ],
      "metadata": {
        "id": "gOhiSILjtma2"
      },
      "execution_count": null,
      "outputs": []
    },
    {
      "cell_type": "markdown",
      "source": [
        "## Example - 3 customized x-axis labels for summary plots\n",
        "\n",
        "\n",
        "This script demonstrates the process of loading the Wine dataset, training a\n",
        "RandomForestClassifier model, and using TreeInterpreter and SHAP to analyze feature contributions\n",
        "for two different classes (Class 0 and Class 1). The script includes generating and visualizing\n",
        "SHAP plots for each class separately, with customized x-axis labels for summary plots.\n",
        "\n",
        "### Steps:\n",
        "1. Load the Wine dataset and train a RandomForestClassifier model.\n",
        "2. Use TreeInterpreter to obtain predictions, biases, and feature contributions.\n",
        "3. Select SHAP values and base values for two different classes (Class 0 and Class 1).\n",
        "4. Create separate SHAP Explanation objects for each class.\n",
        "5. Generate SHAP visualizations (summary plot, waterfall plot, and bar plot) for each class.\n",
        "6. Customize the x-axis labels for the summary plots for each class.\n"
      ],
      "metadata": {
        "id": "pdFQWTpGtpoT"
      }
    },
    {
      "cell_type": "code",
      "source": [
        "import numpy as np\n",
        "import shap\n",
        "from sklearn.datasets import load_wine\n",
        "from sklearn.ensemble import RandomForestClassifier\n",
        "from treeinterpreter import treeinterpreter as ti\n",
        "import matplotlib.pyplot as plt\n",
        "\n",
        "# Load the Wine dataset and train the model\n",
        "data = load_wine()\n",
        "X, y = data.data, data.target\n",
        "model = RandomForestClassifier()\n",
        "model.fit(X, y)\n",
        "\n",
        "# Use treeinterpreter to get the prediction, bias, and contributions\n",
        "prediction, bias, contributions = ti.predict(model, X)\n",
        "\n",
        "# Select SHAP values for two different classes\n",
        "shap_values_class_0 = contributions[:, :, 0]  # Class 0\n",
        "shap_values_class_1 = contributions[:, :, 1]  # Class 1\n",
        "\n",
        "# Base values for each class\n",
        "base_values_class_0 = bias[:, 0]\n",
        "base_values_class_1 = bias[:, 1]\n",
        "\n",
        "# Create SHAP Explanation objects for each class\n",
        "explainer = shap.Explainer(model)\n",
        "shap_object_class_0 = shap.Explanation(\n",
        "    values=shap_values_class_0,\n",
        "    base_values=base_values_class_0,\n",
        "    data=X,\n",
        "    feature_names=data.feature_names\n",
        ")\n",
        "\n",
        "shap_object_class_1 = shap.Explanation(\n",
        "    values=shap_values_class_1,\n",
        "    base_values=base_values_class_1,\n",
        "    data=X,\n",
        "    feature_names=data.feature_names\n",
        ")\n",
        "\n",
        "# Plotting SHAP visuals for Class 0\n",
        "print(\"Class 0 SHAP Visualizations:\")\n",
        "shap.summary_plot(shap_object_class_0.values, shap_object_class_0.data, feature_names=shap_object_class_0.feature_names, show=False)\n",
        "plt.gca().set_xlabel(\"Custom ----> LABEL 0\")  # Modify the x-axis label\n",
        "plt.show()  # Display the plot with the updated label\n",
        "shap.waterfall_plot(shap_object_class_0[0], max_display=10)\n",
        "mean_abs_shap_values_class_0 = np.abs(shap_object_class_0.values).mean(axis=0)\n",
        "shap.bar_plot(mean_abs_shap_values_class_0, feature_names=shap_object_class_0.feature_names)\n",
        "\n",
        "# Plotting SHAP visuals for Class 1\n",
        "print(\"\\nClass 1 SHAP Visualizations:\")\n",
        "shap.summary_plot(shap_object_class_1.values, shap_object_class_1.data, feature_names=shap_object_class_1.feature_names, show=False)\n",
        "plt.gca().set_xlabel(\"Custom ----> LABEL 1\")  # Modify the x-axis label\n",
        "plt.show()  # Display the plot with the updated label\n",
        "shap.waterfall_plot(shap_object_class_1[0], max_display=10)\n",
        "mean_abs_shap_values_class_1 = np.abs(shap_object_class_1.values).mean(axis=0)\n",
        "shap.bar_plot(mean_abs_shap_values_class_1, feature_names=shap_object_class_1.feature_names)"
      ],
      "metadata": {
        "id": "9iRk4_A6tsnw"
      },
      "execution_count": null,
      "outputs": []
    }
  ]
}