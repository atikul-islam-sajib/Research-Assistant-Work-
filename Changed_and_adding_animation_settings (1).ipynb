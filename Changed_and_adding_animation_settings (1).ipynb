{
  "cells": [
    {
      "cell_type": "code",
      "execution_count": null,
      "metadata": {
        "colab": {
          "base_uri": "https://localhost:8080/",
          "height": 577
        },
        "id": "8iiVw2YJkYzg",
        "outputId": "7edc6aad-bcf0-4fd8-a523-21d73299866e"
      },
      "outputs": [],
      "source": [
        "import pandas as pd\n",
        "import re\n",
        "from datetime import datetime\n",
        "import requests\n",
        "import plotly.express as px\n",
        "import plotly.io as pio\n",
        "\n",
        "def fetch_html_content(url):\n",
        "    \"\"\"Fetch the content of an HTML file from a URL.\"\"\"\n",
        "    response = requests.get(url)\n",
        "    response.raise_for_status()\n",
        "    return response.text\n",
        "\n",
        "def extract_data_json(content):\n",
        "    \"\"\"Extract JSON data array from the HTML content.\"\"\"\n",
        "    pattern = re.compile(r'var datajson =\\s*(\\[\\s*\\[.*?\\]\\s*\\]);', re.DOTALL)\n",
        "    match = pattern.search(content)\n",
        "\n",
        "    if not match:\n",
        "        raise ValueError(\"No data found in the HTML file.\")\n",
        "\n",
        "    return match.group(1)\n",
        "\n",
        "def convert_js_dates_and_nulls(data_json):\n",
        "    \"\"\"Convert JavaScript dates to Python datetime and replace nulls with None.\"\"\"\n",
        "    # Replace JavaScript date with Python datetime\n",
        "    data_json = re.sub(r'new Date\\((\\d+),(\\d+),(\\d+)\\)',\n",
        "                       lambda m: f'datetime({m.group(1)},{int(m.group(2))+1},{m.group(3)})',\n",
        "                       data_json)\n",
        "    # Replace JavaScript null with Python None\n",
        "    data_json = data_json.replace('null', 'None')\n",
        "    return data_json\n",
        "\n",
        "def evaluate_data_json(data_json):\n",
        "    \"\"\"Evaluate the JSON data array to convert it into a Python list.\"\"\"\n",
        "    return eval(data_json, {\"datetime\": datetime, \"None\": None})\n",
        "\n",
        "def infer_columns(data):\n",
        "    \"\"\"Infer column names based on the first row of data.\"\"\"\n",
        "    num_columns = len(data[0])\n",
        "    # Ensure the first two columns are 'ID' and 'Date'\n",
        "    columns = ['ID', 'Date'] + [f'Feature_{i+3}' for i in range(num_columns - 2)]\n",
        "    return columns\n",
        "\n",
        "def create_dataframe(data):\n",
        "    \"\"\"Create a pandas DataFrame from the extracted data.\"\"\"\n",
        "    columns = infer_columns(data)\n",
        "    return pd.DataFrame(data, columns=columns)\n",
        "\n",
        "def main(url, to_csv=False):\n",
        "    content = fetch_html_content(url)\n",
        "    data_json = extract_data_json(content)\n",
        "    data_json = convert_js_dates_and_nulls(data_json)\n",
        "    data = evaluate_data_json(data_json)\n",
        "    df = create_dataframe(data)\n",
        "\n",
        "    if to_csv:\n",
        "        df.to_csv('./extracted_data.csv', index=False)\n",
        "\n",
        "    return df\n",
        "\n",
        "# Path to the HTML file\n",
        "url = 'https://users.nber.org/~dlchen/divMotionChartrollMean2.html'\n",
        "# Execute main function\n",
        "df = main(url=url, to_csv=False)  # To save the CSV file\n",
        "df.columns = [\"ID\", \"Date\", \"SW120DeathSentences\", \"SW120execution\", \"SW120absence\",\"DivType\",\"SW120ExecutionRate\", \"SW120Casualties\"]\n",
        "\n",
        "# Ensure the Date column is of datetime type\n",
        "df['Date'] = pd.to_datetime(df['Date'])\n",
        "\n",
        "# Sort data by Date\n",
        "df.sort_values(by='Date', inplace=True)\n",
        "\n",
        "# Check for duplicates and drop them\n",
        "df.drop_duplicates(subset=['ID', 'Date'], inplace=True)\n"
      ]
    },
    {
      "cell_type": "code",
      "execution_count": 10,
      "metadata": {},
      "outputs": [],
      "source": [
        "def makeChart(df, x='SW120DeathSentences', y='SW120execution', size='SW120Casualties'):\n",
        "    cols2keep = [x, y, size, \"Date\", \"DivType\", \"ID\"]\n",
        "    df = df.loc[:, cols2keep]\n",
        "    print(\"Original dimensions:\", df.shape)\n",
        "    df = df.dropna()\n",
        "    print(\"Dimensions after dropping NAs:\", df.shape)\n",
        "\n",
        "    xMax = df[x].max()\n",
        "    yMax = df[y].max()\n",
        "    sizeMax = df[size].max()\n",
        "\n",
        "    # Map colors to ensure all categories are visible\n",
        "    unique_div_types = df['DivType'].unique()\n",
        "    colors = px.colors.qualitative.Plotly\n",
        "    color_discrete_map = {div: colors[i % len(colors)] for i, div in enumerate(unique_div_types)}\n",
        "\n",
        "    # Create the motion chart\n",
        "    fig = px.scatter(\n",
        "        df, x=x, y=y, animation_frame='Date', animation_group='ID',\n",
        "        size=size, color='DivType', hover_name='ID', log_x=False,\n",
        "        color_discrete_map=color_discrete_map,\n",
        "        range_x=[-0.02, xMax], range_y=[-0.01, yMax], size_max= sizeMax\n",
        "    )\n",
        "\n",
        "    # Adjust the animation settings\n",
        "    fig.update_layout(\n",
        "        updatemenus=[{\n",
        "            'buttons': [{'args': [None, {'frame': {'duration': 500, 'redraw': True},\n",
        "                                         'fromcurrent': True, 'transition': {'duration': 400, 'easing': 'linear'}}],\n",
        "                        'label': 'Play',\n",
        "                        'method': 'animate'},\n",
        "                       {'args': [[None], {'frame': {'duration': 0, 'redraw': True},\n",
        "                                          'mode': 'immediate',\n",
        "                                          'transition': {'duration': 0}}],\n",
        "                        'label': 'Pause',\n",
        "                        'method': 'animate'}]\n",
        "        }]\n",
        "    )\n",
        "\n",
        "    # Save the figure as an HTML file\n",
        "    pio.write_html(fig, 'plotly_animation.html')\n",
        "\n",
        "    # Show the chart\n",
        "    fig.show()"
      ]
    },
    {
      "cell_type": "code",
      "execution_count": 11,
      "metadata": {
        "id": "GEicUepGkZWW"
      },
      "outputs": [
        {
          "name": "stdout",
          "output_type": "stream",
          "text": [
            "Original dimensions: (2482, 6)\n",
            "Dimensions after dropping NAs: (2341, 6)\n"
          ]
        },
        {
          "data": {
            "application/vnd.plotly.v1+json": {
              "config": {
                "plotlyServerURL": "https://plot.ly"
              },
              "data": [
                {
                  "hovertemplate": "<b>%{hovertext}</b><br><br>DivType=new<br>Date=1914-11-24 00:00:00<br>SW120DeathSentences=%{x}<br>SW120execution=%{y}<br>SW120Casualties=%{marker.size}<extra></extra>",
                  "hovertext": [
                    "10",
                    "30",
                    "12",
                    "39",
                    "23",
                    "16",
                    "18",
                    "14",
                    "35",
                    "25",
                    "9",
                    "32",
                    "11",
                    "13",
                    "31",
                    "17",
                    "33",
                    "21",
                    "15",
                    "24",
                    "34",
                    "19",
                    "20"
                  ],
                  "ids": [
                    "10",
                    "30",
                    "12",
                    "39",
                    "23",
                    "16",
                    "18",
                    "14",
                    "35",
                    "25",
                    "9",
                    "32",
                    "11",
                    "13",
                    "31",
                    "17",
                    "33",
                    "21",
                    "15",
                    "24",
                    "34",
                    "19",
                    "20"
                  ],
                  "legendgroup": "new",
                  "marker": {
                    "color": "#636EFA",
                    "size": [
                      0,
                      0,
                      0,
                      0,
                      0,
                      0,
                      0.01666666667,
                      0.06666666667,
                      0,
                      0,
                      0.01666666667,
                      0,
                      0.01666666667,
                      0.01666666667,
                      0.008333333333,
                      0.01666666667,
                      0,
                      0,
                      0.03333333333,
                      0.01666666667,
                      0,
                      0.008333333333,
                      0.008333333333
                    ],
                    "sizemode": "area",
                    "sizeref": 0.0351493848857645,
                    "symbol": "circle"
                  },
                  "mode": "markers",
                  "name": "new",
                  "orientation": "v",
                  "showlegend": true,
                  "type": "scatter",
                  "x": [
                    0,
                    0,
                    0,
                    0,
                    0,
                    0,
                    0,
                    0,
                    0,
                    0,
                    0,
                    0,
                    0,
                    0,
                    0,
                    0,
                    0,
                    0,
                    0,
                    0,
                    0,
                    0,
                    0
                  ],
                  "xaxis": "x",
                  "y": [
                    0,
                    0,
                    0,
                    0,
                    0,
                    0,
                    0,
                    0,
                    0,
                    0,
                    0,
                    0,
                    0,
                    0,
                    0,
                    0,
                    0,
                    0,
                    0,
                    0,
                    0,
                    0,
                    0
                  ],
                  "yaxis": "y"
                },
                {
                  "hovertemplate": "<b>%{hovertext}</b><br><br>DivType=regular<br>Date=1914-11-24 00:00:00<br>SW120DeathSentences=%{x}<br>SW120execution=%{y}<br>SW120Casualties=%{marker.size}<extra></extra>",
                  "hovertext": [
                    "28",
                    "29",
                    "7",
                    "8",
                    "27",
                    "6",
                    "4",
                    "5",
                    "2",
                    "1",
                    "3"
                  ],
                  "ids": [
                    "28",
                    "29",
                    "7",
                    "8",
                    "27",
                    "6",
                    "4",
                    "5",
                    "2",
                    "1",
                    "3"
                  ],
                  "legendgroup": "regular",
                  "marker": {
                    "color": "#EF553B",
                    "size": [
                      0.05833333333,
                      0.025,
                      1.341666667,
                      0.008333333333,
                      0,
                      3.358333333,
                      4.125,
                      5.641666667,
                      5.075,
                      5.525,
                      8.291666667
                    ],
                    "sizemode": "area",
                    "sizeref": 0.0351493848857645,
                    "symbol": "circle"
                  },
                  "mode": "markers",
                  "name": "regular",
                  "orientation": "v",
                  "showlegend": true,
                  "type": "scatter",
                  "x": [
                    0.008333333333,
                    0,
                    0,
                    0,
                    0,
                    0,
                    0.025,
                    0.01666666667,
                    0.06666666667,
                    0.04166666667,
                    0.01666666667
                  ],
                  "xaxis": "x",
                  "y": [
                    0,
                    0,
                    0,
                    0,
                    0,
                    0,
                    0,
                    0.008333333333,
                    0.008333333333,
                    0,
                    0.008333333333
                  ],
                  "yaxis": "y"
                },
                {
                  "hovertemplate": "<b>%{hovertext}</b><br><br>DivType=territorial<br>Date=1914-11-24 00:00:00<br>SW120DeathSentences=%{x}<br>SW120execution=%{y}<br>SW120Casualties=%{marker.size}<extra></extra>",
                  "hovertext": [
                    "46",
                    "51",
                    "48",
                    "66"
                  ],
                  "ids": [
                    "46",
                    "51",
                    "48",
                    "66"
                  ],
                  "legendgroup": "territorial",
                  "marker": {
                    "color": "#00CC96",
                    "size": [
                      0,
                      0,
                      0,
                      0
                    ],
                    "sizemode": "area",
                    "sizeref": 0.0351493848857645,
                    "symbol": "circle"
                  },
                  "mode": "markers",
                  "name": "territorial",
                  "orientation": "v",
                  "showlegend": true,
                  "type": "scatter",
                  "x": [
                    0,
                    0,
                    0,
                    0
                  ],
                  "xaxis": "x",
                  "y": [
                    0,
                    0,
                    0,
                    0
                  ],
                  "yaxis": "y"
                }
              ],
              "frames": [
                {
                  "data": [
                    {
                      "hovertemplate": "<b>%{hovertext}</b><br><br>DivType=new<br>Date=1914-11-24 00:00:00<br>SW120DeathSentences=%{x}<br>SW120execution=%{y}<br>SW120Casualties=%{marker.size}<extra></extra>",
                      "hovertext": [
                        "10",
                        "30",
                        "12",
                        "39",
                        "23",
                        "16",
                        "18",
                        "14",
                        "35",
                        "25",
                        "9",
                        "32",
                        "11",
                        "13",
                        "31",
                        "17",
                        "33",
                        "21",
                        "15",
                        "24",
                        "34",
                        "19",
                        "20"
                      ],
                      "ids": [
                        "10",
                        "30",
                        "12",
                        "39",
                        "23",
                        "16",
                        "18",
                        "14",
                        "35",
                        "25",
                        "9",
                        "32",
                        "11",
                        "13",
                        "31",
                        "17",
                        "33",
                        "21",
                        "15",
                        "24",
                        "34",
                        "19",
                        "20"
                      ],
                      "legendgroup": "new",
                      "marker": {
                        "color": "#636EFA",
                        "size": [
                          0,
                          0,
                          0,
                          0,
                          0,
                          0,
                          0.01666666667,
                          0.06666666667,
                          0,
                          0,
                          0.01666666667,
                          0,
                          0.01666666667,
                          0.01666666667,
                          0.008333333333,
                          0.01666666667,
                          0,
                          0,
                          0.03333333333,
                          0.01666666667,
                          0,
                          0.008333333333,
                          0.008333333333
                        ],
                        "sizemode": "area",
                        "sizeref": 0.0351493848857645,
                        "symbol": "circle"
                      },
                      "mode": "markers",
                      "name": "new",
                      "orientation": "v",
                      "showlegend": true,
                      "type": "scatter",
                      "x": [
                        0,
                        0,
                        0,
                        0,
                        0,
                        0,
                        0,
                        0,
                        0,
                        0,
                        0,
                        0,
                        0,
                        0,
                        0,
                        0,
                        0,
                        0,
                        0,
                        0,
                        0,
                        0,
                        0
                      ],
                      "xaxis": "x",
                      "y": [
                        0,
                        0,
                        0,
                        0,
                        0,
                        0,
                        0,
                        0,
                        0,
                        0,
                        0,
                        0,
                        0,
                        0,
                        0,
                        0,
                        0,
                        0,
                        0,
                        0,
                        0,
                        0,
                        0
                      ],
                      "yaxis": "y"
                    },
                    {
                      "hovertemplate": "<b>%{hovertext}</b><br><br>DivType=regular<br>Date=1914-11-24 00:00:00<br>SW120DeathSentences=%{x}<br>SW120execution=%{y}<br>SW120Casualties=%{marker.size}<extra></extra>",
                      "hovertext": [
                        "28",
                        "29",
                        "7",
                        "8",
                        "27",
                        "6",
                        "4",
                        "5",
                        "2",
                        "1",
                        "3"
                      ],
                      "ids": [
                        "28",
                        "29",
                        "7",
                        "8",
                        "27",
                        "6",
                        "4",
                        "5",
                        "2",
                        "1",
                        "3"
                      ],
                      "legendgroup": "regular",
                      "marker": {
                        "color": "#EF553B",
                        "size": [
                          0.05833333333,
                          0.025,
                          1.341666667,
                          0.008333333333,
                          0,
                          3.358333333,
                          4.125,
                          5.641666667,
                          5.075,
                          5.525,
                          8.291666667
                        ],
                        "sizemode": "area",
                        "sizeref": 0.0351493848857645,
                        "symbol": "circle"
                      },
                      "mode": "markers",
                      "name": "regular",
                      "orientation": "v",
                      "showlegend": true,
                      "type": "scatter",
                      "x": [
                        0.008333333333,
                        0,
                        0,
                        0,
                        0,
                        0,
                        0.025,
                        0.01666666667,
                        0.06666666667,
                        0.04166666667,
                        0.01666666667
                      ],
                      "xaxis": "x",
                      "y": [
                        0,
                        0,
                        0,
                        0,
                        0,
                        0,
                        0,
                        0.008333333333,
                        0.008333333333,
                        0,
                        0.008333333333
                      ],
                      "yaxis": "y"
                    },
                    {
                      "hovertemplate": "<b>%{hovertext}</b><br><br>DivType=territorial<br>Date=1914-11-24 00:00:00<br>SW120DeathSentences=%{x}<br>SW120execution=%{y}<br>SW120Casualties=%{marker.size}<extra></extra>",
                      "hovertext": [
                        "46",
                        "51",
                        "48",
                        "66"
                      ],
                      "ids": [
                        "46",
                        "51",
                        "48",
                        "66"
                      ],
                      "legendgroup": "territorial",
                      "marker": {
                        "color": "#00CC96",
                        "size": [
                          0,
                          0,
                          0,
                          0
                        ],
                        "sizemode": "area",
                        "sizeref": 0.0351493848857645,
                        "symbol": "circle"
                      },
                      "mode": "markers",
                      "name": "territorial",
                      "orientation": "v",
                      "showlegend": true,
                      "type": "scatter",
                      "x": [
                        0,
                        0,
                        0,
                        0
                      ],
                      "xaxis": "x",
                      "y": [
                        0,
                        0,
                        0,
                        0
                      ],
                      "yaxis": "y"
                    }
                  ],
                  "name": "1914-11-24 00:00:00"
                },
                {
                  "data": [
                    {
                      "hovertemplate": "<b>%{hovertext}</b><br><br>DivType=new<br>Date=1914-11-25 00:00:00<br>SW120DeathSentences=%{x}<br>SW120execution=%{y}<br>SW120Casualties=%{marker.size}<extra></extra>",
                      "hovertext": [
                        "38",
                        "36",
                        "37",
                        "41"
                      ],
                      "ids": [
                        "38",
                        "36",
                        "37",
                        "41"
                      ],
                      "legendgroup": "new",
                      "marker": {
                        "color": "#636EFA",
                        "size": [
                          0,
                          0,
                          0,
                          0
                        ],
                        "sizemode": "area",
                        "sizeref": 0.0351493848857645,
                        "symbol": "circle"
                      },
                      "mode": "markers",
                      "name": "new",
                      "orientation": "v",
                      "showlegend": true,
                      "type": "scatter",
                      "x": [
                        0,
                        0,
                        0,
                        0
                      ],
                      "xaxis": "x",
                      "y": [
                        0,
                        0,
                        0,
                        0
                      ],
                      "yaxis": "y"
                    },
                    {
                      "hovertemplate": "<b>%{hovertext}</b><br><br>DivType=territorial<br>Date=1914-11-25 00:00:00<br>SW120DeathSentences=%{x}<br>SW120execution=%{y}<br>SW120Casualties=%{marker.size}<extra></extra>",
                      "hovertext": [
                        "63",
                        "58",
                        "50",
                        "56",
                        "55"
                      ],
                      "ids": [
                        "63",
                        "58",
                        "50",
                        "56",
                        "55"
                      ],
                      "legendgroup": "territorial",
                      "marker": {
                        "color": "#00CC96",
                        "size": [
                          0,
                          0,
                          0,
                          0,
                          0
                        ],
                        "sizemode": "area",
                        "sizeref": 0.0351493848857645,
                        "symbol": "circle"
                      },
                      "mode": "markers",
                      "name": "territorial",
                      "orientation": "v",
                      "showlegend": true,
                      "type": "scatter",
                      "x": [
                        0,
                        0,
                        0,
                        0,
                        0
                      ],
                      "xaxis": "x",
                      "y": [
                        0,
                        0,
                        0,
                        0,
                        0
                      ],
                      "yaxis": "y"
                    }
                  ],
                  "name": "1914-11-25 00:00:00"
                },
                {
                  "data": [
                    {
                      "hovertemplate": "<b>%{hovertext}</b><br><br>DivType=new<br>Date=1914-12-24 00:00:00<br>SW120DeathSentences=%{x}<br>SW120execution=%{y}<br>SW120Casualties=%{marker.size}<extra></extra>",
                      "hovertext": [
                        "18",
                        "13",
                        "24",
                        "19",
                        "17",
                        "14",
                        "35",
                        "39",
                        "16",
                        "20",
                        "21",
                        "15",
                        "34",
                        "23",
                        "9",
                        "31",
                        "25",
                        "33",
                        "12",
                        "32",
                        "11",
                        "30",
                        "10"
                      ],
                      "ids": [
                        "18",
                        "13",
                        "24",
                        "19",
                        "17",
                        "14",
                        "35",
                        "39",
                        "16",
                        "20",
                        "21",
                        "15",
                        "34",
                        "23",
                        "9",
                        "31",
                        "25",
                        "33",
                        "12",
                        "32",
                        "11",
                        "30",
                        "10"
                      ],
                      "legendgroup": "new",
                      "marker": {
                        "color": "#636EFA",
                        "size": [
                          0.01666666667,
                          0.01666666667,
                          0.01666666667,
                          0.008333333333,
                          0.01666666667,
                          0.08333333333,
                          0.008333333333,
                          0,
                          0,
                          0.01666666667,
                          0,
                          0.05833333333,
                          0,
                          0,
                          0.01666666667,
                          0.008333333333,
                          0,
                          0,
                          0,
                          0.008333333333,
                          0.025,
                          0,
                          0
                        ],
                        "sizemode": "area",
                        "sizeref": 0.0351493848857645,
                        "symbol": "circle"
                      },
                      "mode": "markers",
                      "name": "new",
                      "orientation": "v",
                      "showlegend": true,
                      "type": "scatter",
                      "x": [
                        0,
                        0,
                        0,
                        0,
                        0,
                        0,
                        0,
                        0,
                        0,
                        0,
                        0,
                        0,
                        0,
                        0,
                        0,
                        0,
                        0,
                        0,
                        0,
                        0,
                        0,
                        0,
                        0
                      ],
                      "xaxis": "x",
                      "y": [
                        0,
                        0,
                        0,
                        0,
                        0,
                        0,
                        0,
                        0,
                        0,
                        0,
                        0,
                        0,
                        0,
                        0,
                        0,
                        0,
                        0,
                        0,
                        0,
                        0,
                        0,
                        0,
                        0
                      ],
                      "yaxis": "y"
                    },
                    {
                      "hovertemplate": "<b>%{hovertext}</b><br><br>DivType=regular<br>Date=1914-12-24 00:00:00<br>SW120DeathSentences=%{x}<br>SW120execution=%{y}<br>SW120Casualties=%{marker.size}<extra></extra>",
                      "hovertext": [
                        "5",
                        "4",
                        "2",
                        "6",
                        "7",
                        "28",
                        "27",
                        "3",
                        "8",
                        "1",
                        "29"
                      ],
                      "ids": [
                        "5",
                        "4",
                        "2",
                        "6",
                        "7",
                        "28",
                        "27",
                        "3",
                        "8",
                        "1",
                        "29"
                      ],
                      "legendgroup": "regular",
                      "marker": {
                        "color": "#EF553B",
                        "size": [
                          7.883333333,
                          6.483333333,
                          11.91666667,
                          5.308333333,
                          4.641666667,
                          0.06666666667,
                          0.008333333333,
                          15.95,
                          0.5166666667,
                          11.83333333,
                          0.025
                        ],
                        "sizemode": "area",
                        "sizeref": 0.0351493848857645,
                        "symbol": "circle"
                      },
                      "mode": "markers",
                      "name": "regular",
                      "orientation": "v",
                      "showlegend": true,
                      "type": "scatter",
                      "x": [
                        0.03333333333,
                        0.03333333333,
                        0.075,
                        0.01666666667,
                        0,
                        0.008333333333,
                        0,
                        0.025,
                        0.01666666667,
                        0.04166666667,
                        0
                      ],
                      "xaxis": "x",
                      "y": [
                        0.008333333333,
                        0,
                        0.008333333333,
                        0,
                        0,
                        0,
                        0,
                        0.008333333333,
                        0,
                        0,
                        0
                      ],
                      "yaxis": "y"
                    },
                    {
                      "hovertemplate": "<b>%{hovertext}</b><br><br>DivType=territorial<br>Date=1914-12-24 00:00:00<br>SW120DeathSentences=%{x}<br>SW120execution=%{y}<br>SW120Casualties=%{marker.size}<extra></extra>",
                      "hovertext": [
                        "46",
                        "48",
                        "51",
                        "66"
                      ],
                      "ids": [
                        "46",
                        "48",
                        "51",
                        "66"
                      ],
                      "legendgroup": "territorial",
                      "marker": {
                        "color": "#00CC96",
                        "size": [
                          0,
                          0,
                          0,
                          0
                        ],
                        "sizemode": "area",
                        "sizeref": 0.0351493848857645,
                        "symbol": "circle"
                      },
                      "mode": "markers",
                      "name": "territorial",
                      "orientation": "v",
                      "showlegend": true,
                      "type": "scatter",
                      "x": [
                        0,
                        0,
                        0,
                        0
                      ],
                      "xaxis": "x",
                      "y": [
                        0,
                        0,
                        0,
                        0
                      ],
                      "yaxis": "y"
                    }
                  ],
                  "name": "1914-12-24 00:00:00"
                },
                {
                  "data": [
                    {
                      "hovertemplate": "<b>%{hovertext}</b><br><br>DivType=new<br>Date=1914-12-25 00:00:00<br>SW120DeathSentences=%{x}<br>SW120execution=%{y}<br>SW120Casualties=%{marker.size}<extra></extra>",
                      "hovertext": [
                        "38",
                        "36",
                        "41",
                        "37"
                      ],
                      "ids": [
                        "38",
                        "36",
                        "41",
                        "37"
                      ],
                      "legendgroup": "new",
                      "marker": {
                        "color": "#636EFA",
                        "size": [
                          0,
                          0,
                          0,
                          0
                        ],
                        "sizemode": "area",
                        "sizeref": 0.0351493848857645,
                        "symbol": "circle"
                      },
                      "mode": "markers",
                      "name": "new",
                      "orientation": "v",
                      "showlegend": true,
                      "type": "scatter",
                      "x": [
                        0,
                        0,
                        0,
                        0
                      ],
                      "xaxis": "x",
                      "y": [
                        0,
                        0,
                        0,
                        0
                      ],
                      "yaxis": "y"
                    },
                    {
                      "hovertemplate": "<b>%{hovertext}</b><br><br>DivType=territorial<br>Date=1914-12-25 00:00:00<br>SW120DeathSentences=%{x}<br>SW120execution=%{y}<br>SW120Casualties=%{marker.size}<extra></extra>",
                      "hovertext": [
                        "58",
                        "50",
                        "56",
                        "55",
                        "63"
                      ],
                      "ids": [
                        "58",
                        "50",
                        "56",
                        "55",
                        "63"
                      ],
                      "legendgroup": "territorial",
                      "marker": {
                        "color": "#00CC96",
                        "size": [
                          0,
                          0,
                          0,
                          0,
                          0
                        ],
                        "sizemode": "area",
                        "sizeref": 0.0351493848857645,
                        "symbol": "circle"
                      },
                      "mode": "markers",
                      "name": "territorial",
                      "orientation": "v",
                      "showlegend": true,
                      "type": "scatter",
                      "x": [
                        0,
                        0,
                        0,
                        0,
                        0
                      ],
                      "xaxis": "x",
                      "y": [
                        0,
                        0,
                        0,
                        0,
                        0
                      ],
                      "yaxis": "y"
                    }
                  ],
                  "name": "1914-12-25 00:00:00"
                },
                {
                  "data": [
                    {
                      "hovertemplate": "<b>%{hovertext}</b><br><br>DivType=new<br>Date=1915-01-23 00:00:00<br>SW120DeathSentences=%{x}<br>SW120execution=%{y}<br>SW120Casualties=%{marker.size}<extra></extra>",
                      "hovertext": [
                        "32",
                        "30",
                        "16",
                        "39",
                        "14",
                        "35",
                        "11",
                        "25",
                        "12",
                        "18",
                        "13",
                        "9",
                        "10",
                        "15",
                        "24",
                        "33",
                        "21",
                        "31",
                        "17",
                        "34",
                        "20",
                        "19",
                        "23"
                      ],
                      "ids": [
                        "32",
                        "30",
                        "16",
                        "39",
                        "14",
                        "35",
                        "11",
                        "25",
                        "12",
                        "18",
                        "13",
                        "9",
                        "10",
                        "15",
                        "24",
                        "33",
                        "21",
                        "31",
                        "17",
                        "34",
                        "20",
                        "19",
                        "23"
                      ],
                      "legendgroup": "new",
                      "marker": {
                        "color": "#636EFA",
                        "size": [
                          0.008333333333,
                          0,
                          0,
                          0,
                          0.1,
                          0.008333333333,
                          0.025,
                          0.01666666667,
                          0,
                          0.01666666667,
                          0.025,
                          0.04166666667,
                          0,
                          0.075,
                          0.01666666667,
                          0,
                          0,
                          0.01666666667,
                          0.01666666667,
                          0,
                          0.03333333333,
                          0.008333333333,
                          0
                        ],
                        "sizemode": "area",
                        "sizeref": 0.0351493848857645,
                        "symbol": "circle"
                      },
                      "mode": "markers",
                      "name": "new",
                      "orientation": "v",
                      "showlegend": true,
                      "type": "scatter",
                      "x": [
                        0,
                        0,
                        0,
                        0,
                        0,
                        0,
                        0,
                        0,
                        0,
                        0,
                        0,
                        0,
                        0,
                        0,
                        0,
                        0,
                        0.01666666667,
                        0,
                        0,
                        0,
                        0,
                        0,
                        0
                      ],
                      "xaxis": "x",
                      "y": [
                        0,
                        0,
                        0,
                        0,
                        0,
                        0,
                        0,
                        0,
                        0,
                        0,
                        0,
                        0,
                        0,
                        0,
                        0,
                        0,
                        0,
                        0,
                        0,
                        0,
                        0,
                        0,
                        0
                      ],
                      "yaxis": "y"
                    },
                    {
                      "hovertemplate": "<b>%{hovertext}</b><br><br>DivType=regular<br>Date=1915-01-23 00:00:00<br>SW120DeathSentences=%{x}<br>SW120execution=%{y}<br>SW120Casualties=%{marker.size}<extra></extra>",
                      "hovertext": [
                        "2",
                        "7",
                        "6",
                        "27",
                        "1",
                        "29",
                        "8",
                        "3",
                        "28",
                        "4",
                        "5"
                      ],
                      "ids": [
                        "2",
                        "7",
                        "6",
                        "27",
                        "1",
                        "29",
                        "8",
                        "3",
                        "28",
                        "4",
                        "5"
                      ],
                      "legendgroup": "regular",
                      "marker": {
                        "color": "#EF553B",
                        "size": [
                          12.24166667,
                          5.541666667,
                          5.341666667,
                          0.01666666667,
                          12.95,
                          0.03333333333,
                          2.033333333,
                          16.06666667,
                          0.05,
                          5.866666667,
                          7.158333333
                        ],
                        "sizemode": "area",
                        "sizeref": 0.0351493848857645,
                        "symbol": "circle"
                      },
                      "mode": "markers",
                      "name": "regular",
                      "orientation": "v",
                      "showlegend": true,
                      "type": "scatter",
                      "x": [
                        0.08333333333,
                        0.05,
                        0.025,
                        0,
                        0.03333333333,
                        0,
                        0.025,
                        0.04166666667,
                        0.008333333333,
                        0.075,
                        0.03333333333
                      ],
                      "xaxis": "x",
                      "y": [
                        0.008333333333,
                        0,
                        0,
                        0,
                        0,
                        0,
                        0,
                        0.008333333333,
                        0,
                        0.008333333333,
                        0.008333333333
                      ],
                      "yaxis": "y"
                    },
                    {
                      "hovertemplate": "<b>%{hovertext}</b><br><br>DivType=territorial<br>Date=1915-01-23 00:00:00<br>SW120DeathSentences=%{x}<br>SW120execution=%{y}<br>SW120Casualties=%{marker.size}<extra></extra>",
                      "hovertext": [
                        "51",
                        "66",
                        "46",
                        "48"
                      ],
                      "ids": [
                        "51",
                        "66",
                        "46",
                        "48"
                      ],
                      "legendgroup": "territorial",
                      "marker": {
                        "color": "#00CC96",
                        "size": [
                          0.01666666667,
                          0,
                          0,
                          0
                        ],
                        "sizemode": "area",
                        "sizeref": 0.0351493848857645,
                        "symbol": "circle"
                      },
                      "mode": "markers",
                      "name": "territorial",
                      "orientation": "v",
                      "showlegend": true,
                      "type": "scatter",
                      "x": [
                        0,
                        0,
                        0,
                        0
                      ],
                      "xaxis": "x",
                      "y": [
                        0,
                        0,
                        0,
                        0
                      ],
                      "yaxis": "y"
                    }
                  ],
                  "name": "1915-01-23 00:00:00"
                },
                {
                  "data": [
                    {
                      "hovertemplate": "<b>%{hovertext}</b><br><br>DivType=new<br>Date=1915-01-24 00:00:00<br>SW120DeathSentences=%{x}<br>SW120execution=%{y}<br>SW120Casualties=%{marker.size}<extra></extra>",
                      "hovertext": [
                        "37",
                        "36",
                        "38",
                        "41"
                      ],
                      "ids": [
                        "37",
                        "36",
                        "38",
                        "41"
                      ],
                      "legendgroup": "new",
                      "marker": {
                        "color": "#636EFA",
                        "size": [
                          0,
                          0,
                          0,
                          0
                        ],
                        "sizemode": "area",
                        "sizeref": 0.0351493848857645,
                        "symbol": "circle"
                      },
                      "mode": "markers",
                      "name": "new",
                      "orientation": "v",
                      "showlegend": true,
                      "type": "scatter",
                      "x": [
                        0,
                        0,
                        0,
                        0
                      ],
                      "xaxis": "x",
                      "y": [
                        0,
                        0,
                        0,
                        0
                      ],
                      "yaxis": "y"
                    },
                    {
                      "hovertemplate": "<b>%{hovertext}</b><br><br>DivType=territorial<br>Date=1915-01-24 00:00:00<br>SW120DeathSentences=%{x}<br>SW120execution=%{y}<br>SW120Casualties=%{marker.size}<extra></extra>",
                      "hovertext": [
                        "56",
                        "55",
                        "63",
                        "50",
                        "58"
                      ],
                      "ids": [
                        "56",
                        "55",
                        "63",
                        "50",
                        "58"
                      ],
                      "legendgroup": "territorial",
                      "marker": {
                        "color": "#00CC96",
                        "size": [
                          0,
                          0,
                          0,
                          0,
                          0
                        ],
                        "sizemode": "area",
                        "sizeref": 0.0351493848857645,
                        "symbol": "circle"
                      },
                      "mode": "markers",
                      "name": "territorial",
                      "orientation": "v",
                      "showlegend": true,
                      "type": "scatter",
                      "x": [
                        0,
                        0,
                        0,
                        0,
                        0
                      ],
                      "xaxis": "x",
                      "y": [
                        0,
                        0,
                        0,
                        0,
                        0
                      ],
                      "yaxis": "y"
                    }
                  ],
                  "name": "1915-01-24 00:00:00"
                },
                {
                  "data": [
                    {
                      "hovertemplate": "<b>%{hovertext}</b><br><br>DivType=new<br>Date=1915-02-22 00:00:00<br>SW120DeathSentences=%{x}<br>SW120execution=%{y}<br>SW120Casualties=%{marker.size}<extra></extra>",
                      "hovertext": [
                        "30",
                        "15",
                        "10",
                        "9",
                        "18",
                        "31",
                        "21",
                        "19",
                        "20",
                        "17",
                        "16",
                        "11",
                        "39",
                        "32",
                        "12",
                        "34",
                        "33",
                        "35",
                        "23",
                        "25",
                        "24",
                        "13",
                        "14"
                      ],
                      "ids": [
                        "30",
                        "15",
                        "10",
                        "9",
                        "18",
                        "31",
                        "21",
                        "19",
                        "20",
                        "17",
                        "16",
                        "11",
                        "39",
                        "32",
                        "12",
                        "34",
                        "33",
                        "35",
                        "23",
                        "25",
                        "24",
                        "13",
                        "14"
                      ],
                      "legendgroup": "new",
                      "marker": {
                        "color": "#636EFA",
                        "size": [
                          0,
                          0.09166666667,
                          0.025,
                          0.05833333333,
                          0.01666666667,
                          0.025,
                          0.008333333333,
                          0.008333333333,
                          0.05,
                          0.025,
                          0,
                          0.03333333333,
                          0,
                          0.008333333333,
                          0.04166666667,
                          0.008333333333,
                          0.008333333333,
                          0.025,
                          0,
                          0.025,
                          0.05,
                          0.025,
                          0.1
                        ],
                        "sizemode": "area",
                        "sizeref": 0.0351493848857645,
                        "symbol": "circle"
                      },
                      "mode": "markers",
                      "name": "new",
                      "orientation": "v",
                      "showlegend": true,
                      "type": "scatter",
                      "x": [
                        0,
                        0,
                        0,
                        0,
                        0,
                        0,
                        0.075,
                        0,
                        0,
                        0,
                        0,
                        0,
                        0,
                        0,
                        0,
                        0,
                        0,
                        0,
                        0,
                        0,
                        0,
                        0,
                        0
                      ],
                      "xaxis": "x",
                      "y": [
                        0,
                        0,
                        0,
                        0,
                        0,
                        0,
                        0,
                        0,
                        0,
                        0,
                        0,
                        0,
                        0,
                        0,
                        0,
                        0,
                        0,
                        0,
                        0,
                        0,
                        0,
                        0,
                        0
                      ],
                      "yaxis": "y"
                    },
                    {
                      "hovertemplate": "<b>%{hovertext}</b><br><br>DivType=regular<br>Date=1915-02-22 00:00:00<br>SW120DeathSentences=%{x}<br>SW120execution=%{y}<br>SW120Casualties=%{marker.size}<extra></extra>",
                      "hovertext": [
                        "29",
                        "4",
                        "28",
                        "5",
                        "8",
                        "2",
                        "7",
                        "27",
                        "3",
                        "6",
                        "1"
                      ],
                      "ids": [
                        "29",
                        "4",
                        "28",
                        "5",
                        "8",
                        "2",
                        "7",
                        "27",
                        "3",
                        "6",
                        "1"
                      ],
                      "legendgroup": "regular",
                      "marker": {
                        "color": "#EF553B",
                        "size": [
                          0.03333333333,
                          5.383333333,
                          0.06666666667,
                          6.316666667,
                          3.225,
                          9.433333333,
                          5.766666667,
                          0.1166666667,
                          14.275,
                          5.333333333,
                          11.34166667
                        ],
                        "sizemode": "area",
                        "sizeref": 0.0351493848857645,
                        "symbol": "circle"
                      },
                      "mode": "markers",
                      "name": "regular",
                      "orientation": "v",
                      "showlegend": true,
                      "type": "scatter",
                      "x": [
                        0,
                        0.1,
                        0.008333333333,
                        0.025,
                        0.06666666667,
                        0.08333333333,
                        0.1333333333,
                        0,
                        0.05833333333,
                        0.05,
                        0.05
                      ],
                      "xaxis": "x",
                      "y": [
                        0,
                        0.01666666667,
                        0,
                        0,
                        0.01666666667,
                        0.01666666667,
                        0,
                        0,
                        0.008333333333,
                        0,
                        0
                      ],
                      "yaxis": "y"
                    },
                    {
                      "hovertemplate": "<b>%{hovertext}</b><br><br>DivType=territorial<br>Date=1915-02-22 00:00:00<br>SW120DeathSentences=%{x}<br>SW120execution=%{y}<br>SW120Casualties=%{marker.size}<extra></extra>",
                      "hovertext": [
                        "48",
                        "66",
                        "46",
                        "51"
                      ],
                      "ids": [
                        "48",
                        "66",
                        "46",
                        "51"
                      ],
                      "legendgroup": "territorial",
                      "marker": {
                        "color": "#00CC96",
                        "size": [
                          0,
                          0,
                          0,
                          0.025
                        ],
                        "sizemode": "area",
                        "sizeref": 0.0351493848857645,
                        "symbol": "circle"
                      },
                      "mode": "markers",
                      "name": "territorial",
                      "orientation": "v",
                      "showlegend": true,
                      "type": "scatter",
                      "x": [
                        0,
                        0,
                        0,
                        0
                      ],
                      "xaxis": "x",
                      "y": [
                        0,
                        0,
                        0,
                        0
                      ],
                      "yaxis": "y"
                    }
                  ],
                  "name": "1915-02-22 00:00:00"
                },
                {
                  "data": [
                    {
                      "hovertemplate": "<b>%{hovertext}</b><br><br>DivType=new<br>Date=1915-02-23 00:00:00<br>SW120DeathSentences=%{x}<br>SW120execution=%{y}<br>SW120Casualties=%{marker.size}<extra></extra>",
                      "hovertext": [
                        "37",
                        "38",
                        "36",
                        "41"
                      ],
                      "ids": [
                        "37",
                        "38",
                        "36",
                        "41"
                      ],
                      "legendgroup": "new",
                      "marker": {
                        "color": "#636EFA",
                        "size": [
                          0,
                          0,
                          0,
                          0
                        ],
                        "sizemode": "area",
                        "sizeref": 0.0351493848857645,
                        "symbol": "circle"
                      },
                      "mode": "markers",
                      "name": "new",
                      "orientation": "v",
                      "showlegend": true,
                      "type": "scatter",
                      "x": [
                        0,
                        0,
                        0,
                        0
                      ],
                      "xaxis": "x",
                      "y": [
                        0,
                        0,
                        0,
                        0
                      ],
                      "yaxis": "y"
                    },
                    {
                      "hovertemplate": "<b>%{hovertext}</b><br><br>DivType=territorial<br>Date=1915-02-23 00:00:00<br>SW120DeathSentences=%{x}<br>SW120execution=%{y}<br>SW120Casualties=%{marker.size}<extra></extra>",
                      "hovertext": [
                        "63",
                        "50",
                        "56",
                        "55",
                        "58"
                      ],
                      "ids": [
                        "63",
                        "50",
                        "56",
                        "55",
                        "58"
                      ],
                      "legendgroup": "territorial",
                      "marker": {
                        "color": "#00CC96",
                        "size": [
                          0,
                          0,
                          0,
                          0,
                          0
                        ],
                        "sizemode": "area",
                        "sizeref": 0.0351493848857645,
                        "symbol": "circle"
                      },
                      "mode": "markers",
                      "name": "territorial",
                      "orientation": "v",
                      "showlegend": true,
                      "type": "scatter",
                      "x": [
                        0,
                        0,
                        0,
                        0,
                        0
                      ],
                      "xaxis": "x",
                      "y": [
                        0,
                        0,
                        0,
                        0,
                        0
                      ],
                      "yaxis": "y"
                    }
                  ],
                  "name": "1915-02-23 00:00:00"
                },
                {
                  "data": [
                    {
                      "hovertemplate": "<b>%{hovertext}</b><br><br>DivType=new<br>Date=1915-03-24 00:00:00<br>SW120DeathSentences=%{x}<br>SW120execution=%{y}<br>SW120Casualties=%{marker.size}<extra></extra>",
                      "hovertext": [
                        "23",
                        "25",
                        "39",
                        "16",
                        "32",
                        "14",
                        "11",
                        "18",
                        "33",
                        "13",
                        "9",
                        "10",
                        "19",
                        "17",
                        "20",
                        "34",
                        "24",
                        "30",
                        "21",
                        "35",
                        "12",
                        "15",
                        "31"
                      ],
                      "ids": [
                        "23",
                        "25",
                        "39",
                        "16",
                        "32",
                        "14",
                        "11",
                        "18",
                        "33",
                        "13",
                        "9",
                        "10",
                        "19",
                        "17",
                        "20",
                        "34",
                        "24",
                        "30",
                        "21",
                        "35",
                        "12",
                        "15",
                        "31"
                      ],
                      "legendgroup": "new",
                      "marker": {
                        "color": "#636EFA",
                        "size": [
                          0.008333333333,
                          0.06666666667,
                          0.008333333333,
                          0,
                          0.01666666667,
                          0.08333333333,
                          0.05833333333,
                          0.05,
                          0.01666666667,
                          0.03333333333,
                          0.09166666667,
                          0.05,
                          0,
                          0.025,
                          0.05833333333,
                          0.008333333333,
                          0.03333333333,
                          0,
                          0.01666666667,
                          0.04166666667,
                          0.075,
                          0.1083333333,
                          0.04166666667
                        ],
                        "sizemode": "area",
                        "sizeref": 0.0351493848857645,
                        "symbol": "circle"
                      },
                      "mode": "markers",
                      "name": "new",
                      "orientation": "v",
                      "showlegend": true,
                      "type": "scatter",
                      "x": [
                        0,
                        0,
                        0,
                        0,
                        0,
                        0,
                        0,
                        0,
                        0,
                        0,
                        0,
                        0,
                        0,
                        0,
                        0,
                        0,
                        0,
                        0,
                        0.08333333333,
                        0,
                        0,
                        0,
                        0
                      ],
                      "xaxis": "x",
                      "y": [
                        0,
                        0,
                        0,
                        0,
                        0,
                        0,
                        0,
                        0,
                        0,
                        0,
                        0,
                        0,
                        0,
                        0,
                        0,
                        0,
                        0,
                        0,
                        0.008333333333,
                        0,
                        0,
                        0,
                        0
                      ],
                      "yaxis": "y"
                    },
                    {
                      "hovertemplate": "<b>%{hovertext}</b><br><br>DivType=regular<br>Date=1915-03-24 00:00:00<br>SW120DeathSentences=%{x}<br>SW120execution=%{y}<br>SW120Casualties=%{marker.size}<extra></extra>",
                      "hovertext": [
                        "2",
                        "1",
                        "7",
                        "28",
                        "8",
                        "6",
                        "29",
                        "5",
                        "3",
                        "4",
                        "27"
                      ],
                      "ids": [
                        "2",
                        "1",
                        "7",
                        "28",
                        "8",
                        "6",
                        "29",
                        "5",
                        "3",
                        "4",
                        "27"
                      ],
                      "legendgroup": "regular",
                      "marker": {
                        "color": "#EF553B",
                        "size": [
                          8.691666667,
                          10.575,
                          4.7,
                          2.108333333,
                          4.45,
                          3.4,
                          0.05833333333,
                          4,
                          11.625,
                          4.366666667,
                          0.45
                        ],
                        "sizemode": "area",
                        "sizeref": 0.0351493848857645,
                        "symbol": "circle"
                      },
                      "mode": "markers",
                      "name": "regular",
                      "orientation": "v",
                      "showlegend": true,
                      "type": "scatter",
                      "x": [
                        0.1,
                        0.08333333333,
                        0.2583333333,
                        0.06666666667,
                        0.1083333333,
                        0.09166666667,
                        0,
                        0.05833333333,
                        0.1166666667,
                        0.1166666667,
                        0.008333333333
                      ],
                      "xaxis": "x",
                      "y": [
                        0.01666666667,
                        0.008333333333,
                        0.01666666667,
                        0,
                        0.01666666667,
                        0.01666666667,
                        0,
                        0.008333333333,
                        0.025,
                        0.01666666667,
                        0
                      ],
                      "yaxis": "y"
                    },
                    {
                      "hovertemplate": "<b>%{hovertext}</b><br><br>DivType=territorial<br>Date=1915-03-24 00:00:00<br>SW120DeathSentences=%{x}<br>SW120execution=%{y}<br>SW120Casualties=%{marker.size}<extra></extra>",
                      "hovertext": [
                        "46",
                        "48",
                        "66",
                        "51"
                      ],
                      "ids": [
                        "46",
                        "48",
                        "66",
                        "51"
                      ],
                      "legendgroup": "territorial",
                      "marker": {
                        "color": "#00CC96",
                        "size": [
                          0.008333333333,
                          0,
                          0,
                          0.1
                        ],
                        "sizemode": "area",
                        "sizeref": 0.0351493848857645,
                        "symbol": "circle"
                      },
                      "mode": "markers",
                      "name": "territorial",
                      "orientation": "v",
                      "showlegend": true,
                      "type": "scatter",
                      "x": [
                        0,
                        0,
                        0,
                        0
                      ],
                      "xaxis": "x",
                      "y": [
                        0,
                        0,
                        0,
                        0
                      ],
                      "yaxis": "y"
                    }
                  ],
                  "name": "1915-03-24 00:00:00"
                },
                {
                  "data": [
                    {
                      "hovertemplate": "<b>%{hovertext}</b><br><br>DivType=new<br>Date=1915-03-25 00:00:00<br>SW120DeathSentences=%{x}<br>SW120execution=%{y}<br>SW120Casualties=%{marker.size}<extra></extra>",
                      "hovertext": [
                        "37",
                        "36",
                        "41",
                        "38"
                      ],
                      "ids": [
                        "37",
                        "36",
                        "41",
                        "38"
                      ],
                      "legendgroup": "new",
                      "marker": {
                        "color": "#636EFA",
                        "size": [
                          0,
                          0,
                          0,
                          0
                        ],
                        "sizemode": "area",
                        "sizeref": 0.0351493848857645,
                        "symbol": "circle"
                      },
                      "mode": "markers",
                      "name": "new",
                      "orientation": "v",
                      "showlegend": true,
                      "type": "scatter",
                      "x": [
                        0,
                        0,
                        0,
                        0
                      ],
                      "xaxis": "x",
                      "y": [
                        0,
                        0,
                        0,
                        0
                      ],
                      "yaxis": "y"
                    },
                    {
                      "hovertemplate": "<b>%{hovertext}</b><br><br>DivType=territorial<br>Date=1915-03-25 00:00:00<br>SW120DeathSentences=%{x}<br>SW120execution=%{y}<br>SW120Casualties=%{marker.size}<extra></extra>",
                      "hovertext": [
                        "56",
                        "58",
                        "55",
                        "63",
                        "50"
                      ],
                      "ids": [
                        "56",
                        "58",
                        "55",
                        "63",
                        "50"
                      ],
                      "legendgroup": "territorial",
                      "marker": {
                        "color": "#00CC96",
                        "size": [
                          0,
                          0,
                          0,
                          0,
                          0
                        ],
                        "sizemode": "area",
                        "sizeref": 0.0351493848857645,
                        "symbol": "circle"
                      },
                      "mode": "markers",
                      "name": "territorial",
                      "orientation": "v",
                      "showlegend": true,
                      "type": "scatter",
                      "x": [
                        0,
                        0,
                        0,
                        0,
                        0
                      ],
                      "xaxis": "x",
                      "y": [
                        0,
                        0,
                        0,
                        0,
                        0
                      ],
                      "yaxis": "y"
                    }
                  ],
                  "name": "1915-03-25 00:00:00"
                },
                {
                  "data": [
                    {
                      "hovertemplate": "<b>%{hovertext}</b><br><br>DivType=new<br>Date=1915-04-23 00:00:00<br>SW120DeathSentences=%{x}<br>SW120execution=%{y}<br>SW120Casualties=%{marker.size}<extra></extra>",
                      "hovertext": [
                        "9",
                        "35",
                        "32",
                        "17",
                        "30",
                        "18",
                        "33",
                        "31",
                        "13",
                        "10",
                        "15",
                        "24",
                        "19",
                        "34",
                        "23",
                        "21",
                        "14",
                        "12",
                        "11",
                        "25",
                        "20",
                        "16",
                        "39"
                      ],
                      "ids": [
                        "9",
                        "35",
                        "32",
                        "17",
                        "30",
                        "18",
                        "33",
                        "31",
                        "13",
                        "10",
                        "15",
                        "24",
                        "19",
                        "34",
                        "23",
                        "21",
                        "14",
                        "12",
                        "11",
                        "25",
                        "20",
                        "16",
                        "39"
                      ],
                      "legendgroup": "new",
                      "marker": {
                        "color": "#636EFA",
                        "size": [
                          0.1,
                          0.05833333333,
                          0.01666666667,
                          0.03333333333,
                          0,
                          0.06666666667,
                          0.03333333333,
                          0.08333333333,
                          0.03333333333,
                          0.05833333333,
                          0.09166666667,
                          0.05,
                          0,
                          0.008333333333,
                          0.01666666667,
                          0.05,
                          0.09166666667,
                          0.08333333333,
                          0.08333333333,
                          0.08333333333,
                          0.1,
                          0,
                          0.008333333333
                        ],
                        "sizemode": "area",
                        "sizeref": 0.0351493848857645,
                        "symbol": "circle"
                      },
                      "mode": "markers",
                      "name": "new",
                      "orientation": "v",
                      "showlegend": true,
                      "type": "scatter",
                      "x": [
                        0,
                        0,
                        0,
                        0,
                        0,
                        0,
                        0,
                        0,
                        0,
                        0,
                        0,
                        0,
                        0,
                        0,
                        0,
                        0.08333333333,
                        0,
                        0,
                        0,
                        0,
                        0,
                        0,
                        0
                      ],
                      "xaxis": "x",
                      "y": [
                        0,
                        0,
                        0,
                        0,
                        0,
                        0,
                        0,
                        0,
                        0,
                        0,
                        0,
                        0,
                        0,
                        0,
                        0,
                        0.008333333333,
                        0,
                        0,
                        0,
                        0,
                        0,
                        0,
                        0
                      ],
                      "yaxis": "y"
                    },
                    {
                      "hovertemplate": "<b>%{hovertext}</b><br><br>DivType=regular<br>Date=1915-04-23 00:00:00<br>SW120DeathSentences=%{x}<br>SW120execution=%{y}<br>SW120Casualties=%{marker.size}<extra></extra>",
                      "hovertext": [
                        "5",
                        "3",
                        "8",
                        "2",
                        "4",
                        "6",
                        "29",
                        "1",
                        "7",
                        "28",
                        "27"
                      ],
                      "ids": [
                        "5",
                        "3",
                        "8",
                        "2",
                        "4",
                        "6",
                        "29",
                        "1",
                        "7",
                        "28",
                        "27"
                      ],
                      "legendgroup": "regular",
                      "marker": {
                        "color": "#EF553B",
                        "size": [
                          2.75,
                          7.158333333,
                          12.525,
                          3.816666667,
                          2.466666667,
                          2.008333333,
                          0.06666666667,
                          4.808333333,
                          3.841666667,
                          2.775,
                          1.358333333
                        ],
                        "sizemode": "area",
                        "sizeref": 0.0351493848857645,
                        "symbol": "circle"
                      },
                      "mode": "markers",
                      "name": "regular",
                      "orientation": "v",
                      "showlegend": true,
                      "type": "scatter",
                      "x": [
                        0.05833333333,
                        0.1583333333,
                        0.1166666667,
                        0.1083333333,
                        0.1166666667,
                        0.15,
                        0,
                        0.1,
                        0.2666666667,
                        0.2333333333,
                        0.01666666667
                      ],
                      "xaxis": "x",
                      "y": [
                        0.008333333333,
                        0.025,
                        0.01666666667,
                        0.01666666667,
                        0.01666666667,
                        0.025,
                        0,
                        0.01666666667,
                        0.01666666667,
                        0,
                        0
                      ],
                      "yaxis": "y"
                    },
                    {
                      "hovertemplate": "<b>%{hovertext}</b><br><br>DivType=territorial<br>Date=1915-04-23 00:00:00<br>SW120DeathSentences=%{x}<br>SW120execution=%{y}<br>SW120Casualties=%{marker.size}<extra></extra>",
                      "hovertext": [
                        "46",
                        "66",
                        "48",
                        "51"
                      ],
                      "ids": [
                        "46",
                        "66",
                        "48",
                        "51"
                      ],
                      "legendgroup": "territorial",
                      "marker": {
                        "color": "#00CC96",
                        "size": [
                          0.01666666667,
                          0,
                          0,
                          0.1166666667
                        ],
                        "sizemode": "area",
                        "sizeref": 0.0351493848857645,
                        "symbol": "circle"
                      },
                      "mode": "markers",
                      "name": "territorial",
                      "orientation": "v",
                      "showlegend": true,
                      "type": "scatter",
                      "x": [
                        0,
                        0,
                        0,
                        0
                      ],
                      "xaxis": "x",
                      "y": [
                        0,
                        0,
                        0,
                        0
                      ],
                      "yaxis": "y"
                    }
                  ],
                  "name": "1915-04-23 00:00:00"
                },
                {
                  "data": [
                    {
                      "hovertemplate": "<b>%{hovertext}</b><br><br>DivType=new<br>Date=1915-04-24 00:00:00<br>SW120DeathSentences=%{x}<br>SW120execution=%{y}<br>SW120Casualties=%{marker.size}<extra></extra>",
                      "hovertext": [
                        "36",
                        "41",
                        "38",
                        "37"
                      ],
                      "ids": [
                        "36",
                        "41",
                        "38",
                        "37"
                      ],
                      "legendgroup": "new",
                      "marker": {
                        "color": "#636EFA",
                        "size": [
                          0,
                          0,
                          0,
                          0
                        ],
                        "sizemode": "area",
                        "sizeref": 0.0351493848857645,
                        "symbol": "circle"
                      },
                      "mode": "markers",
                      "name": "new",
                      "orientation": "v",
                      "showlegend": true,
                      "type": "scatter",
                      "x": [
                        0,
                        0,
                        0,
                        0
                      ],
                      "xaxis": "x",
                      "y": [
                        0,
                        0,
                        0,
                        0
                      ],
                      "yaxis": "y"
                    },
                    {
                      "hovertemplate": "<b>%{hovertext}</b><br><br>DivType=territorial<br>Date=1915-04-24 00:00:00<br>SW120DeathSentences=%{x}<br>SW120execution=%{y}<br>SW120Casualties=%{marker.size}<extra></extra>",
                      "hovertext": [
                        "55",
                        "56",
                        "50",
                        "58",
                        "63"
                      ],
                      "ids": [
                        "55",
                        "56",
                        "50",
                        "58",
                        "63"
                      ],
                      "legendgroup": "territorial",
                      "marker": {
                        "color": "#00CC96",
                        "size": [
                          0,
                          0,
                          0,
                          0,
                          0
                        ],
                        "sizemode": "area",
                        "sizeref": 0.0351493848857645,
                        "symbol": "circle"
                      },
                      "mode": "markers",
                      "name": "territorial",
                      "orientation": "v",
                      "showlegend": true,
                      "type": "scatter",
                      "x": [
                        0,
                        0,
                        0,
                        0,
                        0
                      ],
                      "xaxis": "x",
                      "y": [
                        0,
                        0,
                        0,
                        0,
                        0
                      ],
                      "yaxis": "y"
                    }
                  ],
                  "name": "1915-04-24 00:00:00"
                },
                {
                  "data": [
                    {
                      "hovertemplate": "<b>%{hovertext}</b><br><br>DivType=new<br>Date=1915-05-23 00:00:00<br>SW120DeathSentences=%{x}<br>SW120execution=%{y}<br>SW120Casualties=%{marker.size}<extra></extra>",
                      "hovertext": [
                        "10",
                        "35",
                        "31",
                        "24",
                        "13",
                        "20",
                        "25",
                        "11",
                        "21",
                        "14",
                        "33",
                        "12",
                        "18",
                        "15",
                        "16",
                        "32",
                        "17",
                        "9",
                        "23",
                        "30",
                        "39",
                        "34",
                        "19"
                      ],
                      "ids": [
                        "10",
                        "35",
                        "31",
                        "24",
                        "13",
                        "20",
                        "25",
                        "11",
                        "21",
                        "14",
                        "33",
                        "12",
                        "18",
                        "15",
                        "16",
                        "32",
                        "17",
                        "9",
                        "23",
                        "30",
                        "39",
                        "34",
                        "19"
                      ],
                      "legendgroup": "new",
                      "marker": {
                        "color": "#636EFA",
                        "size": [
                          0.075,
                          0.06666666667,
                          0.08333333333,
                          0.075,
                          0.03333333333,
                          0.1,
                          0.06666666667,
                          0.1083333333,
                          0.05,
                          0.1,
                          0.04166666667,
                          0.09166666667,
                          0.075,
                          0.09166666667,
                          0.008333333333,
                          0.025,
                          0.05,
                          0.08333333333,
                          0.01666666667,
                          0.008333333333,
                          0.01666666667,
                          0.008333333333,
                          0
                        ],
                        "sizemode": "area",
                        "sizeref": 0.0351493848857645,
                        "symbol": "circle"
                      },
                      "mode": "markers",
                      "name": "new",
                      "orientation": "v",
                      "showlegend": true,
                      "type": "scatter",
                      "x": [
                        0,
                        0,
                        0,
                        0,
                        0,
                        0,
                        0,
                        0,
                        0.06666666667,
                        0,
                        0,
                        0,
                        0,
                        0,
                        0,
                        0,
                        0,
                        0,
                        0,
                        0.008333333333,
                        0,
                        0,
                        0
                      ],
                      "xaxis": "x",
                      "y": [
                        0,
                        0,
                        0,
                        0,
                        0,
                        0,
                        0,
                        0,
                        0.008333333333,
                        0,
                        0,
                        0,
                        0,
                        0,
                        0,
                        0,
                        0,
                        0,
                        0,
                        0,
                        0,
                        0,
                        0
                      ],
                      "yaxis": "y"
                    },
                    {
                      "hovertemplate": "<b>%{hovertext}</b><br><br>DivType=regular<br>Date=1915-05-23 00:00:00<br>SW120DeathSentences=%{x}<br>SW120execution=%{y}<br>SW120Casualties=%{marker.size}<extra></extra>",
                      "hovertext": [
                        "2",
                        "3",
                        "29",
                        "6",
                        "7",
                        "27",
                        "4",
                        "28",
                        "1",
                        "8",
                        "5"
                      ],
                      "ids": [
                        "2",
                        "3",
                        "29",
                        "6",
                        "7",
                        "27",
                        "4",
                        "28",
                        "1",
                        "8",
                        "5"
                      ],
                      "legendgroup": "regular",
                      "marker": {
                        "color": "#EF553B",
                        "size": [
                          3.75,
                          6.225,
                          0.06666666667,
                          1.925,
                          3.241666667,
                          1.8,
                          1.816666667,
                          4.2,
                          4.258333333,
                          11.675,
                          4.233333333
                        ],
                        "sizemode": "area",
                        "sizeref": 0.0351493848857645,
                        "symbol": "circle"
                      },
                      "mode": "markers",
                      "name": "regular",
                      "orientation": "v",
                      "showlegend": true,
                      "type": "scatter",
                      "x": [
                        0.1416666667,
                        0.2166666667,
                        0,
                        0.2,
                        0.2416666667,
                        0.01666666667,
                        0.1083333333,
                        0.2583333333,
                        0.1166666667,
                        0.1166666667,
                        0.125
                      ],
                      "xaxis": "x",
                      "y": [
                        0.01666666667,
                        0.03333333333,
                        0,
                        0.03333333333,
                        0.04166666667,
                        0,
                        0.025,
                        0,
                        0.025,
                        0.01666666667,
                        0.008333333333
                      ],
                      "yaxis": "y"
                    },
                    {
                      "hovertemplate": "<b>%{hovertext}</b><br><br>DivType=territorial<br>Date=1915-05-23 00:00:00<br>SW120DeathSentences=%{x}<br>SW120execution=%{y}<br>SW120Casualties=%{marker.size}<extra></extra>",
                      "hovertext": [
                        "48",
                        "51",
                        "46",
                        "66"
                      ],
                      "ids": [
                        "48",
                        "51",
                        "46",
                        "66"
                      ],
                      "legendgroup": "territorial",
                      "marker": {
                        "color": "#00CC96",
                        "size": [
                          0.01666666667,
                          0.1416666667,
                          0.15,
                          0.008333333333
                        ],
                        "sizemode": "area",
                        "sizeref": 0.0351493848857645,
                        "symbol": "circle"
                      },
                      "mode": "markers",
                      "name": "territorial",
                      "orientation": "v",
                      "showlegend": true,
                      "type": "scatter",
                      "x": [
                        0,
                        0,
                        0.008333333333,
                        0
                      ],
                      "xaxis": "x",
                      "y": [
                        0,
                        0,
                        0,
                        0
                      ],
                      "yaxis": "y"
                    }
                  ],
                  "name": "1915-05-23 00:00:00"
                },
                {
                  "data": [
                    {
                      "hovertemplate": "<b>%{hovertext}</b><br><br>DivType=new<br>Date=1915-05-24 00:00:00<br>SW120DeathSentences=%{x}<br>SW120execution=%{y}<br>SW120Casualties=%{marker.size}<extra></extra>",
                      "hovertext": [
                        "37",
                        "36",
                        "41",
                        "38"
                      ],
                      "ids": [
                        "37",
                        "36",
                        "41",
                        "38"
                      ],
                      "legendgroup": "new",
                      "marker": {
                        "color": "#636EFA",
                        "size": [
                          0,
                          0,
                          0,
                          0
                        ],
                        "sizemode": "area",
                        "sizeref": 0.0351493848857645,
                        "symbol": "circle"
                      },
                      "mode": "markers",
                      "name": "new",
                      "orientation": "v",
                      "showlegend": true,
                      "type": "scatter",
                      "x": [
                        0,
                        0,
                        0,
                        0
                      ],
                      "xaxis": "x",
                      "y": [
                        0,
                        0,
                        0,
                        0
                      ],
                      "yaxis": "y"
                    },
                    {
                      "hovertemplate": "<b>%{hovertext}</b><br><br>DivType=territorial<br>Date=1915-05-24 00:00:00<br>SW120DeathSentences=%{x}<br>SW120execution=%{y}<br>SW120Casualties=%{marker.size}<extra></extra>",
                      "hovertext": [
                        "58",
                        "55",
                        "56",
                        "63",
                        "50"
                      ],
                      "ids": [
                        "58",
                        "55",
                        "56",
                        "63",
                        "50"
                      ],
                      "legendgroup": "territorial",
                      "marker": {
                        "color": "#00CC96",
                        "size": [
                          0,
                          0,
                          0,
                          0,
                          0
                        ],
                        "sizemode": "area",
                        "sizeref": 0.0351493848857645,
                        "symbol": "circle"
                      },
                      "mode": "markers",
                      "name": "territorial",
                      "orientation": "v",
                      "showlegend": true,
                      "type": "scatter",
                      "x": [
                        0,
                        0,
                        0,
                        0,
                        0
                      ],
                      "xaxis": "x",
                      "y": [
                        0,
                        0,
                        0,
                        0,
                        0
                      ],
                      "yaxis": "y"
                    }
                  ],
                  "name": "1915-05-24 00:00:00"
                },
                {
                  "data": [
                    {
                      "hovertemplate": "<b>%{hovertext}</b><br><br>DivType=new<br>Date=1915-06-22 00:00:00<br>SW120DeathSentences=%{x}<br>SW120execution=%{y}<br>SW120Casualties=%{marker.size}<extra></extra>",
                      "hovertext": [
                        "24",
                        "30",
                        "19",
                        "35",
                        "32",
                        "39",
                        "25",
                        "31",
                        "33",
                        "21",
                        "23",
                        "20",
                        "34",
                        "14",
                        "12",
                        "13",
                        "9",
                        "17",
                        "11",
                        "18",
                        "15",
                        "10",
                        "16"
                      ],
                      "ids": [
                        "24",
                        "30",
                        "19",
                        "35",
                        "32",
                        "39",
                        "25",
                        "31",
                        "33",
                        "21",
                        "23",
                        "20",
                        "34",
                        "14",
                        "12",
                        "13",
                        "9",
                        "17",
                        "11",
                        "18",
                        "15",
                        "10",
                        "16"
                      ],
                      "legendgroup": "new",
                      "marker": {
                        "color": "#636EFA",
                        "size": [
                          0.05833333333,
                          0.01666666667,
                          0,
                          0.06666666667,
                          0.025,
                          0.025,
                          0.1083333333,
                          0.1,
                          0.03333333333,
                          0.05833333333,
                          0.01666666667,
                          0.09166666667,
                          0.008333333333,
                          0.1333333333,
                          0.06666666667,
                          0.04166666667,
                          0.08333333333,
                          0.04166666667,
                          0.1416666667,
                          0.08333333333,
                          0.09166666667,
                          0.05,
                          0.008333333333
                        ],
                        "sizemode": "area",
                        "sizeref": 0.0351493848857645,
                        "symbol": "circle"
                      },
                      "mode": "markers",
                      "name": "new",
                      "orientation": "v",
                      "showlegend": true,
                      "type": "scatter",
                      "x": [
                        0,
                        0.008333333333,
                        0,
                        0,
                        0,
                        0,
                        0,
                        0,
                        0,
                        0.01666666667,
                        0,
                        0,
                        0,
                        0,
                        0,
                        0,
                        0,
                        0,
                        0,
                        0,
                        0,
                        0,
                        0
                      ],
                      "xaxis": "x",
                      "y": [
                        0,
                        0,
                        0,
                        0,
                        0,
                        0,
                        0,
                        0,
                        0,
                        0.008333333333,
                        0,
                        0,
                        0,
                        0,
                        0,
                        0,
                        0,
                        0,
                        0,
                        0,
                        0,
                        0,
                        0
                      ],
                      "yaxis": "y"
                    },
                    {
                      "hovertemplate": "<b>%{hovertext}</b><br><br>DivType=regular<br>Date=1915-06-22 00:00:00<br>SW120DeathSentences=%{x}<br>SW120execution=%{y}<br>SW120Casualties=%{marker.size}<extra></extra>",
                      "hovertext": [
                        "27",
                        "28",
                        "2",
                        "4",
                        "29",
                        "3",
                        "1",
                        "6",
                        "7",
                        "8",
                        "5"
                      ],
                      "ids": [
                        "27",
                        "28",
                        "2",
                        "4",
                        "29",
                        "3",
                        "1",
                        "6",
                        "7",
                        "8",
                        "5"
                      ],
                      "legendgroup": "regular",
                      "marker": {
                        "color": "#EF553B",
                        "size": [
                          4.975,
                          10.05,
                          6.441666667,
                          6.65,
                          7.8,
                          6.316666667,
                          10.31666667,
                          1.75,
                          5.241666667,
                          16.83333333,
                          6.758333333
                        ],
                        "sizemode": "area",
                        "sizeref": 0.0351493848857645,
                        "symbol": "circle"
                      },
                      "mode": "markers",
                      "name": "regular",
                      "orientation": "v",
                      "showlegend": true,
                      "type": "scatter",
                      "x": [
                        0.01666666667,
                        0.2583333333,
                        0.125,
                        0.09166666667,
                        0.03333333333,
                        0.2083333333,
                        0.1,
                        0.1833333333,
                        0.1583333333,
                        0.1166666667,
                        0.1916666667
                      ],
                      "xaxis": "x",
                      "y": [
                        0,
                        0,
                        0,
                        0.01666666667,
                        0,
                        0.04166666667,
                        0.025,
                        0.03333333333,
                        0.04166666667,
                        0.008333333333,
                        0.008333333333
                      ],
                      "yaxis": "y"
                    },
                    {
                      "hovertemplate": "<b>%{hovertext}</b><br><br>DivType=territorial<br>Date=1915-06-22 00:00:00<br>SW120DeathSentences=%{x}<br>SW120execution=%{y}<br>SW120Casualties=%{marker.size}<extra></extra>",
                      "hovertext": [
                        "46",
                        "48",
                        "66",
                        "51"
                      ],
                      "ids": [
                        "46",
                        "48",
                        "66",
                        "51"
                      ],
                      "legendgroup": "territorial",
                      "marker": {
                        "color": "#00CC96",
                        "size": [
                          0.3666666667,
                          0.09166666667,
                          0.008333333333,
                          1.116666667
                        ],
                        "sizemode": "area",
                        "sizeref": 0.0351493848857645,
                        "symbol": "circle"
                      },
                      "mode": "markers",
                      "name": "territorial",
                      "orientation": "v",
                      "showlegend": true,
                      "type": "scatter",
                      "x": [
                        0.025,
                        0,
                        0,
                        0
                      ],
                      "xaxis": "x",
                      "y": [
                        0,
                        0,
                        0,
                        0
                      ],
                      "yaxis": "y"
                    }
                  ],
                  "name": "1915-06-22 00:00:00"
                },
                {
                  "data": [
                    {
                      "hovertemplate": "<b>%{hovertext}</b><br><br>DivType=new<br>Date=1915-06-23 00:00:00<br>SW120DeathSentences=%{x}<br>SW120execution=%{y}<br>SW120Casualties=%{marker.size}<extra></extra>",
                      "hovertext": [
                        "38",
                        "41",
                        "36",
                        "37"
                      ],
                      "ids": [
                        "38",
                        "41",
                        "36",
                        "37"
                      ],
                      "legendgroup": "new",
                      "marker": {
                        "color": "#636EFA",
                        "size": [
                          0,
                          0,
                          0,
                          0
                        ],
                        "sizemode": "area",
                        "sizeref": 0.0351493848857645,
                        "symbol": "circle"
                      },
                      "mode": "markers",
                      "name": "new",
                      "orientation": "v",
                      "showlegend": true,
                      "type": "scatter",
                      "x": [
                        0,
                        0,
                        0,
                        0
                      ],
                      "xaxis": "x",
                      "y": [
                        0,
                        0,
                        0,
                        0
                      ],
                      "yaxis": "y"
                    },
                    {
                      "hovertemplate": "<b>%{hovertext}</b><br><br>DivType=territorial<br>Date=1915-06-23 00:00:00<br>SW120DeathSentences=%{x}<br>SW120execution=%{y}<br>SW120Casualties=%{marker.size}<extra></extra>",
                      "hovertext": [
                        "63",
                        "58",
                        "56",
                        "55",
                        "50"
                      ],
                      "ids": [
                        "63",
                        "58",
                        "56",
                        "55",
                        "50"
                      ],
                      "legendgroup": "territorial",
                      "marker": {
                        "color": "#00CC96",
                        "size": [
                          0,
                          0,
                          0,
                          0,
                          0
                        ],
                        "sizemode": "area",
                        "sizeref": 0.0351493848857645,
                        "symbol": "circle"
                      },
                      "mode": "markers",
                      "name": "territorial",
                      "orientation": "v",
                      "showlegend": true,
                      "type": "scatter",
                      "x": [
                        0,
                        0,
                        0,
                        0,
                        0
                      ],
                      "xaxis": "x",
                      "y": [
                        0,
                        0,
                        0,
                        0,
                        0
                      ],
                      "yaxis": "y"
                    }
                  ],
                  "name": "1915-06-23 00:00:00"
                },
                {
                  "data": [
                    {
                      "hovertemplate": "<b>%{hovertext}</b><br><br>DivType=new<br>Date=1915-07-22 00:00:00<br>SW120DeathSentences=%{x}<br>SW120execution=%{y}<br>SW120Casualties=%{marker.size}<extra></extra>",
                      "hovertext": [
                        "33",
                        "24",
                        "13",
                        "19",
                        "16",
                        "15",
                        "14",
                        "35",
                        "17",
                        "20",
                        "32",
                        "21",
                        "34",
                        "23",
                        "39",
                        "30",
                        "11",
                        "9",
                        "31",
                        "18",
                        "10",
                        "25",
                        "12"
                      ],
                      "ids": [
                        "33",
                        "24",
                        "13",
                        "19",
                        "16",
                        "15",
                        "14",
                        "35",
                        "17",
                        "20",
                        "32",
                        "21",
                        "34",
                        "23",
                        "39",
                        "30",
                        "11",
                        "9",
                        "31",
                        "18",
                        "10",
                        "25",
                        "12"
                      ],
                      "legendgroup": "new",
                      "marker": {
                        "color": "#636EFA",
                        "size": [
                          0.025,
                          0.06666666667,
                          0.025,
                          0.01666666667,
                          0.008333333333,
                          0.09166666667,
                          0.5583333333,
                          0.05,
                          0.03333333333,
                          0.09166666667,
                          0.04166666667,
                          0.05,
                          0.01666666667,
                          0.008333333333,
                          0.025,
                          0.025,
                          0.1333333333,
                          0.1166666667,
                          0.08333333333,
                          0.06666666667,
                          0.05,
                          0.1166666667,
                          0.075
                        ],
                        "sizemode": "area",
                        "sizeref": 0.0351493848857645,
                        "symbol": "circle"
                      },
                      "mode": "markers",
                      "name": "new",
                      "orientation": "v",
                      "showlegend": true,
                      "type": "scatter",
                      "x": [
                        0,
                        0,
                        0,
                        0,
                        0,
                        0,
                        0,
                        0,
                        0,
                        0,
                        0,
                        0.008333333333,
                        0,
                        0,
                        0,
                        0.008333333333,
                        0,
                        0,
                        0,
                        0,
                        0,
                        0,
                        0
                      ],
                      "xaxis": "x",
                      "y": [
                        0,
                        0,
                        0,
                        0,
                        0,
                        0,
                        0,
                        0,
                        0,
                        0,
                        0,
                        0,
                        0,
                        0,
                        0,
                        0,
                        0,
                        0,
                        0,
                        0,
                        0,
                        0,
                        0
                      ],
                      "yaxis": "y"
                    },
                    {
                      "hovertemplate": "<b>%{hovertext}</b><br><br>DivType=regular<br>Date=1915-07-22 00:00:00<br>SW120DeathSentences=%{x}<br>SW120execution=%{y}<br>SW120Casualties=%{marker.size}<extra></extra>",
                      "hovertext": [
                        "6",
                        "1",
                        "4",
                        "2",
                        "5",
                        "7",
                        "3",
                        "8",
                        "28",
                        "29",
                        "27"
                      ],
                      "ids": [
                        "6",
                        "1",
                        "4",
                        "2",
                        "5",
                        "7",
                        "3",
                        "8",
                        "28",
                        "29",
                        "27"
                      ],
                      "legendgroup": "regular",
                      "marker": {
                        "color": "#EF553B",
                        "size": [
                          1.816666667,
                          9.816666667,
                          8.033333333,
                          6.066666667,
                          7.508333333,
                          6.333333333,
                          11.34166667,
                          16.325,
                          11.05,
                          12.84166667,
                          4.933333333
                        ],
                        "sizemode": "area",
                        "sizeref": 0.0351493848857645,
                        "symbol": "circle"
                      },
                      "mode": "markers",
                      "name": "regular",
                      "orientation": "v",
                      "showlegend": true,
                      "type": "scatter",
                      "x": [
                        0.1416666667,
                        0.06666666667,
                        0.1166666667,
                        0.075,
                        0.2083333333,
                        0.03333333333,
                        0.1833333333,
                        0.09166666667,
                        0.2416666667,
                        0.04166666667,
                        0.04166666667
                      ],
                      "xaxis": "x",
                      "y": [
                        0.01666666667,
                        0.01666666667,
                        0.025,
                        0,
                        0.01666666667,
                        0.025,
                        0.01666666667,
                        0.008333333333,
                        0.008333333333,
                        0.008333333333,
                        0
                      ],
                      "yaxis": "y"
                    },
                    {
                      "hovertemplate": "<b>%{hovertext}</b><br><br>DivType=territorial<br>Date=1915-07-22 00:00:00<br>SW120DeathSentences=%{x}<br>SW120execution=%{y}<br>SW120Casualties=%{marker.size}<extra></extra>",
                      "hovertext": [
                        "51",
                        "48",
                        "66",
                        "46"
                      ],
                      "ids": [
                        "51",
                        "48",
                        "66",
                        "46"
                      ],
                      "legendgroup": "territorial",
                      "marker": {
                        "color": "#00CC96",
                        "size": [
                          1.125,
                          0.1166666667,
                          0.01666666667,
                          0.4583333333
                        ],
                        "sizemode": "area",
                        "sizeref": 0.0351493848857645,
                        "symbol": "circle"
                      },
                      "mode": "markers",
                      "name": "territorial",
                      "orientation": "v",
                      "showlegend": true,
                      "type": "scatter",
                      "x": [
                        0,
                        0,
                        0,
                        0.025
                      ],
                      "xaxis": "x",
                      "y": [
                        0,
                        0,
                        0,
                        0
                      ],
                      "yaxis": "y"
                    }
                  ],
                  "name": "1915-07-22 00:00:00"
                },
                {
                  "data": [
                    {
                      "hovertemplate": "<b>%{hovertext}</b><br><br>DivType=new<br>Date=1915-07-23 00:00:00<br>SW120DeathSentences=%{x}<br>SW120execution=%{y}<br>SW120Casualties=%{marker.size}<extra></extra>",
                      "hovertext": [
                        "37",
                        "36",
                        "38",
                        "41"
                      ],
                      "ids": [
                        "37",
                        "36",
                        "38",
                        "41"
                      ],
                      "legendgroup": "new",
                      "marker": {
                        "color": "#636EFA",
                        "size": [
                          0,
                          0,
                          0,
                          0
                        ],
                        "sizemode": "area",
                        "sizeref": 0.0351493848857645,
                        "symbol": "circle"
                      },
                      "mode": "markers",
                      "name": "new",
                      "orientation": "v",
                      "showlegend": true,
                      "type": "scatter",
                      "x": [
                        0,
                        0,
                        0,
                        0
                      ],
                      "xaxis": "x",
                      "y": [
                        0,
                        0,
                        0,
                        0
                      ],
                      "yaxis": "y"
                    },
                    {
                      "hovertemplate": "<b>%{hovertext}</b><br><br>DivType=territorial<br>Date=1915-07-23 00:00:00<br>SW120DeathSentences=%{x}<br>SW120execution=%{y}<br>SW120Casualties=%{marker.size}<extra></extra>",
                      "hovertext": [
                        "50",
                        "55",
                        "56",
                        "63",
                        "58"
                      ],
                      "ids": [
                        "50",
                        "55",
                        "56",
                        "63",
                        "58"
                      ],
                      "legendgroup": "territorial",
                      "marker": {
                        "color": "#00CC96",
                        "size": [
                          0,
                          0,
                          0,
                          0,
                          0
                        ],
                        "sizemode": "area",
                        "sizeref": 0.0351493848857645,
                        "symbol": "circle"
                      },
                      "mode": "markers",
                      "name": "territorial",
                      "orientation": "v",
                      "showlegend": true,
                      "type": "scatter",
                      "x": [
                        0,
                        0,
                        0,
                        0,
                        0
                      ],
                      "xaxis": "x",
                      "y": [
                        0,
                        0,
                        0,
                        0,
                        0
                      ],
                      "yaxis": "y"
                    }
                  ],
                  "name": "1915-07-23 00:00:00"
                },
                {
                  "data": [
                    {
                      "hovertemplate": "<b>%{hovertext}</b><br><br>DivType=new<br>Date=1915-08-21 00:00:00<br>SW120DeathSentences=%{x}<br>SW120execution=%{y}<br>SW120Casualties=%{marker.size}<extra></extra>",
                      "hovertext": [
                        "23",
                        "18",
                        "15",
                        "31",
                        "9",
                        "25",
                        "20",
                        "10",
                        "32",
                        "19",
                        "12",
                        "16",
                        "39",
                        "24",
                        "35",
                        "14",
                        "30",
                        "17",
                        "34",
                        "11",
                        "33",
                        "21",
                        "13"
                      ],
                      "ids": [
                        "23",
                        "18",
                        "15",
                        "31",
                        "9",
                        "25",
                        "20",
                        "10",
                        "32",
                        "19",
                        "12",
                        "16",
                        "39",
                        "24",
                        "35",
                        "14",
                        "30",
                        "17",
                        "34",
                        "11",
                        "33",
                        "21",
                        "13"
                      ],
                      "legendgroup": "new",
                      "marker": {
                        "color": "#636EFA",
                        "size": [
                          0,
                          0.05833333333,
                          0.08333333333,
                          0.05,
                          0.5166666667,
                          0.15,
                          0.05833333333,
                          0.05833333333,
                          0.03333333333,
                          0.01666666667,
                          0.375,
                          0.008333333333,
                          0.025,
                          0.05,
                          0.05,
                          1.733333333,
                          0.025,
                          0.025,
                          0.01666666667,
                          0.1166666667,
                          0.01666666667,
                          0.025,
                          0.15
                        ],
                        "sizemode": "area",
                        "sizeref": 0.0351493848857645,
                        "symbol": "circle"
                      },
                      "mode": "markers",
                      "name": "new",
                      "orientation": "v",
                      "showlegend": true,
                      "type": "scatter",
                      "x": [
                        0,
                        0,
                        0,
                        0,
                        0,
                        0,
                        0,
                        0,
                        0,
                        0,
                        0,
                        0,
                        0,
                        0,
                        0,
                        0,
                        0.025,
                        0,
                        0,
                        0,
                        0,
                        0.008333333333,
                        0
                      ],
                      "xaxis": "x",
                      "y": [
                        0,
                        0,
                        0,
                        0,
                        0,
                        0,
                        0,
                        0,
                        0,
                        0,
                        0,
                        0,
                        0,
                        0,
                        0,
                        0,
                        0,
                        0,
                        0,
                        0,
                        0,
                        0,
                        0
                      ],
                      "yaxis": "y"
                    },
                    {
                      "hovertemplate": "<b>%{hovertext}</b><br><br>DivType=regular<br>Date=1915-08-21 00:00:00<br>SW120DeathSentences=%{x}<br>SW120execution=%{y}<br>SW120Casualties=%{marker.size}<extra></extra>",
                      "hovertext": [
                        "6",
                        "2",
                        "28",
                        "8",
                        "29",
                        "4",
                        "27",
                        "1",
                        "5",
                        "7",
                        "3"
                      ],
                      "ids": [
                        "6",
                        "2",
                        "28",
                        "8",
                        "29",
                        "4",
                        "27",
                        "1",
                        "5",
                        "7",
                        "3"
                      ],
                      "legendgroup": "regular",
                      "marker": {
                        "color": "#EF553B",
                        "size": [
                          1.8,
                          4.366666667,
                          10.69166667,
                          8.125,
                          15.575,
                          9.9,
                          4.183333333,
                          9.516666667,
                          7.4,
                          4.116666667,
                          9.1
                        ],
                        "sizemode": "area",
                        "sizeref": 0.0351493848857645,
                        "symbol": "circle"
                      },
                      "mode": "markers",
                      "name": "regular",
                      "orientation": "v",
                      "showlegend": true,
                      "type": "scatter",
                      "x": [
                        0.09166666667,
                        0.09166666667,
                        0.1833333333,
                        0.06666666667,
                        0.05833333333,
                        0.175,
                        0.075,
                        0.05,
                        0.2083333333,
                        0.025,
                        0.1916666667
                      ],
                      "xaxis": "x",
                      "y": [
                        0.008333333333,
                        0.008333333333,
                        0.008333333333,
                        0.008333333333,
                        0.008333333333,
                        0.025,
                        0,
                        0.008333333333,
                        0.025,
                        0.025,
                        0.06666666667
                      ],
                      "yaxis": "y"
                    },
                    {
                      "hovertemplate": "<b>%{hovertext}</b><br><br>DivType=territorial<br>Date=1915-08-21 00:00:00<br>SW120DeathSentences=%{x}<br>SW120execution=%{y}<br>SW120Casualties=%{marker.size}<extra></extra>",
                      "hovertext": [
                        "46",
                        "51",
                        "66",
                        "48"
                      ],
                      "ids": [
                        "46",
                        "51",
                        "66",
                        "48"
                      ],
                      "legendgroup": "territorial",
                      "marker": {
                        "color": "#00CC96",
                        "size": [
                          0.6416666667,
                          1.133333333,
                          0.05833333333,
                          0.1333333333
                        ],
                        "sizemode": "area",
                        "sizeref": 0.0351493848857645,
                        "symbol": "circle"
                      },
                      "mode": "markers",
                      "name": "territorial",
                      "orientation": "v",
                      "showlegend": true,
                      "type": "scatter",
                      "x": [
                        0.03333333333,
                        0,
                        0,
                        0
                      ],
                      "xaxis": "x",
                      "y": [
                        0,
                        0,
                        0,
                        0
                      ],
                      "yaxis": "y"
                    }
                  ],
                  "name": "1915-08-21 00:00:00"
                },
                {
                  "data": [
                    {
                      "hovertemplate": "<b>%{hovertext}</b><br><br>DivType=new<br>Date=1915-08-22 00:00:00<br>SW120DeathSentences=%{x}<br>SW120execution=%{y}<br>SW120Casualties=%{marker.size}<extra></extra>",
                      "hovertext": [
                        "37",
                        "36",
                        "38",
                        "41"
                      ],
                      "ids": [
                        "37",
                        "36",
                        "38",
                        "41"
                      ],
                      "legendgroup": "new",
                      "marker": {
                        "color": "#636EFA",
                        "size": [
                          0,
                          0,
                          0,
                          0
                        ],
                        "sizemode": "area",
                        "sizeref": 0.0351493848857645,
                        "symbol": "circle"
                      },
                      "mode": "markers",
                      "name": "new",
                      "orientation": "v",
                      "showlegend": true,
                      "type": "scatter",
                      "x": [
                        0,
                        0,
                        0,
                        0
                      ],
                      "xaxis": "x",
                      "y": [
                        0,
                        0,
                        0,
                        0
                      ],
                      "yaxis": "y"
                    },
                    {
                      "hovertemplate": "<b>%{hovertext}</b><br><br>DivType=territorial<br>Date=1915-08-22 00:00:00<br>SW120DeathSentences=%{x}<br>SW120execution=%{y}<br>SW120Casualties=%{marker.size}<extra></extra>",
                      "hovertext": [
                        "56",
                        "58",
                        "63",
                        "55",
                        "50"
                      ],
                      "ids": [
                        "56",
                        "58",
                        "63",
                        "55",
                        "50"
                      ],
                      "legendgroup": "territorial",
                      "marker": {
                        "color": "#00CC96",
                        "size": [
                          0,
                          0,
                          0,
                          0,
                          0
                        ],
                        "sizemode": "area",
                        "sizeref": 0.0351493848857645,
                        "symbol": "circle"
                      },
                      "mode": "markers",
                      "name": "territorial",
                      "orientation": "v",
                      "showlegend": true,
                      "type": "scatter",
                      "x": [
                        0,
                        0,
                        0,
                        0,
                        0
                      ],
                      "xaxis": "x",
                      "y": [
                        0,
                        0,
                        0,
                        0,
                        0
                      ],
                      "yaxis": "y"
                    }
                  ],
                  "name": "1915-08-22 00:00:00"
                },
                {
                  "data": [
                    {
                      "hovertemplate": "<b>%{hovertext}</b><br><br>DivType=new<br>Date=1915-09-20 00:00:00<br>SW120DeathSentences=%{x}<br>SW120execution=%{y}<br>SW120Casualties=%{marker.size}<extra></extra>",
                      "hovertext": [
                        "10",
                        "21",
                        "31",
                        "20",
                        "15",
                        "25",
                        "12",
                        "13",
                        "24",
                        "19",
                        "32",
                        "33",
                        "9",
                        "34",
                        "39",
                        "30",
                        "35",
                        "14",
                        "23",
                        "17",
                        "16",
                        "18",
                        "11"
                      ],
                      "ids": [
                        "10",
                        "21",
                        "31",
                        "20",
                        "15",
                        "25",
                        "12",
                        "13",
                        "24",
                        "19",
                        "32",
                        "33",
                        "9",
                        "34",
                        "39",
                        "30",
                        "35",
                        "14",
                        "23",
                        "17",
                        "16",
                        "18",
                        "11"
                      ],
                      "legendgroup": "new",
                      "marker": {
                        "color": "#636EFA",
                        "size": [
                          2.475,
                          0.04166666667,
                          0.04166666667,
                          0.15,
                          0.125,
                          0.15,
                          0.7583333333,
                          5.05,
                          0.03333333333,
                          0.05,
                          0.04166666667,
                          0.008333333333,
                          1.025,
                          0.025,
                          0.01666666667,
                          0.025,
                          0.05833333333,
                          8.05,
                          0.008333333333,
                          0.3833333333,
                          0,
                          0.09166666667,
                          9.175
                        ],
                        "sizemode": "area",
                        "sizeref": 0.0351493848857645,
                        "symbol": "circle"
                      },
                      "mode": "markers",
                      "name": "new",
                      "orientation": "v",
                      "showlegend": true,
                      "type": "scatter",
                      "x": [
                        0.008333333333,
                        0.008333333333,
                        0,
                        0,
                        0.008333333333,
                        0,
                        0,
                        0.008333333333,
                        0,
                        0,
                        0,
                        0,
                        0.008333333333,
                        0,
                        0,
                        0.01666666667,
                        0,
                        0.008333333333,
                        0,
                        0.01666666667,
                        0,
                        0,
                        0.025
                      ],
                      "xaxis": "x",
                      "y": [
                        0,
                        0,
                        0,
                        0,
                        0,
                        0,
                        0,
                        0,
                        0,
                        0,
                        0,
                        0,
                        0,
                        0,
                        0,
                        0,
                        0,
                        0.008333333333,
                        0,
                        0,
                        0,
                        0,
                        0
                      ],
                      "yaxis": "y"
                    },
                    {
                      "hovertemplate": "<b>%{hovertext}</b><br><br>DivType=regular<br>Date=1915-09-20 00:00:00<br>SW120DeathSentences=%{x}<br>SW120execution=%{y}<br>SW120Casualties=%{marker.size}<extra></extra>",
                      "hovertext": [
                        "8",
                        "2",
                        "1",
                        "28",
                        "29",
                        "6",
                        "5",
                        "3",
                        "27",
                        "4",
                        "7"
                      ],
                      "ids": [
                        "8",
                        "2",
                        "1",
                        "28",
                        "29",
                        "6",
                        "5",
                        "3",
                        "27",
                        "4",
                        "7"
                      ],
                      "legendgroup": "regular",
                      "marker": {
                        "color": "#EF553B",
                        "size": [
                          7.7,
                          4.358333333,
                          9.075,
                          9.658333333,
                          28.45,
                          1.8,
                          5.441666667,
                          8.741666667,
                          3.783333333,
                          9.625,
                          4.033333333
                        ],
                        "sizemode": "area",
                        "sizeref": 0.0351493848857645,
                        "symbol": "circle"
                      },
                      "mode": "markers",
                      "name": "regular",
                      "orientation": "v",
                      "showlegend": true,
                      "type": "scatter",
                      "x": [
                        0.075,
                        0.05,
                        0.03333333333,
                        0.1916666667,
                        0.05833333333,
                        0.03333333333,
                        0.2833333333,
                        0.125,
                        0.09166666667,
                        0.15,
                        0
                      ],
                      "xaxis": "x",
                      "y": [
                        0.008333333333,
                        0.008333333333,
                        0,
                        0.008333333333,
                        0.008333333333,
                        0,
                        0.025,
                        0.05833333333,
                        0,
                        0.008333333333,
                        0
                      ],
                      "yaxis": "y"
                    },
                    {
                      "hovertemplate": "<b>%{hovertext}</b><br><br>DivType=territorial<br>Date=1915-09-20 00:00:00<br>SW120DeathSentences=%{x}<br>SW120execution=%{y}<br>SW120Casualties=%{marker.size}<extra></extra>",
                      "hovertext": [
                        "48",
                        "51",
                        "46",
                        "66"
                      ],
                      "ids": [
                        "48",
                        "51",
                        "46",
                        "66"
                      ],
                      "legendgroup": "territorial",
                      "marker": {
                        "color": "#00CC96",
                        "size": [
                          0.1333333333,
                          1.108333333,
                          0.7916666667,
                          0.1166666667
                        ],
                        "sizemode": "area",
                        "sizeref": 0.0351493848857645,
                        "symbol": "circle"
                      },
                      "mode": "markers",
                      "name": "territorial",
                      "orientation": "v",
                      "showlegend": true,
                      "type": "scatter",
                      "x": [
                        0,
                        0.008333333333,
                        0.03333333333,
                        0
                      ],
                      "xaxis": "x",
                      "y": [
                        0,
                        0,
                        0,
                        0
                      ],
                      "yaxis": "y"
                    }
                  ],
                  "name": "1915-09-20 00:00:00"
                },
                {
                  "data": [
                    {
                      "hovertemplate": "<b>%{hovertext}</b><br><br>DivType=new<br>Date=1915-09-21 00:00:00<br>SW120DeathSentences=%{x}<br>SW120execution=%{y}<br>SW120Casualties=%{marker.size}<extra></extra>",
                      "hovertext": [
                        "37",
                        "38",
                        "36",
                        "41"
                      ],
                      "ids": [
                        "37",
                        "38",
                        "36",
                        "41"
                      ],
                      "legendgroup": "new",
                      "marker": {
                        "color": "#636EFA",
                        "size": [
                          0,
                          0,
                          0,
                          0
                        ],
                        "sizemode": "area",
                        "sizeref": 0.0351493848857645,
                        "symbol": "circle"
                      },
                      "mode": "markers",
                      "name": "new",
                      "orientation": "v",
                      "showlegend": true,
                      "type": "scatter",
                      "x": [
                        0.008333333333,
                        0,
                        0,
                        0
                      ],
                      "xaxis": "x",
                      "y": [
                        0,
                        0,
                        0,
                        0
                      ],
                      "yaxis": "y"
                    },
                    {
                      "hovertemplate": "<b>%{hovertext}</b><br><br>DivType=territorial<br>Date=1915-09-21 00:00:00<br>SW120DeathSentences=%{x}<br>SW120execution=%{y}<br>SW120Casualties=%{marker.size}<extra></extra>",
                      "hovertext": [
                        "50",
                        "63",
                        "55",
                        "56",
                        "58"
                      ],
                      "ids": [
                        "50",
                        "63",
                        "55",
                        "56",
                        "58"
                      ],
                      "legendgroup": "territorial",
                      "marker": {
                        "color": "#00CC96",
                        "size": [
                          0,
                          0,
                          0,
                          0,
                          0
                        ],
                        "sizemode": "area",
                        "sizeref": 0.0351493848857645,
                        "symbol": "circle"
                      },
                      "mode": "markers",
                      "name": "territorial",
                      "orientation": "v",
                      "showlegend": true,
                      "type": "scatter",
                      "x": [
                        0,
                        0,
                        0,
                        0,
                        0
                      ],
                      "xaxis": "x",
                      "y": [
                        0,
                        0,
                        0,
                        0,
                        0
                      ],
                      "yaxis": "y"
                    }
                  ],
                  "name": "1915-09-21 00:00:00"
                },
                {
                  "data": [
                    {
                      "hovertemplate": "<b>%{hovertext}</b><br><br>DivType=new<br>Date=1915-10-20 00:00:00<br>SW120DeathSentences=%{x}<br>SW120execution=%{y}<br>SW120Casualties=%{marker.size}<extra></extra>",
                      "hovertext": [
                        "33",
                        "24",
                        "19",
                        "34",
                        "14",
                        "13",
                        "15",
                        "9",
                        "10",
                        "23",
                        "21",
                        "17",
                        "18",
                        "20",
                        "25",
                        "12",
                        "30",
                        "16",
                        "32",
                        "39",
                        "35",
                        "11",
                        "31"
                      ],
                      "ids": [
                        "33",
                        "24",
                        "19",
                        "34",
                        "14",
                        "13",
                        "15",
                        "9",
                        "10",
                        "23",
                        "21",
                        "17",
                        "18",
                        "20",
                        "25",
                        "12",
                        "30",
                        "16",
                        "32",
                        "39",
                        "35",
                        "11",
                        "31"
                      ],
                      "legendgroup": "new",
                      "marker": {
                        "color": "#636EFA",
                        "size": [
                          0.008333333333,
                          0.05,
                          0.175,
                          0.03333333333,
                          8.475,
                          5.283333333,
                          0.325,
                          1.258333333,
                          3.575,
                          0.1083333333,
                          0.05833333333,
                          1.1,
                          0.3916666667,
                          0.6166666667,
                          0.15,
                          1.008333333,
                          0.025,
                          0,
                          0.05833333333,
                          0.01666666667,
                          0.05833333333,
                          10.28333333,
                          0.01666666667
                        ],
                        "sizemode": "area",
                        "sizeref": 0.0351493848857645,
                        "symbol": "circle"
                      },
                      "mode": "markers",
                      "name": "new",
                      "orientation": "v",
                      "showlegend": true,
                      "type": "scatter",
                      "x": [
                        0,
                        0,
                        0,
                        0,
                        0.01666666667,
                        0.04166666667,
                        0.008333333333,
                        0.01666666667,
                        0.025,
                        0,
                        0,
                        0.025,
                        0,
                        0,
                        0,
                        0,
                        0.03333333333,
                        0,
                        0,
                        0,
                        0,
                        0.03333333333,
                        0
                      ],
                      "xaxis": "x",
                      "y": [
                        0,
                        0,
                        0,
                        0,
                        0.008333333333,
                        0,
                        0,
                        0,
                        0,
                        0,
                        0,
                        0,
                        0,
                        0,
                        0,
                        0,
                        0,
                        0,
                        0,
                        0,
                        0,
                        0,
                        0
                      ],
                      "yaxis": "y"
                    },
                    {
                      "hovertemplate": "<b>%{hovertext}</b><br><br>DivType=regular<br>Date=1915-10-20 00:00:00<br>SW120DeathSentences=%{x}<br>SW120execution=%{y}<br>SW120Casualties=%{marker.size}<extra></extra>",
                      "hovertext": [
                        "5",
                        "29",
                        "4",
                        "2",
                        "27",
                        "1",
                        "7",
                        "6",
                        "3",
                        "8",
                        "28"
                      ],
                      "ids": [
                        "5",
                        "29",
                        "4",
                        "2",
                        "27",
                        "1",
                        "7",
                        "6",
                        "3",
                        "8",
                        "28"
                      ],
                      "legendgroup": "regular",
                      "marker": {
                        "color": "#EF553B",
                        "size": [
                          2.6,
                          22.11666667,
                          4.533333333,
                          1.141666667,
                          0.625,
                          1.758333333,
                          1.983333333,
                          2.05,
                          8.366666667,
                          1.616666667,
                          4.158333333
                        ],
                        "sizemode": "area",
                        "sizeref": 0.0351493848857645,
                        "symbol": "circle"
                      },
                      "mode": "markers",
                      "name": "regular",
                      "orientation": "v",
                      "showlegend": true,
                      "type": "scatter",
                      "x": [
                        0.2333333333,
                        0.03333333333,
                        0.15,
                        0.05,
                        0.1166666667,
                        0.04166666667,
                        0,
                        0.03333333333,
                        0.125,
                        0.04166666667,
                        0.2083333333
                      ],
                      "xaxis": "x",
                      "y": [
                        0.03333333333,
                        0.008333333333,
                        0.008333333333,
                        0.008333333333,
                        0.008333333333,
                        0,
                        0,
                        0.008333333333,
                        0.05,
                        0.008333333333,
                        0.008333333333
                      ],
                      "yaxis": "y"
                    },
                    {
                      "hovertemplate": "<b>%{hovertext}</b><br><br>DivType=territorial<br>Date=1915-10-20 00:00:00<br>SW120DeathSentences=%{x}<br>SW120execution=%{y}<br>SW120Casualties=%{marker.size}<extra></extra>",
                      "hovertext": [
                        "48",
                        "51",
                        "46",
                        "66"
                      ],
                      "ids": [
                        "48",
                        "51",
                        "46",
                        "66"
                      ],
                      "legendgroup": "territorial",
                      "marker": {
                        "color": "#00CC96",
                        "size": [
                          0.06666666667,
                          0.1416666667,
                          0.75,
                          0.1416666667
                        ],
                        "sizemode": "area",
                        "sizeref": 0.0351493848857645,
                        "symbol": "circle"
                      },
                      "mode": "markers",
                      "name": "territorial",
                      "orientation": "v",
                      "showlegend": true,
                      "type": "scatter",
                      "x": [
                        0,
                        0.008333333333,
                        0.01666666667,
                        0
                      ],
                      "xaxis": "x",
                      "y": [
                        0,
                        0,
                        0,
                        0
                      ],
                      "yaxis": "y"
                    }
                  ],
                  "name": "1915-10-20 00:00:00"
                },
                {
                  "data": [
                    {
                      "hovertemplate": "<b>%{hovertext}</b><br><br>DivType=new<br>Date=1915-10-21 00:00:00<br>SW120DeathSentences=%{x}<br>SW120execution=%{y}<br>SW120Casualties=%{marker.size}<extra></extra>",
                      "hovertext": [
                        "36",
                        "41",
                        "37",
                        "38"
                      ],
                      "ids": [
                        "36",
                        "41",
                        "37",
                        "38"
                      ],
                      "legendgroup": "new",
                      "marker": {
                        "color": "#636EFA",
                        "size": [
                          0,
                          0,
                          0,
                          0
                        ],
                        "sizemode": "area",
                        "sizeref": 0.0351493848857645,
                        "symbol": "circle"
                      },
                      "mode": "markers",
                      "name": "new",
                      "orientation": "v",
                      "showlegend": true,
                      "type": "scatter",
                      "x": [
                        0,
                        0,
                        0.01666666667,
                        0
                      ],
                      "xaxis": "x",
                      "y": [
                        0,
                        0,
                        0,
                        0
                      ],
                      "yaxis": "y"
                    },
                    {
                      "hovertemplate": "<b>%{hovertext}</b><br><br>DivType=territorial<br>Date=1915-10-21 00:00:00<br>SW120DeathSentences=%{x}<br>SW120execution=%{y}<br>SW120Casualties=%{marker.size}<extra></extra>",
                      "hovertext": [
                        "56",
                        "50",
                        "55",
                        "63",
                        "58"
                      ],
                      "ids": [
                        "56",
                        "50",
                        "55",
                        "63",
                        "58"
                      ],
                      "legendgroup": "territorial",
                      "marker": {
                        "color": "#00CC96",
                        "size": [
                          0,
                          0,
                          0,
                          0,
                          0
                        ],
                        "sizemode": "area",
                        "sizeref": 0.0351493848857645,
                        "symbol": "circle"
                      },
                      "mode": "markers",
                      "name": "territorial",
                      "orientation": "v",
                      "showlegend": true,
                      "type": "scatter",
                      "x": [
                        0,
                        0,
                        0,
                        0,
                        0
                      ],
                      "xaxis": "x",
                      "y": [
                        0,
                        0,
                        0,
                        0,
                        0
                      ],
                      "yaxis": "y"
                    }
                  ],
                  "name": "1915-10-21 00:00:00"
                },
                {
                  "data": [
                    {
                      "hovertemplate": "<b>%{hovertext}</b><br><br>DivType=new<br>Date=1915-11-19 00:00:00<br>SW120DeathSentences=%{x}<br>SW120execution=%{y}<br>SW120Casualties=%{marker.size}<extra></extra>",
                      "hovertext": [
                        "9",
                        "30",
                        "11",
                        "14",
                        "32",
                        "19",
                        "33",
                        "24",
                        "12",
                        "25",
                        "13",
                        "10",
                        "17",
                        "31",
                        "34",
                        "23",
                        "35",
                        "21",
                        "39",
                        "15",
                        "20",
                        "16",
                        "18"
                      ],
                      "ids": [
                        "9",
                        "30",
                        "11",
                        "14",
                        "32",
                        "19",
                        "33",
                        "24",
                        "12",
                        "25",
                        "13",
                        "10",
                        "17",
                        "31",
                        "34",
                        "23",
                        "35",
                        "21",
                        "39",
                        "15",
                        "20",
                        "16",
                        "18"
                      ],
                      "legendgroup": "new",
                      "marker": {
                        "color": "#636EFA",
                        "size": [
                          11.20833333,
                          0.025,
                          10.95,
                          13.44166667,
                          0.04166666667,
                          1.391666667,
                          0.025,
                          3.791666667,
                          4.966666667,
                          0.2,
                          5.675,
                          3.658333333,
                          1.466666667,
                          0.008333333333,
                          0.04166666667,
                          0.175,
                          0.06666666667,
                          3.275,
                          0.01666666667,
                          9.683333333,
                          3.4,
                          0,
                          0.6833333333
                        ],
                        "sizemode": "area",
                        "sizeref": 0.0351493848857645,
                        "symbol": "circle"
                      },
                      "mode": "markers",
                      "name": "new",
                      "orientation": "v",
                      "showlegend": true,
                      "type": "scatter",
                      "x": [
                        0.01666666667,
                        0.03333333333,
                        0.05,
                        0.025,
                        0,
                        0,
                        0,
                        0,
                        0,
                        0.008333333333,
                        0.08333333333,
                        0.05,
                        0.025,
                        0,
                        0,
                        0.01666666667,
                        0,
                        0,
                        0,
                        0.008333333333,
                        0.008333333333,
                        0,
                        0
                      ],
                      "xaxis": "x",
                      "y": [
                        0,
                        0,
                        0,
                        0.008333333333,
                        0,
                        0,
                        0,
                        0,
                        0,
                        0,
                        0,
                        0,
                        0,
                        0,
                        0,
                        0,
                        0,
                        0,
                        0,
                        0,
                        0,
                        0,
                        0
                      ],
                      "yaxis": "y"
                    },
                    {
                      "hovertemplate": "<b>%{hovertext}</b><br><br>DivType=regular<br>Date=1915-11-19 00:00:00<br>SW120DeathSentences=%{x}<br>SW120execution=%{y}<br>SW120Casualties=%{marker.size}<extra></extra>",
                      "hovertext": [
                        "4",
                        "27",
                        "6",
                        "28",
                        "7",
                        "3",
                        "8",
                        "2",
                        "5",
                        "29",
                        "1"
                      ],
                      "ids": [
                        "4",
                        "27",
                        "6",
                        "28",
                        "7",
                        "3",
                        "8",
                        "2",
                        "5",
                        "29",
                        "1"
                      ],
                      "legendgroup": "regular",
                      "marker": {
                        "color": "#EF553B",
                        "size": [
                          2.975,
                          0.3916666667,
                          4.658333333,
                          4.25,
                          3.133333333,
                          5.075,
                          2.566666667,
                          3.925,
                          2.025,
                          18.29166667,
                          5.1
                        ],
                        "sizemode": "area",
                        "sizeref": 0.0351493848857645,
                        "symbol": "circle"
                      },
                      "mode": "markers",
                      "name": "regular",
                      "orientation": "v",
                      "showlegend": true,
                      "type": "scatter",
                      "x": [
                        0.1416666667,
                        0.1,
                        0.04166666667,
                        0.2,
                        0.008333333333,
                        0.09166666667,
                        0.05,
                        0.08333333333,
                        0.2333333333,
                        0.075,
                        0.025
                      ],
                      "xaxis": "x",
                      "y": [
                        0,
                        0.008333333333,
                        0.008333333333,
                        0,
                        0,
                        0.05,
                        0.025,
                        0.008333333333,
                        0.01666666667,
                        0,
                        0
                      ],
                      "yaxis": "y"
                    },
                    {
                      "hovertemplate": "<b>%{hovertext}</b><br><br>DivType=territorial<br>Date=1915-11-19 00:00:00<br>SW120DeathSentences=%{x}<br>SW120execution=%{y}<br>SW120Casualties=%{marker.size}<extra></extra>",
                      "hovertext": [
                        "66",
                        "48",
                        "46",
                        "51"
                      ],
                      "ids": [
                        "66",
                        "48",
                        "46",
                        "51"
                      ],
                      "legendgroup": "territorial",
                      "marker": {
                        "color": "#00CC96",
                        "size": [
                          0.1666666667,
                          0.05833333333,
                          2.783333333,
                          0.06666666667
                        ],
                        "sizemode": "area",
                        "sizeref": 0.0351493848857645,
                        "symbol": "circle"
                      },
                      "mode": "markers",
                      "name": "territorial",
                      "orientation": "v",
                      "showlegend": true,
                      "type": "scatter",
                      "x": [
                        0,
                        0,
                        0.03333333333,
                        0.025
                      ],
                      "xaxis": "x",
                      "y": [
                        0,
                        0,
                        0,
                        0
                      ],
                      "yaxis": "y"
                    }
                  ],
                  "name": "1915-11-19 00:00:00"
                },
                {
                  "data": [
                    {
                      "hovertemplate": "<b>%{hovertext}</b><br><br>DivType=new<br>Date=1915-11-20 00:00:00<br>SW120DeathSentences=%{x}<br>SW120execution=%{y}<br>SW120Casualties=%{marker.size}<extra></extra>",
                      "hovertext": [
                        "37",
                        "41",
                        "38",
                        "36"
                      ],
                      "ids": [
                        "37",
                        "41",
                        "38",
                        "36"
                      ],
                      "legendgroup": "new",
                      "marker": {
                        "color": "#636EFA",
                        "size": [
                          0,
                          0,
                          0,
                          0
                        ],
                        "sizemode": "area",
                        "sizeref": 0.0351493848857645,
                        "symbol": "circle"
                      },
                      "mode": "markers",
                      "name": "new",
                      "orientation": "v",
                      "showlegend": true,
                      "type": "scatter",
                      "x": [
                        0.025,
                        0,
                        0,
                        0
                      ],
                      "xaxis": "x",
                      "y": [
                        0,
                        0,
                        0,
                        0
                      ],
                      "yaxis": "y"
                    },
                    {
                      "hovertemplate": "<b>%{hovertext}</b><br><br>DivType=territorial<br>Date=1915-11-20 00:00:00<br>SW120DeathSentences=%{x}<br>SW120execution=%{y}<br>SW120Casualties=%{marker.size}<extra></extra>",
                      "hovertext": [
                        "50",
                        "58",
                        "55",
                        "56",
                        "63"
                      ],
                      "ids": [
                        "50",
                        "58",
                        "55",
                        "56",
                        "63"
                      ],
                      "legendgroup": "territorial",
                      "marker": {
                        "color": "#00CC96",
                        "size": [
                          0,
                          0,
                          0,
                          0,
                          0
                        ],
                        "sizemode": "area",
                        "sizeref": 0.0351493848857645,
                        "symbol": "circle"
                      },
                      "mode": "markers",
                      "name": "territorial",
                      "orientation": "v",
                      "showlegend": true,
                      "type": "scatter",
                      "x": [
                        0,
                        0,
                        0,
                        0,
                        0
                      ],
                      "xaxis": "x",
                      "y": [
                        0,
                        0,
                        0,
                        0,
                        0
                      ],
                      "yaxis": "y"
                    }
                  ],
                  "name": "1915-11-20 00:00:00"
                },
                {
                  "data": [
                    {
                      "hovertemplate": "<b>%{hovertext}</b><br><br>DivType=new<br>Date=1915-12-19 00:00:00<br>SW120DeathSentences=%{x}<br>SW120execution=%{y}<br>SW120Casualties=%{marker.size}<extra></extra>",
                      "hovertext": [
                        "15",
                        "39",
                        "33",
                        "9",
                        "18",
                        "25",
                        "10",
                        "35",
                        "24",
                        "12",
                        "19",
                        "32",
                        "13",
                        "17",
                        "20",
                        "21",
                        "34",
                        "30",
                        "14",
                        "11",
                        "16",
                        "23",
                        "31"
                      ],
                      "ids": [
                        "15",
                        "39",
                        "33",
                        "9",
                        "18",
                        "25",
                        "10",
                        "35",
                        "24",
                        "12",
                        "19",
                        "32",
                        "13",
                        "17",
                        "20",
                        "21",
                        "34",
                        "30",
                        "14",
                        "11",
                        "16",
                        "23",
                        "31"
                      ],
                      "legendgroup": "new",
                      "marker": {
                        "color": "#636EFA",
                        "size": [
                          10.35,
                          0.025,
                          0.01666666667,
                          11.78333333,
                          0.8833333333,
                          0.25,
                          3.716666667,
                          0.05833333333,
                          4.483333333,
                          5.391666667,
                          1.575,
                          0.05,
                          5.816666667,
                          1.983333333,
                          3.733333333,
                          3.433333333,
                          0.05833333333,
                          0.03333333333,
                          12.48333333,
                          11.40833333,
                          0,
                          0.25,
                          0.01666666667
                        ],
                        "sizemode": "area",
                        "sizeref": 0.0351493848857645,
                        "symbol": "circle"
                      },
                      "mode": "markers",
                      "name": "new",
                      "orientation": "v",
                      "showlegend": true,
                      "type": "scatter",
                      "x": [
                        0.008333333333,
                        0,
                        0,
                        0.01666666667,
                        0,
                        0.008333333333,
                        0.05,
                        0,
                        0.008333333333,
                        0,
                        0,
                        0,
                        0.1,
                        0.025,
                        0.01666666667,
                        0,
                        0,
                        0.01666666667,
                        0.05833333333,
                        0.05833333333,
                        0,
                        0.01666666667,
                        0
                      ],
                      "xaxis": "x",
                      "y": [
                        0,
                        0,
                        0,
                        0,
                        0,
                        0,
                        0,
                        0,
                        0,
                        0,
                        0,
                        0,
                        0,
                        0,
                        0,
                        0,
                        0,
                        0,
                        0.008333333333,
                        0,
                        0,
                        0,
                        0
                      ],
                      "yaxis": "y"
                    },
                    {
                      "hovertemplate": "<b>%{hovertext}</b><br><br>DivType=regular<br>Date=1915-12-19 00:00:00<br>SW120DeathSentences=%{x}<br>SW120execution=%{y}<br>SW120Casualties=%{marker.size}<extra></extra>",
                      "hovertext": [
                        "3",
                        "1",
                        "5",
                        "6",
                        "28",
                        "8",
                        "2",
                        "27",
                        "4",
                        "29",
                        "7"
                      ],
                      "ids": [
                        "3",
                        "1",
                        "5",
                        "6",
                        "28",
                        "8",
                        "2",
                        "27",
                        "4",
                        "29",
                        "7"
                      ],
                      "legendgroup": "regular",
                      "marker": {
                        "color": "#EF553B",
                        "size": [
                          4.35,
                          5.091666667,
                          1.216666667,
                          4.541666667,
                          3.966666667,
                          2.408333333,
                          4.008333333,
                          0.2333333333,
                          0.7583333333,
                          16.5,
                          3.125
                        ],
                        "sizemode": "area",
                        "sizeref": 0.0351493848857645,
                        "symbol": "circle"
                      },
                      "mode": "markers",
                      "name": "regular",
                      "orientation": "v",
                      "showlegend": true,
                      "type": "scatter",
                      "x": [
                        0.04166666667,
                        0.05,
                        0.2333333333,
                        0.01666666667,
                        0.09166666667,
                        0.05,
                        0.05833333333,
                        0.05833333333,
                        0.08333333333,
                        0.125,
                        0.01666666667
                      ],
                      "xaxis": "x",
                      "y": [
                        0.008333333333,
                        0,
                        0.008333333333,
                        0.008333333333,
                        0,
                        0.025,
                        0,
                        0.008333333333,
                        0,
                        0,
                        0
                      ],
                      "yaxis": "y"
                    },
                    {
                      "hovertemplate": "<b>%{hovertext}</b><br><br>DivType=territorial<br>Date=1915-12-19 00:00:00<br>SW120DeathSentences=%{x}<br>SW120execution=%{y}<br>SW120Casualties=%{marker.size}<extra></extra>",
                      "hovertext": [
                        "48",
                        "51",
                        "66",
                        "46"
                      ],
                      "ids": [
                        "48",
                        "51",
                        "66",
                        "46"
                      ],
                      "legendgroup": "territorial",
                      "marker": {
                        "color": "#00CC96",
                        "size": [
                          0.04166666667,
                          0.05,
                          0.1583333333,
                          2.691666667
                        ],
                        "sizemode": "area",
                        "sizeref": 0.0351493848857645,
                        "symbol": "circle"
                      },
                      "mode": "markers",
                      "name": "territorial",
                      "orientation": "v",
                      "showlegend": true,
                      "type": "scatter",
                      "x": [
                        0,
                        0.04166666667,
                        0,
                        0.025
                      ],
                      "xaxis": "x",
                      "y": [
                        0,
                        0,
                        0,
                        0
                      ],
                      "yaxis": "y"
                    }
                  ],
                  "name": "1915-12-19 00:00:00"
                },
                {
                  "data": [
                    {
                      "hovertemplate": "<b>%{hovertext}</b><br><br>DivType=new<br>Date=1915-12-20 00:00:00<br>SW120DeathSentences=%{x}<br>SW120execution=%{y}<br>SW120Casualties=%{marker.size}<extra></extra>",
                      "hovertext": [
                        "37",
                        "36",
                        "38",
                        "41"
                      ],
                      "ids": [
                        "37",
                        "36",
                        "38",
                        "41"
                      ],
                      "legendgroup": "new",
                      "marker": {
                        "color": "#636EFA",
                        "size": [
                          0,
                          0,
                          0,
                          0
                        ],
                        "sizemode": "area",
                        "sizeref": 0.0351493848857645,
                        "symbol": "circle"
                      },
                      "mode": "markers",
                      "name": "new",
                      "orientation": "v",
                      "showlegend": true,
                      "type": "scatter",
                      "x": [
                        0.04166666667,
                        0,
                        0,
                        0
                      ],
                      "xaxis": "x",
                      "y": [
                        0,
                        0,
                        0,
                        0
                      ],
                      "yaxis": "y"
                    },
                    {
                      "hovertemplate": "<b>%{hovertext}</b><br><br>DivType=territorial<br>Date=1915-12-20 00:00:00<br>SW120DeathSentences=%{x}<br>SW120execution=%{y}<br>SW120Casualties=%{marker.size}<extra></extra>",
                      "hovertext": [
                        "50",
                        "63",
                        "58",
                        "55",
                        "56"
                      ],
                      "ids": [
                        "50",
                        "63",
                        "58",
                        "55",
                        "56"
                      ],
                      "legendgroup": "territorial",
                      "marker": {
                        "color": "#00CC96",
                        "size": [
                          0,
                          0,
                          0,
                          0,
                          0
                        ],
                        "sizemode": "area",
                        "sizeref": 0.0351493848857645,
                        "symbol": "circle"
                      },
                      "mode": "markers",
                      "name": "territorial",
                      "orientation": "v",
                      "showlegend": true,
                      "type": "scatter",
                      "x": [
                        0,
                        0,
                        0,
                        0,
                        0
                      ],
                      "xaxis": "x",
                      "y": [
                        0,
                        0,
                        0,
                        0,
                        0
                      ],
                      "yaxis": "y"
                    }
                  ],
                  "name": "1915-12-20 00:00:00"
                },
                {
                  "data": [
                    {
                      "hovertemplate": "<b>%{hovertext}</b><br><br>DivType=new<br>Date=1916-01-18 00:00:00<br>SW120DeathSentences=%{x}<br>SW120execution=%{y}<br>SW120Casualties=%{marker.size}<extra></extra>",
                      "hovertext": [
                        "16",
                        "32",
                        "30",
                        "12",
                        "11",
                        "10",
                        "20",
                        "9",
                        "25",
                        "31",
                        "19",
                        "35",
                        "23",
                        "17",
                        "33",
                        "14",
                        "39",
                        "21",
                        "34",
                        "24",
                        "15",
                        "18",
                        "13"
                      ],
                      "ids": [
                        "16",
                        "32",
                        "30",
                        "12",
                        "11",
                        "10",
                        "20",
                        "9",
                        "25",
                        "31",
                        "19",
                        "35",
                        "23",
                        "17",
                        "33",
                        "14",
                        "39",
                        "21",
                        "34",
                        "24",
                        "15",
                        "18",
                        "13"
                      ],
                      "legendgroup": "new",
                      "marker": {
                        "color": "#636EFA",
                        "size": [
                          0,
                          0.05833333333,
                          0.03333333333,
                          5.316666667,
                          3.075,
                          2.908333333,
                          3.933333333,
                          12.16666667,
                          0.3333333333,
                          0.03333333333,
                          1.675,
                          0.05833333333,
                          0.325,
                          2.216666667,
                          0.03333333333,
                          7.225,
                          0.025,
                          3.783333333,
                          0.06666666667,
                          4.816666667,
                          10.74166667,
                          1.083333333,
                          1.483333333
                        ],
                        "sizemode": "area",
                        "sizeref": 0.0351493848857645,
                        "symbol": "circle"
                      },
                      "mode": "markers",
                      "name": "new",
                      "orientation": "v",
                      "showlegend": true,
                      "type": "scatter",
                      "x": [
                        0,
                        0,
                        0.01666666667,
                        0.008333333333,
                        0.05833333333,
                        0.09166666667,
                        0.01666666667,
                        0.01666666667,
                        0.008333333333,
                        0,
                        0,
                        0,
                        0.01666666667,
                        0.08333333333,
                        0,
                        0.05,
                        0,
                        0,
                        0,
                        0.025,
                        0.01666666667,
                        0,
                        0.1666666667
                      ],
                      "xaxis": "x",
                      "y": [
                        0,
                        0,
                        0,
                        0,
                        0,
                        0.008333333333,
                        0,
                        0,
                        0,
                        0,
                        0,
                        0,
                        0,
                        0,
                        0,
                        0,
                        0,
                        0,
                        0,
                        0,
                        0,
                        0,
                        0.01666666667
                      ],
                      "yaxis": "y"
                    },
                    {
                      "hovertemplate": "<b>%{hovertext}</b><br><br>DivType=regular<br>Date=1916-01-18 00:00:00<br>SW120DeathSentences=%{x}<br>SW120execution=%{y}<br>SW120Casualties=%{marker.size}<extra></extra>",
                      "hovertext": [
                        "6",
                        "28",
                        "3",
                        "8",
                        "7",
                        "2",
                        "27",
                        "5",
                        "1",
                        "29",
                        "4"
                      ],
                      "ids": [
                        "6",
                        "28",
                        "3",
                        "8",
                        "7",
                        "2",
                        "27",
                        "5",
                        "1",
                        "29",
                        "4"
                      ],
                      "legendgroup": "regular",
                      "marker": {
                        "color": "#EF553B",
                        "size": [
                          4.508333333,
                          3.583333333,
                          4.025,
                          2.25,
                          3.075,
                          3.875,
                          0.1833333333,
                          1.058333333,
                          5.225,
                          5.033333333,
                          0.6583333333
                        ],
                        "sizemode": "area",
                        "sizeref": 0.0351493848857645,
                        "symbol": "circle"
                      },
                      "mode": "markers",
                      "name": "regular",
                      "orientation": "v",
                      "showlegend": true,
                      "type": "scatter",
                      "x": [
                        0.01666666667,
                        0.05833333333,
                        0.04166666667,
                        0.03333333333,
                        0.01666666667,
                        0.05833333333,
                        0.04166666667,
                        0.09166666667,
                        0.09166666667,
                        0.1333333333,
                        0.075
                      ],
                      "xaxis": "x",
                      "y": [
                        0.008333333333,
                        0,
                        0.008333333333,
                        0.025,
                        0,
                        0,
                        0.008333333333,
                        0.008333333333,
                        0.01666666667,
                        0,
                        0
                      ],
                      "yaxis": "y"
                    },
                    {
                      "hovertemplate": "<b>%{hovertext}</b><br><br>DivType=territorial<br>Date=1916-01-18 00:00:00<br>SW120DeathSentences=%{x}<br>SW120execution=%{y}<br>SW120Casualties=%{marker.size}<extra></extra>",
                      "hovertext": [
                        "46",
                        "51",
                        "48",
                        "66"
                      ],
                      "ids": [
                        "46",
                        "51",
                        "48",
                        "66"
                      ],
                      "legendgroup": "territorial",
                      "marker": {
                        "color": "#00CC96",
                        "size": [
                          2.425,
                          0.03333333333,
                          0.05,
                          0.09166666667
                        ],
                        "sizemode": "area",
                        "sizeref": 0.0351493848857645,
                        "symbol": "circle"
                      },
                      "mode": "markers",
                      "name": "territorial",
                      "orientation": "v",
                      "showlegend": true,
                      "type": "scatter",
                      "x": [
                        0.01666666667,
                        0.03333333333,
                        0,
                        0
                      ],
                      "xaxis": "x",
                      "y": [
                        0,
                        0,
                        0,
                        0
                      ],
                      "yaxis": "y"
                    }
                  ],
                  "name": "1916-01-18 00:00:00"
                },
                {
                  "data": [
                    {
                      "hovertemplate": "<b>%{hovertext}</b><br><br>DivType=new<br>Date=1916-01-19 00:00:00<br>SW120DeathSentences=%{x}<br>SW120execution=%{y}<br>SW120Casualties=%{marker.size}<extra></extra>",
                      "hovertext": [
                        "41",
                        "38",
                        "37",
                        "36"
                      ],
                      "ids": [
                        "41",
                        "38",
                        "37",
                        "36"
                      ],
                      "legendgroup": "new",
                      "marker": {
                        "color": "#636EFA",
                        "size": [
                          0,
                          0,
                          0,
                          0
                        ],
                        "sizemode": "area",
                        "sizeref": 0.0351493848857645,
                        "symbol": "circle"
                      },
                      "mode": "markers",
                      "name": "new",
                      "orientation": "v",
                      "showlegend": true,
                      "type": "scatter",
                      "x": [
                        0,
                        0,
                        0.04166666667,
                        0.008333333333
                      ],
                      "xaxis": "x",
                      "y": [
                        0,
                        0,
                        0,
                        0
                      ],
                      "yaxis": "y"
                    },
                    {
                      "hovertemplate": "<b>%{hovertext}</b><br><br>DivType=territorial<br>Date=1916-01-19 00:00:00<br>SW120DeathSentences=%{x}<br>SW120execution=%{y}<br>SW120Casualties=%{marker.size}<extra></extra>",
                      "hovertext": [
                        "55",
                        "63",
                        "50",
                        "56",
                        "58"
                      ],
                      "ids": [
                        "55",
                        "63",
                        "50",
                        "56",
                        "58"
                      ],
                      "legendgroup": "territorial",
                      "marker": {
                        "color": "#00CC96",
                        "size": [
                          0,
                          0,
                          0,
                          0,
                          0
                        ],
                        "sizemode": "area",
                        "sizeref": 0.0351493848857645,
                        "symbol": "circle"
                      },
                      "mode": "markers",
                      "name": "territorial",
                      "orientation": "v",
                      "showlegend": true,
                      "type": "scatter",
                      "x": [
                        0,
                        0,
                        0,
                        0,
                        0
                      ],
                      "xaxis": "x",
                      "y": [
                        0,
                        0,
                        0,
                        0,
                        0
                      ],
                      "yaxis": "y"
                    }
                  ],
                  "name": "1916-01-19 00:00:00"
                },
                {
                  "data": [
                    {
                      "hovertemplate": "<b>%{hovertext}</b><br><br>DivType=new<br>Date=1916-02-17 00:00:00<br>SW120DeathSentences=%{x}<br>SW120execution=%{y}<br>SW120Casualties=%{marker.size}<extra></extra>",
                      "hovertext": [
                        "34",
                        "24",
                        "31",
                        "18",
                        "19",
                        "39",
                        "21",
                        "15",
                        "9",
                        "11",
                        "30",
                        "35",
                        "16",
                        "32",
                        "10",
                        "13",
                        "12",
                        "17",
                        "33",
                        "20",
                        "14",
                        "25",
                        "23"
                      ],
                      "ids": [
                        "34",
                        "24",
                        "31",
                        "18",
                        "19",
                        "39",
                        "21",
                        "15",
                        "9",
                        "11",
                        "30",
                        "35",
                        "16",
                        "32",
                        "10",
                        "13",
                        "12",
                        "17",
                        "33",
                        "20",
                        "14",
                        "25",
                        "23"
                      ],
                      "legendgroup": "new",
                      "marker": {
                        "color": "#636EFA",
                        "size": [
                          0.05833333333,
                          5.316666667,
                          0.04166666667,
                          1.066666667,
                          1.725,
                          0.01666666667,
                          4.033333333,
                          10.63333333,
                          12.125,
                          2.075,
                          0.025,
                          0.06666666667,
                          0,
                          0.125,
                          1.925,
                          1.633333333,
                          5.691666667,
                          1.808333333,
                          0.03333333333,
                          3.65,
                          7.483333333,
                          0.4666666667,
                          0.3666666667
                        ],
                        "sizemode": "area",
                        "sizeref": 0.0351493848857645,
                        "symbol": "circle"
                      },
                      "mode": "markers",
                      "name": "new",
                      "orientation": "v",
                      "showlegend": true,
                      "type": "scatter",
                      "x": [
                        0,
                        0.025,
                        0,
                        0.008333333333,
                        0,
                        0,
                        0.008333333333,
                        0.03333333333,
                        0.01666666667,
                        0.05,
                        0,
                        0,
                        0,
                        0,
                        0.1,
                        0.2416666667,
                        0.008333333333,
                        0.09166666667,
                        0.008333333333,
                        0.025,
                        0.05833333333,
                        0.008333333333,
                        0.01666666667
                      ],
                      "xaxis": "x",
                      "y": [
                        0,
                        0,
                        0,
                        0,
                        0,
                        0,
                        0,
                        0,
                        0,
                        0,
                        0,
                        0,
                        0,
                        0,
                        0.008333333333,
                        0.01666666667,
                        0,
                        0,
                        0,
                        0,
                        0,
                        0,
                        0
                      ],
                      "yaxis": "y"
                    },
                    {
                      "hovertemplate": "<b>%{hovertext}</b><br><br>DivType=regular<br>Date=1916-02-17 00:00:00<br>SW120DeathSentences=%{x}<br>SW120execution=%{y}<br>SW120Casualties=%{marker.size}<extra></extra>",
                      "hovertext": [
                        "5",
                        "6",
                        "27",
                        "8",
                        "3",
                        "28",
                        "2",
                        "7",
                        "1",
                        "4",
                        "29"
                      ],
                      "ids": [
                        "5",
                        "6",
                        "27",
                        "8",
                        "3",
                        "28",
                        "2",
                        "7",
                        "1",
                        "4",
                        "29"
                      ],
                      "legendgroup": "regular",
                      "marker": {
                        "color": "#EF553B",
                        "size": [
                          1.041666667,
                          4.516666667,
                          0.075,
                          2.141666667,
                          3.791666667,
                          3.233333333,
                          3.916666667,
                          3.016666667,
                          5.416666667,
                          0.5166666667,
                          4.158333333
                        ],
                        "sizemode": "area",
                        "sizeref": 0.0351493848857645,
                        "symbol": "circle"
                      },
                      "mode": "markers",
                      "name": "regular",
                      "orientation": "v",
                      "showlegend": true,
                      "type": "scatter",
                      "x": [
                        0.06666666667,
                        0.01666666667,
                        0.01666666667,
                        0.025,
                        0.05,
                        0.04166666667,
                        0.05833333333,
                        0.01666666667,
                        0.1,
                        0.05833333333,
                        0.1333333333
                      ],
                      "xaxis": "x",
                      "y": [
                        0,
                        0,
                        0,
                        0.01666666667,
                        0.008333333333,
                        0,
                        0,
                        0,
                        0.01666666667,
                        0,
                        0
                      ],
                      "yaxis": "y"
                    },
                    {
                      "hovertemplate": "<b>%{hovertext}</b><br><br>DivType=territorial<br>Date=1916-02-17 00:00:00<br>SW120DeathSentences=%{x}<br>SW120execution=%{y}<br>SW120Casualties=%{marker.size}<extra></extra>",
                      "hovertext": [
                        "51",
                        "66",
                        "46",
                        "48"
                      ],
                      "ids": [
                        "51",
                        "66",
                        "46",
                        "48"
                      ],
                      "legendgroup": "territorial",
                      "marker": {
                        "color": "#00CC96",
                        "size": [
                          0.01666666667,
                          0.1,
                          2.266666667,
                          0.06666666667
                        ],
                        "sizemode": "area",
                        "sizeref": 0.0351493848857645,
                        "symbol": "circle"
                      },
                      "mode": "markers",
                      "name": "territorial",
                      "orientation": "v",
                      "showlegend": true,
                      "type": "scatter",
                      "x": [
                        0.03333333333,
                        0,
                        0.025,
                        0
                      ],
                      "xaxis": "x",
                      "y": [
                        0,
                        0,
                        0,
                        0
                      ],
                      "yaxis": "y"
                    }
                  ],
                  "name": "1916-02-17 00:00:00"
                },
                {
                  "data": [
                    {
                      "hovertemplate": "<b>%{hovertext}</b><br><br>DivType=new<br>Date=1916-02-18 00:00:00<br>SW120DeathSentences=%{x}<br>SW120execution=%{y}<br>SW120Casualties=%{marker.size}<extra></extra>",
                      "hovertext": [
                        "38",
                        "37",
                        "41",
                        "36"
                      ],
                      "ids": [
                        "38",
                        "37",
                        "41",
                        "36"
                      ],
                      "legendgroup": "new",
                      "marker": {
                        "color": "#636EFA",
                        "size": [
                          0,
                          0,
                          0,
                          0
                        ],
                        "sizemode": "area",
                        "sizeref": 0.0351493848857645,
                        "symbol": "circle"
                      },
                      "mode": "markers",
                      "name": "new",
                      "orientation": "v",
                      "showlegend": true,
                      "type": "scatter",
                      "x": [
                        0.008333333333,
                        0.03333333333,
                        0,
                        0.01666666667
                      ],
                      "xaxis": "x",
                      "y": [
                        0,
                        0,
                        0,
                        0
                      ],
                      "yaxis": "y"
                    },
                    {
                      "hovertemplate": "<b>%{hovertext}</b><br><br>DivType=territorial<br>Date=1916-02-18 00:00:00<br>SW120DeathSentences=%{x}<br>SW120execution=%{y}<br>SW120Casualties=%{marker.size}<extra></extra>",
                      "hovertext": [
                        "50",
                        "56",
                        "55",
                        "58",
                        "63"
                      ],
                      "ids": [
                        "50",
                        "56",
                        "55",
                        "58",
                        "63"
                      ],
                      "legendgroup": "territorial",
                      "marker": {
                        "color": "#00CC96",
                        "size": [
                          0,
                          0,
                          0,
                          0,
                          0
                        ],
                        "sizemode": "area",
                        "sizeref": 0.0351493848857645,
                        "symbol": "circle"
                      },
                      "mode": "markers",
                      "name": "territorial",
                      "orientation": "v",
                      "showlegend": true,
                      "type": "scatter",
                      "x": [
                        0,
                        0,
                        0,
                        0,
                        0
                      ],
                      "xaxis": "x",
                      "y": [
                        0,
                        0,
                        0,
                        0,
                        0
                      ],
                      "yaxis": "y"
                    }
                  ],
                  "name": "1916-02-18 00:00:00"
                },
                {
                  "data": [
                    {
                      "hovertemplate": "<b>%{hovertext}</b><br><br>DivType=new<br>Date=1916-03-18 00:00:00<br>SW120DeathSentences=%{x}<br>SW120execution=%{y}<br>SW120Casualties=%{marker.size}<extra></extra>",
                      "hovertext": [
                        "16",
                        "9",
                        "11",
                        "35",
                        "14",
                        "39",
                        "21",
                        "19",
                        "23",
                        "15",
                        "24",
                        "32",
                        "17",
                        "13",
                        "12",
                        "20",
                        "33",
                        "18",
                        "30",
                        "34",
                        "10",
                        "31",
                        "25"
                      ],
                      "ids": [
                        "16",
                        "9",
                        "11",
                        "35",
                        "14",
                        "39",
                        "21",
                        "19",
                        "23",
                        "15",
                        "24",
                        "32",
                        "17",
                        "13",
                        "12",
                        "20",
                        "33",
                        "18",
                        "30",
                        "34",
                        "10",
                        "31",
                        "25"
                      ],
                      "legendgroup": "new",
                      "marker": {
                        "color": "#636EFA",
                        "size": [
                          0.125,
                          2.383333333,
                          1.433333333,
                          0.075,
                          2.733333333,
                          0.008333333333,
                          1.058333333,
                          0.525,
                          0.4666666667,
                          2,
                          2.2,
                          0.2333333333,
                          2.725,
                          1.275,
                          1.975,
                          1.483333333,
                          0.01666666667,
                          1,
                          0.03333333333,
                          0.04166666667,
                          1.866666667,
                          0.05,
                          0.425
                        ],
                        "sizemode": "area",
                        "sizeref": 0.0351493848857645,
                        "symbol": "circle"
                      },
                      "mode": "markers",
                      "name": "new",
                      "orientation": "v",
                      "showlegend": true,
                      "type": "scatter",
                      "x": [
                        0,
                        0.03333333333,
                        0.03333333333,
                        0,
                        0.05,
                        0,
                        0.01666666667,
                        0,
                        0.008333333333,
                        0.04166666667,
                        0.03333333333,
                        0.025,
                        0.1,
                        0.2416666667,
                        0.008333333333,
                        0.01666666667,
                        0.008333333333,
                        0.008333333333,
                        0.01666666667,
                        0,
                        0.08333333333,
                        0,
                        0.008333333333
                      ],
                      "xaxis": "x",
                      "y": [
                        0,
                        0,
                        0,
                        0,
                        0,
                        0,
                        0,
                        0,
                        0,
                        0.008333333333,
                        0,
                        0,
                        0,
                        0.01666666667,
                        0,
                        0,
                        0,
                        0,
                        0,
                        0,
                        0.008333333333,
                        0,
                        0
                      ],
                      "yaxis": "y"
                    },
                    {
                      "hovertemplate": "<b>%{hovertext}</b><br><br>DivType=regular<br>Date=1916-03-18 00:00:00<br>SW120DeathSentences=%{x}<br>SW120execution=%{y}<br>SW120Casualties=%{marker.size}<extra></extra>",
                      "hovertext": [
                        "2",
                        "8",
                        "1",
                        "3",
                        "29",
                        "27",
                        "5",
                        "6",
                        "28",
                        "4",
                        "7"
                      ],
                      "ids": [
                        "2",
                        "8",
                        "1",
                        "3",
                        "29",
                        "27",
                        "5",
                        "6",
                        "28",
                        "4",
                        "7"
                      ],
                      "legendgroup": "regular",
                      "marker": {
                        "color": "#EF553B",
                        "size": [
                          1.125,
                          0.7333333333,
                          1.066666667,
                          1.391666667,
                          2.983333333,
                          0.05,
                          0.875,
                          2.041666667,
                          0.08333333333,
                          0.5083333333,
                          0.675
                        ],
                        "sizemode": "area",
                        "sizeref": 0.0351493848857645,
                        "symbol": "circle"
                      },
                      "mode": "markers",
                      "name": "regular",
                      "orientation": "v",
                      "showlegend": true,
                      "type": "scatter",
                      "x": [
                        0.05,
                        0.008333333333,
                        0.1583333333,
                        0.04166666667,
                        0.08333333333,
                        0,
                        0.01666666667,
                        0.1,
                        0.008333333333,
                        0.01666666667,
                        0.008333333333
                      ],
                      "xaxis": "x",
                      "y": [
                        0,
                        0,
                        0.04166666667,
                        0.008333333333,
                        0,
                        0,
                        0,
                        0.01666666667,
                        0,
                        0,
                        0
                      ],
                      "yaxis": "y"
                    },
                    {
                      "hovertemplate": "<b>%{hovertext}</b><br><br>DivType=territorial<br>Date=1916-03-18 00:00:00<br>SW120DeathSentences=%{x}<br>SW120execution=%{y}<br>SW120Casualties=%{marker.size}<extra></extra>",
                      "hovertext": [
                        "46",
                        "51",
                        "48",
                        "66"
                      ],
                      "ids": [
                        "46",
                        "51",
                        "48",
                        "66"
                      ],
                      "legendgroup": "territorial",
                      "marker": {
                        "color": "#00CC96",
                        "size": [
                          0.1416666667,
                          0.008333333333,
                          0.05833333333,
                          0.06666666667
                        ],
                        "sizemode": "area",
                        "sizeref": 0.0351493848857645,
                        "symbol": "circle"
                      },
                      "mode": "markers",
                      "name": "territorial",
                      "orientation": "v",
                      "showlegend": true,
                      "type": "scatter",
                      "x": [
                        0.008333333333,
                        0.01666666667,
                        0,
                        0
                      ],
                      "xaxis": "x",
                      "y": [
                        0,
                        0,
                        0,
                        0
                      ],
                      "yaxis": "y"
                    }
                  ],
                  "name": "1916-03-18 00:00:00"
                },
                {
                  "data": [
                    {
                      "hovertemplate": "<b>%{hovertext}</b><br><br>DivType=new<br>Date=1916-03-19 00:00:00<br>SW120DeathSentences=%{x}<br>SW120execution=%{y}<br>SW120Casualties=%{marker.size}<extra></extra>",
                      "hovertext": [
                        "36",
                        "37",
                        "41",
                        "38"
                      ],
                      "ids": [
                        "36",
                        "37",
                        "41",
                        "38"
                      ],
                      "legendgroup": "new",
                      "marker": {
                        "color": "#636EFA",
                        "size": [
                          0,
                          0,
                          0,
                          0
                        ],
                        "sizemode": "area",
                        "sizeref": 0.0351493848857645,
                        "symbol": "circle"
                      },
                      "mode": "markers",
                      "name": "new",
                      "orientation": "v",
                      "showlegend": true,
                      "type": "scatter",
                      "x": [
                        0.04166666667,
                        0.025,
                        0,
                        0.03333333333
                      ],
                      "xaxis": "x",
                      "y": [
                        0.008333333333,
                        0,
                        0,
                        0
                      ],
                      "yaxis": "y"
                    },
                    {
                      "hovertemplate": "<b>%{hovertext}</b><br><br>DivType=territorial<br>Date=1916-03-19 00:00:00<br>SW120DeathSentences=%{x}<br>SW120execution=%{y}<br>SW120Casualties=%{marker.size}<extra></extra>",
                      "hovertext": [
                        "63",
                        "50",
                        "56",
                        "58",
                        "55"
                      ],
                      "ids": [
                        "63",
                        "50",
                        "56",
                        "58",
                        "55"
                      ],
                      "legendgroup": "territorial",
                      "marker": {
                        "color": "#00CC96",
                        "size": [
                          0,
                          0,
                          0,
                          0,
                          0
                        ],
                        "sizemode": "area",
                        "sizeref": 0.0351493848857645,
                        "symbol": "circle"
                      },
                      "mode": "markers",
                      "name": "territorial",
                      "orientation": "v",
                      "showlegend": true,
                      "type": "scatter",
                      "x": [
                        0,
                        0,
                        0,
                        0,
                        0
                      ],
                      "xaxis": "x",
                      "y": [
                        0,
                        0,
                        0,
                        0,
                        0
                      ],
                      "yaxis": "y"
                    }
                  ],
                  "name": "1916-03-19 00:00:00"
                },
                {
                  "data": [
                    {
                      "hovertemplate": "<b>%{hovertext}</b><br><br>DivType=new<br>Date=1916-04-17 00:00:00<br>SW120DeathSentences=%{x}<br>SW120execution=%{y}<br>SW120Casualties=%{marker.size}<extra></extra>",
                      "hovertext": [
                        "10",
                        "18",
                        "16",
                        "19",
                        "35",
                        "34",
                        "39",
                        "33",
                        "13",
                        "24",
                        "32",
                        "21",
                        "17",
                        "9",
                        "14",
                        "12",
                        "15",
                        "11",
                        "25",
                        "30",
                        "20",
                        "31",
                        "23"
                      ],
                      "ids": [
                        "10",
                        "18",
                        "16",
                        "19",
                        "35",
                        "34",
                        "39",
                        "33",
                        "13",
                        "24",
                        "32",
                        "21",
                        "17",
                        "9",
                        "14",
                        "12",
                        "15",
                        "11",
                        "25",
                        "30",
                        "20",
                        "31",
                        "23"
                      ],
                      "legendgroup": "new",
                      "marker": {
                        "color": "#636EFA",
                        "size": [
                          1.816666667,
                          0.925,
                          0.225,
                          0.4666666667,
                          0.375,
                          0.075,
                          0.008333333333,
                          0.025,
                          1.025,
                          2.15,
                          0.2916666667,
                          1.1,
                          3.3,
                          1.933333333,
                          2.725,
                          2.85,
                          1.783333333,
                          0.975,
                          0.3666666667,
                          0.04166666667,
                          2.091666667,
                          0.1,
                          0.4166666667
                        ],
                        "sizemode": "area",
                        "sizeref": 0.0351493848857645,
                        "symbol": "circle"
                      },
                      "mode": "markers",
                      "name": "new",
                      "orientation": "v",
                      "showlegend": true,
                      "type": "scatter",
                      "x": [
                        0.08333333333,
                        0.008333333333,
                        0,
                        0,
                        0,
                        0,
                        0,
                        0.01666666667,
                        0.225,
                        0.05,
                        0.04166666667,
                        0.025,
                        0.125,
                        0.04166666667,
                        0.01666666667,
                        0.01666666667,
                        0.1,
                        0.025,
                        0.01666666667,
                        0.05833333333,
                        0.008333333333,
                        0,
                        0.008333333333
                      ],
                      "xaxis": "x",
                      "y": [
                        0.008333333333,
                        0,
                        0,
                        0,
                        0,
                        0,
                        0,
                        0,
                        0.01666666667,
                        0.008333333333,
                        0,
                        0.008333333333,
                        0,
                        0,
                        0,
                        0.008333333333,
                        0.03333333333,
                        0,
                        0,
                        0,
                        0,
                        0,
                        0
                      ],
                      "yaxis": "y"
                    },
                    {
                      "hovertemplate": "<b>%{hovertext}</b><br><br>DivType=regular<br>Date=1916-04-17 00:00:00<br>SW120DeathSentences=%{x}<br>SW120execution=%{y}<br>SW120Casualties=%{marker.size}<extra></extra>",
                      "hovertext": [
                        "29",
                        "1",
                        "7",
                        "8",
                        "28",
                        "4",
                        "3",
                        "6",
                        "27",
                        "2",
                        "5"
                      ],
                      "ids": [
                        "29",
                        "1",
                        "7",
                        "8",
                        "28",
                        "4",
                        "3",
                        "6",
                        "27",
                        "2",
                        "5"
                      ],
                      "legendgroup": "regular",
                      "marker": {
                        "color": "#EF553B",
                        "size": [
                          2.075,
                          1.191666667,
                          0.6916666667,
                          0.65,
                          0.09166666667,
                          0.675,
                          2.108333333,
                          2.075,
                          0.05833333333,
                          0.975,
                          1.416666667
                        ],
                        "sizemode": "area",
                        "sizeref": 0.0351493848857645,
                        "symbol": "circle"
                      },
                      "mode": "markers",
                      "name": "regular",
                      "orientation": "v",
                      "showlegend": true,
                      "type": "scatter",
                      "x": [
                        0.01666666667,
                        0.1416666667,
                        0.008333333333,
                        0.008333333333,
                        0.008333333333,
                        0.05833333333,
                        0.03333333333,
                        0.1083333333,
                        0,
                        0.06666666667,
                        0
                      ],
                      "xaxis": "x",
                      "y": [
                        0,
                        0.04166666667,
                        0,
                        0,
                        0,
                        0,
                        0,
                        0.01666666667,
                        0,
                        0,
                        0
                      ],
                      "yaxis": "y"
                    },
                    {
                      "hovertemplate": "<b>%{hovertext}</b><br><br>DivType=territorial<br>Date=1916-04-17 00:00:00<br>SW120DeathSentences=%{x}<br>SW120execution=%{y}<br>SW120Casualties=%{marker.size}<extra></extra>",
                      "hovertext": [
                        "48",
                        "46",
                        "66",
                        "51"
                      ],
                      "ids": [
                        "48",
                        "46",
                        "66",
                        "51"
                      ],
                      "legendgroup": "territorial",
                      "marker": {
                        "color": "#00CC96",
                        "size": [
                          0.075,
                          0.05833333333,
                          0.03333333333,
                          0
                        ],
                        "sizemode": "area",
                        "sizeref": 0.0351493848857645,
                        "symbol": "circle"
                      },
                      "mode": "markers",
                      "name": "territorial",
                      "orientation": "v",
                      "showlegend": true,
                      "type": "scatter",
                      "x": [
                        0,
                        0.008333333333,
                        0,
                        0
                      ],
                      "xaxis": "x",
                      "y": [
                        0,
                        0,
                        0,
                        0
                      ],
                      "yaxis": "y"
                    }
                  ],
                  "name": "1916-04-17 00:00:00"
                },
                {
                  "data": [
                    {
                      "hovertemplate": "<b>%{hovertext}</b><br><br>DivType=new<br>Date=1916-04-18 00:00:00<br>SW120DeathSentences=%{x}<br>SW120execution=%{y}<br>SW120Casualties=%{marker.size}<extra></extra>",
                      "hovertext": [
                        "37",
                        "38",
                        "36",
                        "41"
                      ],
                      "ids": [
                        "37",
                        "38",
                        "36",
                        "41"
                      ],
                      "legendgroup": "new",
                      "marker": {
                        "color": "#636EFA",
                        "size": [
                          0,
                          0,
                          0,
                          0
                        ],
                        "sizemode": "area",
                        "sizeref": 0.0351493848857645,
                        "symbol": "circle"
                      },
                      "mode": "markers",
                      "name": "new",
                      "orientation": "v",
                      "showlegend": true,
                      "type": "scatter",
                      "x": [
                        0.008333333333,
                        0.03333333333,
                        0.075,
                        0
                      ],
                      "xaxis": "x",
                      "y": [
                        0,
                        0,
                        0.025,
                        0
                      ],
                      "yaxis": "y"
                    },
                    {
                      "hovertemplate": "<b>%{hovertext}</b><br><br>DivType=territorial<br>Date=1916-04-18 00:00:00<br>SW120DeathSentences=%{x}<br>SW120execution=%{y}<br>SW120Casualties=%{marker.size}<extra></extra>",
                      "hovertext": [
                        "55",
                        "50",
                        "58",
                        "56",
                        "63"
                      ],
                      "ids": [
                        "55",
                        "50",
                        "58",
                        "56",
                        "63"
                      ],
                      "legendgroup": "territorial",
                      "marker": {
                        "color": "#00CC96",
                        "size": [
                          0,
                          0,
                          0,
                          0,
                          0
                        ],
                        "sizemode": "area",
                        "sizeref": 0.0351493848857645,
                        "symbol": "circle"
                      },
                      "mode": "markers",
                      "name": "territorial",
                      "orientation": "v",
                      "showlegend": true,
                      "type": "scatter",
                      "x": [
                        0.008333333333,
                        0,
                        0,
                        0,
                        0
                      ],
                      "xaxis": "x",
                      "y": [
                        0,
                        0,
                        0,
                        0,
                        0
                      ],
                      "yaxis": "y"
                    }
                  ],
                  "name": "1916-04-18 00:00:00"
                },
                {
                  "data": [
                    {
                      "hovertemplate": "<b>%{hovertext}</b><br><br>DivType=new<br>Date=1916-05-17 00:00:00<br>SW120DeathSentences=%{x}<br>SW120execution=%{y}<br>SW120Casualties=%{marker.size}<extra></extra>",
                      "hovertext": [
                        "39",
                        "34",
                        "30",
                        "9",
                        "31",
                        "33",
                        "35",
                        "32",
                        "19",
                        "25",
                        "15",
                        "20",
                        "10",
                        "18",
                        "13",
                        "14",
                        "16",
                        "24",
                        "21",
                        "12",
                        "11",
                        "17",
                        "23"
                      ],
                      "ids": [
                        "39",
                        "34",
                        "30",
                        "9",
                        "31",
                        "33",
                        "35",
                        "32",
                        "19",
                        "25",
                        "15",
                        "20",
                        "10",
                        "18",
                        "13",
                        "14",
                        "16",
                        "24",
                        "21",
                        "12",
                        "11",
                        "17",
                        "23"
                      ],
                      "legendgroup": "new",
                      "marker": {
                        "color": "#636EFA",
                        "size": [
                          0.008333333333,
                          0.075,
                          0.04166666667,
                          1.575,
                          0.1583333333,
                          0.06666666667,
                          0.475,
                          0.4916666667,
                          0.475,
                          0.3583333333,
                          1.508333333,
                          2.516666667,
                          0.2,
                          1.041666667,
                          1.766666667,
                          2.025,
                          0.3083333333,
                          2.008333333,
                          0.8583333333,
                          3.5,
                          0.2416666667,
                          2.941666667,
                          0.3666666667
                        ],
                        "sizemode": "area",
                        "sizeref": 0.0351493848857645,
                        "symbol": "circle"
                      },
                      "mode": "markers",
                      "name": "new",
                      "orientation": "v",
                      "showlegend": true,
                      "type": "scatter",
                      "x": [
                        0,
                        0,
                        0.06666666667,
                        0.04166666667,
                        0,
                        0.05,
                        0,
                        0.05833333333,
                        0.008333333333,
                        0.01666666667,
                        0.1166666667,
                        0.01666666667,
                        0.03333333333,
                        0.008333333333,
                        0.1666666667,
                        0.03333333333,
                        0,
                        0.05833333333,
                        0.025,
                        0.06666666667,
                        0,
                        0.05833333333,
                        0.01666666667
                      ],
                      "xaxis": "x",
                      "y": [
                        0,
                        0,
                        0,
                        0,
                        0,
                        0,
                        0,
                        0,
                        0,
                        0,
                        0.03333333333,
                        0,
                        0,
                        0,
                        0,
                        0,
                        0,
                        0.008333333333,
                        0.008333333333,
                        0.025,
                        0,
                        0,
                        0
                      ],
                      "yaxis": "y"
                    },
                    {
                      "hovertemplate": "<b>%{hovertext}</b><br><br>DivType=regular<br>Date=1916-05-17 00:00:00<br>SW120DeathSentences=%{x}<br>SW120execution=%{y}<br>SW120Casualties=%{marker.size}<extra></extra>",
                      "hovertext": [
                        "8",
                        "7",
                        "5",
                        "29",
                        "6",
                        "4",
                        "3",
                        "28",
                        "1",
                        "2",
                        "27"
                      ],
                      "ids": [
                        "8",
                        "7",
                        "5",
                        "29",
                        "6",
                        "4",
                        "3",
                        "28",
                        "1",
                        "2",
                        "27"
                      ],
                      "legendgroup": "regular",
                      "marker": {
                        "color": "#EF553B",
                        "size": [
                          0.75,
                          0.6333333333,
                          1.625,
                          0.8583333333,
                          2.05,
                          0.65,
                          3.458333333,
                          0.09166666667,
                          1.316666667,
                          0.9583333333,
                          0.06666666667
                        ],
                        "sizemode": "area",
                        "sizeref": 0.0351493848857645,
                        "symbol": "circle"
                      },
                      "mode": "markers",
                      "name": "regular",
                      "orientation": "v",
                      "showlegend": true,
                      "type": "scatter",
                      "x": [
                        0.008333333333,
                        0.008333333333,
                        0.008333333333,
                        0.008333333333,
                        0.1166666667,
                        0.08333333333,
                        0.03333333333,
                        0.008333333333,
                        0.175,
                        0.1,
                        0
                      ],
                      "xaxis": "x",
                      "y": [
                        0,
                        0,
                        0.008333333333,
                        0,
                        0.01666666667,
                        0,
                        0,
                        0,
                        0.03333333333,
                        0.008333333333,
                        0
                      ],
                      "yaxis": "y"
                    },
                    {
                      "hovertemplate": "<b>%{hovertext}</b><br><br>DivType=territorial<br>Date=1916-05-17 00:00:00<br>SW120DeathSentences=%{x}<br>SW120execution=%{y}<br>SW120Casualties=%{marker.size}<extra></extra>",
                      "hovertext": [
                        "66",
                        "46",
                        "51",
                        "48"
                      ],
                      "ids": [
                        "66",
                        "46",
                        "51",
                        "48"
                      ],
                      "legendgroup": "territorial",
                      "marker": {
                        "color": "#00CC96",
                        "size": [
                          0.05833333333,
                          0.3166666667,
                          0.01666666667,
                          0.06666666667
                        ],
                        "sizemode": "area",
                        "sizeref": 0.0351493848857645,
                        "symbol": "circle"
                      },
                      "mode": "markers",
                      "name": "territorial",
                      "orientation": "v",
                      "showlegend": true,
                      "type": "scatter",
                      "x": [
                        0,
                        0.008333333333,
                        0,
                        0
                      ],
                      "xaxis": "x",
                      "y": [
                        0,
                        0,
                        0,
                        0
                      ],
                      "yaxis": "y"
                    }
                  ],
                  "name": "1916-05-17 00:00:00"
                },
                {
                  "data": [
                    {
                      "hovertemplate": "<b>%{hovertext}</b><br><br>DivType=new<br>Date=1916-05-18 00:00:00<br>SW120DeathSentences=%{x}<br>SW120execution=%{y}<br>SW120Casualties=%{marker.size}<extra></extra>",
                      "hovertext": [
                        "38",
                        "41",
                        "36",
                        "37"
                      ],
                      "ids": [
                        "38",
                        "41",
                        "36",
                        "37"
                      ],
                      "legendgroup": "new",
                      "marker": {
                        "color": "#636EFA",
                        "size": [
                          0,
                          0,
                          0,
                          0
                        ],
                        "sizemode": "area",
                        "sizeref": 0.0351493848857645,
                        "symbol": "circle"
                      },
                      "mode": "markers",
                      "name": "new",
                      "orientation": "v",
                      "showlegend": true,
                      "type": "scatter",
                      "x": [
                        0.03333333333,
                        0,
                        0.06666666667,
                        0
                      ],
                      "xaxis": "x",
                      "y": [
                        0,
                        0,
                        0.025,
                        0
                      ],
                      "yaxis": "y"
                    },
                    {
                      "hovertemplate": "<b>%{hovertext}</b><br><br>DivType=territorial<br>Date=1916-05-18 00:00:00<br>SW120DeathSentences=%{x}<br>SW120execution=%{y}<br>SW120Casualties=%{marker.size}<extra></extra>",
                      "hovertext": [
                        "63",
                        "56",
                        "58",
                        "55",
                        "50"
                      ],
                      "ids": [
                        "63",
                        "56",
                        "58",
                        "55",
                        "50"
                      ],
                      "legendgroup": "territorial",
                      "marker": {
                        "color": "#00CC96",
                        "size": [
                          0,
                          0,
                          0,
                          0,
                          0
                        ],
                        "sizemode": "area",
                        "sizeref": 0.0351493848857645,
                        "symbol": "circle"
                      },
                      "mode": "markers",
                      "name": "territorial",
                      "orientation": "v",
                      "showlegend": true,
                      "type": "scatter",
                      "x": [
                        0,
                        0,
                        0,
                        0.01666666667,
                        0
                      ],
                      "xaxis": "x",
                      "y": [
                        0,
                        0,
                        0,
                        0,
                        0
                      ],
                      "yaxis": "y"
                    }
                  ],
                  "name": "1916-05-18 00:00:00"
                },
                {
                  "data": [
                    {
                      "hovertemplate": "<b>%{hovertext}</b><br><br>DivType=new<br>Date=1916-06-16 00:00:00<br>SW120DeathSentences=%{x}<br>SW120execution=%{y}<br>SW120Casualties=%{marker.size}<extra></extra>",
                      "hovertext": [
                        "14",
                        "33",
                        "12",
                        "34",
                        "39",
                        "17",
                        "21",
                        "16",
                        "23",
                        "30",
                        "9",
                        "18",
                        "13",
                        "35",
                        "31",
                        "19",
                        "32",
                        "15",
                        "25",
                        "24",
                        "11",
                        "10",
                        "20"
                      ],
                      "ids": [
                        "14",
                        "33",
                        "12",
                        "34",
                        "39",
                        "17",
                        "21",
                        "16",
                        "23",
                        "30",
                        "9",
                        "18",
                        "13",
                        "35",
                        "31",
                        "19",
                        "32",
                        "15",
                        "25",
                        "24",
                        "11",
                        "10",
                        "20"
                      ],
                      "legendgroup": "new",
                      "marker": {
                        "color": "#636EFA",
                        "size": [
                          1.6,
                          0.09166666667,
                          3.075,
                          0.08333333333,
                          0.03333333333,
                          3.091666667,
                          0.7333333333,
                          0.4916666667,
                          0.2666666667,
                          0.04166666667,
                          2.05,
                          1.108333333,
                          2.766666667,
                          0.55,
                          0.2416666667,
                          0.3166666667,
                          0.475,
                          2.4,
                          0.8083333333,
                          2.708333333,
                          0.1166666667,
                          0.1,
                          2.425
                        ],
                        "sizemode": "area",
                        "sizeref": 0.0351493848857645,
                        "symbol": "circle"
                      },
                      "mode": "markers",
                      "name": "new",
                      "orientation": "v",
                      "showlegend": true,
                      "type": "scatter",
                      "x": [
                        0.025,
                        0.05,
                        0.075,
                        0,
                        0.008333333333,
                        0.05,
                        0.025,
                        0.05,
                        0.01666666667,
                        0.06666666667,
                        0.03333333333,
                        0,
                        0.075,
                        0.008333333333,
                        0,
                        0.03333333333,
                        0.06666666667,
                        0.1083333333,
                        0.01666666667,
                        0.075,
                        0,
                        0.01666666667,
                        0.025
                      ],
                      "xaxis": "x",
                      "y": [
                        0.008333333333,
                        0,
                        0.025,
                        0,
                        0,
                        0.008333333333,
                        0.008333333333,
                        0.008333333333,
                        0,
                        0,
                        0,
                        0,
                        0,
                        0,
                        0,
                        0.008333333333,
                        0,
                        0.03333333333,
                        0,
                        0.008333333333,
                        0,
                        0,
                        0
                      ],
                      "yaxis": "y"
                    },
                    {
                      "hovertemplate": "<b>%{hovertext}</b><br><br>DivType=regular<br>Date=1916-06-16 00:00:00<br>SW120DeathSentences=%{x}<br>SW120execution=%{y}<br>SW120Casualties=%{marker.size}<extra></extra>",
                      "hovertext": [
                        "1",
                        "5",
                        "2",
                        "3",
                        "27",
                        "6",
                        "4",
                        "28",
                        "8",
                        "29",
                        "7"
                      ],
                      "ids": [
                        "1",
                        "5",
                        "2",
                        "3",
                        "27",
                        "6",
                        "4",
                        "28",
                        "8",
                        "29",
                        "7"
                      ],
                      "legendgroup": "regular",
                      "marker": {
                        "color": "#EF553B",
                        "size": [
                          1.475,
                          1.808333333,
                          1.141666667,
                          4,
                          0.06666666667,
                          2,
                          0.7083333333,
                          0.075,
                          0.9083333333,
                          0.6083333333,
                          0.975
                        ],
                        "sizemode": "area",
                        "sizeref": 0.0351493848857645,
                        "symbol": "circle"
                      },
                      "mode": "markers",
                      "name": "regular",
                      "orientation": "v",
                      "showlegend": true,
                      "type": "scatter",
                      "x": [
                        0.2166666667,
                        0.03333333333,
                        0.1166666667,
                        0.01666666667,
                        0.008333333333,
                        0.1333333333,
                        0.1,
                        0,
                        0.025,
                        0.008333333333,
                        0.01666666667
                      ],
                      "xaxis": "x",
                      "y": [
                        0.05833333333,
                        0.008333333333,
                        0.008333333333,
                        0,
                        0,
                        0.01666666667,
                        0,
                        0,
                        0,
                        0,
                        0
                      ],
                      "yaxis": "y"
                    },
                    {
                      "hovertemplate": "<b>%{hovertext}</b><br><br>DivType=territorial<br>Date=1916-06-16 00:00:00<br>SW120DeathSentences=%{x}<br>SW120execution=%{y}<br>SW120Casualties=%{marker.size}<extra></extra>",
                      "hovertext": [
                        "48",
                        "66",
                        "46",
                        "51"
                      ],
                      "ids": [
                        "48",
                        "66",
                        "46",
                        "51"
                      ],
                      "legendgroup": "territorial",
                      "marker": {
                        "color": "#00CC96",
                        "size": [
                          0.05833333333,
                          0.04166666667,
                          0.4416666667,
                          0.06666666667
                        ],
                        "sizemode": "area",
                        "sizeref": 0.0351493848857645,
                        "symbol": "circle"
                      },
                      "mode": "markers",
                      "name": "territorial",
                      "orientation": "v",
                      "showlegend": true,
                      "type": "scatter",
                      "x": [
                        0,
                        0,
                        0,
                        0.008333333333
                      ],
                      "xaxis": "x",
                      "y": [
                        0,
                        0,
                        0,
                        0
                      ],
                      "yaxis": "y"
                    }
                  ],
                  "name": "1916-06-16 00:00:00"
                },
                {
                  "data": [
                    {
                      "hovertemplate": "<b>%{hovertext}</b><br><br>DivType=new<br>Date=1916-06-17 00:00:00<br>SW120DeathSentences=%{x}<br>SW120execution=%{y}<br>SW120Casualties=%{marker.size}<extra></extra>",
                      "hovertext": [
                        "41",
                        "36",
                        "37",
                        "38"
                      ],
                      "ids": [
                        "41",
                        "36",
                        "37",
                        "38"
                      ],
                      "legendgroup": "new",
                      "marker": {
                        "color": "#636EFA",
                        "size": [
                          0,
                          0,
                          0,
                          0
                        ],
                        "sizemode": "area",
                        "sizeref": 0.0351493848857645,
                        "symbol": "circle"
                      },
                      "mode": "markers",
                      "name": "new",
                      "orientation": "v",
                      "showlegend": true,
                      "type": "scatter",
                      "x": [
                        0,
                        0.05833333333,
                        0.008333333333,
                        0.025
                      ],
                      "xaxis": "x",
                      "y": [
                        0,
                        0.025,
                        0,
                        0
                      ],
                      "yaxis": "y"
                    },
                    {
                      "hovertemplate": "<b>%{hovertext}</b><br><br>DivType=territorial<br>Date=1916-06-17 00:00:00<br>SW120DeathSentences=%{x}<br>SW120execution=%{y}<br>SW120Casualties=%{marker.size}<extra></extra>",
                      "hovertext": [
                        "58",
                        "63",
                        "55",
                        "50",
                        "56"
                      ],
                      "ids": [
                        "58",
                        "63",
                        "55",
                        "50",
                        "56"
                      ],
                      "legendgroup": "territorial",
                      "marker": {
                        "color": "#00CC96",
                        "size": [
                          0,
                          0,
                          0,
                          0,
                          0
                        ],
                        "sizemode": "area",
                        "sizeref": 0.0351493848857645,
                        "symbol": "circle"
                      },
                      "mode": "markers",
                      "name": "territorial",
                      "orientation": "v",
                      "showlegend": true,
                      "type": "scatter",
                      "x": [
                        0,
                        0,
                        0.025,
                        0,
                        0
                      ],
                      "xaxis": "x",
                      "y": [
                        0,
                        0,
                        0,
                        0,
                        0
                      ],
                      "yaxis": "y"
                    }
                  ],
                  "name": "1916-06-17 00:00:00"
                },
                {
                  "data": [
                    {
                      "hovertemplate": "<b>%{hovertext}</b><br><br>DivType=new<br>Date=1916-07-16 00:00:00<br>SW120DeathSentences=%{x}<br>SW120execution=%{y}<br>SW120Casualties=%{marker.size}<extra></extra>",
                      "hovertext": [
                        "18",
                        "25",
                        "39",
                        "32",
                        "24",
                        "19",
                        "12",
                        "21",
                        "15",
                        "13",
                        "16",
                        "20",
                        "11",
                        "31",
                        "35",
                        "34",
                        "17",
                        "30",
                        "9",
                        "23",
                        "33",
                        "14",
                        "10"
                      ],
                      "ids": [
                        "18",
                        "25",
                        "39",
                        "32",
                        "24",
                        "19",
                        "12",
                        "21",
                        "15",
                        "13",
                        "16",
                        "20",
                        "11",
                        "31",
                        "35",
                        "34",
                        "17",
                        "30",
                        "9",
                        "23",
                        "33",
                        "14",
                        "10"
                      ],
                      "legendgroup": "new",
                      "marker": {
                        "color": "#636EFA",
                        "size": [
                          0.9916666667,
                          1.025,
                          0.06666666667,
                          0.4166666667,
                          2.65,
                          0.3,
                          2.875,
                          0.6916666667,
                          2.275,
                          2.9,
                          0.45,
                          2.666666667,
                          0.09166666667,
                          0.25,
                          0.775,
                          0.09166666667,
                          1.841666667,
                          0.03333333333,
                          1.966666667,
                          0.1333333333,
                          0.1,
                          1.266666667,
                          0.06666666667
                        ],
                        "sizemode": "area",
                        "sizeref": 0.0351493848857645,
                        "symbol": "circle"
                      },
                      "mode": "markers",
                      "name": "new",
                      "orientation": "v",
                      "showlegend": true,
                      "type": "scatter",
                      "x": [
                        0,
                        0.04166666667,
                        0.01666666667,
                        0.04166666667,
                        0.09166666667,
                        0.03333333333,
                        0.075,
                        0.01666666667,
                        0.1,
                        0.03333333333,
                        0.075,
                        0.025,
                        0,
                        0,
                        0.025,
                        0,
                        0.05,
                        0.08333333333,
                        0.01666666667,
                        0.04166666667,
                        0.06666666667,
                        0.05,
                        0.008333333333
                      ],
                      "xaxis": "x",
                      "y": [
                        0,
                        0.008333333333,
                        0,
                        0,
                        0.008333333333,
                        0.008333333333,
                        0.025,
                        0.008333333333,
                        0.025,
                        0,
                        0.008333333333,
                        0,
                        0,
                        0,
                        0.008333333333,
                        0,
                        0.008333333333,
                        0,
                        0,
                        0,
                        0,
                        0.008333333333,
                        0
                      ],
                      "yaxis": "y"
                    },
                    {
                      "hovertemplate": "<b>%{hovertext}</b><br><br>DivType=regular<br>Date=1916-07-16 00:00:00<br>SW120DeathSentences=%{x}<br>SW120execution=%{y}<br>SW120Casualties=%{marker.size}<extra></extra>",
                      "hovertext": [
                        "8",
                        "4",
                        "6",
                        "7",
                        "1",
                        "2",
                        "27",
                        "5",
                        "3",
                        "28",
                        "29"
                      ],
                      "ids": [
                        "8",
                        "4",
                        "6",
                        "7",
                        "1",
                        "2",
                        "27",
                        "5",
                        "3",
                        "28",
                        "29"
                      ],
                      "legendgroup": "regular",
                      "marker": {
                        "color": "#EF553B",
                        "size": [
                          0.9916666667,
                          0.5416666667,
                          1.683333333,
                          0.9,
                          1.9,
                          1.066666667,
                          0.05833333333,
                          1.8,
                          4.466666667,
                          0.06666666667,
                          1.041666667
                        ],
                        "sizemode": "area",
                        "sizeref": 0.0351493848857645,
                        "symbol": "circle"
                      },
                      "mode": "markers",
                      "name": "regular",
                      "orientation": "v",
                      "showlegend": true,
                      "type": "scatter",
                      "x": [
                        0.01666666667,
                        0.1083333333,
                        0.05,
                        0.01666666667,
                        0.1916666667,
                        0.09166666667,
                        0.008333333333,
                        0.03333333333,
                        0.04166666667,
                        0,
                        0.008333333333
                      ],
                      "xaxis": "x",
                      "y": [
                        0,
                        0,
                        0,
                        0,
                        0.05,
                        0.01666666667,
                        0,
                        0.008333333333,
                        0.008333333333,
                        0,
                        0
                      ],
                      "yaxis": "y"
                    },
                    {
                      "hovertemplate": "<b>%{hovertext}</b><br><br>DivType=territorial<br>Date=1916-07-16 00:00:00<br>SW120DeathSentences=%{x}<br>SW120execution=%{y}<br>SW120Casualties=%{marker.size}<extra></extra>",
                      "hovertext": [
                        "46",
                        "48",
                        "51",
                        "66"
                      ],
                      "ids": [
                        "46",
                        "48",
                        "51",
                        "66"
                      ],
                      "legendgroup": "territorial",
                      "marker": {
                        "color": "#00CC96",
                        "size": [
                          0.4416666667,
                          0.09166666667,
                          0.1583333333,
                          0.04166666667
                        ],
                        "sizemode": "area",
                        "sizeref": 0.0351493848857645,
                        "symbol": "circle"
                      },
                      "mode": "markers",
                      "name": "territorial",
                      "orientation": "v",
                      "showlegend": true,
                      "type": "scatter",
                      "x": [
                        0,
                        0.01666666667,
                        0.008333333333,
                        0
                      ],
                      "xaxis": "x",
                      "y": [
                        0,
                        0,
                        0,
                        0
                      ],
                      "yaxis": "y"
                    }
                  ],
                  "name": "1916-07-16 00:00:00"
                },
                {
                  "data": [
                    {
                      "hovertemplate": "<b>%{hovertext}</b><br><br>DivType=new<br>Date=1916-07-17 00:00:00<br>SW120DeathSentences=%{x}<br>SW120execution=%{y}<br>SW120Casualties=%{marker.size}<extra></extra>",
                      "hovertext": [
                        "37",
                        "36",
                        "41",
                        "38"
                      ],
                      "ids": [
                        "37",
                        "36",
                        "41",
                        "38"
                      ],
                      "legendgroup": "new",
                      "marker": {
                        "color": "#636EFA",
                        "size": [
                          0,
                          0,
                          0,
                          0
                        ],
                        "sizemode": "area",
                        "sizeref": 0.0351493848857645,
                        "symbol": "circle"
                      },
                      "mode": "markers",
                      "name": "new",
                      "orientation": "v",
                      "showlegend": true,
                      "type": "scatter",
                      "x": [
                        0.008333333333,
                        0.04166666667,
                        0.008333333333,
                        0
                      ],
                      "xaxis": "x",
                      "y": [
                        0,
                        0.01666666667,
                        0,
                        0
                      ],
                      "yaxis": "y"
                    },
                    {
                      "hovertemplate": "<b>%{hovertext}</b><br><br>DivType=territorial<br>Date=1916-07-17 00:00:00<br>SW120DeathSentences=%{x}<br>SW120execution=%{y}<br>SW120Casualties=%{marker.size}<extra></extra>",
                      "hovertext": [
                        "50",
                        "55",
                        "58",
                        "63",
                        "56"
                      ],
                      "ids": [
                        "50",
                        "55",
                        "58",
                        "63",
                        "56"
                      ],
                      "legendgroup": "territorial",
                      "marker": {
                        "color": "#00CC96",
                        "size": [
                          0,
                          0,
                          0,
                          0,
                          0
                        ],
                        "sizemode": "area",
                        "sizeref": 0.0351493848857645,
                        "symbol": "circle"
                      },
                      "mode": "markers",
                      "name": "territorial",
                      "orientation": "v",
                      "showlegend": true,
                      "type": "scatter",
                      "x": [
                        0,
                        0.025,
                        0,
                        0,
                        0
                      ],
                      "xaxis": "x",
                      "y": [
                        0,
                        0,
                        0,
                        0,
                        0
                      ],
                      "yaxis": "y"
                    }
                  ],
                  "name": "1916-07-17 00:00:00"
                },
                {
                  "data": [
                    {
                      "hovertemplate": "<b>%{hovertext}</b><br><br>DivType=new<br>Date=1916-08-15 00:00:00<br>SW120DeathSentences=%{x}<br>SW120execution=%{y}<br>SW120Casualties=%{marker.size}<extra></extra>",
                      "hovertext": [
                        "23",
                        "13",
                        "9",
                        "25",
                        "14",
                        "35",
                        "19",
                        "31",
                        "10",
                        "32",
                        "24",
                        "34",
                        "16",
                        "11",
                        "12",
                        "21",
                        "17",
                        "33",
                        "20",
                        "18",
                        "15",
                        "39",
                        "30"
                      ],
                      "ids": [
                        "23",
                        "13",
                        "9",
                        "25",
                        "14",
                        "35",
                        "19",
                        "31",
                        "10",
                        "32",
                        "24",
                        "34",
                        "16",
                        "11",
                        "12",
                        "21",
                        "17",
                        "33",
                        "20",
                        "18",
                        "15",
                        "39",
                        "30"
                      ],
                      "legendgroup": "new",
                      "marker": {
                        "color": "#636EFA",
                        "size": [
                          1.133333333,
                          3.316666667,
                          5.441666667,
                          3.241666667,
                          2.341666667,
                          0.525,
                          2.4,
                          0.2,
                          0.06666666667,
                          3.316666667,
                          2.891666667,
                          0.05833333333,
                          0.4333333333,
                          0.125,
                          7.416666667,
                          4.525,
                          6.158333333,
                          0.09166666667,
                          4.258333333,
                          5.9,
                          4.883333333,
                          0.35,
                          0.025
                        ],
                        "sizemode": "area",
                        "sizeref": 0.0351493848857645,
                        "symbol": "circle"
                      },
                      "mode": "markers",
                      "name": "new",
                      "orientation": "v",
                      "showlegend": true,
                      "type": "scatter",
                      "x": [
                        0.04166666667,
                        0.04166666667,
                        0.01666666667,
                        0.05833333333,
                        0.075,
                        0.025,
                        0.03333333333,
                        0.01666666667,
                        0.025,
                        0.03333333333,
                        0.06666666667,
                        0,
                        0.08333333333,
                        0,
                        0.075,
                        0.008333333333,
                        0.03333333333,
                        0.075,
                        0.025,
                        0.025,
                        0.05833333333,
                        0.01666666667,
                        0.04166666667
                      ],
                      "xaxis": "x",
                      "y": [
                        0,
                        0,
                        0,
                        0.025,
                        0.008333333333,
                        0.008333333333,
                        0.008333333333,
                        0,
                        0,
                        0,
                        0,
                        0,
                        0.008333333333,
                        0,
                        0.01666666667,
                        0,
                        0.008333333333,
                        0,
                        0,
                        0,
                        0,
                        0,
                        0
                      ],
                      "yaxis": "y"
                    },
                    {
                      "hovertemplate": "<b>%{hovertext}</b><br><br>DivType=regular<br>Date=1916-08-15 00:00:00<br>SW120DeathSentences=%{x}<br>SW120execution=%{y}<br>SW120Casualties=%{marker.size}<extra></extra>",
                      "hovertext": [
                        "6",
                        "4",
                        "29",
                        "28",
                        "2",
                        "1",
                        "3",
                        "7",
                        "8",
                        "27",
                        "5"
                      ],
                      "ids": [
                        "6",
                        "4",
                        "29",
                        "28",
                        "2",
                        "1",
                        "3",
                        "7",
                        "8",
                        "27",
                        "5"
                      ],
                      "legendgroup": "regular",
                      "marker": {
                        "color": "#EF553B",
                        "size": [
                          2.841666667,
                          6.133333333,
                          6.858333333,
                          0.1083333333,
                          1.541666667,
                          3.25,
                          7.75,
                          3.316666667,
                          7.325,
                          0.04166666667,
                          3.058333333
                        ],
                        "sizemode": "area",
                        "sizeref": 0.0351493848857645,
                        "symbol": "circle"
                      },
                      "mode": "markers",
                      "name": "regular",
                      "orientation": "v",
                      "showlegend": true,
                      "type": "scatter",
                      "x": [
                        0.08333333333,
                        0.05833333333,
                        0.025,
                        0,
                        0.075,
                        0.2416666667,
                        0.04166666667,
                        0.025,
                        0.01666666667,
                        0.008333333333,
                        0.03333333333
                      ],
                      "xaxis": "x",
                      "y": [
                        0.008333333333,
                        0,
                        0.008333333333,
                        0,
                        0.01666666667,
                        0.05833333333,
                        0.008333333333,
                        0,
                        0,
                        0,
                        0.008333333333
                      ],
                      "yaxis": "y"
                    },
                    {
                      "hovertemplate": "<b>%{hovertext}</b><br><br>DivType=territorial<br>Date=1916-08-15 00:00:00<br>SW120DeathSentences=%{x}<br>SW120execution=%{y}<br>SW120Casualties=%{marker.size}<extra></extra>",
                      "hovertext": [
                        "66",
                        "51",
                        "46",
                        "48"
                      ],
                      "ids": [
                        "66",
                        "51",
                        "46",
                        "48"
                      ],
                      "legendgroup": "territorial",
                      "marker": {
                        "color": "#00CC96",
                        "size": [
                          0.2166666667,
                          0.1916666667,
                          0.6833333333,
                          0.1416666667
                        ],
                        "sizemode": "area",
                        "sizeref": 0.0351493848857645,
                        "symbol": "circle"
                      },
                      "mode": "markers",
                      "name": "territorial",
                      "orientation": "v",
                      "showlegend": true,
                      "type": "scatter",
                      "x": [
                        0,
                        0.008333333333,
                        0,
                        0.025
                      ],
                      "xaxis": "x",
                      "y": [
                        0,
                        0,
                        0,
                        0.008333333333
                      ],
                      "yaxis": "y"
                    }
                  ],
                  "name": "1916-08-15 00:00:00"
                },
                {
                  "data": [
                    {
                      "hovertemplate": "<b>%{hovertext}</b><br><br>DivType=new<br>Date=1916-08-16 00:00:00<br>SW120DeathSentences=%{x}<br>SW120execution=%{y}<br>SW120Casualties=%{marker.size}<extra></extra>",
                      "hovertext": [
                        "36",
                        "41",
                        "38",
                        "37"
                      ],
                      "ids": [
                        "36",
                        "41",
                        "38",
                        "37"
                      ],
                      "legendgroup": "new",
                      "marker": {
                        "color": "#636EFA",
                        "size": [
                          0,
                          0,
                          0,
                          0
                        ],
                        "sizemode": "area",
                        "sizeref": 0.0351493848857645,
                        "symbol": "circle"
                      },
                      "mode": "markers",
                      "name": "new",
                      "orientation": "v",
                      "showlegend": true,
                      "type": "scatter",
                      "x": [
                        0.008333333333,
                        0.008333333333,
                        0,
                        0.01666666667
                      ],
                      "xaxis": "x",
                      "y": [
                        0,
                        0,
                        0,
                        0
                      ],
                      "yaxis": "y"
                    },
                    {
                      "hovertemplate": "<b>%{hovertext}</b><br><br>DivType=territorial<br>Date=1916-08-16 00:00:00<br>SW120DeathSentences=%{x}<br>SW120execution=%{y}<br>SW120Casualties=%{marker.size}<extra></extra>",
                      "hovertext": [
                        "56",
                        "63",
                        "58",
                        "55",
                        "50"
                      ],
                      "ids": [
                        "56",
                        "63",
                        "58",
                        "55",
                        "50"
                      ],
                      "legendgroup": "territorial",
                      "marker": {
                        "color": "#00CC96",
                        "size": [
                          0,
                          0,
                          0,
                          0,
                          0
                        ],
                        "sizemode": "area",
                        "sizeref": 0.0351493848857645,
                        "symbol": "circle"
                      },
                      "mode": "markers",
                      "name": "territorial",
                      "orientation": "v",
                      "showlegend": true,
                      "type": "scatter",
                      "x": [
                        0.008333333333,
                        0,
                        0,
                        0.06666666667,
                        0
                      ],
                      "xaxis": "x",
                      "y": [
                        0,
                        0,
                        0,
                        0.01666666667,
                        0
                      ],
                      "yaxis": "y"
                    }
                  ],
                  "name": "1916-08-16 00:00:00"
                },
                {
                  "data": [
                    {
                      "hovertemplate": "<b>%{hovertext}</b><br><br>DivType=new<br>Date=1916-09-14 00:00:00<br>SW120DeathSentences=%{x}<br>SW120execution=%{y}<br>SW120Casualties=%{marker.size}<extra></extra>",
                      "hovertext": [
                        "33",
                        "17",
                        "18",
                        "14",
                        "34",
                        "16",
                        "25",
                        "32",
                        "24",
                        "10",
                        "9",
                        "23",
                        "15",
                        "20",
                        "12",
                        "19",
                        "13",
                        "21",
                        "11",
                        "35",
                        "31",
                        "30",
                        "39"
                      ],
                      "ids": [
                        "33",
                        "17",
                        "18",
                        "14",
                        "34",
                        "16",
                        "25",
                        "32",
                        "24",
                        "10",
                        "9",
                        "23",
                        "15",
                        "20",
                        "12",
                        "19",
                        "13",
                        "21",
                        "11",
                        "35",
                        "31",
                        "30",
                        "39"
                      ],
                      "legendgroup": "new",
                      "marker": {
                        "color": "#636EFA",
                        "size": [
                          0.03333333333,
                          7.275,
                          7.65,
                          2.816666667,
                          0.05833333333,
                          0.5166666667,
                          3.575,
                          3.258333333,
                          3.358333333,
                          0.09166666667,
                          7.7,
                          1.458333333,
                          5.475,
                          4.016666667,
                          10.08333333,
                          2.858333333,
                          2.283333333,
                          5.166666667,
                          0.475,
                          1.341666667,
                          0.15,
                          0.025,
                          0.4333333333
                        ],
                        "sizemode": "area",
                        "sizeref": 0.0351493848857645,
                        "symbol": "circle"
                      },
                      "mode": "markers",
                      "name": "new",
                      "orientation": "v",
                      "showlegend": true,
                      "type": "scatter",
                      "x": [
                        0.05833333333,
                        0.025,
                        0.025,
                        0.05833333333,
                        0,
                        0.09166666667,
                        0.06666666667,
                        0.04166666667,
                        0.05,
                        0.03333333333,
                        0.03333333333,
                        0.04166666667,
                        0.025,
                        0.025,
                        0.03333333333,
                        0.025,
                        0.03333333333,
                        0.025,
                        0.01666666667,
                        0.04166666667,
                        0.03333333333,
                        0.03333333333,
                        0.03333333333
                      ],
                      "xaxis": "x",
                      "y": [
                        0,
                        0.008333333333,
                        0,
                        0.008333333333,
                        0,
                        0.008333333333,
                        0.025,
                        0,
                        0,
                        0,
                        0.008333333333,
                        0,
                        0,
                        0,
                        0,
                        0.008333333333,
                        0,
                        0.008333333333,
                        0,
                        0.01666666667,
                        0,
                        0,
                        0.01666666667
                      ],
                      "yaxis": "y"
                    },
                    {
                      "hovertemplate": "<b>%{hovertext}</b><br><br>DivType=regular<br>Date=1916-09-14 00:00:00<br>SW120DeathSentences=%{x}<br>SW120execution=%{y}<br>SW120Casualties=%{marker.size}<extra></extra>",
                      "hovertext": [
                        "5",
                        "8",
                        "29",
                        "7",
                        "1",
                        "6",
                        "4",
                        "27",
                        "3",
                        "28",
                        "2"
                      ],
                      "ids": [
                        "5",
                        "8",
                        "29",
                        "7",
                        "1",
                        "6",
                        "4",
                        "27",
                        "3",
                        "28",
                        "2"
                      ],
                      "legendgroup": "regular",
                      "marker": {
                        "color": "#EF553B",
                        "size": [
                          5.991666667,
                          8.258333333,
                          8.35,
                          3.9,
                          5.316666667,
                          4.466666667,
                          7.325,
                          0.03333333333,
                          8.308333333,
                          0.1666666667,
                          3.033333333
                        ],
                        "sizemode": "area",
                        "sizeref": 0.0351493848857645,
                        "symbol": "circle"
                      },
                      "mode": "markers",
                      "name": "regular",
                      "orientation": "v",
                      "showlegend": true,
                      "type": "scatter",
                      "x": [
                        0.03333333333,
                        0.025,
                        0.025,
                        0.03333333333,
                        0.1833333333,
                        0.09166666667,
                        0.05,
                        0.008333333333,
                        0.05,
                        0,
                        0.05
                      ],
                      "xaxis": "x",
                      "y": [
                        0,
                        0,
                        0.008333333333,
                        0,
                        0.05,
                        0.01666666667,
                        0,
                        0,
                        0.008333333333,
                        0,
                        0.008333333333
                      ],
                      "yaxis": "y"
                    },
                    {
                      "hovertemplate": "<b>%{hovertext}</b><br><br>DivType=territorial<br>Date=1916-09-14 00:00:00<br>SW120DeathSentences=%{x}<br>SW120execution=%{y}<br>SW120Casualties=%{marker.size}<extra></extra>",
                      "hovertext": [
                        "48",
                        "46",
                        "51",
                        "66"
                      ],
                      "ids": [
                        "48",
                        "46",
                        "51",
                        "66"
                      ],
                      "legendgroup": "territorial",
                      "marker": {
                        "color": "#00CC96",
                        "size": [
                          0.4333333333,
                          0.6083333333,
                          0.3083333333,
                          0.6416666667
                        ],
                        "sizemode": "area",
                        "sizeref": 0.0351493848857645,
                        "symbol": "circle"
                      },
                      "mode": "markers",
                      "name": "territorial",
                      "orientation": "v",
                      "showlegend": true,
                      "type": "scatter",
                      "x": [
                        0.025,
                        0.025,
                        0.01666666667,
                        0
                      ],
                      "xaxis": "x",
                      "y": [
                        0.008333333333,
                        0.008333333333,
                        0,
                        0
                      ],
                      "yaxis": "y"
                    }
                  ],
                  "name": "1916-09-14 00:00:00"
                },
                {
                  "data": [
                    {
                      "hovertemplate": "<b>%{hovertext}</b><br><br>DivType=new<br>Date=1916-09-15 00:00:00<br>SW120DeathSentences=%{x}<br>SW120execution=%{y}<br>SW120Casualties=%{marker.size}<extra></extra>",
                      "hovertext": [
                        "36",
                        "37",
                        "38",
                        "41"
                      ],
                      "ids": [
                        "36",
                        "37",
                        "38",
                        "41"
                      ],
                      "legendgroup": "new",
                      "marker": {
                        "color": "#636EFA",
                        "size": [
                          0,
                          0,
                          0,
                          0
                        ],
                        "sizemode": "area",
                        "sizeref": 0.0351493848857645,
                        "symbol": "circle"
                      },
                      "mode": "markers",
                      "name": "new",
                      "orientation": "v",
                      "showlegend": true,
                      "type": "scatter",
                      "x": [
                        0.008333333333,
                        0.01666666667,
                        0,
                        0.008333333333
                      ],
                      "xaxis": "x",
                      "y": [
                        0,
                        0,
                        0,
                        0
                      ],
                      "yaxis": "y"
                    },
                    {
                      "hovertemplate": "<b>%{hovertext}</b><br><br>DivType=territorial<br>Date=1916-09-15 00:00:00<br>SW120DeathSentences=%{x}<br>SW120execution=%{y}<br>SW120Casualties=%{marker.size}<extra></extra>",
                      "hovertext": [
                        "55",
                        "56",
                        "63",
                        "50",
                        "58"
                      ],
                      "ids": [
                        "55",
                        "56",
                        "63",
                        "50",
                        "58"
                      ],
                      "legendgroup": "territorial",
                      "marker": {
                        "color": "#00CC96",
                        "size": [
                          0,
                          0,
                          0,
                          0,
                          0
                        ],
                        "sizemode": "area",
                        "sizeref": 0.0351493848857645,
                        "symbol": "circle"
                      },
                      "mode": "markers",
                      "name": "territorial",
                      "orientation": "v",
                      "showlegend": true,
                      "type": "scatter",
                      "x": [
                        0.06666666667,
                        0.008333333333,
                        0,
                        0.01666666667,
                        0
                      ],
                      "xaxis": "x",
                      "y": [
                        0.01666666667,
                        0,
                        0,
                        0,
                        0
                      ],
                      "yaxis": "y"
                    }
                  ],
                  "name": "1916-09-15 00:00:00"
                },
                {
                  "data": [
                    {
                      "hovertemplate": "<b>%{hovertext}</b><br><br>DivType=new<br>Date=1916-10-14 00:00:00<br>SW120DeathSentences=%{x}<br>SW120execution=%{y}<br>SW120Casualties=%{marker.size}<extra></extra>",
                      "hovertext": [
                        "21",
                        "39",
                        "15",
                        "31",
                        "12",
                        "20",
                        "17",
                        "23",
                        "11",
                        "33",
                        "16",
                        "30",
                        "24",
                        "34",
                        "9",
                        "18",
                        "10",
                        "25",
                        "32",
                        "13",
                        "19",
                        "35",
                        "14"
                      ],
                      "ids": [
                        "21",
                        "39",
                        "15",
                        "31",
                        "12",
                        "20",
                        "17",
                        "23",
                        "11",
                        "33",
                        "16",
                        "30",
                        "24",
                        "34",
                        "9",
                        "18",
                        "10",
                        "25",
                        "32",
                        "13",
                        "19",
                        "35",
                        "14"
                      ],
                      "legendgroup": "new",
                      "marker": {
                        "color": "#636EFA",
                        "size": [
                          5.191666667,
                          0.5833333333,
                          6.433333333,
                          0.06666666667,
                          10.36666667,
                          8.525,
                          7.175,
                          1.483333333,
                          0.75,
                          0.008333333333,
                          1.108333333,
                          0.025,
                          5.475,
                          0.05,
                          7.341666667,
                          7.383333333,
                          0.1,
                          3.333333333,
                          3.366666667,
                          1.008333333,
                          3.125,
                          1.683333333,
                          7.991666667
                        ],
                        "sizemode": "area",
                        "sizeref": 0.0351493848857645,
                        "symbol": "circle"
                      },
                      "mode": "markers",
                      "name": "new",
                      "orientation": "v",
                      "showlegend": true,
                      "type": "scatter",
                      "x": [
                        0.01666666667,
                        0.025,
                        0.03333333333,
                        0.06666666667,
                        0.05,
                        0.01666666667,
                        0.025,
                        0.05,
                        0.025,
                        0.05833333333,
                        0.06666666667,
                        0.05,
                        0.05,
                        0,
                        0.03333333333,
                        0.03333333333,
                        0.03333333333,
                        0.06666666667,
                        0.03333333333,
                        0.04166666667,
                        0,
                        0.03333333333,
                        0.05
                      ],
                      "xaxis": "x",
                      "y": [
                        0.008333333333,
                        0.01666666667,
                        0,
                        0.025,
                        0,
                        0.008333333333,
                        0,
                        0,
                        0,
                        0,
                        0.008333333333,
                        0,
                        0,
                        0,
                        0.008333333333,
                        0,
                        0,
                        0.025,
                        0,
                        0,
                        0,
                        0.01666666667,
                        0
                      ],
                      "yaxis": "y"
                    },
                    {
                      "hovertemplate": "<b>%{hovertext}</b><br><br>DivType=regular<br>Date=1916-10-14 00:00:00<br>SW120DeathSentences=%{x}<br>SW120execution=%{y}<br>SW120Casualties=%{marker.size}<extra></extra>",
                      "hovertext": [
                        "7",
                        "27",
                        "2",
                        "5",
                        "28",
                        "3",
                        "8",
                        "1",
                        "29",
                        "6",
                        "4"
                      ],
                      "ids": [
                        "7",
                        "27",
                        "2",
                        "5",
                        "28",
                        "3",
                        "8",
                        "1",
                        "29",
                        "6",
                        "4"
                      ],
                      "legendgroup": "regular",
                      "marker": {
                        "color": "#EF553B",
                        "size": [
                          4.125,
                          0.05833333333,
                          3.4,
                          8.241666667,
                          0.4833333333,
                          10.24166667,
                          8.925,
                          10.35833333,
                          8.508333333,
                          7.433333333,
                          7.55
                        ],
                        "sizemode": "area",
                        "sizeref": 0.0351493848857645,
                        "symbol": "circle"
                      },
                      "mode": "markers",
                      "name": "regular",
                      "orientation": "v",
                      "showlegend": true,
                      "type": "scatter",
                      "x": [
                        0.025,
                        0,
                        0.025,
                        0.008333333333,
                        0,
                        0.09166666667,
                        0.03333333333,
                        0.1166666667,
                        0.025,
                        0.1083333333,
                        0.05
                      ],
                      "xaxis": "x",
                      "y": [
                        0,
                        0,
                        0.008333333333,
                        0,
                        0,
                        0.01666666667,
                        0,
                        0.025,
                        0.01666666667,
                        0.01666666667,
                        0.01666666667
                      ],
                      "yaxis": "y"
                    },
                    {
                      "hovertemplate": "<b>%{hovertext}</b><br><br>DivType=territorial<br>Date=1916-10-14 00:00:00<br>SW120DeathSentences=%{x}<br>SW120execution=%{y}<br>SW120Casualties=%{marker.size}<extra></extra>",
                      "hovertext": [
                        "46",
                        "66",
                        "48",
                        "51"
                      ],
                      "ids": [
                        "46",
                        "66",
                        "48",
                        "51"
                      ],
                      "legendgroup": "territorial",
                      "marker": {
                        "color": "#00CC96",
                        "size": [
                          0.55,
                          1.7,
                          0.7416666667,
                          0.3083333333
                        ],
                        "sizemode": "area",
                        "sizeref": 0.0351493848857645,
                        "symbol": "circle"
                      },
                      "mode": "markers",
                      "name": "territorial",
                      "orientation": "v",
                      "showlegend": true,
                      "type": "scatter",
                      "x": [
                        0.025,
                        0,
                        0.05,
                        0.01666666667
                      ],
                      "xaxis": "x",
                      "y": [
                        0.008333333333,
                        0,
                        0.01666666667,
                        0.008333333333
                      ],
                      "yaxis": "y"
                    }
                  ],
                  "name": "1916-10-14 00:00:00"
                },
                {
                  "data": [
                    {
                      "hovertemplate": "<b>%{hovertext}</b><br><br>DivType=new<br>Date=1916-10-15 00:00:00<br>SW120DeathSentences=%{x}<br>SW120execution=%{y}<br>SW120Casualties=%{marker.size}<extra></extra>",
                      "hovertext": [
                        "37",
                        "38",
                        "41",
                        "36"
                      ],
                      "ids": [
                        "37",
                        "38",
                        "41",
                        "36"
                      ],
                      "legendgroup": "new",
                      "marker": {
                        "color": "#636EFA",
                        "size": [
                          0,
                          0,
                          0,
                          0
                        ],
                        "sizemode": "area",
                        "sizeref": 0.0351493848857645,
                        "symbol": "circle"
                      },
                      "mode": "markers",
                      "name": "new",
                      "orientation": "v",
                      "showlegend": true,
                      "type": "scatter",
                      "x": [
                        0.01666666667,
                        0,
                        0.008333333333,
                        0.008333333333
                      ],
                      "xaxis": "x",
                      "y": [
                        0,
                        0,
                        0,
                        0
                      ],
                      "yaxis": "y"
                    },
                    {
                      "hovertemplate": "<b>%{hovertext}</b><br><br>DivType=territorial<br>Date=1916-10-15 00:00:00<br>SW120DeathSentences=%{x}<br>SW120execution=%{y}<br>SW120Casualties=%{marker.size}<extra></extra>",
                      "hovertext": [
                        "50",
                        "63",
                        "58",
                        "55",
                        "56"
                      ],
                      "ids": [
                        "50",
                        "63",
                        "58",
                        "55",
                        "56"
                      ],
                      "legendgroup": "territorial",
                      "marker": {
                        "color": "#00CC96",
                        "size": [
                          0,
                          0,
                          0,
                          0,
                          0
                        ],
                        "sizemode": "area",
                        "sizeref": 0.0351493848857645,
                        "symbol": "circle"
                      },
                      "mode": "markers",
                      "name": "territorial",
                      "orientation": "v",
                      "showlegend": true,
                      "type": "scatter",
                      "x": [
                        0.01666666667,
                        0,
                        0,
                        0.05833333333,
                        0.008333333333
                      ],
                      "xaxis": "x",
                      "y": [
                        0,
                        0,
                        0,
                        0.01666666667,
                        0
                      ],
                      "yaxis": "y"
                    }
                  ],
                  "name": "1916-10-15 00:00:00"
                },
                {
                  "data": [
                    {
                      "hovertemplate": "<b>%{hovertext}</b><br><br>DivType=new<br>Date=1916-11-13 00:00:00<br>SW120DeathSentences=%{x}<br>SW120execution=%{y}<br>SW120Casualties=%{marker.size}<extra></extra>",
                      "hovertext": [
                        "13",
                        "33",
                        "11",
                        "9",
                        "23",
                        "17",
                        "14",
                        "35",
                        "20",
                        "25",
                        "16",
                        "32",
                        "10",
                        "31",
                        "12",
                        "15",
                        "34",
                        "19",
                        "24",
                        "18",
                        "39",
                        "30",
                        "21"
                      ],
                      "ids": [
                        "13",
                        "33",
                        "11",
                        "9",
                        "23",
                        "17",
                        "14",
                        "35",
                        "20",
                        "25",
                        "16",
                        "32",
                        "10",
                        "31",
                        "12",
                        "15",
                        "34",
                        "19",
                        "24",
                        "18",
                        "39",
                        "30",
                        "21"
                      ],
                      "legendgroup": "new",
                      "marker": {
                        "color": "#636EFA",
                        "size": [
                          0.9083333333,
                          0.008333333333,
                          6.8,
                          9.291666667,
                          2.983333333,
                          7.266666667,
                          13.99166667,
                          1.533333333,
                          10.99166667,
                          3.525,
                          1.066666667,
                          3.375,
                          0.175,
                          0.05,
                          15.075,
                          8.658333333,
                          0.04166666667,
                          3.2,
                          8.858333333,
                          10.45833333,
                          0.6166666667,
                          0.01666666667,
                          5.4
                        ],
                        "sizemode": "area",
                        "sizeref": 0.0351493848857645,
                        "symbol": "circle"
                      },
                      "mode": "markers",
                      "name": "new",
                      "orientation": "v",
                      "showlegend": true,
                      "type": "scatter",
                      "x": [
                        0.06666666667,
                        0.075,
                        0.025,
                        0.05,
                        0.025,
                        0.04166666667,
                        0.06666666667,
                        0.025,
                        0.03333333333,
                        0.03333333333,
                        0.05833333333,
                        0.05,
                        0.03333333333,
                        0.06666666667,
                        0.05,
                        0.08333333333,
                        0.008333333333,
                        0.008333333333,
                        0.03333333333,
                        0.03333333333,
                        0.025,
                        0.025,
                        0.01666666667
                      ],
                      "xaxis": "x",
                      "y": [
                        0,
                        0,
                        0,
                        0.008333333333,
                        0.008333333333,
                        0.008333333333,
                        0.008333333333,
                        0.01666666667,
                        0.008333333333,
                        0.01666666667,
                        0.008333333333,
                        0,
                        0,
                        0.025,
                        0,
                        0.008333333333,
                        0,
                        0,
                        0,
                        0,
                        0.01666666667,
                        0,
                        0.008333333333
                      ],
                      "yaxis": "y"
                    },
                    {
                      "hovertemplate": "<b>%{hovertext}</b><br><br>DivType=regular<br>Date=1916-11-13 00:00:00<br>SW120DeathSentences=%{x}<br>SW120execution=%{y}<br>SW120Casualties=%{marker.size}<extra></extra>",
                      "hovertext": [
                        "3",
                        "4",
                        "5",
                        "1",
                        "2",
                        "29",
                        "28",
                        "8",
                        "27",
                        "6",
                        "7"
                      ],
                      "ids": [
                        "3",
                        "4",
                        "5",
                        "1",
                        "2",
                        "29",
                        "28",
                        "8",
                        "27",
                        "6",
                        "7"
                      ],
                      "legendgroup": "regular",
                      "marker": {
                        "color": "#EF553B",
                        "size": [
                          10.46666667,
                          9.233333333,
                          8.366666667,
                          11.275,
                          6.241666667,
                          9.516666667,
                          0.6416666667,
                          9.341666667,
                          0.4166666667,
                          9.975,
                          5.633333333
                        ],
                        "sizemode": "area",
                        "sizeref": 0.0351493848857645,
                        "symbol": "circle"
                      },
                      "mode": "markers",
                      "name": "regular",
                      "orientation": "v",
                      "showlegend": true,
                      "type": "scatter",
                      "x": [
                        0.09166666667,
                        0.04166666667,
                        0.008333333333,
                        0.09166666667,
                        0.03333333333,
                        0.025,
                        0.01666666667,
                        0.04166666667,
                        0,
                        0.1333333333,
                        0.025
                      ],
                      "xaxis": "x",
                      "y": [
                        0.008333333333,
                        0.01666666667,
                        0,
                        0.008333333333,
                        0,
                        0.01666666667,
                        0,
                        0,
                        0,
                        0.04166666667,
                        0
                      ],
                      "yaxis": "y"
                    },
                    {
                      "hovertemplate": "<b>%{hovertext}</b><br><br>DivType=territorial<br>Date=1916-11-13 00:00:00<br>SW120DeathSentences=%{x}<br>SW120execution=%{y}<br>SW120Casualties=%{marker.size}<extra></extra>",
                      "hovertext": [
                        "66",
                        "48",
                        "51",
                        "46"
                      ],
                      "ids": [
                        "66",
                        "48",
                        "51",
                        "46"
                      ],
                      "legendgroup": "territorial",
                      "marker": {
                        "color": "#00CC96",
                        "size": [
                          1.791666667,
                          0.7083333333,
                          0.2333333333,
                          0.625
                        ],
                        "sizemode": "area",
                        "sizeref": 0.0351493848857645,
                        "symbol": "circle"
                      },
                      "mode": "markers",
                      "name": "territorial",
                      "orientation": "v",
                      "showlegend": true,
                      "type": "scatter",
                      "x": [
                        0,
                        0.03333333333,
                        0.01666666667,
                        0.03333333333
                      ],
                      "xaxis": "x",
                      "y": [
                        0,
                        0.01666666667,
                        0.008333333333,
                        0.008333333333
                      ],
                      "yaxis": "y"
                    }
                  ],
                  "name": "1916-11-13 00:00:00"
                },
                {
                  "data": [
                    {
                      "hovertemplate": "<b>%{hovertext}</b><br><br>DivType=new<br>Date=1916-11-14 00:00:00<br>SW120DeathSentences=%{x}<br>SW120execution=%{y}<br>SW120Casualties=%{marker.size}<extra></extra>",
                      "hovertext": [
                        "38",
                        "36",
                        "41",
                        "37"
                      ],
                      "ids": [
                        "38",
                        "36",
                        "41",
                        "37"
                      ],
                      "legendgroup": "new",
                      "marker": {
                        "color": "#636EFA",
                        "size": [
                          0,
                          0,
                          0,
                          0
                        ],
                        "sizemode": "area",
                        "sizeref": 0.0351493848857645,
                        "symbol": "circle"
                      },
                      "mode": "markers",
                      "name": "new",
                      "orientation": "v",
                      "showlegend": true,
                      "type": "scatter",
                      "x": [
                        0.01666666667,
                        0,
                        0,
                        0.025
                      ],
                      "xaxis": "x",
                      "y": [
                        0,
                        0,
                        0,
                        0.008333333333
                      ],
                      "yaxis": "y"
                    },
                    {
                      "hovertemplate": "<b>%{hovertext}</b><br><br>DivType=territorial<br>Date=1916-11-14 00:00:00<br>SW120DeathSentences=%{x}<br>SW120execution=%{y}<br>SW120Casualties=%{marker.size}<extra></extra>",
                      "hovertext": [
                        "56",
                        "63",
                        "58",
                        "55",
                        "50"
                      ],
                      "ids": [
                        "56",
                        "63",
                        "58",
                        "55",
                        "50"
                      ],
                      "legendgroup": "territorial",
                      "marker": {
                        "color": "#00CC96",
                        "size": [
                          0,
                          0,
                          0,
                          0,
                          0
                        ],
                        "sizemode": "area",
                        "sizeref": 0.0351493848857645,
                        "symbol": "circle"
                      },
                      "mode": "markers",
                      "name": "territorial",
                      "orientation": "v",
                      "showlegend": true,
                      "type": "scatter",
                      "x": [
                        0.025,
                        0,
                        0,
                        0.075,
                        0.03333333333
                      ],
                      "xaxis": "x",
                      "y": [
                        0,
                        0,
                        0,
                        0.025,
                        0.008333333333
                      ],
                      "yaxis": "y"
                    }
                  ],
                  "name": "1916-11-14 00:00:00"
                },
                {
                  "data": [
                    {
                      "hovertemplate": "<b>%{hovertext}</b><br><br>DivType=new<br>Date=1916-12-13 00:00:00<br>SW120DeathSentences=%{x}<br>SW120execution=%{y}<br>SW120Casualties=%{marker.size}<extra></extra>",
                      "hovertext": [
                        "35",
                        "21",
                        "17",
                        "23",
                        "34",
                        "19",
                        "39",
                        "18",
                        "20",
                        "12",
                        "11",
                        "24",
                        "16",
                        "33",
                        "13",
                        "15",
                        "30",
                        "32",
                        "10",
                        "25",
                        "31",
                        "9",
                        "14"
                      ],
                      "ids": [
                        "35",
                        "21",
                        "17",
                        "23",
                        "34",
                        "19",
                        "39",
                        "18",
                        "20",
                        "12",
                        "11",
                        "24",
                        "16",
                        "33",
                        "13",
                        "15",
                        "30",
                        "32",
                        "10",
                        "25",
                        "31",
                        "9",
                        "14"
                      ],
                      "legendgroup": "new",
                      "marker": {
                        "color": "#636EFA",
                        "size": [
                          1.55,
                          1.516666667,
                          2.941666667,
                          2.05,
                          0.03333333333,
                          1.866666667,
                          0.5166666667,
                          7.008333333,
                          8.716666667,
                          9.491666667,
                          6.891666667,
                          9.683333333,
                          1.008333333,
                          0.008333333333,
                          0.525,
                          6.225,
                          0.01666666667,
                          0.4333333333,
                          0.1583333333,
                          2.566666667,
                          0.03333333333,
                          6.366666667,
                          12.86666667
                        ],
                        "sizemode": "area",
                        "sizeref": 0.0351493848857645,
                        "symbol": "circle"
                      },
                      "mode": "markers",
                      "name": "new",
                      "orientation": "v",
                      "showlegend": true,
                      "type": "scatter",
                      "x": [
                        0.04166666667,
                        0.025,
                        0.04166666667,
                        0.05,
                        0.008333333333,
                        0.01666666667,
                        0.03333333333,
                        0.008333333333,
                        0.04166666667,
                        0.04166666667,
                        0.025,
                        0.04166666667,
                        0.05833333333,
                        0.06666666667,
                        0.05833333333,
                        0.08333333333,
                        0.1,
                        0.05,
                        0.03333333333,
                        0.01666666667,
                        0.05,
                        0.04166666667,
                        0.05
                      ],
                      "xaxis": "x",
                      "y": [
                        0.025,
                        0.008333333333,
                        0.01666666667,
                        0.008333333333,
                        0,
                        0.008333333333,
                        0.025,
                        0,
                        0.008333333333,
                        0,
                        0,
                        0,
                        0.008333333333,
                        0,
                        0,
                        0.008333333333,
                        0.008333333333,
                        0,
                        0,
                        0.008333333333,
                        0.025,
                        0.008333333333,
                        0.008333333333
                      ],
                      "yaxis": "y"
                    },
                    {
                      "hovertemplate": "<b>%{hovertext}</b><br><br>DivType=regular<br>Date=1916-12-13 00:00:00<br>SW120DeathSentences=%{x}<br>SW120execution=%{y}<br>SW120Casualties=%{marker.size}<extra></extra>",
                      "hovertext": [
                        "4",
                        "2",
                        "1",
                        "6",
                        "3",
                        "28",
                        "7",
                        "29",
                        "5",
                        "8",
                        "27"
                      ],
                      "ids": [
                        "4",
                        "2",
                        "1",
                        "6",
                        "3",
                        "28",
                        "7",
                        "29",
                        "5",
                        "8",
                        "27"
                      ],
                      "legendgroup": "regular",
                      "marker": {
                        "color": "#EF553B",
                        "size": [
                          7.125,
                          6.566666667,
                          9.716666667,
                          10.40833333,
                          7.25,
                          0.725,
                          4.141666667,
                          5.758333333,
                          7.225,
                          7.633333333,
                          0.5
                        ],
                        "sizemode": "area",
                        "sizeref": 0.0351493848857645,
                        "symbol": "circle"
                      },
                      "mode": "markers",
                      "name": "regular",
                      "orientation": "v",
                      "showlegend": true,
                      "type": "scatter",
                      "x": [
                        0.05833333333,
                        0.025,
                        0.03333333333,
                        0.1416666667,
                        0.1083333333,
                        0.01666666667,
                        0.025,
                        0.025,
                        0.04166666667,
                        0.05,
                        0.008333333333
                      ],
                      "xaxis": "x",
                      "y": [
                        0.01666666667,
                        0,
                        0,
                        0.03333333333,
                        0.025,
                        0,
                        0,
                        0.008333333333,
                        0,
                        0,
                        0
                      ],
                      "yaxis": "y"
                    },
                    {
                      "hovertemplate": "<b>%{hovertext}</b><br><br>DivType=territorial<br>Date=1916-12-13 00:00:00<br>SW120DeathSentences=%{x}<br>SW120execution=%{y}<br>SW120Casualties=%{marker.size}<extra></extra>",
                      "hovertext": [
                        "46",
                        "66",
                        "48",
                        "51"
                      ],
                      "ids": [
                        "46",
                        "66",
                        "48",
                        "51"
                      ],
                      "legendgroup": "territorial",
                      "marker": {
                        "color": "#00CC96",
                        "size": [
                          0.375,
                          1.641666667,
                          0.6916666667,
                          0.2333333333
                        ],
                        "sizemode": "area",
                        "sizeref": 0.0351493848857645,
                        "symbol": "circle"
                      },
                      "mode": "markers",
                      "name": "territorial",
                      "orientation": "v",
                      "showlegend": true,
                      "type": "scatter",
                      "x": [
                        0.03333333333,
                        0,
                        0.025,
                        0.01666666667
                      ],
                      "xaxis": "x",
                      "y": [
                        0.008333333333,
                        0,
                        0.008333333333,
                        0.008333333333
                      ],
                      "yaxis": "y"
                    }
                  ],
                  "name": "1916-12-13 00:00:00"
                },
                {
                  "data": [
                    {
                      "hovertemplate": "<b>%{hovertext}</b><br><br>DivType=new<br>Date=1916-12-14 00:00:00<br>SW120DeathSentences=%{x}<br>SW120execution=%{y}<br>SW120Casualties=%{marker.size}<extra></extra>",
                      "hovertext": [
                        "41",
                        "37",
                        "36",
                        "38"
                      ],
                      "ids": [
                        "41",
                        "37",
                        "36",
                        "38"
                      ],
                      "legendgroup": "new",
                      "marker": {
                        "color": "#636EFA",
                        "size": [
                          0,
                          0,
                          0,
                          0
                        ],
                        "sizemode": "area",
                        "sizeref": 0.0351493848857645,
                        "symbol": "circle"
                      },
                      "mode": "markers",
                      "name": "new",
                      "orientation": "v",
                      "showlegend": true,
                      "type": "scatter",
                      "x": [
                        0.01666666667,
                        0.01666666667,
                        0.008333333333,
                        0.01666666667
                      ],
                      "xaxis": "x",
                      "y": [
                        0,
                        0.008333333333,
                        0,
                        0
                      ],
                      "yaxis": "y"
                    },
                    {
                      "hovertemplate": "<b>%{hovertext}</b><br><br>DivType=territorial<br>Date=1916-12-14 00:00:00<br>SW120DeathSentences=%{x}<br>SW120execution=%{y}<br>SW120Casualties=%{marker.size}<extra></extra>",
                      "hovertext": [
                        "58",
                        "55",
                        "50",
                        "56",
                        "63"
                      ],
                      "ids": [
                        "58",
                        "55",
                        "50",
                        "56",
                        "63"
                      ],
                      "legendgroup": "territorial",
                      "marker": {
                        "color": "#00CC96",
                        "size": [
                          0,
                          0,
                          0,
                          0,
                          0
                        ],
                        "sizemode": "area",
                        "sizeref": 0.0351493848857645,
                        "symbol": "circle"
                      },
                      "mode": "markers",
                      "name": "territorial",
                      "orientation": "v",
                      "showlegend": true,
                      "type": "scatter",
                      "x": [
                        0,
                        0.06666666667,
                        0.03333333333,
                        0.01666666667,
                        0.008333333333
                      ],
                      "xaxis": "x",
                      "y": [
                        0,
                        0.01666666667,
                        0.008333333333,
                        0,
                        0
                      ],
                      "yaxis": "y"
                    }
                  ],
                  "name": "1916-12-14 00:00:00"
                },
                {
                  "data": [
                    {
                      "hovertemplate": "<b>%{hovertext}</b><br><br>DivType=new<br>Date=1917-01-12 00:00:00<br>SW120DeathSentences=%{x}<br>SW120execution=%{y}<br>SW120Casualties=%{marker.size}<extra></extra>",
                      "hovertext": [
                        "21",
                        "31",
                        "25",
                        "10",
                        "35",
                        "13",
                        "11",
                        "19",
                        "39",
                        "30",
                        "14",
                        "12",
                        "17",
                        "16",
                        "18",
                        "34",
                        "24",
                        "23",
                        "33",
                        "20",
                        "15",
                        "9",
                        "32"
                      ],
                      "ids": [
                        "21",
                        "31",
                        "25",
                        "10",
                        "35",
                        "13",
                        "11",
                        "19",
                        "39",
                        "30",
                        "14",
                        "12",
                        "17",
                        "16",
                        "18",
                        "34",
                        "24",
                        "23",
                        "33",
                        "20",
                        "15",
                        "9",
                        "32"
                      ],
                      "legendgroup": "new",
                      "marker": {
                        "color": "#636EFA",
                        "size": [
                          2.508333333,
                          0.008333333333,
                          2.25,
                          0.15,
                          0.6833333333,
                          0.325,
                          7.408333333,
                          1.691666667,
                          0.4416666667,
                          0.01666666667,
                          12.09166667,
                          6.116666667,
                          1.708333333,
                          0.8833333333,
                          5.533333333,
                          0.01666666667,
                          9.816666667,
                          1.783333333,
                          0.008333333333,
                          8.391666667,
                          5.633333333,
                          3.941666667,
                          1.966666667
                        ],
                        "sizemode": "area",
                        "sizeref": 0.0351493848857645,
                        "symbol": "circle"
                      },
                      "mode": "markers",
                      "name": "new",
                      "orientation": "v",
                      "showlegend": true,
                      "type": "scatter",
                      "x": [
                        0.008333333333,
                        0.04166666667,
                        0.025,
                        0.03333333333,
                        0.025,
                        0.05,
                        0.008333333333,
                        0.05,
                        0.01666666667,
                        0.1166666667,
                        0.05,
                        0.025,
                        0.05,
                        0.05,
                        0.008333333333,
                        0.01666666667,
                        0.05,
                        0.05,
                        0.1083333333,
                        0.03333333333,
                        0.09166666667,
                        0.01666666667,
                        0.03333333333
                      ],
                      "xaxis": "x",
                      "y": [
                        0,
                        0.025,
                        0.01666666667,
                        0,
                        0.01666666667,
                        0,
                        0,
                        0.008333333333,
                        0.008333333333,
                        0.025,
                        0.008333333333,
                        0,
                        0.01666666667,
                        0.008333333333,
                        0,
                        0,
                        0,
                        0.01666666667,
                        0.008333333333,
                        0.008333333333,
                        0.008333333333,
                        0,
                        0
                      ],
                      "yaxis": "y"
                    },
                    {
                      "hovertemplate": "<b>%{hovertext}</b><br><br>DivType=regular<br>Date=1917-01-12 00:00:00<br>SW120DeathSentences=%{x}<br>SW120execution=%{y}<br>SW120Casualties=%{marker.size}<extra></extra>",
                      "hovertext": [
                        "8",
                        "28",
                        "29",
                        "7",
                        "2",
                        "27",
                        "3",
                        "6",
                        "4",
                        "5",
                        "1"
                      ],
                      "ids": [
                        "8",
                        "28",
                        "29",
                        "7",
                        "2",
                        "27",
                        "3",
                        "6",
                        "4",
                        "5",
                        "1"
                      ],
                      "legendgroup": "regular",
                      "marker": {
                        "color": "#EF553B",
                        "size": [
                          7.141666667,
                          0.7333333333,
                          4.941666667,
                          3.85,
                          5.641666667,
                          0.8666666667,
                          5.708333333,
                          8.783333333,
                          6.05,
                          4.933333333,
                          7.825
                        ],
                        "sizemode": "area",
                        "sizeref": 0.0351493848857645,
                        "symbol": "circle"
                      },
                      "mode": "markers",
                      "name": "regular",
                      "orientation": "v",
                      "showlegend": true,
                      "type": "scatter",
                      "x": [
                        0.05,
                        0.025,
                        0.03333333333,
                        0.01666666667,
                        0.04166666667,
                        0.008333333333,
                        0.1,
                        0.125,
                        0.05,
                        0.03333333333,
                        0.025
                      ],
                      "xaxis": "x",
                      "y": [
                        0,
                        0,
                        0.008333333333,
                        0,
                        0.008333333333,
                        0,
                        0.025,
                        0.025,
                        0.01666666667,
                        0,
                        0
                      ],
                      "yaxis": "y"
                    },
                    {
                      "hovertemplate": "<b>%{hovertext}</b><br><br>DivType=territorial<br>Date=1917-01-12 00:00:00<br>SW120DeathSentences=%{x}<br>SW120execution=%{y}<br>SW120Casualties=%{marker.size}<extra></extra>",
                      "hovertext": [
                        "66",
                        "48",
                        "51",
                        "46"
                      ],
                      "ids": [
                        "66",
                        "48",
                        "51",
                        "46"
                      ],
                      "legendgroup": "territorial",
                      "marker": {
                        "color": "#00CC96",
                        "size": [
                          1.2,
                          0.5,
                          0.6583333333,
                          0.2
                        ],
                        "sizemode": "area",
                        "sizeref": 0.0351493848857645,
                        "symbol": "circle"
                      },
                      "mode": "markers",
                      "name": "territorial",
                      "orientation": "v",
                      "showlegend": true,
                      "type": "scatter",
                      "x": [
                        0,
                        0.025,
                        0.008333333333,
                        0.008333333333
                      ],
                      "xaxis": "x",
                      "y": [
                        0,
                        0.008333333333,
                        0.008333333333,
                        0
                      ],
                      "yaxis": "y"
                    }
                  ],
                  "name": "1917-01-12 00:00:00"
                },
                {
                  "data": [
                    {
                      "hovertemplate": "<b>%{hovertext}</b><br><br>DivType=new<br>Date=1917-01-13 00:00:00<br>SW120DeathSentences=%{x}<br>SW120execution=%{y}<br>SW120Casualties=%{marker.size}<extra></extra>",
                      "hovertext": [
                        "38",
                        "36",
                        "37",
                        "41"
                      ],
                      "ids": [
                        "38",
                        "36",
                        "37",
                        "41"
                      ],
                      "legendgroup": "new",
                      "marker": {
                        "color": "#636EFA",
                        "size": [
                          0,
                          0,
                          0,
                          0
                        ],
                        "sizemode": "area",
                        "sizeref": 0.0351493848857645,
                        "symbol": "circle"
                      },
                      "mode": "markers",
                      "name": "new",
                      "orientation": "v",
                      "showlegend": true,
                      "type": "scatter",
                      "x": [
                        0.01666666667,
                        0.03333333333,
                        0.01666666667,
                        0.025
                      ],
                      "xaxis": "x",
                      "y": [
                        0,
                        0,
                        0.008333333333,
                        0.008333333333
                      ],
                      "yaxis": "y"
                    },
                    {
                      "hovertemplate": "<b>%{hovertext}</b><br><br>DivType=territorial<br>Date=1917-01-13 00:00:00<br>SW120DeathSentences=%{x}<br>SW120execution=%{y}<br>SW120Casualties=%{marker.size}<extra></extra>",
                      "hovertext": [
                        "56",
                        "58",
                        "55",
                        "50",
                        "63"
                      ],
                      "ids": [
                        "56",
                        "58",
                        "55",
                        "50",
                        "63"
                      ],
                      "legendgroup": "territorial",
                      "marker": {
                        "color": "#00CC96",
                        "size": [
                          0,
                          0,
                          0,
                          0,
                          0
                        ],
                        "sizemode": "area",
                        "sizeref": 0.0351493848857645,
                        "symbol": "circle"
                      },
                      "mode": "markers",
                      "name": "territorial",
                      "orientation": "v",
                      "showlegend": true,
                      "type": "scatter",
                      "x": [
                        0.03333333333,
                        0,
                        0.05833333333,
                        0.04166666667,
                        0.025
                      ],
                      "xaxis": "x",
                      "y": [
                        0,
                        0,
                        0.01666666667,
                        0.01666666667,
                        0.008333333333
                      ],
                      "yaxis": "y"
                    }
                  ],
                  "name": "1917-01-13 00:00:00"
                },
                {
                  "data": [
                    {
                      "hovertemplate": "<b>%{hovertext}</b><br><br>DivType=new<br>Date=1917-02-11 00:00:00<br>SW120DeathSentences=%{x}<br>SW120execution=%{y}<br>SW120Casualties=%{marker.size}<extra></extra>",
                      "hovertext": [
                        "11",
                        "24",
                        "34",
                        "9",
                        "12",
                        "23",
                        "16",
                        "17",
                        "10",
                        "20",
                        "33",
                        "21",
                        "13",
                        "31",
                        "18",
                        "14",
                        "19",
                        "15",
                        "30",
                        "32",
                        "25",
                        "39",
                        "35"
                      ],
                      "ids": [
                        "11",
                        "24",
                        "34",
                        "9",
                        "12",
                        "23",
                        "16",
                        "17",
                        "10",
                        "20",
                        "33",
                        "21",
                        "13",
                        "31",
                        "18",
                        "14",
                        "19",
                        "15",
                        "30",
                        "32",
                        "25",
                        "39",
                        "35"
                      ],
                      "legendgroup": "new",
                      "marker": {
                        "color": "#636EFA",
                        "size": [
                          8.058333333,
                          6.75,
                          0.01666666667,
                          3.9,
                          5.733333333,
                          1.741666667,
                          0.1916666667,
                          1.55,
                          0.1333333333,
                          4.358333333,
                          0.008333333333,
                          2.433333333,
                          0.8083333333,
                          0,
                          5.533333333,
                          6.833333333,
                          1.45,
                          3.833333333,
                          0.01666666667,
                          1.816666667,
                          2.058333333,
                          0.3416666667,
                          0.2583333333
                        ],
                        "sizemode": "area",
                        "sizeref": 0.0351493848857645,
                        "symbol": "circle"
                      },
                      "mode": "markers",
                      "name": "new",
                      "orientation": "v",
                      "showlegend": true,
                      "type": "scatter",
                      "x": [
                        0.008333333333,
                        0.04166666667,
                        0.025,
                        0.025,
                        0.008333333333,
                        0.05,
                        0.03333333333,
                        0.05833333333,
                        0.025,
                        0.025,
                        0.1166666667,
                        0.008333333333,
                        0.04166666667,
                        0.008333333333,
                        0.008333333333,
                        0.05833333333,
                        0.05833333333,
                        0.08333333333,
                        0.1,
                        0.05833333333,
                        0.04166666667,
                        0.025,
                        0.275
                      ],
                      "xaxis": "x",
                      "y": [
                        0,
                        0,
                        0,
                        0,
                        0,
                        0.01666666667,
                        0,
                        0.01666666667,
                        0,
                        0,
                        0.01666666667,
                        0,
                        0,
                        0,
                        0,
                        0.008333333333,
                        0.008333333333,
                        0.008333333333,
                        0.025,
                        0.008333333333,
                        0.01666666667,
                        0.008333333333,
                        0.04166666667
                      ],
                      "yaxis": "y"
                    },
                    {
                      "hovertemplate": "<b>%{hovertext}</b><br><br>DivType=regular<br>Date=1917-02-11 00:00:00<br>SW120DeathSentences=%{x}<br>SW120execution=%{y}<br>SW120Casualties=%{marker.size}<extra></extra>",
                      "hovertext": [
                        "27",
                        "3",
                        "2",
                        "7",
                        "29",
                        "5",
                        "28",
                        "8",
                        "1",
                        "6",
                        "4"
                      ],
                      "ids": [
                        "27",
                        "3",
                        "2",
                        "7",
                        "29",
                        "5",
                        "28",
                        "8",
                        "1",
                        "6",
                        "4"
                      ],
                      "legendgroup": "regular",
                      "marker": {
                        "color": "#EF553B",
                        "size": [
                          0.9166666667,
                          3.191666667,
                          5.066666667,
                          3.475,
                          4.616666667,
                          2.541666667,
                          0.475,
                          6.291666667,
                          2.525,
                          5.825,
                          6.158333333
                        ],
                        "sizemode": "area",
                        "sizeref": 0.0351493848857645,
                        "symbol": "circle"
                      },
                      "mode": "markers",
                      "name": "regular",
                      "orientation": "v",
                      "showlegend": true,
                      "type": "scatter",
                      "x": [
                        0.008333333333,
                        0.08333333333,
                        0.04166666667,
                        0.025,
                        0.03333333333,
                        0.05,
                        0.04166666667,
                        0.025,
                        0.01666666667,
                        0.09166666667,
                        0.04166666667
                      ],
                      "xaxis": "x",
                      "y": [
                        0,
                        0.025,
                        0.008333333333,
                        0,
                        0,
                        0,
                        0,
                        0,
                        0,
                        0.025,
                        0.008333333333
                      ],
                      "yaxis": "y"
                    },
                    {
                      "hovertemplate": "<b>%{hovertext}</b><br><br>DivType=territorial<br>Date=1917-02-11 00:00:00<br>SW120DeathSentences=%{x}<br>SW120execution=%{y}<br>SW120Casualties=%{marker.size}<extra></extra>",
                      "hovertext": [
                        "46",
                        "66",
                        "48",
                        "51"
                      ],
                      "ids": [
                        "46",
                        "66",
                        "48",
                        "51"
                      ],
                      "legendgroup": "territorial",
                      "marker": {
                        "color": "#00CC96",
                        "size": [
                          0.1583333333,
                          0.1666666667,
                          0.1833333333,
                          0.6166666667
                        ],
                        "sizemode": "area",
                        "sizeref": 0.0351493848857645,
                        "symbol": "circle"
                      },
                      "mode": "markers",
                      "name": "territorial",
                      "orientation": "v",
                      "showlegend": true,
                      "type": "scatter",
                      "x": [
                        0.008333333333,
                        0,
                        0,
                        0
                      ],
                      "xaxis": "x",
                      "y": [
                        0,
                        0,
                        0,
                        0
                      ],
                      "yaxis": "y"
                    }
                  ],
                  "name": "1917-02-11 00:00:00"
                },
                {
                  "data": [
                    {
                      "hovertemplate": "<b>%{hovertext}</b><br><br>DivType=new<br>Date=1917-02-12 00:00:00<br>SW120DeathSentences=%{x}<br>SW120execution=%{y}<br>SW120Casualties=%{marker.size}<extra></extra>",
                      "hovertext": [
                        "37",
                        "38",
                        "36",
                        "41"
                      ],
                      "ids": [
                        "37",
                        "38",
                        "36",
                        "41"
                      ],
                      "legendgroup": "new",
                      "marker": {
                        "color": "#636EFA",
                        "size": [
                          0,
                          0,
                          0,
                          0
                        ],
                        "sizemode": "area",
                        "sizeref": 0.0351493848857645,
                        "symbol": "circle"
                      },
                      "mode": "markers",
                      "name": "new",
                      "orientation": "v",
                      "showlegend": true,
                      "type": "scatter",
                      "x": [
                        0.008333333333,
                        0.025,
                        0.03333333333,
                        0.025
                      ],
                      "xaxis": "x",
                      "y": [
                        0.008333333333,
                        0,
                        0,
                        0.008333333333
                      ],
                      "yaxis": "y"
                    },
                    {
                      "hovertemplate": "<b>%{hovertext}</b><br><br>DivType=territorial<br>Date=1917-02-12 00:00:00<br>SW120DeathSentences=%{x}<br>SW120execution=%{y}<br>SW120Casualties=%{marker.size}<extra></extra>",
                      "hovertext": [
                        "56",
                        "58",
                        "63",
                        "50",
                        "55"
                      ],
                      "ids": [
                        "56",
                        "58",
                        "63",
                        "50",
                        "55"
                      ],
                      "legendgroup": "territorial",
                      "marker": {
                        "color": "#00CC96",
                        "size": [
                          0,
                          0,
                          0,
                          0,
                          0
                        ],
                        "sizemode": "area",
                        "sizeref": 0.0351493848857645,
                        "symbol": "circle"
                      },
                      "mode": "markers",
                      "name": "territorial",
                      "orientation": "v",
                      "showlegend": true,
                      "type": "scatter",
                      "x": [
                        0.03333333333,
                        0,
                        0.025,
                        0.04166666667,
                        0.06666666667
                      ],
                      "xaxis": "x",
                      "y": [
                        0,
                        0,
                        0.008333333333,
                        0.01666666667,
                        0.01666666667
                      ],
                      "yaxis": "y"
                    }
                  ],
                  "name": "1917-02-12 00:00:00"
                },
                {
                  "data": [
                    {
                      "hovertemplate": "<b>%{hovertext}</b><br><br>DivType=new<br>Date=1917-03-13 00:00:00<br>SW120DeathSentences=%{x}<br>SW120execution=%{y}<br>SW120Casualties=%{marker.size}<extra></extra>",
                      "hovertext": [
                        "18",
                        "20",
                        "10",
                        "25",
                        "31",
                        "14",
                        "16",
                        "17",
                        "21",
                        "15",
                        "24",
                        "12",
                        "39",
                        "34",
                        "19",
                        "11",
                        "30",
                        "23",
                        "33",
                        "9",
                        "13",
                        "32",
                        "35"
                      ],
                      "ids": [
                        "18",
                        "20",
                        "10",
                        "25",
                        "31",
                        "14",
                        "16",
                        "17",
                        "21",
                        "15",
                        "24",
                        "12",
                        "39",
                        "34",
                        "19",
                        "11",
                        "30",
                        "23",
                        "33",
                        "9",
                        "13",
                        "32",
                        "35"
                      ],
                      "legendgroup": "new",
                      "marker": {
                        "color": "#636EFA",
                        "size": [
                          2.608333333,
                          1.45,
                          0.05833333333,
                          1.85,
                          0,
                          0.7583333333,
                          0.2333333333,
                          1.983333333,
                          2.166666667,
                          1.275,
                          3.5,
                          1.033333333,
                          0.3083333333,
                          0.03333333333,
                          1.675,
                          2.175,
                          0.01666666667,
                          0.2333333333,
                          0,
                          2.033333333,
                          3.483333333,
                          1.958333333,
                          0.1666666667
                        ],
                        "sizemode": "area",
                        "sizeref": 0.0351493848857645,
                        "symbol": "circle"
                      },
                      "mode": "markers",
                      "name": "new",
                      "orientation": "v",
                      "showlegend": true,
                      "type": "scatter",
                      "x": [
                        0.008333333333,
                        0.008333333333,
                        0.025,
                        0.04166666667,
                        0.008333333333,
                        0.01666666667,
                        0.01666666667,
                        0.06666666667,
                        0.008333333333,
                        0.075,
                        0.05,
                        0.008333333333,
                        0.01666666667,
                        0.025,
                        0.05,
                        0.025,
                        0.1,
                        0.05,
                        0.1,
                        0.008333333333,
                        0.04166666667,
                        0.06666666667,
                        0.2666666667
                      ],
                      "xaxis": "x",
                      "y": [
                        0,
                        0,
                        0,
                        0.01666666667,
                        0,
                        0,
                        0,
                        0.025,
                        0,
                        0,
                        0,
                        0,
                        0.008333333333,
                        0,
                        0.008333333333,
                        0,
                        0.03333333333,
                        0.01666666667,
                        0.025,
                        0,
                        0.025,
                        0.025,
                        0.03333333333
                      ],
                      "yaxis": "y"
                    },
                    {
                      "hovertemplate": "<b>%{hovertext}</b><br><br>DivType=regular<br>Date=1917-03-13 00:00:00<br>SW120DeathSentences=%{x}<br>SW120execution=%{y}<br>SW120Casualties=%{marker.size}<extra></extra>",
                      "hovertext": [
                        "7",
                        "1",
                        "8",
                        "29",
                        "5",
                        "28",
                        "27",
                        "3",
                        "2",
                        "4",
                        "6"
                      ],
                      "ids": [
                        "7",
                        "1",
                        "8",
                        "29",
                        "5",
                        "28",
                        "27",
                        "3",
                        "2",
                        "4",
                        "6"
                      ],
                      "legendgroup": "regular",
                      "marker": {
                        "color": "#EF553B",
                        "size": [
                          2.091666667,
                          1.433333333,
                          5.825,
                          4.066666667,
                          2.166666667,
                          0.325,
                          0.6,
                          2.283333333,
                          2.241666667,
                          5.008333333,
                          3.266666667
                        ],
                        "sizemode": "area",
                        "sizeref": 0.0351493848857645,
                        "symbol": "circle"
                      },
                      "mode": "markers",
                      "name": "regular",
                      "orientation": "v",
                      "showlegend": true,
                      "type": "scatter",
                      "x": [
                        0.025,
                        0.03333333333,
                        0.025,
                        0.03333333333,
                        0.05833333333,
                        0.025,
                        0.008333333333,
                        0.05833333333,
                        0.05,
                        0.04166666667,
                        0.075
                      ],
                      "xaxis": "x",
                      "y": [
                        0,
                        0,
                        0,
                        0,
                        0,
                        0,
                        0,
                        0.025,
                        0.01666666667,
                        0.008333333333,
                        0
                      ],
                      "yaxis": "y"
                    },
                    {
                      "hovertemplate": "<b>%{hovertext}</b><br><br>DivType=territorial<br>Date=1917-03-13 00:00:00<br>SW120DeathSentences=%{x}<br>SW120execution=%{y}<br>SW120Casualties=%{marker.size}<extra></extra>",
                      "hovertext": [
                        "48",
                        "51",
                        "46",
                        "66"
                      ],
                      "ids": [
                        "48",
                        "51",
                        "46",
                        "66"
                      ],
                      "legendgroup": "territorial",
                      "marker": {
                        "color": "#00CC96",
                        "size": [
                          0.1833333333,
                          0.6083333333,
                          0.125,
                          0.075
                        ],
                        "sizemode": "area",
                        "sizeref": 0.0351493848857645,
                        "symbol": "circle"
                      },
                      "mode": "markers",
                      "name": "territorial",
                      "orientation": "v",
                      "showlegend": true,
                      "type": "scatter",
                      "x": [
                        0,
                        0.008333333333,
                        0,
                        0
                      ],
                      "xaxis": "x",
                      "y": [
                        0,
                        0,
                        0,
                        0
                      ],
                      "yaxis": "y"
                    }
                  ],
                  "name": "1917-03-13 00:00:00"
                },
                {
                  "data": [
                    {
                      "hovertemplate": "<b>%{hovertext}</b><br><br>DivType=new<br>Date=1917-03-14 00:00:00<br>SW120DeathSentences=%{x}<br>SW120execution=%{y}<br>SW120Casualties=%{marker.size}<extra></extra>",
                      "hovertext": [
                        "38",
                        "37",
                        "41",
                        "36"
                      ],
                      "ids": [
                        "38",
                        "37",
                        "41",
                        "36"
                      ],
                      "legendgroup": "new",
                      "marker": {
                        "color": "#636EFA",
                        "size": [
                          0,
                          0,
                          0,
                          0
                        ],
                        "sizemode": "area",
                        "sizeref": 0.0351493848857645,
                        "symbol": "circle"
                      },
                      "mode": "markers",
                      "name": "new",
                      "orientation": "v",
                      "showlegend": true,
                      "type": "scatter",
                      "x": [
                        0.008333333333,
                        0.01666666667,
                        0.025,
                        0.03333333333
                      ],
                      "xaxis": "x",
                      "y": [
                        0,
                        0,
                        0.008333333333,
                        0
                      ],
                      "yaxis": "y"
                    },
                    {
                      "hovertemplate": "<b>%{hovertext}</b><br><br>DivType=territorial<br>Date=1917-03-14 00:00:00<br>SW120DeathSentences=%{x}<br>SW120execution=%{y}<br>SW120Casualties=%{marker.size}<extra></extra>",
                      "hovertext": [
                        "58",
                        "63",
                        "50",
                        "55",
                        "56"
                      ],
                      "ids": [
                        "58",
                        "63",
                        "50",
                        "55",
                        "56"
                      ],
                      "legendgroup": "territorial",
                      "marker": {
                        "color": "#00CC96",
                        "size": [
                          0,
                          0,
                          0,
                          0,
                          0
                        ],
                        "sizemode": "area",
                        "sizeref": 0.0351493848857645,
                        "symbol": "circle"
                      },
                      "mode": "markers",
                      "name": "territorial",
                      "orientation": "v",
                      "showlegend": true,
                      "type": "scatter",
                      "x": [
                        0,
                        0.025,
                        0.04166666667,
                        0.05,
                        0.01666666667
                      ],
                      "xaxis": "x",
                      "y": [
                        0,
                        0.008333333333,
                        0.008333333333,
                        0.008333333333,
                        0
                      ],
                      "yaxis": "y"
                    }
                  ],
                  "name": "1917-03-14 00:00:00"
                },
                {
                  "data": [
                    {
                      "hovertemplate": "<b>%{hovertext}</b><br><br>DivType=new<br>Date=1917-04-12 00:00:00<br>SW120DeathSentences=%{x}<br>SW120execution=%{y}<br>SW120Casualties=%{marker.size}<extra></extra>",
                      "hovertext": [
                        "35",
                        "18",
                        "34",
                        "19",
                        "15",
                        "20",
                        "25",
                        "31",
                        "10",
                        "30",
                        "32",
                        "14",
                        "11",
                        "17",
                        "13",
                        "16",
                        "12",
                        "23",
                        "24",
                        "9",
                        "21",
                        "39",
                        "33"
                      ],
                      "ids": [
                        "35",
                        "18",
                        "34",
                        "19",
                        "15",
                        "20",
                        "25",
                        "31",
                        "10",
                        "30",
                        "32",
                        "14",
                        "11",
                        "17",
                        "13",
                        "16",
                        "12",
                        "23",
                        "24",
                        "9",
                        "21",
                        "39",
                        "33"
                      ],
                      "legendgroup": "new",
                      "marker": {
                        "color": "#636EFA",
                        "size": [
                          0.2083333333,
                          3.933333333,
                          0.04166666667,
                          0.9666666667,
                          0.8416666667,
                          2.458333333,
                          0.7666666667,
                          0.025,
                          0.05833333333,
                          0.025,
                          2.025,
                          0.775,
                          2.125,
                          1.191666667,
                          4.058333333,
                          0.3916666667,
                          0.8166666667,
                          0.1666666667,
                          2.041666667,
                          1.225,
                          2.258333333,
                          0.2,
                          0
                        ],
                        "sizemode": "area",
                        "sizeref": 0.0351493848857645,
                        "symbol": "circle"
                      },
                      "mode": "markers",
                      "name": "new",
                      "orientation": "v",
                      "showlegend": true,
                      "type": "scatter",
                      "x": [
                        0.25,
                        0.01666666667,
                        0.025,
                        0.05833333333,
                        0.06666666667,
                        0.008333333333,
                        0.05833333333,
                        0.008333333333,
                        0.008333333333,
                        0.03333333333,
                        0.05833333333,
                        0.008333333333,
                        0.04166666667,
                        0.06666666667,
                        0.04166666667,
                        0.025,
                        0.01666666667,
                        0.04166666667,
                        0.05,
                        0.008333333333,
                        0,
                        0.008333333333,
                        0.09166666667
                      ],
                      "xaxis": "x",
                      "y": [
                        0.025,
                        0,
                        0,
                        0,
                        0,
                        0,
                        0.01666666667,
                        0,
                        0,
                        0.03333333333,
                        0.025,
                        0,
                        0.008333333333,
                        0.01666666667,
                        0.025,
                        0,
                        0,
                        0.01666666667,
                        0,
                        0,
                        0,
                        0,
                        0.025
                      ],
                      "yaxis": "y"
                    },
                    {
                      "hovertemplate": "<b>%{hovertext}</b><br><br>DivType=regular<br>Date=1917-04-12 00:00:00<br>SW120DeathSentences=%{x}<br>SW120execution=%{y}<br>SW120Casualties=%{marker.size}<extra></extra>",
                      "hovertext": [
                        "6",
                        "28",
                        "29",
                        "7",
                        "4",
                        "8",
                        "3",
                        "27",
                        "1",
                        "2",
                        "5"
                      ],
                      "ids": [
                        "6",
                        "28",
                        "29",
                        "7",
                        "4",
                        "8",
                        "3",
                        "27",
                        "1",
                        "2",
                        "5"
                      ],
                      "legendgroup": "regular",
                      "marker": {
                        "color": "#EF553B",
                        "size": [
                          1.633333333,
                          0.3583333333,
                          3.108333333,
                          1.183333333,
                          1.541666667,
                          3.3,
                          1.566666667,
                          0.625,
                          1.708333333,
                          2.216666667,
                          1.616666667
                        ],
                        "sizemode": "area",
                        "sizeref": 0.0351493848857645,
                        "symbol": "circle"
                      },
                      "mode": "markers",
                      "name": "regular",
                      "orientation": "v",
                      "showlegend": true,
                      "type": "scatter",
                      "x": [
                        0.05833333333,
                        0.025,
                        0.01666666667,
                        0.03333333333,
                        0.025,
                        0.025,
                        0.05,
                        0,
                        0.03333333333,
                        0.05,
                        0.05
                      ],
                      "xaxis": "x",
                      "y": [
                        0.01666666667,
                        0,
                        0,
                        0,
                        0.008333333333,
                        0,
                        0.008333333333,
                        0,
                        0,
                        0.01666666667,
                        0.008333333333
                      ],
                      "yaxis": "y"
                    },
                    {
                      "hovertemplate": "<b>%{hovertext}</b><br><br>DivType=territorial<br>Date=1917-04-12 00:00:00<br>SW120DeathSentences=%{x}<br>SW120execution=%{y}<br>SW120Casualties=%{marker.size}<extra></extra>",
                      "hovertext": [
                        "46",
                        "51",
                        "66",
                        "48"
                      ],
                      "ids": [
                        "46",
                        "51",
                        "66",
                        "48"
                      ],
                      "legendgroup": "territorial",
                      "marker": {
                        "color": "#00CC96",
                        "size": [
                          0.2916666667,
                          0.6,
                          0.09166666667,
                          0.2333333333
                        ],
                        "sizemode": "area",
                        "sizeref": 0.0351493848857645,
                        "symbol": "circle"
                      },
                      "mode": "markers",
                      "name": "territorial",
                      "orientation": "v",
                      "showlegend": true,
                      "type": "scatter",
                      "x": [
                        0,
                        0.008333333333,
                        0,
                        0
                      ],
                      "xaxis": "x",
                      "y": [
                        0,
                        0,
                        0,
                        0
                      ],
                      "yaxis": "y"
                    }
                  ],
                  "name": "1917-04-12 00:00:00"
                },
                {
                  "data": [
                    {
                      "hovertemplate": "<b>%{hovertext}</b><br><br>DivType=new<br>Date=1917-04-13 00:00:00<br>SW120DeathSentences=%{x}<br>SW120execution=%{y}<br>SW120Casualties=%{marker.size}<extra></extra>",
                      "hovertext": [
                        "38",
                        "41",
                        "37",
                        "36"
                      ],
                      "ids": [
                        "38",
                        "41",
                        "37",
                        "36"
                      ],
                      "legendgroup": "new",
                      "marker": {
                        "color": "#636EFA",
                        "size": [
                          0,
                          0,
                          0,
                          0
                        ],
                        "sizemode": "area",
                        "sizeref": 0.0351493848857645,
                        "symbol": "circle"
                      },
                      "mode": "markers",
                      "name": "new",
                      "orientation": "v",
                      "showlegend": true,
                      "type": "scatter",
                      "x": [
                        0.008333333333,
                        0.008333333333,
                        0.01666666667,
                        0.03333333333
                      ],
                      "xaxis": "x",
                      "y": [
                        0,
                        0.008333333333,
                        0,
                        0
                      ],
                      "yaxis": "y"
                    },
                    {
                      "hovertemplate": "<b>%{hovertext}</b><br><br>DivType=territorial<br>Date=1917-04-13 00:00:00<br>SW120DeathSentences=%{x}<br>SW120execution=%{y}<br>SW120Casualties=%{marker.size}<extra></extra>",
                      "hovertext": [
                        "55",
                        "63",
                        "58",
                        "56",
                        "50"
                      ],
                      "ids": [
                        "55",
                        "63",
                        "58",
                        "56",
                        "50"
                      ],
                      "legendgroup": "territorial",
                      "marker": {
                        "color": "#00CC96",
                        "size": [
                          0,
                          0,
                          0,
                          0,
                          0
                        ],
                        "sizemode": "area",
                        "sizeref": 0.0351493848857645,
                        "symbol": "circle"
                      },
                      "mode": "markers",
                      "name": "territorial",
                      "orientation": "v",
                      "showlegend": true,
                      "type": "scatter",
                      "x": [
                        0.008333333333,
                        0.01666666667,
                        0,
                        0.04166666667,
                        0.05
                      ],
                      "xaxis": "x",
                      "y": [
                        0,
                        0.008333333333,
                        0,
                        0,
                        0.008333333333
                      ],
                      "yaxis": "y"
                    }
                  ],
                  "name": "1917-04-13 00:00:00"
                },
                {
                  "data": [
                    {
                      "hovertemplate": "<b>%{hovertext}</b><br><br>DivType=new<br>Date=1917-05-12 00:00:00<br>SW120DeathSentences=%{x}<br>SW120execution=%{y}<br>SW120Casualties=%{marker.size}<extra></extra>",
                      "hovertext": [
                        "31",
                        "25",
                        "9",
                        "35",
                        "14",
                        "39",
                        "13",
                        "18",
                        "20",
                        "16",
                        "33",
                        "24",
                        "21",
                        "23",
                        "17",
                        "12",
                        "19",
                        "15",
                        "34",
                        "32",
                        "11",
                        "30",
                        "10"
                      ],
                      "ids": [
                        "31",
                        "25",
                        "9",
                        "35",
                        "14",
                        "39",
                        "13",
                        "18",
                        "20",
                        "16",
                        "33",
                        "24",
                        "21",
                        "23",
                        "17",
                        "12",
                        "19",
                        "15",
                        "34",
                        "32",
                        "11",
                        "30",
                        "10"
                      ],
                      "legendgroup": "new",
                      "marker": {
                        "color": "#636EFA",
                        "size": [
                          0.03333333333,
                          0.8666666667,
                          3.166666667,
                          0.175,
                          3.3,
                          0.2666666667,
                          4.533333333,
                          4.433333333,
                          4.233333333,
                          0.35,
                          0.008333333333,
                          2.966666667,
                          2.208333333,
                          0.15,
                          1.366666667,
                          3.133333333,
                          0.625,
                          2.416666667,
                          0.1416666667,
                          0.7416666667,
                          1.408333333,
                          0.025,
                          0.05833333333
                        ],
                        "sizemode": "area",
                        "sizeref": 0.0351493848857645,
                        "symbol": "circle"
                      },
                      "mode": "markers",
                      "name": "new",
                      "orientation": "v",
                      "showlegend": true,
                      "type": "scatter",
                      "x": [
                        0.01666666667,
                        0.05833333333,
                        0.008333333333,
                        0.25,
                        0.008333333333,
                        0.01666666667,
                        0.04166666667,
                        0.03333333333,
                        0.025,
                        0.025,
                        0.05,
                        0.05,
                        0,
                        0.04166666667,
                        0.06666666667,
                        0.01666666667,
                        0.03333333333,
                        0.075,
                        0.025,
                        0.05,
                        0.05,
                        0.01666666667,
                        0.05833333333
                      ],
                      "xaxis": "x",
                      "y": [
                        0,
                        0.008333333333,
                        0,
                        0.025,
                        0,
                        0,
                        0.025,
                        0,
                        0,
                        0,
                        0.01666666667,
                        0,
                        0,
                        0.008333333333,
                        0.01666666667,
                        0,
                        0,
                        0,
                        0,
                        0.025,
                        0.01666666667,
                        0.01666666667,
                        0
                      ],
                      "yaxis": "y"
                    },
                    {
                      "hovertemplate": "<b>%{hovertext}</b><br><br>DivType=regular<br>Date=1917-05-12 00:00:00<br>SW120DeathSentences=%{x}<br>SW120execution=%{y}<br>SW120Casualties=%{marker.size}<extra></extra>",
                      "hovertext": [
                        "3",
                        "7",
                        "5",
                        "27",
                        "1",
                        "8",
                        "28",
                        "6",
                        "29",
                        "2",
                        "4"
                      ],
                      "ids": [
                        "3",
                        "7",
                        "5",
                        "27",
                        "1",
                        "8",
                        "28",
                        "6",
                        "29",
                        "2",
                        "4"
                      ],
                      "legendgroup": "regular",
                      "marker": {
                        "color": "#EF553B",
                        "size": [
                          3.558333333,
                          2.366666667,
                          1.491666667,
                          0.2666666667,
                          1.241666667,
                          3.458333333,
                          0.3333333333,
                          1.758333333,
                          2.333333333,
                          1.608333333,
                          3.866666667
                        ],
                        "sizemode": "area",
                        "sizeref": 0.0351493848857645,
                        "symbol": "circle"
                      },
                      "mode": "markers",
                      "name": "regular",
                      "orientation": "v",
                      "showlegend": true,
                      "type": "scatter",
                      "x": [
                        0.05833333333,
                        0.04166666667,
                        0.05,
                        0,
                        0.04166666667,
                        0.025,
                        0.01666666667,
                        0.06666666667,
                        0.008333333333,
                        0.04166666667,
                        0.01666666667
                      ],
                      "xaxis": "x",
                      "y": [
                        0.01666666667,
                        0,
                        0.008333333333,
                        0,
                        0,
                        0.008333333333,
                        0,
                        0.025,
                        0,
                        0.008333333333,
                        0.008333333333
                      ],
                      "yaxis": "y"
                    },
                    {
                      "hovertemplate": "<b>%{hovertext}</b><br><br>DivType=territorial<br>Date=1917-05-12 00:00:00<br>SW120DeathSentences=%{x}<br>SW120execution=%{y}<br>SW120Casualties=%{marker.size}<extra></extra>",
                      "hovertext": [
                        "66",
                        "48",
                        "46",
                        "51"
                      ],
                      "ids": [
                        "66",
                        "48",
                        "46",
                        "51"
                      ],
                      "legendgroup": "territorial",
                      "marker": {
                        "color": "#00CC96",
                        "size": [
                          0.4333333333,
                          0.2333333333,
                          0.2916666667,
                          0.5333333333
                        ],
                        "sizemode": "area",
                        "sizeref": 0.0351493848857645,
                        "symbol": "circle"
                      },
                      "mode": "markers",
                      "name": "territorial",
                      "orientation": "v",
                      "showlegend": true,
                      "type": "scatter",
                      "x": [
                        0,
                        0,
                        0.01666666667,
                        0.008333333333
                      ],
                      "xaxis": "x",
                      "y": [
                        0,
                        0,
                        0,
                        0
                      ],
                      "yaxis": "y"
                    }
                  ],
                  "name": "1917-05-12 00:00:00"
                },
                {
                  "data": [
                    {
                      "hovertemplate": "<b>%{hovertext}</b><br><br>DivType=new<br>Date=1917-05-13 00:00:00<br>SW120DeathSentences=%{x}<br>SW120execution=%{y}<br>SW120Casualties=%{marker.size}<extra></extra>",
                      "hovertext": [
                        "36",
                        "37",
                        "38",
                        "41"
                      ],
                      "ids": [
                        "36",
                        "37",
                        "38",
                        "41"
                      ],
                      "legendgroup": "new",
                      "marker": {
                        "color": "#636EFA",
                        "size": [
                          0,
                          0,
                          0,
                          0
                        ],
                        "sizemode": "area",
                        "sizeref": 0.0351493848857645,
                        "symbol": "circle"
                      },
                      "mode": "markers",
                      "name": "new",
                      "orientation": "v",
                      "showlegend": true,
                      "type": "scatter",
                      "x": [
                        0.01666666667,
                        0.01666666667,
                        0.01666666667,
                        0.025
                      ],
                      "xaxis": "x",
                      "y": [
                        0,
                        0,
                        0,
                        0
                      ],
                      "yaxis": "y"
                    },
                    {
                      "hovertemplate": "<b>%{hovertext}</b><br><br>DivType=territorial<br>Date=1917-05-13 00:00:00<br>SW120DeathSentences=%{x}<br>SW120execution=%{y}<br>SW120Casualties=%{marker.size}<extra></extra>",
                      "hovertext": [
                        "63",
                        "58",
                        "55",
                        "50",
                        "56"
                      ],
                      "ids": [
                        "63",
                        "58",
                        "55",
                        "50",
                        "56"
                      ],
                      "legendgroup": "territorial",
                      "marker": {
                        "color": "#00CC96",
                        "size": [
                          0,
                          0,
                          0,
                          0,
                          0
                        ],
                        "sizemode": "area",
                        "sizeref": 0.0351493848857645,
                        "symbol": "circle"
                      },
                      "mode": "markers",
                      "name": "territorial",
                      "orientation": "v",
                      "showlegend": true,
                      "type": "scatter",
                      "x": [
                        0,
                        0,
                        0.01666666667,
                        0.04166666667,
                        0.025
                      ],
                      "xaxis": "x",
                      "y": [
                        0,
                        0,
                        0,
                        0,
                        0
                      ],
                      "yaxis": "y"
                    }
                  ],
                  "name": "1917-05-13 00:00:00"
                },
                {
                  "data": [
                    {
                      "hovertemplate": "<b>%{hovertext}</b><br><br>DivType=new<br>Date=1917-06-11 00:00:00<br>SW120DeathSentences=%{x}<br>SW120execution=%{y}<br>SW120Casualties=%{marker.size}<extra></extra>",
                      "hovertext": [
                        "19",
                        "16",
                        "33",
                        "24",
                        "23",
                        "17",
                        "9",
                        "34",
                        "32",
                        "14",
                        "30",
                        "31",
                        "35",
                        "25",
                        "13",
                        "15",
                        "18",
                        "12",
                        "39",
                        "21",
                        "20",
                        "11",
                        "10"
                      ],
                      "ids": [
                        "19",
                        "16",
                        "33",
                        "24",
                        "23",
                        "17",
                        "9",
                        "34",
                        "32",
                        "14",
                        "30",
                        "31",
                        "35",
                        "25",
                        "13",
                        "15",
                        "18",
                        "12",
                        "39",
                        "21",
                        "20",
                        "11",
                        "10"
                      ],
                      "legendgroup": "new",
                      "marker": {
                        "color": "#636EFA",
                        "size": [
                          0.775,
                          0.275,
                          0.008333333333,
                          5.866666667,
                          1.1,
                          5.375,
                          6.691666667,
                          0.175,
                          1.2,
                          7.05,
                          0.025,
                          0.03333333333,
                          0.2333333333,
                          1.616666667,
                          4.141666667,
                          5.983333333,
                          6.875,
                          7.483333333,
                          0.9166666667,
                          5.541666667,
                          4.408333333,
                          0.7583333333,
                          0.075
                        ],
                        "sizemode": "area",
                        "sizeref": 0.0351493848857645,
                        "symbol": "circle"
                      },
                      "mode": "markers",
                      "name": "new",
                      "orientation": "v",
                      "showlegend": true,
                      "type": "scatter",
                      "x": [
                        0.03333333333,
                        0.05,
                        0.03333333333,
                        0.05,
                        0.04166666667,
                        0.05833333333,
                        0,
                        0.03333333333,
                        0.03333333333,
                        0,
                        0.025,
                        0.01666666667,
                        0,
                        0.05,
                        0.025,
                        0.08333333333,
                        0.025,
                        0.008333333333,
                        0.008333333333,
                        0,
                        0.025,
                        0.04166666667,
                        0.09166666667
                      ],
                      "xaxis": "x",
                      "y": [
                        0,
                        0,
                        0.008333333333,
                        0,
                        0.008333333333,
                        0.01666666667,
                        0,
                        0,
                        0.01666666667,
                        0,
                        0.01666666667,
                        0,
                        0,
                        0.008333333333,
                        0.025,
                        0.008333333333,
                        0,
                        0,
                        0,
                        0,
                        0,
                        0.01666666667,
                        0
                      ],
                      "yaxis": "y"
                    },
                    {
                      "hovertemplate": "<b>%{hovertext}</b><br><br>DivType=regular<br>Date=1917-06-11 00:00:00<br>SW120DeathSentences=%{x}<br>SW120execution=%{y}<br>SW120Casualties=%{marker.size}<extra></extra>",
                      "hovertext": [
                        "5",
                        "27",
                        "6",
                        "4",
                        "29",
                        "8",
                        "28",
                        "7",
                        "1",
                        "2",
                        "3"
                      ],
                      "ids": [
                        "5",
                        "27",
                        "6",
                        "4",
                        "29",
                        "8",
                        "28",
                        "7",
                        "1",
                        "2",
                        "3"
                      ],
                      "legendgroup": "regular",
                      "marker": {
                        "color": "#EF553B",
                        "size": [
                          4.05,
                          0.2083333333,
                          3.841666667,
                          7.266666667,
                          8,
                          4.75,
                          0.3083333333,
                          2.583333333,
                          1.066666667,
                          3.008333333,
                          6.358333333
                        ],
                        "sizemode": "area",
                        "sizeref": 0.0351493848857645,
                        "symbol": "circle"
                      },
                      "mode": "markers",
                      "name": "regular",
                      "orientation": "v",
                      "showlegend": true,
                      "type": "scatter",
                      "x": [
                        0.04166666667,
                        0,
                        0.05833333333,
                        0.01666666667,
                        0.008333333333,
                        0.05,
                        0.01666666667,
                        0.05,
                        0.04166666667,
                        0.05,
                        0.04166666667
                      ],
                      "xaxis": "x",
                      "y": [
                        0.008333333333,
                        0,
                        0.025,
                        0,
                        0,
                        0.008333333333,
                        0,
                        0.008333333333,
                        0,
                        0.008333333333,
                        0.008333333333
                      ],
                      "yaxis": "y"
                    },
                    {
                      "hovertemplate": "<b>%{hovertext}</b><br><br>DivType=territorial<br>Date=1917-06-11 00:00:00<br>SW120DeathSentences=%{x}<br>SW120execution=%{y}<br>SW120Casualties=%{marker.size}<extra></extra>",
                      "hovertext": [
                        "48",
                        "46",
                        "51",
                        "66"
                      ],
                      "ids": [
                        "48",
                        "46",
                        "51",
                        "66"
                      ],
                      "legendgroup": "territorial",
                      "marker": {
                        "color": "#00CC96",
                        "size": [
                          0.7333333333,
                          0.6583333333,
                          1.758333333,
                          0.9083333333
                        ],
                        "sizemode": "area",
                        "sizeref": 0.0351493848857645,
                        "symbol": "circle"
                      },
                      "mode": "markers",
                      "name": "territorial",
                      "orientation": "v",
                      "showlegend": true,
                      "type": "scatter",
                      "x": [
                        0,
                        0.01666666667,
                        0.008333333333,
                        0
                      ],
                      "xaxis": "x",
                      "y": [
                        0,
                        0,
                        0,
                        0
                      ],
                      "yaxis": "y"
                    }
                  ],
                  "name": "1917-06-11 00:00:00"
                },
                {
                  "data": [
                    {
                      "hovertemplate": "<b>%{hovertext}</b><br><br>DivType=new<br>Date=1917-06-12 00:00:00<br>SW120DeathSentences=%{x}<br>SW120execution=%{y}<br>SW120Casualties=%{marker.size}<extra></extra>",
                      "hovertext": [
                        "37",
                        "36",
                        "41",
                        "38"
                      ],
                      "ids": [
                        "37",
                        "36",
                        "41",
                        "38"
                      ],
                      "legendgroup": "new",
                      "marker": {
                        "color": "#636EFA",
                        "size": [
                          0,
                          0,
                          0,
                          0
                        ],
                        "sizemode": "area",
                        "sizeref": 0.0351493848857645,
                        "symbol": "circle"
                      },
                      "mode": "markers",
                      "name": "new",
                      "orientation": "v",
                      "showlegend": true,
                      "type": "scatter",
                      "x": [
                        0.01666666667,
                        0.025,
                        0.04166666667,
                        0.01666666667
                      ],
                      "xaxis": "x",
                      "y": [
                        0,
                        0.008333333333,
                        0,
                        0.008333333333
                      ],
                      "yaxis": "y"
                    },
                    {
                      "hovertemplate": "<b>%{hovertext}</b><br><br>DivType=territorial<br>Date=1917-06-12 00:00:00<br>SW120DeathSentences=%{x}<br>SW120execution=%{y}<br>SW120Casualties=%{marker.size}<extra></extra>",
                      "hovertext": [
                        "55",
                        "58",
                        "56",
                        "63",
                        "50"
                      ],
                      "ids": [
                        "55",
                        "58",
                        "56",
                        "63",
                        "50"
                      ],
                      "legendgroup": "territorial",
                      "marker": {
                        "color": "#00CC96",
                        "size": [
                          0,
                          0,
                          0,
                          0,
                          0
                        ],
                        "sizemode": "area",
                        "sizeref": 0.0351493848857645,
                        "symbol": "circle"
                      },
                      "mode": "markers",
                      "name": "territorial",
                      "orientation": "v",
                      "showlegend": true,
                      "type": "scatter",
                      "x": [
                        0.008333333333,
                        0.008333333333,
                        0.025,
                        0,
                        0.05
                      ],
                      "xaxis": "x",
                      "y": [
                        0,
                        0,
                        0,
                        0,
                        0
                      ],
                      "yaxis": "y"
                    }
                  ],
                  "name": "1917-06-12 00:00:00"
                },
                {
                  "data": [
                    {
                      "hovertemplate": "<b>%{hovertext}</b><br><br>DivType=new<br>Date=1917-07-11 00:00:00<br>SW120DeathSentences=%{x}<br>SW120execution=%{y}<br>SW120Casualties=%{marker.size}<extra></extra>",
                      "hovertext": [
                        "30",
                        "24",
                        "35",
                        "17",
                        "12",
                        "32",
                        "31",
                        "11",
                        "15",
                        "14",
                        "13",
                        "16",
                        "20",
                        "21",
                        "10",
                        "18",
                        "33",
                        "39",
                        "19",
                        "25",
                        "34",
                        "9",
                        "23"
                      ],
                      "ids": [
                        "30",
                        "24",
                        "35",
                        "17",
                        "12",
                        "32",
                        "31",
                        "11",
                        "15",
                        "14",
                        "13",
                        "16",
                        "20",
                        "21",
                        "10",
                        "18",
                        "33",
                        "39",
                        "19",
                        "25",
                        "34",
                        "9",
                        "23"
                      ],
                      "legendgroup": "new",
                      "marker": {
                        "color": "#636EFA",
                        "size": [
                          0.025,
                          5.991666667,
                          0.3,
                          5.775,
                          7.783333333,
                          1.041666667,
                          0.04166666667,
                          1.241666667,
                          5.8,
                          7.341666667,
                          1.458333333,
                          0.3333333333,
                          4.366666667,
                          5.733333333,
                          0.06666666667,
                          6.991666667,
                          0.008333333333,
                          0.9166666667,
                          0.9583333333,
                          2.083333333,
                          0.1583333333,
                          7.133333333,
                          1.383333333
                        ],
                        "sizemode": "area",
                        "sizeref": 0.0351493848857645,
                        "symbol": "circle"
                      },
                      "mode": "markers",
                      "name": "new",
                      "orientation": "v",
                      "showlegend": true,
                      "type": "scatter",
                      "x": [
                        0.01666666667,
                        0.03333333333,
                        0,
                        0.025,
                        0.04166666667,
                        0.025,
                        0.01666666667,
                        0.025,
                        0.05,
                        0.025,
                        0,
                        0.075,
                        0.03333333333,
                        0.03333333333,
                        0.1083333333,
                        0.03333333333,
                        0.01666666667,
                        0.008333333333,
                        0.05,
                        0.05,
                        0.075,
                        0.008333333333,
                        0.03333333333
                      ],
                      "xaxis": "x",
                      "y": [
                        0.008333333333,
                        0,
                        0,
                        0,
                        0.01666666667,
                        0,
                        0,
                        0.01666666667,
                        0.01666666667,
                        0,
                        0,
                        0.008333333333,
                        0.008333333333,
                        0,
                        0,
                        0,
                        0,
                        0,
                        0,
                        0.008333333333,
                        0,
                        0,
                        0
                      ],
                      "yaxis": "y"
                    },
                    {
                      "hovertemplate": "<b>%{hovertext}</b><br><br>DivType=regular<br>Date=1917-07-11 00:00:00<br>SW120DeathSentences=%{x}<br>SW120execution=%{y}<br>SW120Casualties=%{marker.size}<extra></extra>",
                      "hovertext": [
                        "3",
                        "29",
                        "2",
                        "4",
                        "8",
                        "28",
                        "1",
                        "7",
                        "27",
                        "5",
                        "6"
                      ],
                      "ids": [
                        "3",
                        "29",
                        "2",
                        "4",
                        "8",
                        "28",
                        "1",
                        "7",
                        "27",
                        "5",
                        "6"
                      ],
                      "legendgroup": "regular",
                      "marker": {
                        "color": "#EF553B",
                        "size": [
                          7.325,
                          8.733333333,
                          3.65,
                          6.891666667,
                          4.616666667,
                          0.4166666667,
                          0.875,
                          2.65,
                          0.15,
                          4.1,
                          4.816666667
                        ],
                        "sizemode": "area",
                        "sizeref": 0.0351493848857645,
                        "symbol": "circle"
                      },
                      "mode": "markers",
                      "name": "regular",
                      "orientation": "v",
                      "showlegend": true,
                      "type": "scatter",
                      "x": [
                        0.05833333333,
                        0.03333333333,
                        0.025,
                        0.03333333333,
                        0.04166666667,
                        0.01666666667,
                        0.01666666667,
                        0.05833333333,
                        0,
                        0.03333333333,
                        0.05833333333
                      ],
                      "xaxis": "x",
                      "y": [
                        0.008333333333,
                        0.008333333333,
                        0,
                        0,
                        0.008333333333,
                        0,
                        0,
                        0.008333333333,
                        0,
                        0.008333333333,
                        0.025
                      ],
                      "yaxis": "y"
                    },
                    {
                      "hovertemplate": "<b>%{hovertext}</b><br><br>DivType=territorial<br>Date=1917-07-11 00:00:00<br>SW120DeathSentences=%{x}<br>SW120execution=%{y}<br>SW120Casualties=%{marker.size}<extra></extra>",
                      "hovertext": [
                        "46",
                        "51",
                        "66",
                        "48"
                      ],
                      "ids": [
                        "46",
                        "51",
                        "66",
                        "48"
                      ],
                      "legendgroup": "territorial",
                      "marker": {
                        "color": "#00CC96",
                        "size": [
                          1.008333333,
                          1.833333333,
                          1.258333333,
                          0.8166666667
                        ],
                        "sizemode": "area",
                        "sizeref": 0.0351493848857645,
                        "symbol": "circle"
                      },
                      "mode": "markers",
                      "name": "territorial",
                      "orientation": "v",
                      "showlegend": true,
                      "type": "scatter",
                      "x": [
                        0.01666666667,
                        0.008333333333,
                        0,
                        0
                      ],
                      "xaxis": "x",
                      "y": [
                        0,
                        0,
                        0,
                        0
                      ],
                      "yaxis": "y"
                    }
                  ],
                  "name": "1917-07-11 00:00:00"
                },
                {
                  "data": [
                    {
                      "hovertemplate": "<b>%{hovertext}</b><br><br>DivType=new<br>Date=1917-07-12 00:00:00<br>SW120DeathSentences=%{x}<br>SW120execution=%{y}<br>SW120Casualties=%{marker.size}<extra></extra>",
                      "hovertext": [
                        "38",
                        "41",
                        "36",
                        "37"
                      ],
                      "ids": [
                        "38",
                        "41",
                        "36",
                        "37"
                      ],
                      "legendgroup": "new",
                      "marker": {
                        "color": "#636EFA",
                        "size": [
                          0,
                          0,
                          0,
                          0
                        ],
                        "sizemode": "area",
                        "sizeref": 0.0351493848857645,
                        "symbol": "circle"
                      },
                      "mode": "markers",
                      "name": "new",
                      "orientation": "v",
                      "showlegend": true,
                      "type": "scatter",
                      "x": [
                        0.01666666667,
                        0.05,
                        0.025,
                        0.01666666667
                      ],
                      "xaxis": "x",
                      "y": [
                        0.008333333333,
                        0.008333333333,
                        0.008333333333,
                        0.008333333333
                      ],
                      "yaxis": "y"
                    },
                    {
                      "hovertemplate": "<b>%{hovertext}</b><br><br>DivType=territorial<br>Date=1917-07-12 00:00:00<br>SW120DeathSentences=%{x}<br>SW120execution=%{y}<br>SW120Casualties=%{marker.size}<extra></extra>",
                      "hovertext": [
                        "56",
                        "58",
                        "63",
                        "50",
                        "55"
                      ],
                      "ids": [
                        "56",
                        "58",
                        "63",
                        "50",
                        "55"
                      ],
                      "legendgroup": "territorial",
                      "marker": {
                        "color": "#00CC96",
                        "size": [
                          0,
                          0,
                          0,
                          0,
                          0
                        ],
                        "sizemode": "area",
                        "sizeref": 0.0351493848857645,
                        "symbol": "circle"
                      },
                      "mode": "markers",
                      "name": "territorial",
                      "orientation": "v",
                      "showlegend": true,
                      "type": "scatter",
                      "x": [
                        0.05833333333,
                        0.008333333333,
                        0.01666666667,
                        0.04166666667,
                        0.04166666667
                      ],
                      "xaxis": "x",
                      "y": [
                        0.008333333333,
                        0,
                        0,
                        0,
                        0
                      ],
                      "yaxis": "y"
                    }
                  ],
                  "name": "1917-07-12 00:00:00"
                },
                {
                  "data": [
                    {
                      "hovertemplate": "<b>%{hovertext}</b><br><br>DivType=new<br>Date=1917-08-10 00:00:00<br>SW120DeathSentences=%{x}<br>SW120execution=%{y}<br>SW120Casualties=%{marker.size}<extra></extra>",
                      "hovertext": [
                        "14",
                        "10",
                        "34",
                        "25",
                        "18",
                        "9",
                        "32",
                        "31",
                        "15",
                        "39",
                        "35",
                        "11",
                        "24",
                        "19",
                        "12",
                        "23",
                        "30",
                        "20",
                        "21",
                        "17",
                        "33",
                        "16",
                        "13"
                      ],
                      "ids": [
                        "14",
                        "10",
                        "34",
                        "25",
                        "18",
                        "9",
                        "32",
                        "31",
                        "15",
                        "39",
                        "35",
                        "11",
                        "24",
                        "19",
                        "12",
                        "23",
                        "30",
                        "20",
                        "21",
                        "17",
                        "33",
                        "16",
                        "13"
                      ],
                      "legendgroup": "new",
                      "marker": {
                        "color": "#636EFA",
                        "size": [
                          7.233333333,
                          0.1166666667,
                          0.1416666667,
                          2.041666667,
                          4.233333333,
                          7.091666667,
                          1.45,
                          0.01666666667,
                          6.391666667,
                          0.9666666667,
                          0.2666666667,
                          1.6,
                          7.158333333,
                          1.183333333,
                          8.2,
                          1.566666667,
                          0.01666666667,
                          3.491666667,
                          6.241666667,
                          5.85,
                          0.008333333333,
                          0.1916666667,
                          0.875
                        ],
                        "sizemode": "area",
                        "sizeref": 0.0351493848857645,
                        "symbol": "circle"
                      },
                      "mode": "markers",
                      "name": "new",
                      "orientation": "v",
                      "showlegend": true,
                      "type": "scatter",
                      "x": [
                        0.04166666667,
                        0.1083333333,
                        0.09166666667,
                        0.025,
                        0.03333333333,
                        0.008333333333,
                        0.03333333333,
                        0.03333333333,
                        0.04166666667,
                        0.008333333333,
                        0,
                        0.008333333333,
                        0.025,
                        0.05833333333,
                        0.04166666667,
                        0.05833333333,
                        0.025,
                        0.025,
                        0.05,
                        0.03333333333,
                        0.01666666667,
                        0.05833333333,
                        0
                      ],
                      "xaxis": "x",
                      "y": [
                        0.008333333333,
                        0,
                        0,
                        0,
                        0,
                        0,
                        0,
                        0,
                        0.01666666667,
                        0,
                        0,
                        0.008333333333,
                        0,
                        0.008333333333,
                        0.01666666667,
                        0,
                        0,
                        0.008333333333,
                        0,
                        0,
                        0,
                        0.008333333333,
                        0
                      ],
                      "yaxis": "y"
                    },
                    {
                      "hovertemplate": "<b>%{hovertext}</b><br><br>DivType=regular<br>Date=1917-08-10 00:00:00<br>SW120DeathSentences=%{x}<br>SW120execution=%{y}<br>SW120Casualties=%{marker.size}<extra></extra>",
                      "hovertext": [
                        "7",
                        "28",
                        "29",
                        "5",
                        "1",
                        "4",
                        "6",
                        "3",
                        "27",
                        "2",
                        "8"
                      ],
                      "ids": [
                        "7",
                        "28",
                        "29",
                        "5",
                        "1",
                        "4",
                        "6",
                        "3",
                        "27",
                        "2",
                        "8"
                      ],
                      "legendgroup": "regular",
                      "marker": {
                        "color": "#EF553B",
                        "size": [
                          2.691666667,
                          0.2583333333,
                          7.916666667,
                          5.283333333,
                          2.066666667,
                          7.083333333,
                          4.991666667,
                          8.316666667,
                          0.06666666667,
                          2.975,
                          3.058333333
                        ],
                        "sizemode": "area",
                        "sizeref": 0.0351493848857645,
                        "symbol": "circle"
                      },
                      "mode": "markers",
                      "name": "regular",
                      "orientation": "v",
                      "showlegend": true,
                      "type": "scatter",
                      "x": [
                        0.03333333333,
                        0.01666666667,
                        0.04166666667,
                        0.01666666667,
                        0.01666666667,
                        0.04166666667,
                        0.03333333333,
                        0.05833333333,
                        0,
                        0.03333333333,
                        0.05
                      ],
                      "xaxis": "x",
                      "y": [
                        0.008333333333,
                        0,
                        0.008333333333,
                        0,
                        0,
                        0,
                        0.008333333333,
                        0.008333333333,
                        0,
                        0,
                        0.008333333333
                      ],
                      "yaxis": "y"
                    },
                    {
                      "hovertemplate": "<b>%{hovertext}</b><br><br>DivType=territorial<br>Date=1917-08-10 00:00:00<br>SW120DeathSentences=%{x}<br>SW120execution=%{y}<br>SW120Casualties=%{marker.size}<extra></extra>",
                      "hovertext": [
                        "46",
                        "48",
                        "51",
                        "66"
                      ],
                      "ids": [
                        "46",
                        "48",
                        "51",
                        "66"
                      ],
                      "legendgroup": "territorial",
                      "marker": {
                        "color": "#00CC96",
                        "size": [
                          1.266666667,
                          0.725,
                          1.816666667,
                          1.658333333
                        ],
                        "sizemode": "area",
                        "sizeref": 0.0351493848857645,
                        "symbol": "circle"
                      },
                      "mode": "markers",
                      "name": "territorial",
                      "orientation": "v",
                      "showlegend": true,
                      "type": "scatter",
                      "x": [
                        0.01666666667,
                        0,
                        0.008333333333,
                        0.008333333333
                      ],
                      "xaxis": "x",
                      "y": [
                        0,
                        0,
                        0,
                        0
                      ],
                      "yaxis": "y"
                    }
                  ],
                  "name": "1917-08-10 00:00:00"
                },
                {
                  "data": [
                    {
                      "hovertemplate": "<b>%{hovertext}</b><br><br>DivType=new<br>Date=1917-08-11 00:00:00<br>SW120DeathSentences=%{x}<br>SW120execution=%{y}<br>SW120Casualties=%{marker.size}<extra></extra>",
                      "hovertext": [
                        "37",
                        "41",
                        "36",
                        "38"
                      ],
                      "ids": [
                        "37",
                        "41",
                        "36",
                        "38"
                      ],
                      "legendgroup": "new",
                      "marker": {
                        "color": "#636EFA",
                        "size": [
                          0,
                          0,
                          0,
                          0
                        ],
                        "sizemode": "area",
                        "sizeref": 0.0351493848857645,
                        "symbol": "circle"
                      },
                      "mode": "markers",
                      "name": "new",
                      "orientation": "v",
                      "showlegend": true,
                      "type": "scatter",
                      "x": [
                        0.01666666667,
                        0.05,
                        0.01666666667,
                        0.01666666667
                      ],
                      "xaxis": "x",
                      "y": [
                        0.008333333333,
                        0.008333333333,
                        0.008333333333,
                        0.008333333333
                      ],
                      "yaxis": "y"
                    },
                    {
                      "hovertemplate": "<b>%{hovertext}</b><br><br>DivType=territorial<br>Date=1917-08-11 00:00:00<br>SW120DeathSentences=%{x}<br>SW120execution=%{y}<br>SW120Casualties=%{marker.size}<extra></extra>",
                      "hovertext": [
                        "55",
                        "63",
                        "50",
                        "56",
                        "58"
                      ],
                      "ids": [
                        "55",
                        "63",
                        "50",
                        "56",
                        "58"
                      ],
                      "legendgroup": "territorial",
                      "marker": {
                        "color": "#00CC96",
                        "size": [
                          0,
                          0,
                          0,
                          0,
                          0
                        ],
                        "sizemode": "area",
                        "sizeref": 0.0351493848857645,
                        "symbol": "circle"
                      },
                      "mode": "markers",
                      "name": "territorial",
                      "orientation": "v",
                      "showlegend": true,
                      "type": "scatter",
                      "x": [
                        0.05,
                        0.025,
                        0.06666666667,
                        0.05,
                        0.008333333333
                      ],
                      "xaxis": "x",
                      "y": [
                        0,
                        0,
                        0,
                        0.01666666667,
                        0
                      ],
                      "yaxis": "y"
                    }
                  ],
                  "name": "1917-08-11 00:00:00"
                },
                {
                  "data": [
                    {
                      "hovertemplate": "<b>%{hovertext}</b><br><br>DivType=new<br>Date=1917-09-09 00:00:00<br>SW120DeathSentences=%{x}<br>SW120execution=%{y}<br>SW120Casualties=%{marker.size}<extra></extra>",
                      "hovertext": [
                        "15",
                        "16",
                        "17",
                        "33",
                        "32",
                        "20",
                        "34",
                        "23",
                        "24",
                        "10",
                        "13",
                        "12",
                        "9",
                        "31",
                        "18",
                        "35",
                        "30",
                        "11",
                        "39",
                        "14",
                        "19",
                        "21",
                        "25"
                      ],
                      "ids": [
                        "15",
                        "16",
                        "17",
                        "33",
                        "32",
                        "20",
                        "34",
                        "23",
                        "24",
                        "10",
                        "13",
                        "12",
                        "9",
                        "31",
                        "18",
                        "35",
                        "30",
                        "11",
                        "39",
                        "14",
                        "19",
                        "21",
                        "25"
                      ],
                      "legendgroup": "new",
                      "marker": {
                        "color": "#636EFA",
                        "size": [
                          7.3,
                          0.3833333333,
                          5.858333333,
                          0,
                          1.783333333,
                          2.425,
                          0.04166666667,
                          1.616666667,
                          7.541666667,
                          0.1083333333,
                          0.4666666667,
                          7.125,
                          5.091666667,
                          0.025,
                          5.225,
                          0.325,
                          0.008333333333,
                          1.908333333,
                          1.133333333,
                          4.816666667,
                          1.633333333,
                          6.066666667,
                          3
                        ],
                        "sizemode": "area",
                        "sizeref": 0.0351493848857645,
                        "symbol": "circle"
                      },
                      "mode": "markers",
                      "name": "new",
                      "orientation": "v",
                      "showlegend": true,
                      "type": "scatter",
                      "x": [
                        0.04166666667,
                        0.05833333333,
                        0.04166666667,
                        0,
                        0.05,
                        0.008333333333,
                        0.1,
                        0.08333333333,
                        0.01666666667,
                        0.05,
                        0,
                        0.05,
                        0.008333333333,
                        0.01666666667,
                        0.01666666667,
                        0,
                        0.025,
                        0,
                        0,
                        0.05833333333,
                        0.05,
                        0.05833333333,
                        0.025
                      ],
                      "xaxis": "x",
                      "y": [
                        0.01666666667,
                        0.008333333333,
                        0.008333333333,
                        0,
                        0,
                        0.008333333333,
                        0,
                        0,
                        0,
                        0,
                        0,
                        0.01666666667,
                        0,
                        0,
                        0,
                        0,
                        0,
                        0,
                        0,
                        0.008333333333,
                        0.008333333333,
                        0,
                        0
                      ],
                      "yaxis": "y"
                    },
                    {
                      "hovertemplate": "<b>%{hovertext}</b><br><br>DivType=regular<br>Date=1917-09-09 00:00:00<br>SW120DeathSentences=%{x}<br>SW120execution=%{y}<br>SW120Casualties=%{marker.size}<extra></extra>",
                      "hovertext": [
                        "28",
                        "5",
                        "1",
                        "7",
                        "29",
                        "8",
                        "4",
                        "3",
                        "27",
                        "6",
                        "2"
                      ],
                      "ids": [
                        "28",
                        "5",
                        "1",
                        "7",
                        "29",
                        "8",
                        "4",
                        "3",
                        "27",
                        "6",
                        "2"
                      ],
                      "legendgroup": "regular",
                      "marker": {
                        "color": "#EF553B",
                        "size": [
                          0.2416666667,
                          4.975,
                          2.216666667,
                          2.541666667,
                          8.65,
                          6.425,
                          5.041666667,
                          7.2,
                          0.08333333333,
                          6.191666667,
                          3.85
                        ],
                        "sizemode": "area",
                        "sizeref": 0.0351493848857645,
                        "symbol": "circle"
                      },
                      "mode": "markers",
                      "name": "regular",
                      "orientation": "v",
                      "showlegend": true,
                      "type": "scatter",
                      "x": [
                        0.025,
                        0.025,
                        0.008333333333,
                        0.025,
                        0.05,
                        0.08333333333,
                        0.05,
                        0.04166666667,
                        0,
                        0.03333333333,
                        0.025
                      ],
                      "xaxis": "x",
                      "y": [
                        0,
                        0,
                        0,
                        0.008333333333,
                        0.008333333333,
                        0.008333333333,
                        0,
                        0,
                        0,
                        0,
                        0
                      ],
                      "yaxis": "y"
                    },
                    {
                      "hovertemplate": "<b>%{hovertext}</b><br><br>DivType=territorial<br>Date=1917-09-09 00:00:00<br>SW120DeathSentences=%{x}<br>SW120execution=%{y}<br>SW120Casualties=%{marker.size}<extra></extra>",
                      "hovertext": [
                        "48",
                        "46",
                        "51",
                        "66"
                      ],
                      "ids": [
                        "48",
                        "46",
                        "51",
                        "66"
                      ],
                      "legendgroup": "territorial",
                      "marker": {
                        "color": "#00CC96",
                        "size": [
                          0.6166666667,
                          1.3,
                          1.516666667,
                          2.716666667
                        ],
                        "sizemode": "area",
                        "sizeref": 0.0351493848857645,
                        "symbol": "circle"
                      },
                      "mode": "markers",
                      "name": "territorial",
                      "orientation": "v",
                      "showlegend": true,
                      "type": "scatter",
                      "x": [
                        0,
                        0,
                        0.025,
                        0.008333333333
                      ],
                      "xaxis": "x",
                      "y": [
                        0,
                        0,
                        0,
                        0
                      ],
                      "yaxis": "y"
                    }
                  ],
                  "name": "1917-09-09 00:00:00"
                },
                {
                  "data": [
                    {
                      "hovertemplate": "<b>%{hovertext}</b><br><br>DivType=new<br>Date=1917-09-10 00:00:00<br>SW120DeathSentences=%{x}<br>SW120execution=%{y}<br>SW120Casualties=%{marker.size}<extra></extra>",
                      "hovertext": [
                        "41",
                        "38",
                        "36",
                        "37"
                      ],
                      "ids": [
                        "41",
                        "38",
                        "36",
                        "37"
                      ],
                      "legendgroup": "new",
                      "marker": {
                        "color": "#636EFA",
                        "size": [
                          0,
                          0,
                          0,
                          0
                        ],
                        "sizemode": "area",
                        "sizeref": 0.0351493848857645,
                        "symbol": "circle"
                      },
                      "mode": "markers",
                      "name": "new",
                      "orientation": "v",
                      "showlegend": true,
                      "type": "scatter",
                      "x": [
                        0.03333333333,
                        0.008333333333,
                        0.008333333333,
                        0.04166666667
                      ],
                      "xaxis": "x",
                      "y": [
                        0.008333333333,
                        0.008333333333,
                        0.008333333333,
                        0.01666666667
                      ],
                      "yaxis": "y"
                    },
                    {
                      "hovertemplate": "<b>%{hovertext}</b><br><br>DivType=territorial<br>Date=1917-09-10 00:00:00<br>SW120DeathSentences=%{x}<br>SW120execution=%{y}<br>SW120Casualties=%{marker.size}<extra></extra>",
                      "hovertext": [
                        "56",
                        "58",
                        "63",
                        "50",
                        "55"
                      ],
                      "ids": [
                        "56",
                        "58",
                        "63",
                        "50",
                        "55"
                      ],
                      "legendgroup": "territorial",
                      "marker": {
                        "color": "#00CC96",
                        "size": [
                          0,
                          0,
                          0,
                          0,
                          0
                        ],
                        "sizemode": "area",
                        "sizeref": 0.0351493848857645,
                        "symbol": "circle"
                      },
                      "mode": "markers",
                      "name": "territorial",
                      "orientation": "v",
                      "showlegend": true,
                      "type": "scatter",
                      "x": [
                        0.05,
                        0.008333333333,
                        0.025,
                        0.05,
                        0.05
                      ],
                      "xaxis": "x",
                      "y": [
                        0.01666666667,
                        0,
                        0,
                        0,
                        0
                      ],
                      "yaxis": "y"
                    }
                  ],
                  "name": "1917-09-10 00:00:00"
                },
                {
                  "data": [
                    {
                      "hovertemplate": "<b>%{hovertext}</b><br><br>DivType=new<br>Date=1917-10-09 00:00:00<br>SW120DeathSentences=%{x}<br>SW120execution=%{y}<br>SW120Casualties=%{marker.size}<extra></extra>",
                      "hovertext": [
                        "23",
                        "19",
                        "20",
                        "17",
                        "9",
                        "11",
                        "35",
                        "12",
                        "16",
                        "30",
                        "21",
                        "10",
                        "34",
                        "13",
                        "25",
                        "33",
                        "32",
                        "39",
                        "18",
                        "14",
                        "15",
                        "24",
                        "31"
                      ],
                      "ids": [
                        "23",
                        "19",
                        "20",
                        "17",
                        "9",
                        "11",
                        "35",
                        "12",
                        "16",
                        "30",
                        "21",
                        "10",
                        "34",
                        "13",
                        "25",
                        "33",
                        "32",
                        "39",
                        "18",
                        "14",
                        "15",
                        "24",
                        "31"
                      ],
                      "legendgroup": "new",
                      "marker": {
                        "color": "#636EFA",
                        "size": [
                          0.6666666667,
                          1.483333333,
                          4.658333333,
                          1.991666667,
                          1.525,
                          4.65,
                          1.025,
                          3.041666667,
                          0.4583333333,
                          0.008333333333,
                          2.891666667,
                          0.1083333333,
                          0,
                          0.2916666667,
                          3.108333333,
                          0,
                          1.5,
                          0.4666666667,
                          3.741666667,
                          3.766666667,
                          7.291666667,
                          5.008333333,
                          0.025
                        ],
                        "sizemode": "area",
                        "sizeref": 0.0351493848857645,
                        "symbol": "circle"
                      },
                      "mode": "markers",
                      "name": "new",
                      "orientation": "v",
                      "showlegend": true,
                      "type": "scatter",
                      "x": [
                        0.09166666667,
                        0.04166666667,
                        0.025,
                        0.06666666667,
                        0.008333333333,
                        0,
                        0,
                        0.05833333333,
                        0.025,
                        0.075,
                        0.05833333333,
                        0.01666666667,
                        0.1,
                        0.008333333333,
                        0.03333333333,
                        0.008333333333,
                        0.05,
                        0.008333333333,
                        0.05833333333,
                        0.075,
                        0.025,
                        0.05833333333,
                        0.01666666667
                      ],
                      "xaxis": "x",
                      "y": [
                        0.008333333333,
                        0.008333333333,
                        0.01666666667,
                        0.025,
                        0,
                        0,
                        0,
                        0.01666666667,
                        0.008333333333,
                        0.01666666667,
                        0,
                        0,
                        0,
                        0,
                        0.008333333333,
                        0,
                        0.008333333333,
                        0.008333333333,
                        0.01666666667,
                        0.008333333333,
                        0.008333333333,
                        0.008333333333,
                        0
                      ],
                      "yaxis": "y"
                    },
                    {
                      "hovertemplate": "<b>%{hovertext}</b><br><br>DivType=regular<br>Date=1917-10-09 00:00:00<br>SW120DeathSentences=%{x}<br>SW120execution=%{y}<br>SW120Casualties=%{marker.size}<extra></extra>",
                      "hovertext": [
                        "6",
                        "4",
                        "1",
                        "8",
                        "5",
                        "28",
                        "29",
                        "7",
                        "3",
                        "2",
                        "27"
                      ],
                      "ids": [
                        "6",
                        "4",
                        "1",
                        "8",
                        "5",
                        "28",
                        "29",
                        "7",
                        "3",
                        "2",
                        "27"
                      ],
                      "legendgroup": "regular",
                      "marker": {
                        "color": "#EF553B",
                        "size": [
                          3.941666667,
                          1.4,
                          2.216666667,
                          7.7,
                          2.508333333,
                          0.2583333333,
                          5.283333333,
                          2.333333333,
                          4.708333333,
                          2.641666667,
                          0.09166666667
                        ],
                        "sizemode": "area",
                        "sizeref": 0.0351493848857645,
                        "symbol": "circle"
                      },
                      "mode": "markers",
                      "name": "regular",
                      "orientation": "v",
                      "showlegend": true,
                      "type": "scatter",
                      "x": [
                        0.04166666667,
                        0.03333333333,
                        0.008333333333,
                        0.06666666667,
                        0.01666666667,
                        0.008333333333,
                        0.06666666667,
                        0.01666666667,
                        0.04166666667,
                        0.01666666667,
                        0
                      ],
                      "xaxis": "x",
                      "y": [
                        0,
                        0,
                        0,
                        0.008333333333,
                        0,
                        0,
                        0.008333333333,
                        0,
                        0,
                        0,
                        0
                      ],
                      "yaxis": "y"
                    },
                    {
                      "hovertemplate": "<b>%{hovertext}</b><br><br>DivType=territorial<br>Date=1917-10-09 00:00:00<br>SW120DeathSentences=%{x}<br>SW120execution=%{y}<br>SW120Casualties=%{marker.size}<extra></extra>",
                      "hovertext": [
                        "48",
                        "46",
                        "66",
                        "51"
                      ],
                      "ids": [
                        "48",
                        "46",
                        "66",
                        "51"
                      ],
                      "legendgroup": "territorial",
                      "marker": {
                        "color": "#00CC96",
                        "size": [
                          0.7666666667,
                          1.158333333,
                          2.525,
                          0.4416666667
                        ],
                        "sizemode": "area",
                        "sizeref": 0.0351493848857645,
                        "symbol": "circle"
                      },
                      "mode": "markers",
                      "name": "territorial",
                      "orientation": "v",
                      "showlegend": true,
                      "type": "scatter",
                      "x": [
                        0.025,
                        0,
                        0.01666666667,
                        0.03333333333
                      ],
                      "xaxis": "x",
                      "y": [
                        0.008333333333,
                        0,
                        0,
                        0.008333333333
                      ],
                      "yaxis": "y"
                    }
                  ],
                  "name": "1917-10-09 00:00:00"
                },
                {
                  "data": [
                    {
                      "hovertemplate": "<b>%{hovertext}</b><br><br>DivType=new<br>Date=1917-10-10 00:00:00<br>SW120DeathSentences=%{x}<br>SW120execution=%{y}<br>SW120Casualties=%{marker.size}<extra></extra>",
                      "hovertext": [
                        "36",
                        "41",
                        "37",
                        "38"
                      ],
                      "ids": [
                        "36",
                        "41",
                        "37",
                        "38"
                      ],
                      "legendgroup": "new",
                      "marker": {
                        "color": "#636EFA",
                        "size": [
                          0,
                          0,
                          0,
                          0
                        ],
                        "sizemode": "area",
                        "sizeref": 0.0351493848857645,
                        "symbol": "circle"
                      },
                      "mode": "markers",
                      "name": "new",
                      "orientation": "v",
                      "showlegend": true,
                      "type": "scatter",
                      "x": [
                        0.03333333333,
                        0.025,
                        0.05833333333,
                        0.008333333333
                      ],
                      "xaxis": "x",
                      "y": [
                        0,
                        0.008333333333,
                        0.01666666667,
                        0
                      ],
                      "yaxis": "y"
                    },
                    {
                      "hovertemplate": "<b>%{hovertext}</b><br><br>DivType=territorial<br>Date=1917-10-10 00:00:00<br>SW120DeathSentences=%{x}<br>SW120execution=%{y}<br>SW120Casualties=%{marker.size}<extra></extra>",
                      "hovertext": [
                        "55",
                        "50",
                        "58",
                        "56",
                        "63"
                      ],
                      "ids": [
                        "55",
                        "50",
                        "58",
                        "56",
                        "63"
                      ],
                      "legendgroup": "territorial",
                      "marker": {
                        "color": "#00CC96",
                        "size": [
                          0,
                          0,
                          0,
                          0,
                          0
                        ],
                        "sizemode": "area",
                        "sizeref": 0.0351493848857645,
                        "symbol": "circle"
                      },
                      "mode": "markers",
                      "name": "territorial",
                      "orientation": "v",
                      "showlegend": true,
                      "type": "scatter",
                      "x": [
                        0.05833333333,
                        0.04166666667,
                        0,
                        0.05,
                        0.025
                      ],
                      "xaxis": "x",
                      "y": [
                        0,
                        0,
                        0,
                        0.01666666667,
                        0
                      ],
                      "yaxis": "y"
                    }
                  ],
                  "name": "1917-10-10 00:00:00"
                },
                {
                  "data": [
                    {
                      "hovertemplate": "<b>%{hovertext}</b><br><br>DivType=new<br>Date=1917-11-08 00:00:00<br>SW120DeathSentences=%{x}<br>SW120execution=%{y}<br>SW120Casualties=%{marker.size}<extra></extra>",
                      "hovertext": [
                        "33",
                        "24",
                        "31",
                        "10",
                        "25",
                        "13",
                        "15",
                        "14",
                        "30",
                        "12",
                        "11",
                        "16",
                        "32",
                        "17",
                        "18",
                        "39",
                        "23",
                        "21",
                        "34",
                        "19",
                        "9",
                        "20",
                        "35"
                      ],
                      "ids": [
                        "33",
                        "24",
                        "31",
                        "10",
                        "25",
                        "13",
                        "15",
                        "14",
                        "30",
                        "12",
                        "11",
                        "16",
                        "32",
                        "17",
                        "18",
                        "39",
                        "23",
                        "21",
                        "34",
                        "19",
                        "9",
                        "20",
                        "35"
                      ],
                      "legendgroup": "new",
                      "marker": {
                        "color": "#636EFA",
                        "size": [
                          0,
                          5.141666667,
                          0.01666666667,
                          0.125,
                          2.608333333,
                          0.25,
                          8.008333333,
                          4.3,
                          0.01666666667,
                          3.166666667,
                          6.158333333,
                          0.3166666667,
                          1.716666667,
                          1.241666667,
                          3.633333333,
                          0.5166666667,
                          1.433333333,
                          4.025,
                          0,
                          2.4,
                          2.2,
                          7.8,
                          0.9916666667
                        ],
                        "sizemode": "area",
                        "sizeref": 0.0351493848857645,
                        "symbol": "circle"
                      },
                      "mode": "markers",
                      "name": "new",
                      "orientation": "v",
                      "showlegend": true,
                      "type": "scatter",
                      "x": [
                        0.01666666667,
                        0.08333333333,
                        0.01666666667,
                        0.008333333333,
                        0.05833333333,
                        0.03333333333,
                        0.05833333333,
                        0.05,
                        0.075,
                        0.025,
                        0.008333333333,
                        0.008333333333,
                        0.03333333333,
                        0.075,
                        0.06666666667,
                        0.01666666667,
                        0.125,
                        0.04166666667,
                        0.09166666667,
                        0.03333333333,
                        0,
                        0.03333333333,
                        0
                      ],
                      "xaxis": "x",
                      "y": [
                        0.008333333333,
                        0.008333333333,
                        0,
                        0,
                        0.01666666667,
                        0,
                        0.01666666667,
                        0.008333333333,
                        0.01666666667,
                        0,
                        0,
                        0,
                        0.008333333333,
                        0.025,
                        0.01666666667,
                        0.008333333333,
                        0.01666666667,
                        0,
                        0.01666666667,
                        0.01666666667,
                        0,
                        0.01666666667,
                        0
                      ],
                      "yaxis": "y"
                    },
                    {
                      "hovertemplate": "<b>%{hovertext}</b><br><br>DivType=regular<br>Date=1917-11-08 00:00:00<br>SW120DeathSentences=%{x}<br>SW120execution=%{y}<br>SW120Casualties=%{marker.size}<extra></extra>",
                      "hovertext": [
                        "5",
                        "3",
                        "6",
                        "1",
                        "29",
                        "7",
                        "28",
                        "27",
                        "8",
                        "4",
                        "2"
                      ],
                      "ids": [
                        "5",
                        "3",
                        "6",
                        "1",
                        "29",
                        "7",
                        "28",
                        "27",
                        "8",
                        "4",
                        "2"
                      ],
                      "legendgroup": "regular",
                      "marker": {
                        "color": "#EF553B",
                        "size": [
                          3.783333333,
                          5.233333333,
                          4.058333333,
                          2.15,
                          5.333333333,
                          2.991666667,
                          0.1833333333,
                          0.1166666667,
                          8.175,
                          3.908333333,
                          3.241666667
                        ],
                        "sizemode": "area",
                        "sizeref": 0.0351493848857645,
                        "symbol": "circle"
                      },
                      "mode": "markers",
                      "name": "regular",
                      "orientation": "v",
                      "showlegend": true,
                      "type": "scatter",
                      "x": [
                        0.01666666667,
                        0.03333333333,
                        0.04166666667,
                        0.008333333333,
                        0.04166666667,
                        0.008333333333,
                        0.01666666667,
                        0.008333333333,
                        0.1083333333,
                        0.025,
                        0.03333333333
                      ],
                      "xaxis": "x",
                      "y": [
                        0,
                        0,
                        0,
                        0,
                        0,
                        0,
                        0,
                        0,
                        0.01666666667,
                        0,
                        0
                      ],
                      "yaxis": "y"
                    },
                    {
                      "hovertemplate": "<b>%{hovertext}</b><br><br>DivType=territorial<br>Date=1917-11-08 00:00:00<br>SW120DeathSentences=%{x}<br>SW120execution=%{y}<br>SW120Casualties=%{marker.size}<extra></extra>",
                      "hovertext": [
                        "51",
                        "66",
                        "48",
                        "46"
                      ],
                      "ids": [
                        "51",
                        "66",
                        "48",
                        "46"
                      ],
                      "legendgroup": "territorial",
                      "marker": {
                        "color": "#00CC96",
                        "size": [
                          0.8666666667,
                          5.158333333,
                          1.208333333,
                          0.7833333333
                        ],
                        "sizemode": "area",
                        "sizeref": 0.0351493848857645,
                        "symbol": "circle"
                      },
                      "mode": "markers",
                      "name": "territorial",
                      "orientation": "v",
                      "showlegend": true,
                      "type": "scatter",
                      "x": [
                        0.04166666667,
                        0.01666666667,
                        0.025,
                        0
                      ],
                      "xaxis": "x",
                      "y": [
                        0.008333333333,
                        0,
                        0.008333333333,
                        0
                      ],
                      "yaxis": "y"
                    }
                  ],
                  "name": "1917-11-08 00:00:00"
                },
                {
                  "data": [
                    {
                      "hovertemplate": "<b>%{hovertext}</b><br><br>DivType=new<br>Date=1917-11-09 00:00:00<br>SW120DeathSentences=%{x}<br>SW120execution=%{y}<br>SW120Casualties=%{marker.size}<extra></extra>",
                      "hovertext": [
                        "41",
                        "36",
                        "38",
                        "37"
                      ],
                      "ids": [
                        "41",
                        "36",
                        "38",
                        "37"
                      ],
                      "legendgroup": "new",
                      "marker": {
                        "color": "#636EFA",
                        "size": [
                          0,
                          0,
                          0,
                          0
                        ],
                        "sizemode": "area",
                        "sizeref": 0.0351493848857645,
                        "symbol": "circle"
                      },
                      "mode": "markers",
                      "name": "new",
                      "orientation": "v",
                      "showlegend": true,
                      "type": "scatter",
                      "x": [
                        0.03333333333,
                        0.03333333333,
                        0.008333333333,
                        0.05
                      ],
                      "xaxis": "x",
                      "y": [
                        0.008333333333,
                        0,
                        0,
                        0.008333333333
                      ],
                      "yaxis": "y"
                    },
                    {
                      "hovertemplate": "<b>%{hovertext}</b><br><br>DivType=territorial<br>Date=1917-11-09 00:00:00<br>SW120DeathSentences=%{x}<br>SW120execution=%{y}<br>SW120Casualties=%{marker.size}<extra></extra>",
                      "hovertext": [
                        "56",
                        "58",
                        "55",
                        "63",
                        "50"
                      ],
                      "ids": [
                        "56",
                        "58",
                        "55",
                        "63",
                        "50"
                      ],
                      "legendgroup": "territorial",
                      "marker": {
                        "color": "#00CC96",
                        "size": [
                          0,
                          0,
                          0,
                          0,
                          0
                        ],
                        "sizemode": "area",
                        "sizeref": 0.0351493848857645,
                        "symbol": "circle"
                      },
                      "mode": "markers",
                      "name": "territorial",
                      "orientation": "v",
                      "showlegend": true,
                      "type": "scatter",
                      "x": [
                        0.03333333333,
                        0,
                        0.025,
                        0.008333333333,
                        0.04166666667
                      ],
                      "xaxis": "x",
                      "y": [
                        0.008333333333,
                        0,
                        0,
                        0,
                        0
                      ],
                      "yaxis": "y"
                    }
                  ],
                  "name": "1917-11-09 00:00:00"
                },
                {
                  "data": [
                    {
                      "hovertemplate": "<b>%{hovertext}</b><br><br>DivType=new<br>Date=1917-12-08 00:00:00<br>SW120DeathSentences=%{x}<br>SW120execution=%{y}<br>SW120Casualties=%{marker.size}<extra></extra>",
                      "hovertext": [
                        "9",
                        "17",
                        "14",
                        "24",
                        "34",
                        "32",
                        "15",
                        "25",
                        "21",
                        "11",
                        "39",
                        "10",
                        "19",
                        "31",
                        "35",
                        "12",
                        "30",
                        "13",
                        "18",
                        "23",
                        "20",
                        "16",
                        "33"
                      ],
                      "ids": [
                        "9",
                        "17",
                        "14",
                        "24",
                        "34",
                        "32",
                        "15",
                        "25",
                        "21",
                        "11",
                        "39",
                        "10",
                        "19",
                        "31",
                        "35",
                        "12",
                        "30",
                        "13",
                        "18",
                        "23",
                        "20",
                        "16",
                        "33"
                      ],
                      "legendgroup": "new",
                      "marker": {
                        "color": "#636EFA",
                        "size": [
                          4.6,
                          2.408333333,
                          7.1,
                          3.866666667,
                          0,
                          1.275,
                          7.866666667,
                          2.591666667,
                          3.716666667,
                          6.091666667,
                          0.4,
                          0.08333333333,
                          2.133333333,
                          0.01666666667,
                          2.075,
                          2.825,
                          0.008333333333,
                          0.3083333333,
                          5.825,
                          1.8,
                          8.825,
                          0.2833333333,
                          0
                        ],
                        "sizemode": "area",
                        "sizeref": 0.0351493848857645,
                        "symbol": "circle"
                      },
                      "mode": "markers",
                      "name": "new",
                      "orientation": "v",
                      "showlegend": true,
                      "type": "scatter",
                      "x": [
                        0,
                        0.05833333333,
                        0.03333333333,
                        0.1,
                        0.09166666667,
                        0.03333333333,
                        0.075,
                        0.05833333333,
                        0.08333333333,
                        0.008333333333,
                        0.025,
                        0.008333333333,
                        0.03333333333,
                        0,
                        0,
                        0.01666666667,
                        0.06666666667,
                        0.03333333333,
                        0.08333333333,
                        0.1166666667,
                        0.03333333333,
                        0.008333333333,
                        0.04166666667
                      ],
                      "xaxis": "x",
                      "y": [
                        0,
                        0.025,
                        0,
                        0.008333333333,
                        0.01666666667,
                        0.01666666667,
                        0.025,
                        0.01666666667,
                        0,
                        0,
                        0.008333333333,
                        0,
                        0.008333333333,
                        0,
                        0,
                        0,
                        0.01666666667,
                        0,
                        0.025,
                        0.025,
                        0.01666666667,
                        0,
                        0.01666666667
                      ],
                      "yaxis": "y"
                    },
                    {
                      "hovertemplate": "<b>%{hovertext}</b><br><br>DivType=regular<br>Date=1917-12-08 00:00:00<br>SW120DeathSentences=%{x}<br>SW120execution=%{y}<br>SW120Casualties=%{marker.size}<extra></extra>",
                      "hovertext": [
                        "28",
                        "8",
                        "27",
                        "3",
                        "6",
                        "29",
                        "2",
                        "7",
                        "4",
                        "1",
                        "5"
                      ],
                      "ids": [
                        "28",
                        "8",
                        "27",
                        "3",
                        "6",
                        "29",
                        "2",
                        "7",
                        "4",
                        "1",
                        "5"
                      ],
                      "legendgroup": "regular",
                      "marker": {
                        "color": "#EF553B",
                        "size": [
                          0.2,
                          7.975,
                          0.1666666667,
                          4.416666667,
                          3.75,
                          5.341666667,
                          3.5,
                          4.375,
                          4.7,
                          0.8083333333,
                          3.283333333
                        ],
                        "sizemode": "area",
                        "sizeref": 0.0351493848857645,
                        "symbol": "circle"
                      },
                      "mode": "markers",
                      "name": "regular",
                      "orientation": "v",
                      "showlegend": true,
                      "type": "scatter",
                      "x": [
                        0.01666666667,
                        0.1,
                        0.008333333333,
                        0.03333333333,
                        0.04166666667,
                        0.05,
                        0.05833333333,
                        0.05,
                        0.01666666667,
                        0.008333333333,
                        0.008333333333
                      ],
                      "xaxis": "x",
                      "y": [
                        0,
                        0.025,
                        0,
                        0,
                        0,
                        0.008333333333,
                        0.01666666667,
                        0.008333333333,
                        0,
                        0,
                        0
                      ],
                      "yaxis": "y"
                    },
                    {
                      "hovertemplate": "<b>%{hovertext}</b><br><br>DivType=territorial<br>Date=1917-12-08 00:00:00<br>SW120DeathSentences=%{x}<br>SW120execution=%{y}<br>SW120Casualties=%{marker.size}<extra></extra>",
                      "hovertext": [
                        "46",
                        "51",
                        "66",
                        "48"
                      ],
                      "ids": [
                        "46",
                        "51",
                        "66",
                        "48"
                      ],
                      "legendgroup": "territorial",
                      "marker": {
                        "color": "#00CC96",
                        "size": [
                          0.375,
                          0.9083333333,
                          5.25,
                          1.325
                        ],
                        "sizemode": "area",
                        "sizeref": 0.0351493848857645,
                        "symbol": "circle"
                      },
                      "mode": "markers",
                      "name": "territorial",
                      "orientation": "v",
                      "showlegend": true,
                      "type": "scatter",
                      "x": [
                        0.01666666667,
                        0.04166666667,
                        0.03333333333,
                        0.025
                      ],
                      "xaxis": "x",
                      "y": [
                        0,
                        0.008333333333,
                        0.008333333333,
                        0.008333333333
                      ],
                      "yaxis": "y"
                    }
                  ],
                  "name": "1917-12-08 00:00:00"
                },
                {
                  "data": [
                    {
                      "hovertemplate": "<b>%{hovertext}</b><br><br>DivType=new<br>Date=1917-12-09 00:00:00<br>SW120DeathSentences=%{x}<br>SW120execution=%{y}<br>SW120Casualties=%{marker.size}<extra></extra>",
                      "hovertext": [
                        "41",
                        "37",
                        "36",
                        "38"
                      ],
                      "ids": [
                        "41",
                        "37",
                        "36",
                        "38"
                      ],
                      "legendgroup": "new",
                      "marker": {
                        "color": "#636EFA",
                        "size": [
                          0,
                          0,
                          0,
                          0
                        ],
                        "sizemode": "area",
                        "sizeref": 0.0351493848857645,
                        "symbol": "circle"
                      },
                      "mode": "markers",
                      "name": "new",
                      "orientation": "v",
                      "showlegend": true,
                      "type": "scatter",
                      "x": [
                        0.03333333333,
                        0.05833333333,
                        0.05,
                        0.01666666667
                      ],
                      "xaxis": "x",
                      "y": [
                        0.008333333333,
                        0.008333333333,
                        0.008333333333,
                        0.008333333333
                      ],
                      "yaxis": "y"
                    },
                    {
                      "hovertemplate": "<b>%{hovertext}</b><br><br>DivType=territorial<br>Date=1917-12-09 00:00:00<br>SW120DeathSentences=%{x}<br>SW120execution=%{y}<br>SW120Casualties=%{marker.size}<extra></extra>",
                      "hovertext": [
                        "58",
                        "55",
                        "56",
                        "50",
                        "63"
                      ],
                      "ids": [
                        "58",
                        "55",
                        "56",
                        "50",
                        "63"
                      ],
                      "legendgroup": "territorial",
                      "marker": {
                        "color": "#00CC96",
                        "size": [
                          0,
                          0,
                          0,
                          0,
                          0
                        ],
                        "sizemode": "area",
                        "sizeref": 0.0351493848857645,
                        "symbol": "circle"
                      },
                      "mode": "markers",
                      "name": "territorial",
                      "orientation": "v",
                      "showlegend": true,
                      "type": "scatter",
                      "x": [
                        0,
                        0.04166666667,
                        0.01666666667,
                        0.01666666667,
                        0.008333333333
                      ],
                      "xaxis": "x",
                      "y": [
                        0,
                        0,
                        0,
                        0.008333333333,
                        0
                      ],
                      "yaxis": "y"
                    }
                  ],
                  "name": "1917-12-09 00:00:00"
                },
                {
                  "data": [
                    {
                      "hovertemplate": "<b>%{hovertext}</b><br><br>DivType=new<br>Date=1918-01-07 00:00:00<br>SW120DeathSentences=%{x}<br>SW120execution=%{y}<br>SW120Casualties=%{marker.size}<extra></extra>",
                      "hovertext": [
                        "35",
                        "12",
                        "24",
                        "32",
                        "18",
                        "39",
                        "15",
                        "9",
                        "33",
                        "19",
                        "30",
                        "14",
                        "34",
                        "11",
                        "25",
                        "31",
                        "23",
                        "21",
                        "17",
                        "20",
                        "10",
                        "13",
                        "16"
                      ],
                      "ids": [
                        "35",
                        "12",
                        "24",
                        "32",
                        "18",
                        "39",
                        "15",
                        "9",
                        "33",
                        "19",
                        "30",
                        "14",
                        "34",
                        "11",
                        "25",
                        "31",
                        "23",
                        "21",
                        "17",
                        "20",
                        "10",
                        "13",
                        "16"
                      ],
                      "legendgroup": "new",
                      "marker": {
                        "color": "#636EFA",
                        "size": [
                          2.033333333,
                          4.866666667,
                          2.533333333,
                          1.583333333,
                          4.183333333,
                          0.6333333333,
                          5.516666667,
                          4.441666667,
                          0,
                          1.625,
                          0.008333333333,
                          7.533333333,
                          0,
                          5.941666667,
                          1.525,
                          0.01666666667,
                          1.691666667,
                          2.275,
                          2.808333333,
                          12.88333333,
                          0.09166666667,
                          0.3083333333,
                          0.3916666667
                        ],
                        "sizemode": "area",
                        "sizeref": 0.0351493848857645,
                        "symbol": "circle"
                      },
                      "mode": "markers",
                      "name": "new",
                      "orientation": "v",
                      "showlegend": true,
                      "type": "scatter",
                      "x": [
                        0.01666666667,
                        0.008333333333,
                        0.09166666667,
                        0.025,
                        0.09166666667,
                        0.025,
                        0.06666666667,
                        0.008333333333,
                        0.05,
                        0.04166666667,
                        0.06666666667,
                        0.01666666667,
                        0.08333333333,
                        0.008333333333,
                        0.05,
                        0,
                        0.09166666667,
                        0.09166666667,
                        0.05,
                        0.03333333333,
                        0.008333333333,
                        0.04166666667,
                        0.008333333333
                      ],
                      "xaxis": "x",
                      "y": [
                        0,
                        0,
                        0.008333333333,
                        0.01666666667,
                        0.025,
                        0.008333333333,
                        0.025,
                        0,
                        0.01666666667,
                        0.008333333333,
                        0.01666666667,
                        0,
                        0.01666666667,
                        0,
                        0.01666666667,
                        0,
                        0.025,
                        0,
                        0.01666666667,
                        0.01666666667,
                        0,
                        0,
                        0
                      ],
                      "yaxis": "y"
                    },
                    {
                      "hovertemplate": "<b>%{hovertext}</b><br><br>DivType=regular<br>Date=1918-01-07 00:00:00<br>SW120DeathSentences=%{x}<br>SW120execution=%{y}<br>SW120Casualties=%{marker.size}<extra></extra>",
                      "hovertext": [
                        "4",
                        "3",
                        "5",
                        "8",
                        "2",
                        "7",
                        "27",
                        "1",
                        "29",
                        "6",
                        "28"
                      ],
                      "ids": [
                        "4",
                        "3",
                        "5",
                        "8",
                        "2",
                        "7",
                        "27",
                        "1",
                        "29",
                        "6",
                        "28"
                      ],
                      "legendgroup": "regular",
                      "marker": {
                        "color": "#EF553B",
                        "size": [
                          4.5,
                          3.391666667,
                          3.175,
                          6.558333333,
                          3.85,
                          3.633333333,
                          0.1583333333,
                          1.9,
                          7.366666667,
                          3.283333333,
                          0.2083333333
                        ],
                        "sizemode": "area",
                        "sizeref": 0.0351493848857645,
                        "symbol": "circle"
                      },
                      "mode": "markers",
                      "name": "regular",
                      "orientation": "v",
                      "showlegend": true,
                      "type": "scatter",
                      "x": [
                        0.008333333333,
                        0.05,
                        0,
                        0.06666666667,
                        0.05833333333,
                        0.05,
                        0.008333333333,
                        0.008333333333,
                        0.05,
                        0.03333333333,
                        0.008333333333
                      ],
                      "xaxis": "x",
                      "y": [
                        0,
                        0,
                        0,
                        0.01666666667,
                        0.01666666667,
                        0.008333333333,
                        0,
                        0,
                        0.008333333333,
                        0,
                        0
                      ],
                      "yaxis": "y"
                    },
                    {
                      "hovertemplate": "<b>%{hovertext}</b><br><br>DivType=territorial<br>Date=1918-01-07 00:00:00<br>SW120DeathSentences=%{x}<br>SW120execution=%{y}<br>SW120Casualties=%{marker.size}<extra></extra>",
                      "hovertext": [
                        "46",
                        "51",
                        "48",
                        "66"
                      ],
                      "ids": [
                        "46",
                        "51",
                        "48",
                        "66"
                      ],
                      "legendgroup": "territorial",
                      "marker": {
                        "color": "#00CC96",
                        "size": [
                          0.4083333333,
                          0.95,
                          1.325,
                          5.066666667
                        ],
                        "sizemode": "area",
                        "sizeref": 0.0351493848857645,
                        "symbol": "circle"
                      },
                      "mode": "markers",
                      "name": "territorial",
                      "orientation": "v",
                      "showlegend": true,
                      "type": "scatter",
                      "x": [
                        0.03333333333,
                        0.03333333333,
                        0.025,
                        0.03333333333
                      ],
                      "xaxis": "x",
                      "y": [
                        0,
                        0.008333333333,
                        0.008333333333,
                        0.008333333333
                      ],
                      "yaxis": "y"
                    }
                  ],
                  "name": "1918-01-07 00:00:00"
                },
                {
                  "data": [
                    {
                      "hovertemplate": "<b>%{hovertext}</b><br><br>DivType=new<br>Date=1918-01-08 00:00:00<br>SW120DeathSentences=%{x}<br>SW120execution=%{y}<br>SW120Casualties=%{marker.size}<extra></extra>",
                      "hovertext": [
                        "36",
                        "37",
                        "41",
                        "38"
                      ],
                      "ids": [
                        "36",
                        "37",
                        "41",
                        "38"
                      ],
                      "legendgroup": "new",
                      "marker": {
                        "color": "#636EFA",
                        "size": [
                          0,
                          0,
                          0,
                          0
                        ],
                        "sizemode": "area",
                        "sizeref": 0.0351493848857645,
                        "symbol": "circle"
                      },
                      "mode": "markers",
                      "name": "new",
                      "orientation": "v",
                      "showlegend": true,
                      "type": "scatter",
                      "x": [
                        0.05,
                        0.03333333333,
                        0.025,
                        0.025
                      ],
                      "xaxis": "x",
                      "y": [
                        0.008333333333,
                        0,
                        0.008333333333,
                        0.008333333333
                      ],
                      "yaxis": "y"
                    },
                    {
                      "hovertemplate": "<b>%{hovertext}</b><br><br>DivType=territorial<br>Date=1918-01-08 00:00:00<br>SW120DeathSentences=%{x}<br>SW120execution=%{y}<br>SW120Casualties=%{marker.size}<extra></extra>",
                      "hovertext": [
                        "56",
                        "55",
                        "50",
                        "58",
                        "63"
                      ],
                      "ids": [
                        "56",
                        "55",
                        "50",
                        "58",
                        "63"
                      ],
                      "legendgroup": "territorial",
                      "marker": {
                        "color": "#00CC96",
                        "size": [
                          0,
                          0,
                          0,
                          0,
                          0
                        ],
                        "sizemode": "area",
                        "sizeref": 0.0351493848857645,
                        "symbol": "circle"
                      },
                      "mode": "markers",
                      "name": "territorial",
                      "orientation": "v",
                      "showlegend": true,
                      "type": "scatter",
                      "x": [
                        0.01666666667,
                        0.03333333333,
                        0.05833333333,
                        0.008333333333,
                        0.008333333333
                      ],
                      "xaxis": "x",
                      "y": [
                        0,
                        0,
                        0.01666666667,
                        0.008333333333,
                        0
                      ],
                      "yaxis": "y"
                    }
                  ],
                  "name": "1918-01-08 00:00:00"
                },
                {
                  "data": [
                    {
                      "hovertemplate": "<b>%{hovertext}</b><br><br>DivType=new<br>Date=1918-02-06 00:00:00<br>SW120DeathSentences=%{x}<br>SW120execution=%{y}<br>SW120Casualties=%{marker.size}<extra></extra>",
                      "hovertext": [
                        "30",
                        "12",
                        "39",
                        "18",
                        "21",
                        "33",
                        "14",
                        "16",
                        "34",
                        "19",
                        "17",
                        "24",
                        "20",
                        "25",
                        "10",
                        "15",
                        "11",
                        "23",
                        "32",
                        "9",
                        "35",
                        "13",
                        "31"
                      ],
                      "ids": [
                        "30",
                        "12",
                        "39",
                        "18",
                        "21",
                        "33",
                        "14",
                        "16",
                        "34",
                        "19",
                        "17",
                        "24",
                        "20",
                        "25",
                        "10",
                        "15",
                        "11",
                        "23",
                        "32",
                        "9",
                        "35",
                        "13",
                        "31"
                      ],
                      "legendgroup": "new",
                      "marker": {
                        "color": "#636EFA",
                        "size": [
                          0.008333333333,
                          4.633333333,
                          0.575,
                          3.291666667,
                          2.133333333,
                          0,
                          5.108333333,
                          0.3666666667,
                          0,
                          1.683333333,
                          2.65,
                          2.041666667,
                          10.14166667,
                          0.4916666667,
                          0.08333333333,
                          2.225,
                          2.975,
                          1.691666667,
                          1.458333333,
                          4.966666667,
                          1.283333333,
                          0.35,
                          0.01666666667
                        ],
                        "sizemode": "area",
                        "sizeref": 0.0351493848857645,
                        "symbol": "circle"
                      },
                      "mode": "markers",
                      "name": "new",
                      "orientation": "v",
                      "showlegend": true,
                      "type": "scatter",
                      "x": [
                        0.008333333333,
                        0,
                        0.01666666667,
                        0.05833333333,
                        0.09166666667,
                        0.04166666667,
                        0,
                        0.008333333333,
                        0.075,
                        0.04166666667,
                        0.03333333333,
                        0.05833333333,
                        0.01666666667,
                        0.03333333333,
                        0.008333333333,
                        0.075,
                        0.01666666667,
                        0.09166666667,
                        0.03333333333,
                        0.008333333333,
                        0.025,
                        0.03333333333,
                        0.01666666667
                      ],
                      "xaxis": "x",
                      "y": [
                        0,
                        0,
                        0,
                        0.008333333333,
                        0,
                        0.01666666667,
                        0,
                        0,
                        0.01666666667,
                        0.008333333333,
                        0,
                        0,
                        0.008333333333,
                        0.008333333333,
                        0,
                        0.025,
                        0,
                        0.01666666667,
                        0.008333333333,
                        0,
                        0,
                        0,
                        0
                      ],
                      "yaxis": "y"
                    },
                    {
                      "hovertemplate": "<b>%{hovertext}</b><br><br>DivType=regular<br>Date=1918-02-06 00:00:00<br>SW120DeathSentences=%{x}<br>SW120execution=%{y}<br>SW120Casualties=%{marker.size}<extra></extra>",
                      "hovertext": [
                        "4",
                        "5",
                        "27",
                        "28",
                        "2",
                        "6",
                        "3",
                        "1",
                        "7",
                        "8",
                        "29"
                      ],
                      "ids": [
                        "4",
                        "5",
                        "27",
                        "28",
                        "2",
                        "6",
                        "3",
                        "1",
                        "7",
                        "8",
                        "29"
                      ],
                      "legendgroup": "regular",
                      "marker": {
                        "color": "#EF553B",
                        "size": [
                          4.5,
                          3.083333333,
                          0.1416666667,
                          0.1916666667,
                          3.741666667,
                          3.058333333,
                          3.175,
                          1.808333333,
                          3.566666667,
                          4.391666667,
                          5.133333333
                        ],
                        "sizemode": "area",
                        "sizeref": 0.0351493848857645,
                        "symbol": "circle"
                      },
                      "mode": "markers",
                      "name": "regular",
                      "orientation": "v",
                      "showlegend": true,
                      "type": "scatter",
                      "x": [
                        0.008333333333,
                        0,
                        0.008333333333,
                        0.01666666667,
                        0.05833333333,
                        0.03333333333,
                        0.05,
                        0.01666666667,
                        0.04166666667,
                        0.075,
                        0.025
                      ],
                      "xaxis": "x",
                      "y": [
                        0,
                        0,
                        0,
                        0,
                        0.01666666667,
                        0,
                        0,
                        0,
                        0.008333333333,
                        0.01666666667,
                        0.008333333333
                      ],
                      "yaxis": "y"
                    },
                    {
                      "hovertemplate": "<b>%{hovertext}</b><br><br>DivType=territorial<br>Date=1918-02-06 00:00:00<br>SW120DeathSentences=%{x}<br>SW120execution=%{y}<br>SW120Casualties=%{marker.size}<extra></extra>",
                      "hovertext": [
                        "51",
                        "48",
                        "66",
                        "46"
                      ],
                      "ids": [
                        "51",
                        "48",
                        "66",
                        "46"
                      ],
                      "legendgroup": "territorial",
                      "marker": {
                        "color": "#00CC96",
                        "size": [
                          0.9,
                          0.6666666667,
                          4.8,
                          0.2916666667
                        ],
                        "sizemode": "area",
                        "sizeref": 0.0351493848857645,
                        "symbol": "circle"
                      },
                      "mode": "markers",
                      "name": "territorial",
                      "orientation": "v",
                      "showlegend": true,
                      "type": "scatter",
                      "x": [
                        0.03333333333,
                        0,
                        0.025,
                        0.03333333333
                      ],
                      "xaxis": "x",
                      "y": [
                        0,
                        0,
                        0.008333333333,
                        0
                      ],
                      "yaxis": "y"
                    }
                  ],
                  "name": "1918-02-06 00:00:00"
                },
                {
                  "data": [
                    {
                      "hovertemplate": "<b>%{hovertext}</b><br><br>DivType=new<br>Date=1918-02-07 00:00:00<br>SW120DeathSentences=%{x}<br>SW120execution=%{y}<br>SW120Casualties=%{marker.size}<extra></extra>",
                      "hovertext": [
                        "41",
                        "38",
                        "36",
                        "37"
                      ],
                      "ids": [
                        "41",
                        "38",
                        "36",
                        "37"
                      ],
                      "legendgroup": "new",
                      "marker": {
                        "color": "#636EFA",
                        "size": [
                          0,
                          0,
                          0,
                          0
                        ],
                        "sizemode": "area",
                        "sizeref": 0.0351493848857645,
                        "symbol": "circle"
                      },
                      "mode": "markers",
                      "name": "new",
                      "orientation": "v",
                      "showlegend": true,
                      "type": "scatter",
                      "x": [
                        0.01666666667,
                        0.025,
                        0.025,
                        0.01666666667
                      ],
                      "xaxis": "x",
                      "y": [
                        0.008333333333,
                        0.008333333333,
                        0.008333333333,
                        0
                      ],
                      "yaxis": "y"
                    },
                    {
                      "hovertemplate": "<b>%{hovertext}</b><br><br>DivType=territorial<br>Date=1918-02-07 00:00:00<br>SW120DeathSentences=%{x}<br>SW120execution=%{y}<br>SW120Casualties=%{marker.size}<extra></extra>",
                      "hovertext": [
                        "50",
                        "63",
                        "55",
                        "58",
                        "56"
                      ],
                      "ids": [
                        "50",
                        "63",
                        "55",
                        "58",
                        "56"
                      ],
                      "legendgroup": "territorial",
                      "marker": {
                        "color": "#00CC96",
                        "size": [
                          0,
                          0,
                          0,
                          0,
                          0
                        ],
                        "sizemode": "area",
                        "sizeref": 0.0351493848857645,
                        "symbol": "circle"
                      },
                      "mode": "markers",
                      "name": "territorial",
                      "orientation": "v",
                      "showlegend": true,
                      "type": "scatter",
                      "x": [
                        0.08333333333,
                        0.008333333333,
                        0.03333333333,
                        0.008333333333,
                        0.025
                      ],
                      "xaxis": "x",
                      "y": [
                        0.01666666667,
                        0,
                        0,
                        0.008333333333,
                        0.008333333333
                      ],
                      "yaxis": "y"
                    }
                  ],
                  "name": "1918-02-07 00:00:00"
                },
                {
                  "data": [
                    {
                      "hovertemplate": "<b>%{hovertext}</b><br><br>DivType=new<br>Date=1918-03-08 00:00:00<br>SW120DeathSentences=%{x}<br>SW120execution=%{y}<br>SW120Casualties=%{marker.size}<extra></extra>",
                      "hovertext": [
                        "10",
                        "20",
                        "31",
                        "11",
                        "25",
                        "15",
                        "13",
                        "17",
                        "39",
                        "35",
                        "19",
                        "32",
                        "24",
                        "34",
                        "30",
                        "23",
                        "14",
                        "21",
                        "12",
                        "9",
                        "16",
                        "18",
                        "33"
                      ],
                      "ids": [
                        "10",
                        "20",
                        "31",
                        "11",
                        "25",
                        "15",
                        "13",
                        "17",
                        "39",
                        "35",
                        "19",
                        "32",
                        "24",
                        "34",
                        "30",
                        "23",
                        "14",
                        "21",
                        "12",
                        "9",
                        "16",
                        "18",
                        "33"
                      ],
                      "legendgroup": "new",
                      "marker": {
                        "color": "#636EFA",
                        "size": [
                          0.05833333333,
                          7,
                          0.01666666667,
                          0.875,
                          0.375,
                          1.466666667,
                          0.35,
                          2.575,
                          0.5333333333,
                          1.333333333,
                          0.475,
                          1.208333333,
                          1.166666667,
                          0,
                          0,
                          0.6333333333,
                          4.133333333,
                          0.775,
                          4.25,
                          3.725,
                          0.4,
                          3.225,
                          0
                        ],
                        "sizemode": "area",
                        "sizeref": 0.0351493848857645,
                        "symbol": "circle"
                      },
                      "mode": "markers",
                      "name": "new",
                      "orientation": "v",
                      "showlegend": true,
                      "type": "scatter",
                      "x": [
                        0,
                        0,
                        0.01666666667,
                        0.01666666667,
                        0.008333333333,
                        0.04166666667,
                        0.008333333333,
                        0.04166666667,
                        0.008333333333,
                        0.025,
                        0.03333333333,
                        0.08333333333,
                        0.03333333333,
                        0.04166666667,
                        0.01666666667,
                        0.075,
                        0.01666666667,
                        0.075,
                        0,
                        0.008333333333,
                        0,
                        0.05833333333,
                        0.03333333333
                      ],
                      "xaxis": "x",
                      "y": [
                        0,
                        0,
                        0,
                        0,
                        0,
                        0.01666666667,
                        0,
                        0,
                        0,
                        0,
                        0,
                        0.01666666667,
                        0,
                        0,
                        0,
                        0.008333333333,
                        0.008333333333,
                        0,
                        0,
                        0,
                        0,
                        0.008333333333,
                        0.008333333333
                      ],
                      "yaxis": "y"
                    },
                    {
                      "hovertemplate": "<b>%{hovertext}</b><br><br>DivType=regular<br>Date=1918-03-08 00:00:00<br>SW120DeathSentences=%{x}<br>SW120execution=%{y}<br>SW120Casualties=%{marker.size}<extra></extra>",
                      "hovertext": [
                        "2",
                        "1",
                        "7",
                        "3",
                        "8",
                        "28",
                        "27",
                        "6",
                        "29",
                        "5",
                        "4"
                      ],
                      "ids": [
                        "2",
                        "1",
                        "7",
                        "3",
                        "8",
                        "28",
                        "27",
                        "6",
                        "29",
                        "5",
                        "4"
                      ],
                      "legendgroup": "regular",
                      "marker": {
                        "color": "#EF553B",
                        "size": [
                          2.325,
                          1.791666667,
                          2.725,
                          1.908333333,
                          3.95,
                          0.2,
                          0.125,
                          1.766666667,
                          3.741666667,
                          1.558333333,
                          2.041666667
                        ],
                        "sizemode": "area",
                        "sizeref": 0.0351493848857645,
                        "symbol": "circle"
                      },
                      "mode": "markers",
                      "name": "regular",
                      "orientation": "v",
                      "showlegend": true,
                      "type": "scatter",
                      "x": [
                        0.05,
                        0.05,
                        0.05,
                        0.06666666667,
                        0.03333333333,
                        0.008333333333,
                        0,
                        0.03333333333,
                        0.025,
                        0,
                        0
                      ],
                      "xaxis": "x",
                      "y": [
                        0.01666666667,
                        0,
                        0.008333333333,
                        0.008333333333,
                        0.008333333333,
                        0,
                        0,
                        0.008333333333,
                        0.008333333333,
                        0,
                        0
                      ],
                      "yaxis": "y"
                    },
                    {
                      "hovertemplate": "<b>%{hovertext}</b><br><br>DivType=territorial<br>Date=1918-03-08 00:00:00<br>SW120DeathSentences=%{x}<br>SW120execution=%{y}<br>SW120Casualties=%{marker.size}<extra></extra>",
                      "hovertext": [
                        "46",
                        "48",
                        "51",
                        "66"
                      ],
                      "ids": [
                        "46",
                        "48",
                        "51",
                        "66"
                      ],
                      "legendgroup": "territorial",
                      "marker": {
                        "color": "#00CC96",
                        "size": [
                          0.2916666667,
                          0.1333333333,
                          0.4,
                          1.95
                        ],
                        "sizemode": "area",
                        "sizeref": 0.0351493848857645,
                        "symbol": "circle"
                      },
                      "mode": "markers",
                      "name": "territorial",
                      "orientation": "v",
                      "showlegend": true,
                      "type": "scatter",
                      "x": [
                        0.04166666667,
                        0,
                        0.01666666667,
                        0.03333333333
                      ],
                      "xaxis": "x",
                      "y": [
                        0,
                        0,
                        0,
                        0.008333333333
                      ],
                      "yaxis": "y"
                    }
                  ],
                  "name": "1918-03-08 00:00:00"
                },
                {
                  "data": [
                    {
                      "hovertemplate": "<b>%{hovertext}</b><br><br>DivType=new<br>Date=1918-03-09 00:00:00<br>SW120DeathSentences=%{x}<br>SW120execution=%{y}<br>SW120Casualties=%{marker.size}<extra></extra>",
                      "hovertext": [
                        "41",
                        "38",
                        "36",
                        "37"
                      ],
                      "ids": [
                        "41",
                        "38",
                        "36",
                        "37"
                      ],
                      "legendgroup": "new",
                      "marker": {
                        "color": "#636EFA",
                        "size": [
                          0,
                          0,
                          0,
                          0
                        ],
                        "sizemode": "area",
                        "sizeref": 0.0351493848857645,
                        "symbol": "circle"
                      },
                      "mode": "markers",
                      "name": "new",
                      "orientation": "v",
                      "showlegend": true,
                      "type": "scatter",
                      "x": [
                        0,
                        0.03333333333,
                        0.04166666667,
                        0.008333333333
                      ],
                      "xaxis": "x",
                      "y": [
                        0,
                        0.008333333333,
                        0.008333333333,
                        0
                      ],
                      "yaxis": "y"
                    },
                    {
                      "hovertemplate": "<b>%{hovertext}</b><br><br>DivType=territorial<br>Date=1918-03-09 00:00:00<br>SW120DeathSentences=%{x}<br>SW120execution=%{y}<br>SW120Casualties=%{marker.size}<extra></extra>",
                      "hovertext": [
                        "55",
                        "63",
                        "56",
                        "58",
                        "50"
                      ],
                      "ids": [
                        "55",
                        "63",
                        "56",
                        "58",
                        "50"
                      ],
                      "legendgroup": "territorial",
                      "marker": {
                        "color": "#00CC96",
                        "size": [
                          0,
                          0,
                          0,
                          0,
                          0
                        ],
                        "sizemode": "area",
                        "sizeref": 0.0351493848857645,
                        "symbol": "circle"
                      },
                      "mode": "markers",
                      "name": "territorial",
                      "orientation": "v",
                      "showlegend": true,
                      "type": "scatter",
                      "x": [
                        0.03333333333,
                        0.008333333333,
                        0.01666666667,
                        0.008333333333,
                        0.075
                      ],
                      "xaxis": "x",
                      "y": [
                        0,
                        0,
                        0.008333333333,
                        0.008333333333,
                        0.01666666667
                      ],
                      "yaxis": "y"
                    }
                  ],
                  "name": "1918-03-09 00:00:00"
                },
                {
                  "data": [
                    {
                      "hovertemplate": "<b>%{hovertext}</b><br><br>DivType=new<br>Date=1918-04-07 00:00:00<br>SW120DeathSentences=%{x}<br>SW120execution=%{y}<br>SW120Casualties=%{marker.size}<extra></extra>",
                      "hovertext": [
                        "13",
                        "39",
                        "25",
                        "18",
                        "16",
                        "21",
                        "19",
                        "32",
                        "33",
                        "34",
                        "30",
                        "20",
                        "35",
                        "15",
                        "17",
                        "24",
                        "14",
                        "11",
                        "31",
                        "9",
                        "23",
                        "12",
                        "10"
                      ],
                      "ids": [
                        "13",
                        "39",
                        "25",
                        "18",
                        "16",
                        "21",
                        "19",
                        "32",
                        "33",
                        "34",
                        "30",
                        "20",
                        "35",
                        "15",
                        "17",
                        "24",
                        "14",
                        "11",
                        "31",
                        "9",
                        "23",
                        "12",
                        "10"
                      ],
                      "legendgroup": "new",
                      "marker": {
                        "color": "#636EFA",
                        "size": [
                          0.2666666667,
                          0.5166666667,
                          0.275,
                          0.9333333333,
                          0.4333333333,
                          0.5416666667,
                          0.425,
                          1.2,
                          0,
                          0,
                          0,
                          5.741666667,
                          0.1833333333,
                          1.108333333,
                          1.2,
                          1.15,
                          1.408333333,
                          0.6416666667,
                          0.01666666667,
                          1.4,
                          0.06666666667,
                          3.941666667,
                          0.05
                        ],
                        "sizemode": "area",
                        "sizeref": 0.0351493848857645,
                        "symbol": "circle"
                      },
                      "mode": "markers",
                      "name": "new",
                      "orientation": "v",
                      "showlegend": true,
                      "type": "scatter",
                      "x": [
                        0.008333333333,
                        0.01666666667,
                        0.008333333333,
                        0.03333333333,
                        0.008333333333,
                        0.025,
                        0.01666666667,
                        0.075,
                        0.008333333333,
                        0.03333333333,
                        0.008333333333,
                        0.008333333333,
                        0.025,
                        0.025,
                        0.06666666667,
                        0.01666666667,
                        0.01666666667,
                        0.01666666667,
                        0.01666666667,
                        0.025,
                        0.04166666667,
                        0,
                        0
                      ],
                      "xaxis": "x",
                      "y": [
                        0,
                        0,
                        0,
                        0,
                        0,
                        0,
                        0,
                        0.008333333333,
                        0,
                        0,
                        0,
                        0,
                        0,
                        0.008333333333,
                        0,
                        0,
                        0.008333333333,
                        0,
                        0,
                        0,
                        0,
                        0,
                        0
                      ],
                      "yaxis": "y"
                    },
                    {
                      "hovertemplate": "<b>%{hovertext}</b><br><br>DivType=regular<br>Date=1918-04-07 00:00:00<br>SW120DeathSentences=%{x}<br>SW120execution=%{y}<br>SW120Casualties=%{marker.size}<extra></extra>",
                      "hovertext": [
                        "3",
                        "2",
                        "5",
                        "27",
                        "4",
                        "6",
                        "29",
                        "8",
                        "28",
                        "7",
                        "1"
                      ],
                      "ids": [
                        "3",
                        "2",
                        "5",
                        "27",
                        "4",
                        "6",
                        "29",
                        "8",
                        "28",
                        "7",
                        "1"
                      ],
                      "legendgroup": "regular",
                      "marker": {
                        "color": "#EF553B",
                        "size": [
                          1.808333333,
                          1.908333333,
                          0.9833333333,
                          0.09166666667,
                          0.7833333333,
                          1.716666667,
                          3.516666667,
                          3.883333333,
                          0.2083333333,
                          1.108333333,
                          1.675
                        ],
                        "sizemode": "area",
                        "sizeref": 0.0351493848857645,
                        "symbol": "circle"
                      },
                      "mode": "markers",
                      "name": "regular",
                      "orientation": "v",
                      "showlegend": true,
                      "type": "scatter",
                      "x": [
                        0.09166666667,
                        0.025,
                        0,
                        0,
                        0,
                        0.03333333333,
                        0.025,
                        0.025,
                        0.01666666667,
                        0.008333333333,
                        0.05833333333
                      ],
                      "xaxis": "x",
                      "y": [
                        0.01666666667,
                        0,
                        0,
                        0,
                        0,
                        0.008333333333,
                        0,
                        0,
                        0,
                        0,
                        0
                      ],
                      "yaxis": "y"
                    },
                    {
                      "hovertemplate": "<b>%{hovertext}</b><br><br>DivType=territorial<br>Date=1918-04-07 00:00:00<br>SW120DeathSentences=%{x}<br>SW120execution=%{y}<br>SW120Casualties=%{marker.size}<extra></extra>",
                      "hovertext": [
                        "48",
                        "51",
                        "66",
                        "46"
                      ],
                      "ids": [
                        "48",
                        "51",
                        "66",
                        "46"
                      ],
                      "legendgroup": "territorial",
                      "marker": {
                        "color": "#00CC96",
                        "size": [
                          0.008333333333,
                          0.35,
                          1.516666667,
                          0.275
                        ],
                        "sizemode": "area",
                        "sizeref": 0.0351493848857645,
                        "symbol": "circle"
                      },
                      "mode": "markers",
                      "name": "territorial",
                      "orientation": "v",
                      "showlegend": true,
                      "type": "scatter",
                      "x": [
                        0,
                        0.01666666667,
                        0.008333333333,
                        0.025
                      ],
                      "xaxis": "x",
                      "y": [
                        0,
                        0,
                        0,
                        0
                      ],
                      "yaxis": "y"
                    }
                  ],
                  "name": "1918-04-07 00:00:00"
                },
                {
                  "data": [
                    {
                      "hovertemplate": "<b>%{hovertext}</b><br><br>DivType=new<br>Date=1918-04-08 00:00:00<br>SW120DeathSentences=%{x}<br>SW120execution=%{y}<br>SW120Casualties=%{marker.size}<extra></extra>",
                      "hovertext": [
                        "36",
                        "38",
                        "41",
                        "37"
                      ],
                      "ids": [
                        "36",
                        "38",
                        "41",
                        "37"
                      ],
                      "legendgroup": "new",
                      "marker": {
                        "color": "#636EFA",
                        "size": [
                          0,
                          0,
                          0,
                          0
                        ],
                        "sizemode": "area",
                        "sizeref": 0.0351493848857645,
                        "symbol": "circle"
                      },
                      "mode": "markers",
                      "name": "new",
                      "orientation": "v",
                      "showlegend": true,
                      "type": "scatter",
                      "x": [
                        0.025,
                        0.025,
                        0.008333333333,
                        0
                      ],
                      "xaxis": "x",
                      "y": [
                        0,
                        0,
                        0,
                        0
                      ],
                      "yaxis": "y"
                    },
                    {
                      "hovertemplate": "<b>%{hovertext}</b><br><br>DivType=territorial<br>Date=1918-04-08 00:00:00<br>SW120DeathSentences=%{x}<br>SW120execution=%{y}<br>SW120Casualties=%{marker.size}<extra></extra>",
                      "hovertext": [
                        "50",
                        "55",
                        "56",
                        "58",
                        "63"
                      ],
                      "ids": [
                        "50",
                        "55",
                        "56",
                        "58",
                        "63"
                      ],
                      "legendgroup": "territorial",
                      "marker": {
                        "color": "#00CC96",
                        "size": [
                          0,
                          0,
                          0,
                          0,
                          0
                        ],
                        "sizemode": "area",
                        "sizeref": 0.0351493848857645,
                        "symbol": "circle"
                      },
                      "mode": "markers",
                      "name": "territorial",
                      "orientation": "v",
                      "showlegend": true,
                      "type": "scatter",
                      "x": [
                        0.075,
                        0.008333333333,
                        0.01666666667,
                        0.008333333333,
                        0
                      ],
                      "xaxis": "x",
                      "y": [
                        0.008333333333,
                        0,
                        0.008333333333,
                        0.008333333333,
                        0
                      ],
                      "yaxis": "y"
                    }
                  ],
                  "name": "1918-04-08 00:00:00"
                },
                {
                  "data": [
                    {
                      "hovertemplate": "<b>%{hovertext}</b><br><br>DivType=new<br>Date=1918-05-07 00:00:00<br>SW120DeathSentences=%{x}<br>SW120execution=%{y}<br>SW120Casualties=%{marker.size}<extra></extra>",
                      "hovertext": [
                        "33",
                        "25",
                        "12",
                        "11",
                        "30",
                        "35",
                        "31",
                        "18",
                        "23",
                        "17",
                        "20",
                        "10",
                        "19",
                        "14",
                        "34",
                        "9",
                        "32",
                        "24",
                        "13",
                        "16",
                        "39",
                        "21",
                        "15"
                      ],
                      "ids": [
                        "33",
                        "25",
                        "12",
                        "11",
                        "30",
                        "35",
                        "31",
                        "18",
                        "23",
                        "17",
                        "20",
                        "10",
                        "19",
                        "14",
                        "34",
                        "9",
                        "32",
                        "24",
                        "13",
                        "16",
                        "39",
                        "21",
                        "15"
                      ],
                      "legendgroup": "new",
                      "marker": {
                        "color": "#636EFA",
                        "size": [
                          0,
                          1.183333333,
                          2.783333333,
                          0.5666666667,
                          0,
                          1.108333333,
                          0.008333333333,
                          3.391666667,
                          0.7666666667,
                          3.258333333,
                          4.091666667,
                          0.08333333333,
                          2.558333333,
                          5.991666667,
                          0,
                          4.633333333,
                          0.5666666667,
                          3.35,
                          0.15,
                          0.8833333333,
                          1.308333333,
                          1.683333333,
                          3.875
                        ],
                        "sizemode": "area",
                        "sizeref": 0.0351493848857645,
                        "symbol": "circle"
                      },
                      "mode": "markers",
                      "name": "new",
                      "orientation": "v",
                      "showlegend": true,
                      "type": "scatter",
                      "x": [
                        0,
                        0,
                        0,
                        0.01666666667,
                        0.008333333333,
                        0.01666666667,
                        0.01666666667,
                        0.025,
                        0.03333333333,
                        0.05833333333,
                        0.008333333333,
                        0,
                        0.008333333333,
                        0.03333333333,
                        0.025,
                        0.01666666667,
                        0.075,
                        0.01666666667,
                        0,
                        0.008333333333,
                        0.01666666667,
                        0.008333333333,
                        0.01666666667
                      ],
                      "xaxis": "x",
                      "y": [
                        0,
                        0,
                        0,
                        0,
                        0,
                        0,
                        0,
                        0,
                        0,
                        0,
                        0,
                        0,
                        0,
                        0.008333333333,
                        0,
                        0,
                        0.008333333333,
                        0,
                        0,
                        0,
                        0,
                        0,
                        0.008333333333
                      ],
                      "yaxis": "y"
                    },
                    {
                      "hovertemplate": "<b>%{hovertext}</b><br><br>DivType=regular<br>Date=1918-05-07 00:00:00<br>SW120DeathSentences=%{x}<br>SW120execution=%{y}<br>SW120Casualties=%{marker.size}<extra></extra>",
                      "hovertext": [
                        "29",
                        "6",
                        "3",
                        "4",
                        "27",
                        "1",
                        "5",
                        "28",
                        "2",
                        "7",
                        "8"
                      ],
                      "ids": [
                        "29",
                        "6",
                        "3",
                        "4",
                        "27",
                        "1",
                        "5",
                        "28",
                        "2",
                        "7",
                        "8"
                      ],
                      "legendgroup": "regular",
                      "marker": {
                        "color": "#EF553B",
                        "size": [
                          1.6,
                          2.841666667,
                          5.383333333,
                          2.416666667,
                          0.09166666667,
                          0.7,
                          1.358333333,
                          0.2083333333,
                          2.441666667,
                          2.633333333,
                          6.175
                        ],
                        "sizemode": "area",
                        "sizeref": 0.0351493848857645,
                        "symbol": "circle"
                      },
                      "mode": "markers",
                      "name": "regular",
                      "orientation": "v",
                      "showlegend": true,
                      "type": "scatter",
                      "x": [
                        0.01666666667,
                        0.03333333333,
                        0.075,
                        0,
                        0,
                        0.05833333333,
                        0,
                        0.025,
                        0.01666666667,
                        0.008333333333,
                        0.01666666667
                      ],
                      "xaxis": "x",
                      "y": [
                        0,
                        0.008333333333,
                        0.01666666667,
                        0,
                        0,
                        0,
                        0,
                        0,
                        0,
                        0,
                        0
                      ],
                      "yaxis": "y"
                    },
                    {
                      "hovertemplate": "<b>%{hovertext}</b><br><br>DivType=territorial<br>Date=1918-05-07 00:00:00<br>SW120DeathSentences=%{x}<br>SW120execution=%{y}<br>SW120Casualties=%{marker.size}<extra></extra>",
                      "hovertext": [
                        "46",
                        "51",
                        "66",
                        "48"
                      ],
                      "ids": [
                        "46",
                        "51",
                        "66",
                        "48"
                      ],
                      "legendgroup": "territorial",
                      "marker": {
                        "color": "#00CC96",
                        "size": [
                          0.275,
                          0.5083333333,
                          2.641666667,
                          0
                        ],
                        "sizemode": "area",
                        "sizeref": 0.0351493848857645,
                        "symbol": "circle"
                      },
                      "mode": "markers",
                      "name": "territorial",
                      "orientation": "v",
                      "showlegend": true,
                      "type": "scatter",
                      "x": [
                        0.008333333333,
                        0.008333333333,
                        0.008333333333,
                        0
                      ],
                      "xaxis": "x",
                      "y": [
                        0,
                        0,
                        0,
                        0
                      ],
                      "yaxis": "y"
                    }
                  ],
                  "name": "1918-05-07 00:00:00"
                },
                {
                  "data": [
                    {
                      "hovertemplate": "<b>%{hovertext}</b><br><br>DivType=new<br>Date=1918-05-08 00:00:00<br>SW120DeathSentences=%{x}<br>SW120execution=%{y}<br>SW120Casualties=%{marker.size}<extra></extra>",
                      "hovertext": [
                        "38",
                        "37",
                        "41",
                        "36"
                      ],
                      "ids": [
                        "38",
                        "37",
                        "41",
                        "36"
                      ],
                      "legendgroup": "new",
                      "marker": {
                        "color": "#636EFA",
                        "size": [
                          0,
                          0,
                          0,
                          0
                        ],
                        "sizemode": "area",
                        "sizeref": 0.0351493848857645,
                        "symbol": "circle"
                      },
                      "mode": "markers",
                      "name": "new",
                      "orientation": "v",
                      "showlegend": true,
                      "type": "scatter",
                      "x": [
                        0.01666666667,
                        0,
                        0.008333333333,
                        0.025
                      ],
                      "xaxis": "x",
                      "y": [
                        0,
                        0,
                        0,
                        0
                      ],
                      "yaxis": "y"
                    },
                    {
                      "hovertemplate": "<b>%{hovertext}</b><br><br>DivType=territorial<br>Date=1918-05-08 00:00:00<br>SW120DeathSentences=%{x}<br>SW120execution=%{y}<br>SW120Casualties=%{marker.size}<extra></extra>",
                      "hovertext": [
                        "55",
                        "50",
                        "63",
                        "58",
                        "56"
                      ],
                      "ids": [
                        "55",
                        "50",
                        "63",
                        "58",
                        "56"
                      ],
                      "legendgroup": "territorial",
                      "marker": {
                        "color": "#00CC96",
                        "size": [
                          0,
                          0,
                          0,
                          0,
                          0
                        ],
                        "sizemode": "area",
                        "sizeref": 0.0351493848857645,
                        "symbol": "circle"
                      },
                      "mode": "markers",
                      "name": "territorial",
                      "orientation": "v",
                      "showlegend": true,
                      "type": "scatter",
                      "x": [
                        0.008333333333,
                        0.03333333333,
                        0,
                        0,
                        0.01666666667
                      ],
                      "xaxis": "x",
                      "y": [
                        0,
                        0,
                        0,
                        0,
                        0.008333333333
                      ],
                      "yaxis": "y"
                    }
                  ],
                  "name": "1918-05-08 00:00:00"
                },
                {
                  "data": [
                    {
                      "hovertemplate": "<b>%{hovertext}</b><br><br>DivType=new<br>Date=1918-06-06 00:00:00<br>SW120DeathSentences=%{x}<br>SW120execution=%{y}<br>SW120Casualties=%{marker.size}<extra></extra>",
                      "hovertext": [
                        "19",
                        "32",
                        "15",
                        "35",
                        "33",
                        "23",
                        "17",
                        "39",
                        "20",
                        "13",
                        "31",
                        "16",
                        "21",
                        "9",
                        "30",
                        "25",
                        "10",
                        "11",
                        "34",
                        "14",
                        "24",
                        "18",
                        "12"
                      ],
                      "ids": [
                        "19",
                        "32",
                        "15",
                        "35",
                        "33",
                        "23",
                        "17",
                        "39",
                        "20",
                        "13",
                        "31",
                        "16",
                        "21",
                        "9",
                        "30",
                        "25",
                        "10",
                        "11",
                        "34",
                        "14",
                        "24",
                        "18",
                        "12"
                      ],
                      "legendgroup": "new",
                      "marker": {
                        "color": "#636EFA",
                        "size": [
                          4.4,
                          0.6916666667,
                          4.666666667,
                          1.166666667,
                          0,
                          0.8583333333,
                          4.883333333,
                          1.6,
                          4.183333333,
                          0.09166666667,
                          0.008333333333,
                          0.8583333333,
                          2.016666667,
                          6.641666667,
                          0,
                          3.825,
                          0.06666666667,
                          0.65,
                          0,
                          5.808333333,
                          4.691666667,
                          5.041666667,
                          3.075
                        ],
                        "sizemode": "area",
                        "sizeref": 0.0351493848857645,
                        "symbol": "circle"
                      },
                      "mode": "markers",
                      "name": "new",
                      "orientation": "v",
                      "showlegend": true,
                      "type": "scatter",
                      "x": [
                        0.008333333333,
                        0.05833333333,
                        0.03333333333,
                        0.008333333333,
                        0.01666666667,
                        0.01666666667,
                        0.04166666667,
                        0.01666666667,
                        0.008333333333,
                        0,
                        0,
                        0.008333333333,
                        0.008333333333,
                        0.01666666667,
                        0.008333333333,
                        0,
                        0,
                        0.008333333333,
                        0.01666666667,
                        0.03333333333,
                        0,
                        0.01666666667,
                        0
                      ],
                      "xaxis": "x",
                      "y": [
                        0,
                        0.008333333333,
                        0.01666666667,
                        0,
                        0.008333333333,
                        0,
                        0,
                        0,
                        0,
                        0,
                        0,
                        0,
                        0,
                        0,
                        0,
                        0,
                        0,
                        0,
                        0,
                        0.008333333333,
                        0,
                        0,
                        0
                      ],
                      "yaxis": "y"
                    },
                    {
                      "hovertemplate": "<b>%{hovertext}</b><br><br>DivType=regular<br>Date=1918-06-06 00:00:00<br>SW120DeathSentences=%{x}<br>SW120execution=%{y}<br>SW120Casualties=%{marker.size}<extra></extra>",
                      "hovertext": [
                        "29",
                        "6",
                        "5",
                        "27",
                        "8",
                        "7",
                        "2",
                        "3",
                        "4",
                        "28",
                        "1"
                      ],
                      "ids": [
                        "29",
                        "6",
                        "5",
                        "27",
                        "8",
                        "7",
                        "2",
                        "3",
                        "4",
                        "28",
                        "1"
                      ],
                      "legendgroup": "regular",
                      "marker": {
                        "color": "#EF553B",
                        "size": [
                          4.691666667,
                          4.625,
                          2.208333333,
                          0.2666666667,
                          9.191666667,
                          2.708333333,
                          3.8,
                          8.85,
                          5.258333333,
                          0.225,
                          2.95
                        ],
                        "sizemode": "area",
                        "sizeref": 0.0351493848857645,
                        "symbol": "circle"
                      },
                      "mode": "markers",
                      "name": "regular",
                      "orientation": "v",
                      "showlegend": true,
                      "type": "scatter",
                      "x": [
                        0.03333333333,
                        0.03333333333,
                        0,
                        0,
                        0.008333333333,
                        0.025,
                        0.01666666667,
                        0.09166666667,
                        0,
                        0.01666666667,
                        0.09166666667
                      ],
                      "xaxis": "x",
                      "y": [
                        0,
                        0.008333333333,
                        0,
                        0,
                        0.008333333333,
                        0,
                        0,
                        0.025,
                        0,
                        0,
                        0.008333333333
                      ],
                      "yaxis": "y"
                    },
                    {
                      "hovertemplate": "<b>%{hovertext}</b><br><br>DivType=territorial<br>Date=1918-06-06 00:00:00<br>SW120DeathSentences=%{x}<br>SW120execution=%{y}<br>SW120Casualties=%{marker.size}<extra></extra>",
                      "hovertext": [
                        "51",
                        "46",
                        "66",
                        "48"
                      ],
                      "ids": [
                        "51",
                        "46",
                        "66",
                        "48"
                      ],
                      "legendgroup": "territorial",
                      "marker": {
                        "color": "#00CC96",
                        "size": [
                          0.7,
                          0.3,
                          3.35,
                          0
                        ],
                        "sizemode": "area",
                        "sizeref": 0.0351493848857645,
                        "symbol": "circle"
                      },
                      "mode": "markers",
                      "name": "territorial",
                      "orientation": "v",
                      "showlegend": true,
                      "type": "scatter",
                      "x": [
                        0.008333333333,
                        0.01666666667,
                        0.008333333333,
                        0
                      ],
                      "xaxis": "x",
                      "y": [
                        0.008333333333,
                        0,
                        0,
                        0
                      ],
                      "yaxis": "y"
                    }
                  ],
                  "name": "1918-06-06 00:00:00"
                },
                {
                  "data": [
                    {
                      "hovertemplate": "<b>%{hovertext}</b><br><br>DivType=new<br>Date=1918-06-07 00:00:00<br>SW120DeathSentences=%{x}<br>SW120execution=%{y}<br>SW120Casualties=%{marker.size}<extra></extra>",
                      "hovertext": [
                        "41",
                        "36",
                        "37",
                        "38"
                      ],
                      "ids": [
                        "41",
                        "36",
                        "37",
                        "38"
                      ],
                      "legendgroup": "new",
                      "marker": {
                        "color": "#636EFA",
                        "size": [
                          0,
                          0,
                          0,
                          0
                        ],
                        "sizemode": "area",
                        "sizeref": 0.0351493848857645,
                        "symbol": "circle"
                      },
                      "mode": "markers",
                      "name": "new",
                      "orientation": "v",
                      "showlegend": true,
                      "type": "scatter",
                      "x": [
                        0.03333333333,
                        0.01666666667,
                        0.01666666667,
                        0.01666666667
                      ],
                      "xaxis": "x",
                      "y": [
                        0,
                        0,
                        0,
                        0.008333333333
                      ],
                      "yaxis": "y"
                    },
                    {
                      "hovertemplate": "<b>%{hovertext}</b><br><br>DivType=territorial<br>Date=1918-06-07 00:00:00<br>SW120DeathSentences=%{x}<br>SW120execution=%{y}<br>SW120Casualties=%{marker.size}<extra></extra>",
                      "hovertext": [
                        "56",
                        "63",
                        "50",
                        "58",
                        "55"
                      ],
                      "ids": [
                        "56",
                        "63",
                        "50",
                        "58",
                        "55"
                      ],
                      "legendgroup": "territorial",
                      "marker": {
                        "color": "#00CC96",
                        "size": [
                          0,
                          0,
                          0,
                          0,
                          0
                        ],
                        "sizemode": "area",
                        "sizeref": 0.0351493848857645,
                        "symbol": "circle"
                      },
                      "mode": "markers",
                      "name": "territorial",
                      "orientation": "v",
                      "showlegend": true,
                      "type": "scatter",
                      "x": [
                        0.008333333333,
                        0,
                        0.01666666667,
                        0,
                        0
                      ],
                      "xaxis": "x",
                      "y": [
                        0,
                        0,
                        0,
                        0,
                        0
                      ],
                      "yaxis": "y"
                    }
                  ],
                  "name": "1918-06-07 00:00:00"
                },
                {
                  "data": [
                    {
                      "hovertemplate": "<b>%{hovertext}</b><br><br>DivType=new<br>Date=1918-07-06 00:00:00<br>SW120DeathSentences=%{x}<br>SW120execution=%{y}<br>SW120Casualties=%{marker.size}<extra></extra>",
                      "hovertext": [
                        "20",
                        "39",
                        "19",
                        "11",
                        "10",
                        "16",
                        "17",
                        "25",
                        "18",
                        "21",
                        "13",
                        "24",
                        "9",
                        "31",
                        "14",
                        "30",
                        "34",
                        "33",
                        "15",
                        "35",
                        "12",
                        "32",
                        "23"
                      ],
                      "ids": [
                        "20",
                        "39",
                        "19",
                        "11",
                        "10",
                        "16",
                        "17",
                        "25",
                        "18",
                        "21",
                        "13",
                        "24",
                        "9",
                        "31",
                        "14",
                        "30",
                        "34",
                        "33",
                        "15",
                        "35",
                        "12",
                        "32",
                        "23"
                      ],
                      "legendgroup": "new",
                      "marker": {
                        "color": "#636EFA",
                        "size": [
                          4.083333333,
                          1.625,
                          4.708333333,
                          0.8666666667,
                          0.06666666667,
                          0.8416666667,
                          5.425,
                          4.758333333,
                          5.533333333,
                          2.516666667,
                          0.1416666667,
                          5.341666667,
                          7.308333333,
                          0.008333333333,
                          6.016666667,
                          0,
                          0,
                          0,
                          5.641666667,
                          1.25,
                          3.3,
                          0.9583333333,
                          1.325
                        ],
                        "sizemode": "area",
                        "sizeref": 0.0351493848857645,
                        "symbol": "circle"
                      },
                      "mode": "markers",
                      "name": "new",
                      "orientation": "v",
                      "showlegend": true,
                      "type": "scatter",
                      "x": [
                        0.008333333333,
                        0.01666666667,
                        0.01666666667,
                        0.025,
                        0,
                        0.008333333333,
                        0.04166666667,
                        0,
                        0,
                        0.008333333333,
                        0,
                        0,
                        0.03333333333,
                        0,
                        0.01666666667,
                        0,
                        0.008333333333,
                        0.025,
                        0.03333333333,
                        0.01666666667,
                        0,
                        0.025,
                        0
                      ],
                      "xaxis": "x",
                      "y": [
                        0,
                        0,
                        0,
                        0,
                        0,
                        0,
                        0,
                        0,
                        0,
                        0,
                        0,
                        0,
                        0,
                        0,
                        0,
                        0,
                        0,
                        0.008333333333,
                        0.008333333333,
                        0,
                        0,
                        0,
                        0
                      ],
                      "yaxis": "y"
                    },
                    {
                      "hovertemplate": "<b>%{hovertext}</b><br><br>DivType=regular<br>Date=1918-07-06 00:00:00<br>SW120DeathSentences=%{x}<br>SW120execution=%{y}<br>SW120Casualties=%{marker.size}<extra></extra>",
                      "hovertext": [
                        "27",
                        "3",
                        "4",
                        "29",
                        "5",
                        "1",
                        "7",
                        "2",
                        "28",
                        "6",
                        "8"
                      ],
                      "ids": [
                        "27",
                        "3",
                        "4",
                        "29",
                        "5",
                        "1",
                        "7",
                        "2",
                        "28",
                        "6",
                        "8"
                      ],
                      "legendgroup": "regular",
                      "marker": {
                        "color": "#EF553B",
                        "size": [
                          0.2833333333,
                          10.86666667,
                          5.6,
                          4.916666667,
                          3.083333333,
                          3.258333333,
                          3.641666667,
                          4.308333333,
                          0.2083333333,
                          5.258333333,
                          12.9
                        ],
                        "sizemode": "area",
                        "sizeref": 0.0351493848857645,
                        "symbol": "circle"
                      },
                      "mode": "markers",
                      "name": "regular",
                      "orientation": "v",
                      "showlegend": true,
                      "type": "scatter",
                      "x": [
                        0,
                        0.09166666667,
                        0.01666666667,
                        0.06666666667,
                        0.05,
                        0.06666666667,
                        0.01666666667,
                        0.008333333333,
                        0.01666666667,
                        0.03333333333,
                        0.025
                      ],
                      "xaxis": "x",
                      "y": [
                        0,
                        0.01666666667,
                        0,
                        0.008333333333,
                        0,
                        0.008333333333,
                        0,
                        0,
                        0,
                        0,
                        0.008333333333
                      ],
                      "yaxis": "y"
                    },
                    {
                      "hovertemplate": "<b>%{hovertext}</b><br><br>DivType=territorial<br>Date=1918-07-06 00:00:00<br>SW120DeathSentences=%{x}<br>SW120execution=%{y}<br>SW120Casualties=%{marker.size}<extra></extra>",
                      "hovertext": [
                        "66",
                        "51",
                        "46",
                        "48"
                      ],
                      "ids": [
                        "66",
                        "51",
                        "46",
                        "48"
                      ],
                      "legendgroup": "territorial",
                      "marker": {
                        "color": "#00CC96",
                        "size": [
                          3.391666667,
                          0.8083333333,
                          0.35,
                          0
                        ],
                        "sizemode": "area",
                        "sizeref": 0.0351493848857645,
                        "symbol": "circle"
                      },
                      "mode": "markers",
                      "name": "territorial",
                      "orientation": "v",
                      "showlegend": true,
                      "type": "scatter",
                      "x": [
                        0,
                        0.008333333333,
                        0.01666666667,
                        0
                      ],
                      "xaxis": "x",
                      "y": [
                        0,
                        0.008333333333,
                        0,
                        0
                      ],
                      "yaxis": "y"
                    }
                  ],
                  "name": "1918-07-06 00:00:00"
                },
                {
                  "data": [
                    {
                      "hovertemplate": "<b>%{hovertext}</b><br><br>DivType=new<br>Date=1918-07-07 00:00:00<br>SW120DeathSentences=%{x}<br>SW120execution=%{y}<br>SW120Casualties=%{marker.size}<extra></extra>",
                      "hovertext": [
                        "36",
                        "38",
                        "37",
                        "41"
                      ],
                      "ids": [
                        "36",
                        "38",
                        "37",
                        "41"
                      ],
                      "legendgroup": "new",
                      "marker": {
                        "color": "#636EFA",
                        "size": [
                          0,
                          0,
                          0,
                          0
                        ],
                        "sizemode": "area",
                        "sizeref": 0.0351493848857645,
                        "symbol": "circle"
                      },
                      "mode": "markers",
                      "name": "new",
                      "orientation": "v",
                      "showlegend": true,
                      "type": "scatter",
                      "x": [
                        0.008333333333,
                        0.01666666667,
                        0.04166666667,
                        0.04166666667
                      ],
                      "xaxis": "x",
                      "y": [
                        0,
                        0.008333333333,
                        0,
                        0
                      ],
                      "yaxis": "y"
                    },
                    {
                      "hovertemplate": "<b>%{hovertext}</b><br><br>DivType=territorial<br>Date=1918-07-07 00:00:00<br>SW120DeathSentences=%{x}<br>SW120execution=%{y}<br>SW120Casualties=%{marker.size}<extra></extra>",
                      "hovertext": [
                        "63",
                        "55",
                        "56",
                        "50",
                        "58"
                      ],
                      "ids": [
                        "63",
                        "55",
                        "56",
                        "50",
                        "58"
                      ],
                      "legendgroup": "territorial",
                      "marker": {
                        "color": "#00CC96",
                        "size": [
                          0,
                          0,
                          0,
                          0,
                          0
                        ],
                        "sizemode": "area",
                        "sizeref": 0.0351493848857645,
                        "symbol": "circle"
                      },
                      "mode": "markers",
                      "name": "territorial",
                      "orientation": "v",
                      "showlegend": true,
                      "type": "scatter",
                      "x": [
                        0.008333333333,
                        0,
                        0.008333333333,
                        0.01666666667,
                        0
                      ],
                      "xaxis": "x",
                      "y": [
                        0,
                        0,
                        0,
                        0,
                        0
                      ],
                      "yaxis": "y"
                    }
                  ],
                  "name": "1918-07-07 00:00:00"
                },
                {
                  "data": [
                    {
                      "hovertemplate": "<b>%{hovertext}</b><br><br>DivType=new<br>Date=1918-08-05 00:00:00<br>SW120DeathSentences=%{x}<br>SW120execution=%{y}<br>SW120Casualties=%{marker.size}<extra></extra>",
                      "hovertext": [
                        "14",
                        "15",
                        "19",
                        "20",
                        "16",
                        "32",
                        "17",
                        "10",
                        "23",
                        "24",
                        "39",
                        "35",
                        "9",
                        "33",
                        "12",
                        "11",
                        "30",
                        "34",
                        "18",
                        "25",
                        "31",
                        "13",
                        "21"
                      ],
                      "ids": [
                        "14",
                        "15",
                        "19",
                        "20",
                        "16",
                        "32",
                        "17",
                        "10",
                        "23",
                        "24",
                        "39",
                        "35",
                        "9",
                        "33",
                        "12",
                        "11",
                        "30",
                        "34",
                        "18",
                        "25",
                        "31",
                        "13",
                        "21"
                      ],
                      "legendgroup": "new",
                      "marker": {
                        "color": "#636EFA",
                        "size": [
                          6.15,
                          5.658333333,
                          5.083333333,
                          4.3,
                          0.8083333333,
                          1.008333333,
                          5.883333333,
                          0.09166666667,
                          1.441666667,
                          5.45,
                          1.641666667,
                          1.3,
                          7.425,
                          0,
                          3.441666667,
                          0.8,
                          0,
                          0,
                          6.125,
                          4.85,
                          0.01666666667,
                          0.175,
                          2.441666667
                        ],
                        "sizemode": "area",
                        "sizeref": 0.0351493848857645,
                        "symbol": "circle"
                      },
                      "mode": "markers",
                      "name": "new",
                      "orientation": "v",
                      "showlegend": true,
                      "type": "scatter",
                      "x": [
                        0.01666666667,
                        0.04166666667,
                        0.03333333333,
                        0.008333333333,
                        0,
                        0.03333333333,
                        0.025,
                        0,
                        0.008333333333,
                        0,
                        0.008333333333,
                        0.01666666667,
                        0.04166666667,
                        0.025,
                        0.008333333333,
                        0.03333333333,
                        0,
                        0.008333333333,
                        0.01666666667,
                        0,
                        0,
                        0,
                        0
                      ],
                      "xaxis": "x",
                      "y": [
                        0,
                        0.008333333333,
                        0,
                        0,
                        0,
                        0,
                        0,
                        0,
                        0,
                        0,
                        0,
                        0,
                        0,
                        0.008333333333,
                        0,
                        0.008333333333,
                        0,
                        0,
                        0,
                        0,
                        0,
                        0,
                        0
                      ],
                      "yaxis": "y"
                    },
                    {
                      "hovertemplate": "<b>%{hovertext}</b><br><br>DivType=regular<br>Date=1918-08-05 00:00:00<br>SW120DeathSentences=%{x}<br>SW120execution=%{y}<br>SW120Casualties=%{marker.size}<extra></extra>",
                      "hovertext": [
                        "8",
                        "5",
                        "27",
                        "1",
                        "6",
                        "29",
                        "3",
                        "4",
                        "28",
                        "7",
                        "2"
                      ],
                      "ids": [
                        "8",
                        "5",
                        "27",
                        "1",
                        "6",
                        "29",
                        "3",
                        "4",
                        "28",
                        "7",
                        "2"
                      ],
                      "legendgroup": "regular",
                      "marker": {
                        "color": "#EF553B",
                        "size": [
                          12.90833333,
                          3.516666667,
                          0.2666666667,
                          3.408333333,
                          5.433333333,
                          5.458333333,
                          11.75,
                          6.25,
                          0.1833333333,
                          4.066666667,
                          4.45
                        ],
                        "sizemode": "area",
                        "sizeref": 0.0351493848857645,
                        "symbol": "circle"
                      },
                      "mode": "markers",
                      "name": "regular",
                      "orientation": "v",
                      "showlegend": true,
                      "type": "scatter",
                      "x": [
                        0.075,
                        0.05833333333,
                        0,
                        0.06666666667,
                        0.025,
                        0.06666666667,
                        0.075,
                        0.01666666667,
                        0.008333333333,
                        0.01666666667,
                        0
                      ],
                      "xaxis": "x",
                      "y": [
                        0.008333333333,
                        0,
                        0,
                        0.008333333333,
                        0,
                        0.01666666667,
                        0.008333333333,
                        0,
                        0,
                        0,
                        0
                      ],
                      "yaxis": "y"
                    },
                    {
                      "hovertemplate": "<b>%{hovertext}</b><br><br>DivType=territorial<br>Date=1918-08-05 00:00:00<br>SW120DeathSentences=%{x}<br>SW120execution=%{y}<br>SW120Casualties=%{marker.size}<extra></extra>",
                      "hovertext": [
                        "46",
                        "66",
                        "51",
                        "48"
                      ],
                      "ids": [
                        "46",
                        "66",
                        "51",
                        "48"
                      ],
                      "legendgroup": "territorial",
                      "marker": {
                        "color": "#00CC96",
                        "size": [
                          0.3833333333,
                          3.558333333,
                          0.85,
                          0.225
                        ],
                        "sizemode": "area",
                        "sizeref": 0.0351493848857645,
                        "symbol": "circle"
                      },
                      "mode": "markers",
                      "name": "territorial",
                      "orientation": "v",
                      "showlegend": true,
                      "type": "scatter",
                      "x": [
                        0.025,
                        0,
                        0.008333333333,
                        0
                      ],
                      "xaxis": "x",
                      "y": [
                        0,
                        0,
                        0.008333333333,
                        0
                      ],
                      "yaxis": "y"
                    }
                  ],
                  "name": "1918-08-05 00:00:00"
                },
                {
                  "data": [
                    {
                      "hovertemplate": "<b>%{hovertext}</b><br><br>DivType=new<br>Date=1918-08-06 00:00:00<br>SW120DeathSentences=%{x}<br>SW120execution=%{y}<br>SW120Casualties=%{marker.size}<extra></extra>",
                      "hovertext": [
                        "41",
                        "36",
                        "38",
                        "37"
                      ],
                      "ids": [
                        "41",
                        "36",
                        "38",
                        "37"
                      ],
                      "legendgroup": "new",
                      "marker": {
                        "color": "#636EFA",
                        "size": [
                          0,
                          0,
                          0,
                          0
                        ],
                        "sizemode": "area",
                        "sizeref": 0.0351493848857645,
                        "symbol": "circle"
                      },
                      "mode": "markers",
                      "name": "new",
                      "orientation": "v",
                      "showlegend": true,
                      "type": "scatter",
                      "x": [
                        0.03333333333,
                        0.008333333333,
                        0.01666666667,
                        0.04166666667
                      ],
                      "xaxis": "x",
                      "y": [
                        0,
                        0,
                        0.008333333333,
                        0
                      ],
                      "yaxis": "y"
                    },
                    {
                      "hovertemplate": "<b>%{hovertext}</b><br><br>DivType=territorial<br>Date=1918-08-06 00:00:00<br>SW120DeathSentences=%{x}<br>SW120execution=%{y}<br>SW120Casualties=%{marker.size}<extra></extra>",
                      "hovertext": [
                        "63",
                        "55",
                        "50",
                        "58",
                        "56"
                      ],
                      "ids": [
                        "63",
                        "55",
                        "50",
                        "58",
                        "56"
                      ],
                      "legendgroup": "territorial",
                      "marker": {
                        "color": "#00CC96",
                        "size": [
                          0,
                          0,
                          0,
                          0,
                          0
                        ],
                        "sizemode": "area",
                        "sizeref": 0.0351493848857645,
                        "symbol": "circle"
                      },
                      "mode": "markers",
                      "name": "territorial",
                      "orientation": "v",
                      "showlegend": true,
                      "type": "scatter",
                      "x": [
                        0.008333333333,
                        0.01666666667,
                        0.008333333333,
                        0,
                        0.008333333333
                      ],
                      "xaxis": "x",
                      "y": [
                        0,
                        0,
                        0,
                        0,
                        0
                      ],
                      "yaxis": "y"
                    }
                  ],
                  "name": "1918-08-06 00:00:00"
                },
                {
                  "data": [
                    {
                      "hovertemplate": "<b>%{hovertext}</b><br><br>DivType=new<br>Date=1918-09-04 00:00:00<br>SW120DeathSentences=%{x}<br>SW120execution=%{y}<br>SW120Casualties=%{marker.size}<extra></extra>",
                      "hovertext": [
                        "10",
                        "16",
                        "35",
                        "30",
                        "32",
                        "39",
                        "23",
                        "9",
                        "13",
                        "25",
                        "12",
                        "21",
                        "15",
                        "18",
                        "11",
                        "19",
                        "31",
                        "14",
                        "34",
                        "17",
                        "20",
                        "24",
                        "33"
                      ],
                      "ids": [
                        "10",
                        "16",
                        "35",
                        "30",
                        "32",
                        "39",
                        "23",
                        "9",
                        "13",
                        "25",
                        "12",
                        "21",
                        "15",
                        "18",
                        "11",
                        "19",
                        "31",
                        "14",
                        "34",
                        "17",
                        "20",
                        "24",
                        "33"
                      ],
                      "legendgroup": "new",
                      "marker": {
                        "color": "#636EFA",
                        "size": [
                          0.05833333333,
                          0.08333333333,
                          0.425,
                          0,
                          0.5833333333,
                          0.4166666667,
                          0.8416666667,
                          5.683333333,
                          0.2,
                          4.016666667,
                          1.2,
                          1.475,
                          4.016666667,
                          3.558333333,
                          0.5916666667,
                          2.966666667,
                          0.01666666667,
                          1.116666667,
                          0,
                          3.533333333,
                          1.225,
                          2.883333333,
                          0
                        ],
                        "sizemode": "area",
                        "sizeref": 0.0351493848857645,
                        "symbol": "circle"
                      },
                      "mode": "markers",
                      "name": "new",
                      "orientation": "v",
                      "showlegend": true,
                      "type": "scatter",
                      "x": [
                        0.008333333333,
                        0,
                        0.008333333333,
                        0,
                        0.04166666667,
                        0.008333333333,
                        0.008333333333,
                        0.05,
                        0,
                        0.008333333333,
                        0.025,
                        0,
                        0.05,
                        0.025,
                        0.03333333333,
                        0.04166666667,
                        0.008333333333,
                        0,
                        0.025,
                        0.03333333333,
                        0.008333333333,
                        0.025,
                        0.025
                      ],
                      "xaxis": "x",
                      "y": [
                        0,
                        0,
                        0,
                        0,
                        0,
                        0,
                        0,
                        0,
                        0,
                        0,
                        0.008333333333,
                        0,
                        0.008333333333,
                        0.008333333333,
                        0.008333333333,
                        0,
                        0,
                        0,
                        0,
                        0,
                        0,
                        0.008333333333,
                        0.008333333333
                      ],
                      "yaxis": "y"
                    },
                    {
                      "hovertemplate": "<b>%{hovertext}</b><br><br>DivType=regular<br>Date=1918-09-04 00:00:00<br>SW120DeathSentences=%{x}<br>SW120execution=%{y}<br>SW120Casualties=%{marker.size}<extra></extra>",
                      "hovertext": [
                        "2",
                        "1",
                        "28",
                        "7",
                        "8",
                        "29",
                        "4",
                        "3",
                        "6",
                        "5",
                        "27"
                      ],
                      "ids": [
                        "2",
                        "1",
                        "28",
                        "7",
                        "8",
                        "29",
                        "4",
                        "3",
                        "6",
                        "5",
                        "27"
                      ],
                      "legendgroup": "regular",
                      "marker": {
                        "color": "#EF553B",
                        "size": [
                          2.65,
                          3.25,
                          0.175,
                          1.958333333,
                          8.291666667,
                          4.758333333,
                          4.85,
                          8.225,
                          3.65,
                          2.975,
                          0.2916666667
                        ],
                        "sizemode": "area",
                        "sizeref": 0.0351493848857645,
                        "symbol": "circle"
                      },
                      "mode": "markers",
                      "name": "regular",
                      "orientation": "v",
                      "showlegend": true,
                      "type": "scatter",
                      "x": [
                        0,
                        0.05833333333,
                        0,
                        0.03333333333,
                        0.075,
                        0.075,
                        0.01666666667,
                        0.08333333333,
                        0.04166666667,
                        0.06666666667,
                        0
                      ],
                      "xaxis": "x",
                      "y": [
                        0,
                        0.008333333333,
                        0,
                        0.01666666667,
                        0.008333333333,
                        0.025,
                        0,
                        0.008333333333,
                        0,
                        0,
                        0
                      ],
                      "yaxis": "y"
                    },
                    {
                      "hovertemplate": "<b>%{hovertext}</b><br><br>DivType=territorial<br>Date=1918-09-04 00:00:00<br>SW120DeathSentences=%{x}<br>SW120execution=%{y}<br>SW120Casualties=%{marker.size}<extra></extra>",
                      "hovertext": [
                        "66",
                        "51",
                        "48",
                        "46"
                      ],
                      "ids": [
                        "66",
                        "51",
                        "48",
                        "46"
                      ],
                      "legendgroup": "territorial",
                      "marker": {
                        "color": "#00CC96",
                        "size": [
                          1.408333333,
                          0.9583333333,
                          0.2666666667,
                          0.35
                        ],
                        "sizemode": "area",
                        "sizeref": 0.0351493848857645,
                        "symbol": "circle"
                      },
                      "mode": "markers",
                      "name": "territorial",
                      "orientation": "v",
                      "showlegend": true,
                      "type": "scatter",
                      "x": [
                        0,
                        0.008333333333,
                        0,
                        0.025
                      ],
                      "xaxis": "x",
                      "y": [
                        0,
                        0.008333333333,
                        0,
                        0
                      ],
                      "yaxis": "y"
                    }
                  ],
                  "name": "1918-09-04 00:00:00"
                },
                {
                  "data": [
                    {
                      "hovertemplate": "<b>%{hovertext}</b><br><br>DivType=new<br>Date=1918-09-05 00:00:00<br>SW120DeathSentences=%{x}<br>SW120execution=%{y}<br>SW120Casualties=%{marker.size}<extra></extra>",
                      "hovertext": [
                        "38",
                        "37",
                        "41",
                        "36"
                      ],
                      "ids": [
                        "38",
                        "37",
                        "41",
                        "36"
                      ],
                      "legendgroup": "new",
                      "marker": {
                        "color": "#636EFA",
                        "size": [
                          0,
                          0,
                          0,
                          0
                        ],
                        "sizemode": "area",
                        "sizeref": 0.0351493848857645,
                        "symbol": "circle"
                      },
                      "mode": "markers",
                      "name": "new",
                      "orientation": "v",
                      "showlegend": true,
                      "type": "scatter",
                      "x": [
                        0.01666666667,
                        0.04166666667,
                        0.05,
                        0.008333333333
                      ],
                      "xaxis": "x",
                      "y": [
                        0.008333333333,
                        0,
                        0.008333333333,
                        0
                      ],
                      "yaxis": "y"
                    },
                    {
                      "hovertemplate": "<b>%{hovertext}</b><br><br>DivType=territorial<br>Date=1918-09-05 00:00:00<br>SW120DeathSentences=%{x}<br>SW120execution=%{y}<br>SW120Casualties=%{marker.size}<extra></extra>",
                      "hovertext": [
                        "58",
                        "56",
                        "63",
                        "50",
                        "55"
                      ],
                      "ids": [
                        "58",
                        "56",
                        "63",
                        "50",
                        "55"
                      ],
                      "legendgroup": "territorial",
                      "marker": {
                        "color": "#00CC96",
                        "size": [
                          0,
                          0,
                          0,
                          0,
                          0
                        ],
                        "sizemode": "area",
                        "sizeref": 0.0351493848857645,
                        "symbol": "circle"
                      },
                      "mode": "markers",
                      "name": "territorial",
                      "orientation": "v",
                      "showlegend": true,
                      "type": "scatter",
                      "x": [
                        0,
                        0.008333333333,
                        0.01666666667,
                        0.01666666667,
                        0.025
                      ],
                      "xaxis": "x",
                      "y": [
                        0,
                        0,
                        0,
                        0,
                        0
                      ],
                      "yaxis": "y"
                    }
                  ],
                  "name": "1918-09-05 00:00:00"
                },
                {
                  "data": [
                    {
                      "hovertemplate": "<b>%{hovertext}</b><br><br>DivType=new<br>Date=1918-10-04 00:00:00<br>SW120DeathSentences=%{x}<br>SW120execution=%{y}<br>SW120Casualties=%{marker.size}<extra></extra>",
                      "hovertext": [
                        "32",
                        "18",
                        "14",
                        "31",
                        "21",
                        "17",
                        "34",
                        "13",
                        "24",
                        "15",
                        "30",
                        "20",
                        "9",
                        "33",
                        "10",
                        "19",
                        "11",
                        "39",
                        "35",
                        "23",
                        "12",
                        "16",
                        "25"
                      ],
                      "ids": [
                        "32",
                        "18",
                        "14",
                        "31",
                        "21",
                        "17",
                        "34",
                        "13",
                        "24",
                        "15",
                        "30",
                        "20",
                        "9",
                        "33",
                        "10",
                        "19",
                        "11",
                        "39",
                        "35",
                        "23",
                        "12",
                        "16",
                        "25"
                      ],
                      "legendgroup": "new",
                      "marker": {
                        "color": "#636EFA",
                        "size": [
                          0.55,
                          5.05,
                          0.8833333333,
                          0.01666666667,
                          2.716666667,
                          5.125,
                          0,
                          0.2083333333,
                          2.1,
                          3.441666667,
                          0,
                          1.125,
                          4.1,
                          0,
                          0.4,
                          1.258333333,
                          0.5416666667,
                          0.15,
                          0.3416666667,
                          0.7833333333,
                          3.05,
                          0.1583333333,
                          1.483333333
                        ],
                        "sizemode": "area",
                        "sizeref": 0.0351493848857645,
                        "symbol": "circle"
                      },
                      "mode": "markers",
                      "name": "new",
                      "orientation": "v",
                      "showlegend": true,
                      "type": "scatter",
                      "x": [
                        0.05,
                        0.025,
                        0,
                        0.04166666667,
                        0,
                        0.03333333333,
                        0.04166666667,
                        0,
                        0.03333333333,
                        0.03333333333,
                        0.008333333333,
                        0.01666666667,
                        0.06666666667,
                        0.01666666667,
                        0.01666666667,
                        0.05833333333,
                        0.05,
                        0.008333333333,
                        0.01666666667,
                        0.008333333333,
                        0.025,
                        0,
                        0.008333333333
                      ],
                      "xaxis": "x",
                      "y": [
                        0,
                        0.008333333333,
                        0,
                        0,
                        0,
                        0,
                        0,
                        0,
                        0.008333333333,
                        0,
                        0,
                        0,
                        0,
                        0,
                        0,
                        0,
                        0.008333333333,
                        0,
                        0,
                        0,
                        0.008333333333,
                        0,
                        0
                      ],
                      "yaxis": "y"
                    },
                    {
                      "hovertemplate": "<b>%{hovertext}</b><br><br>DivType=regular<br>Date=1918-10-04 00:00:00<br>SW120DeathSentences=%{x}<br>SW120execution=%{y}<br>SW120Casualties=%{marker.size}<extra></extra>",
                      "hovertext": [
                        "2",
                        "1",
                        "7",
                        "27",
                        "28",
                        "29",
                        "5",
                        "3",
                        "8",
                        "6",
                        "4"
                      ],
                      "ids": [
                        "2",
                        "1",
                        "7",
                        "27",
                        "28",
                        "29",
                        "5",
                        "3",
                        "8",
                        "6",
                        "4"
                      ],
                      "legendgroup": "regular",
                      "marker": {
                        "color": "#EF553B",
                        "size": [
                          2.8,
                          1.183333333,
                          3.025,
                          0.3666666667,
                          0.1833333333,
                          3.758333333,
                          5.75,
                          7.466666667,
                          5.825,
                          1.991666667,
                          4.925
                        ],
                        "sizemode": "area",
                        "sizeref": 0.0351493848857645,
                        "symbol": "circle"
                      },
                      "mode": "markers",
                      "name": "regular",
                      "orientation": "v",
                      "showlegend": true,
                      "type": "scatter",
                      "x": [
                        0.008333333333,
                        0.01666666667,
                        0.01666666667,
                        0,
                        0,
                        0.06666666667,
                        0.06666666667,
                        0.08333333333,
                        0.06666666667,
                        0.04166666667,
                        0.01666666667
                      ],
                      "xaxis": "x",
                      "y": [
                        0,
                        0,
                        0.01666666667,
                        0,
                        0,
                        0.025,
                        0,
                        0,
                        0,
                        0.008333333333,
                        0
                      ],
                      "yaxis": "y"
                    },
                    {
                      "hovertemplate": "<b>%{hovertext}</b><br><br>DivType=territorial<br>Date=1918-10-04 00:00:00<br>SW120DeathSentences=%{x}<br>SW120execution=%{y}<br>SW120Casualties=%{marker.size}<extra></extra>",
                      "hovertext": [
                        "46",
                        "51",
                        "66",
                        "48"
                      ],
                      "ids": [
                        "46",
                        "51",
                        "66",
                        "48"
                      ],
                      "legendgroup": "territorial",
                      "marker": {
                        "color": "#00CC96",
                        "size": [
                          0.3166666667,
                          0.825,
                          0.9583333333,
                          0.275
                        ],
                        "sizemode": "area",
                        "sizeref": 0.0351493848857645,
                        "symbol": "circle"
                      },
                      "mode": "markers",
                      "name": "territorial",
                      "orientation": "v",
                      "showlegend": true,
                      "type": "scatter",
                      "x": [
                        0.01666666667,
                        0,
                        0,
                        0
                      ],
                      "xaxis": "x",
                      "y": [
                        0,
                        0,
                        0,
                        0
                      ],
                      "yaxis": "y"
                    }
                  ],
                  "name": "1918-10-04 00:00:00"
                },
                {
                  "data": [
                    {
                      "hovertemplate": "<b>%{hovertext}</b><br><br>DivType=new<br>Date=1918-10-05 00:00:00<br>SW120DeathSentences=%{x}<br>SW120execution=%{y}<br>SW120Casualties=%{marker.size}<extra></extra>",
                      "hovertext": [
                        "41",
                        "38",
                        "36",
                        "37"
                      ],
                      "ids": [
                        "41",
                        "38",
                        "36",
                        "37"
                      ],
                      "legendgroup": "new",
                      "marker": {
                        "color": "#636EFA",
                        "size": [
                          0,
                          0,
                          0,
                          0
                        ],
                        "sizemode": "area",
                        "sizeref": 0.0351493848857645,
                        "symbol": "circle"
                      },
                      "mode": "markers",
                      "name": "new",
                      "orientation": "v",
                      "showlegend": true,
                      "type": "scatter",
                      "x": [
                        0.025,
                        0.008333333333,
                        0.008333333333,
                        0.03333333333
                      ],
                      "xaxis": "x",
                      "y": [
                        0.008333333333,
                        0,
                        0,
                        0
                      ],
                      "yaxis": "y"
                    },
                    {
                      "hovertemplate": "<b>%{hovertext}</b><br><br>DivType=territorial<br>Date=1918-10-05 00:00:00<br>SW120DeathSentences=%{x}<br>SW120execution=%{y}<br>SW120Casualties=%{marker.size}<extra></extra>",
                      "hovertext": [
                        "56",
                        "55",
                        "63",
                        "50",
                        "58"
                      ],
                      "ids": [
                        "56",
                        "55",
                        "63",
                        "50",
                        "58"
                      ],
                      "legendgroup": "territorial",
                      "marker": {
                        "color": "#00CC96",
                        "size": [
                          0,
                          0,
                          0,
                          0,
                          0
                        ],
                        "sizemode": "area",
                        "sizeref": 0.0351493848857645,
                        "symbol": "circle"
                      },
                      "mode": "markers",
                      "name": "territorial",
                      "orientation": "v",
                      "showlegend": true,
                      "type": "scatter",
                      "x": [
                        0.008333333333,
                        0.05,
                        0.01666666667,
                        0.008333333333,
                        0
                      ],
                      "xaxis": "x",
                      "y": [
                        0,
                        0,
                        0,
                        0,
                        0
                      ],
                      "yaxis": "y"
                    }
                  ],
                  "name": "1918-10-05 00:00:00"
                },
                {
                  "data": [
                    {
                      "hovertemplate": "<b>%{hovertext}</b><br><br>DivType=new<br>Date=1918-11-03 00:00:00<br>SW120DeathSentences=%{x}<br>SW120execution=%{y}<br>SW120Casualties=%{marker.size}<extra></extra>",
                      "hovertext": [
                        "17",
                        "16",
                        "23",
                        "9",
                        "32",
                        "15",
                        "33",
                        "14",
                        "19",
                        "10",
                        "20",
                        "35",
                        "11",
                        "39",
                        "25",
                        "12",
                        "30",
                        "34",
                        "24",
                        "31",
                        "21",
                        "18",
                        "13"
                      ],
                      "ids": [
                        "17",
                        "16",
                        "23",
                        "9",
                        "32",
                        "15",
                        "33",
                        "14",
                        "19",
                        "10",
                        "20",
                        "35",
                        "11",
                        "39",
                        "25",
                        "12",
                        "30",
                        "34",
                        "24",
                        "31",
                        "21",
                        "18",
                        "13"
                      ],
                      "legendgroup": "new",
                      "marker": {
                        "color": "#636EFA",
                        "size": [
                          7.116666667,
                          0.55,
                          0.3583333333,
                          5.683333333,
                          0.675,
                          3.2,
                          0,
                          0.8083333333,
                          1.141666667,
                          0.4833333333,
                          1.216666667,
                          0.5916666667,
                          1.433333333,
                          0.1916666667,
                          0.5,
                          5.183333333,
                          0,
                          0,
                          2.391666667,
                          0.025,
                          3.116666667,
                          7.008333333,
                          0.5583333333
                        ],
                        "sizemode": "area",
                        "sizeref": 0.0351493848857645,
                        "symbol": "circle"
                      },
                      "mode": "markers",
                      "name": "new",
                      "orientation": "v",
                      "showlegend": true,
                      "type": "scatter",
                      "x": [
                        0.01666666667,
                        0,
                        0.008333333333,
                        0.09166666667,
                        0.03333333333,
                        0.05,
                        0.03333333333,
                        0,
                        0.05833333333,
                        0.01666666667,
                        0.025,
                        0.01666666667,
                        0.025,
                        0.008333333333,
                        0.008333333333,
                        0.03333333333,
                        0.008333333333,
                        0.04166666667,
                        0.04166666667,
                        0.05,
                        0,
                        0.025,
                        0
                      ],
                      "xaxis": "x",
                      "y": [
                        0,
                        0,
                        0,
                        0.008333333333,
                        0,
                        0.008333333333,
                        0.008333333333,
                        0,
                        0,
                        0,
                        0,
                        0,
                        0.008333333333,
                        0,
                        0,
                        0.008333333333,
                        0,
                        0,
                        0.008333333333,
                        0,
                        0,
                        0.008333333333,
                        0
                      ],
                      "yaxis": "y"
                    },
                    {
                      "hovertemplate": "<b>%{hovertext}</b><br><br>DivType=regular<br>Date=1918-11-03 00:00:00<br>SW120DeathSentences=%{x}<br>SW120execution=%{y}<br>SW120Casualties=%{marker.size}<extra></extra>",
                      "hovertext": [
                        "5",
                        "8",
                        "27",
                        "29",
                        "3",
                        "6",
                        "4",
                        "1",
                        "2",
                        "7",
                        "28"
                      ],
                      "ids": [
                        "5",
                        "8",
                        "27",
                        "29",
                        "3",
                        "6",
                        "4",
                        "1",
                        "2",
                        "7",
                        "28"
                      ],
                      "legendgroup": "regular",
                      "marker": {
                        "color": "#EF553B",
                        "size": [
                          7.508333333,
                          2.975,
                          0.5666666667,
                          4.9,
                          8.141666667,
                          3.916666667,
                          4.6,
                          3.383333333,
                          4.325,
                          3.208333333,
                          0.825
                        ],
                        "sizemode": "area",
                        "sizeref": 0.0351493848857645,
                        "symbol": "circle"
                      },
                      "mode": "markers",
                      "name": "regular",
                      "orientation": "v",
                      "showlegend": true,
                      "type": "scatter",
                      "x": [
                        0.01666666667,
                        0.05,
                        0,
                        0.06666666667,
                        0.05833333333,
                        0.025,
                        0.008333333333,
                        0.008333333333,
                        0.008333333333,
                        0.01666666667,
                        0
                      ],
                      "xaxis": "x",
                      "y": [
                        0,
                        0,
                        0,
                        0.01666666667,
                        0,
                        0.008333333333,
                        0,
                        0,
                        0,
                        0.01666666667,
                        0
                      ],
                      "yaxis": "y"
                    },
                    {
                      "hovertemplate": "<b>%{hovertext}</b><br><br>DivType=territorial<br>Date=1918-11-03 00:00:00<br>SW120DeathSentences=%{x}<br>SW120execution=%{y}<br>SW120Casualties=%{marker.size}<extra></extra>",
                      "hovertext": [
                        "46",
                        "48",
                        "66",
                        "51"
                      ],
                      "ids": [
                        "46",
                        "48",
                        "66",
                        "51"
                      ],
                      "legendgroup": "territorial",
                      "marker": {
                        "color": "#00CC96",
                        "size": [
                          1.016666667,
                          0.275,
                          1.158333333,
                          0.725
                        ],
                        "sizemode": "area",
                        "sizeref": 0.0351493848857645,
                        "symbol": "circle"
                      },
                      "mode": "markers",
                      "name": "territorial",
                      "orientation": "v",
                      "showlegend": true,
                      "type": "scatter",
                      "x": [
                        0.008333333333,
                        0,
                        0,
                        0.008333333333
                      ],
                      "xaxis": "x",
                      "y": [
                        0,
                        0,
                        0,
                        0
                      ],
                      "yaxis": "y"
                    }
                  ],
                  "name": "1918-11-03 00:00:00"
                },
                {
                  "data": [
                    {
                      "hovertemplate": "<b>%{hovertext}</b><br><br>DivType=new<br>Date=1918-11-04 00:00:00<br>SW120DeathSentences=%{x}<br>SW120execution=%{y}<br>SW120Casualties=%{marker.size}<extra></extra>",
                      "hovertext": [
                        "37",
                        "36",
                        "41",
                        "38"
                      ],
                      "ids": [
                        "37",
                        "36",
                        "41",
                        "38"
                      ],
                      "legendgroup": "new",
                      "marker": {
                        "color": "#636EFA",
                        "size": [
                          0,
                          0,
                          0,
                          0
                        ],
                        "sizemode": "area",
                        "sizeref": 0.0351493848857645,
                        "symbol": "circle"
                      },
                      "mode": "markers",
                      "name": "new",
                      "orientation": "v",
                      "showlegend": true,
                      "type": "scatter",
                      "x": [
                        0.01666666667,
                        0.008333333333,
                        0.01666666667,
                        0
                      ],
                      "xaxis": "x",
                      "y": [
                        0.008333333333,
                        0,
                        0.008333333333,
                        0
                      ],
                      "yaxis": "y"
                    },
                    {
                      "hovertemplate": "<b>%{hovertext}</b><br><br>DivType=territorial<br>Date=1918-11-04 00:00:00<br>SW120DeathSentences=%{x}<br>SW120execution=%{y}<br>SW120Casualties=%{marker.size}<extra></extra>",
                      "hovertext": [
                        "50",
                        "63",
                        "55",
                        "58",
                        "56"
                      ],
                      "ids": [
                        "50",
                        "63",
                        "55",
                        "58",
                        "56"
                      ],
                      "legendgroup": "territorial",
                      "marker": {
                        "color": "#00CC96",
                        "size": [
                          0,
                          0,
                          0,
                          0,
                          0
                        ],
                        "sizemode": "area",
                        "sizeref": 0.0351493848857645,
                        "symbol": "circle"
                      },
                      "mode": "markers",
                      "name": "territorial",
                      "orientation": "v",
                      "showlegend": true,
                      "type": "scatter",
                      "x": [
                        0.01666666667,
                        0.008333333333,
                        0.075,
                        0,
                        0
                      ],
                      "xaxis": "x",
                      "y": [
                        0,
                        0,
                        0,
                        0,
                        0
                      ],
                      "yaxis": "y"
                    }
                  ],
                  "name": "1918-11-04 00:00:00"
                },
                {
                  "data": [
                    {
                      "hovertemplate": "<b>%{hovertext}</b><br><br>DivType=new<br>Date=1918-12-03 00:00:00<br>SW120DeathSentences=%{x}<br>SW120execution=%{y}<br>SW120Casualties=%{marker.size}<extra></extra>",
                      "hovertext": [
                        "20",
                        "35",
                        "21",
                        "34",
                        "33",
                        "23",
                        "32",
                        "24",
                        "31",
                        "30",
                        "25",
                        "19",
                        "39",
                        "18",
                        "10",
                        "11",
                        "12",
                        "13",
                        "14",
                        "15",
                        "16",
                        "17",
                        "9"
                      ],
                      "ids": [
                        "20",
                        "35",
                        "21",
                        "34",
                        "33",
                        "23",
                        "32",
                        "24",
                        "31",
                        "30",
                        "25",
                        "19",
                        "39",
                        "18",
                        "10",
                        "11",
                        "12",
                        "13",
                        "14",
                        "15",
                        "16",
                        "17",
                        "9"
                      ],
                      "legendgroup": "new",
                      "marker": {
                        "color": "#636EFA",
                        "size": [
                          1.625,
                          0.7666666667,
                          4,
                          0,
                          0,
                          0.7333333333,
                          0.675,
                          4.533333333,
                          0.05833333333,
                          0,
                          1.066666667,
                          1.091666667,
                          0.275,
                          7.65,
                          1.175,
                          2.116666667,
                          5.583333333,
                          0.6916666667,
                          0.9166666667,
                          3.883333333,
                          0.725,
                          9.908333333,
                          7.1
                        ],
                        "sizemode": "area",
                        "sizeref": 0.0351493848857645,
                        "symbol": "circle"
                      },
                      "mode": "markers",
                      "name": "new",
                      "orientation": "v",
                      "showlegend": true,
                      "type": "scatter",
                      "x": [
                        0.01666666667,
                        0.01666666667,
                        0.01666666667,
                        0.04166666667,
                        0.05,
                        0,
                        0.025,
                        0.04166666667,
                        0.06666666667,
                        0.008333333333,
                        0.008333333333,
                        0.03333333333,
                        0,
                        0.008333333333,
                        0.01666666667,
                        0.03333333333,
                        0.025,
                        0,
                        0,
                        0.05,
                        0.008333333333,
                        0.01666666667,
                        0.06666666667
                      ],
                      "xaxis": "x",
                      "y": [
                        0,
                        0,
                        0,
                        0,
                        0.008333333333,
                        0,
                        0,
                        0.008333333333,
                        0,
                        0,
                        0,
                        0,
                        0,
                        0.008333333333,
                        0,
                        0,
                        0.008333333333,
                        0,
                        0,
                        0.008333333333,
                        0,
                        0.008333333333,
                        0.008333333333
                      ],
                      "yaxis": "y"
                    },
                    {
                      "hovertemplate": "<b>%{hovertext}</b><br><br>DivType=regular<br>Date=1918-12-03 00:00:00<br>SW120DeathSentences=%{x}<br>SW120execution=%{y}<br>SW120Casualties=%{marker.size}<extra></extra>",
                      "hovertext": [
                        "28",
                        "1",
                        "2",
                        "3",
                        "27",
                        "29",
                        "8",
                        "7",
                        "6",
                        "5",
                        "4"
                      ],
                      "ids": [
                        "28",
                        "1",
                        "2",
                        "3",
                        "27",
                        "29",
                        "8",
                        "7",
                        "6",
                        "5",
                        "4"
                      ],
                      "legendgroup": "regular",
                      "marker": {
                        "color": "#EF553B",
                        "size": [
                          1.491666667,
                          5.258333333,
                          5.108333333,
                          10.375,
                          0.7833333333,
                          6.075,
                          4.25,
                          3.991666667,
                          7.225,
                          7.7,
                          5.991666667
                        ],
                        "sizemode": "area",
                        "sizeref": 0.0351493848857645,
                        "symbol": "circle"
                      },
                      "mode": "markers",
                      "name": "regular",
                      "orientation": "v",
                      "showlegend": true,
                      "type": "scatter",
                      "x": [
                        0.008333333333,
                        0.025,
                        0.05,
                        0.08333333333,
                        0,
                        0.06666666667,
                        0,
                        0.01666666667,
                        0.03333333333,
                        0.01666666667,
                        0.008333333333
                      ],
                      "xaxis": "x",
                      "y": [
                        0,
                        0,
                        0.008333333333,
                        0,
                        0,
                        0.008333333333,
                        0,
                        0.01666666667,
                        0.008333333333,
                        0,
                        0
                      ],
                      "yaxis": "y"
                    },
                    {
                      "hovertemplate": "<b>%{hovertext}</b><br><br>DivType=territorial<br>Date=1918-12-03 00:00:00<br>SW120DeathSentences=%{x}<br>SW120execution=%{y}<br>SW120Casualties=%{marker.size}<extra></extra>",
                      "hovertext": [
                        "66",
                        "51",
                        "48",
                        "46"
                      ],
                      "ids": [
                        "66",
                        "51",
                        "48",
                        "46"
                      ],
                      "legendgroup": "territorial",
                      "marker": {
                        "color": "#00CC96",
                        "size": [
                          1.133333333,
                          1.183333333,
                          0.1416666667,
                          1.4
                        ],
                        "sizemode": "area",
                        "sizeref": 0.0351493848857645,
                        "symbol": "circle"
                      },
                      "mode": "markers",
                      "name": "territorial",
                      "orientation": "v",
                      "showlegend": true,
                      "type": "scatter",
                      "x": [
                        0,
                        0.008333333333,
                        0,
                        0
                      ],
                      "xaxis": "x",
                      "y": [
                        0,
                        0,
                        0,
                        0
                      ],
                      "yaxis": "y"
                    }
                  ],
                  "name": "1918-12-03 00:00:00"
                }
              ],
              "layout": {
                "legend": {
                  "itemsizing": "constant",
                  "title": {
                    "text": "DivType"
                  },
                  "tracegroupgap": 0
                },
                "margin": {
                  "t": 60
                },
                "sliders": [
                  {
                    "active": 0,
                    "currentvalue": {
                      "prefix": "Date="
                    },
                    "len": 0.9,
                    "pad": {
                      "b": 10,
                      "t": 60
                    },
                    "steps": [
                      {
                        "args": [
                          [
                            "1914-11-24 00:00:00"
                          ],
                          {
                            "frame": {
                              "duration": 0,
                              "redraw": false
                            },
                            "fromcurrent": true,
                            "mode": "immediate",
                            "transition": {
                              "duration": 0,
                              "easing": "linear"
                            }
                          }
                        ],
                        "label": "1914-11-24 00:00:00",
                        "method": "animate"
                      },
                      {
                        "args": [
                          [
                            "1914-11-25 00:00:00"
                          ],
                          {
                            "frame": {
                              "duration": 0,
                              "redraw": false
                            },
                            "fromcurrent": true,
                            "mode": "immediate",
                            "transition": {
                              "duration": 0,
                              "easing": "linear"
                            }
                          }
                        ],
                        "label": "1914-11-25 00:00:00",
                        "method": "animate"
                      },
                      {
                        "args": [
                          [
                            "1914-12-24 00:00:00"
                          ],
                          {
                            "frame": {
                              "duration": 0,
                              "redraw": false
                            },
                            "fromcurrent": true,
                            "mode": "immediate",
                            "transition": {
                              "duration": 0,
                              "easing": "linear"
                            }
                          }
                        ],
                        "label": "1914-12-24 00:00:00",
                        "method": "animate"
                      },
                      {
                        "args": [
                          [
                            "1914-12-25 00:00:00"
                          ],
                          {
                            "frame": {
                              "duration": 0,
                              "redraw": false
                            },
                            "fromcurrent": true,
                            "mode": "immediate",
                            "transition": {
                              "duration": 0,
                              "easing": "linear"
                            }
                          }
                        ],
                        "label": "1914-12-25 00:00:00",
                        "method": "animate"
                      },
                      {
                        "args": [
                          [
                            "1915-01-23 00:00:00"
                          ],
                          {
                            "frame": {
                              "duration": 0,
                              "redraw": false
                            },
                            "fromcurrent": true,
                            "mode": "immediate",
                            "transition": {
                              "duration": 0,
                              "easing": "linear"
                            }
                          }
                        ],
                        "label": "1915-01-23 00:00:00",
                        "method": "animate"
                      },
                      {
                        "args": [
                          [
                            "1915-01-24 00:00:00"
                          ],
                          {
                            "frame": {
                              "duration": 0,
                              "redraw": false
                            },
                            "fromcurrent": true,
                            "mode": "immediate",
                            "transition": {
                              "duration": 0,
                              "easing": "linear"
                            }
                          }
                        ],
                        "label": "1915-01-24 00:00:00",
                        "method": "animate"
                      },
                      {
                        "args": [
                          [
                            "1915-02-22 00:00:00"
                          ],
                          {
                            "frame": {
                              "duration": 0,
                              "redraw": false
                            },
                            "fromcurrent": true,
                            "mode": "immediate",
                            "transition": {
                              "duration": 0,
                              "easing": "linear"
                            }
                          }
                        ],
                        "label": "1915-02-22 00:00:00",
                        "method": "animate"
                      },
                      {
                        "args": [
                          [
                            "1915-02-23 00:00:00"
                          ],
                          {
                            "frame": {
                              "duration": 0,
                              "redraw": false
                            },
                            "fromcurrent": true,
                            "mode": "immediate",
                            "transition": {
                              "duration": 0,
                              "easing": "linear"
                            }
                          }
                        ],
                        "label": "1915-02-23 00:00:00",
                        "method": "animate"
                      },
                      {
                        "args": [
                          [
                            "1915-03-24 00:00:00"
                          ],
                          {
                            "frame": {
                              "duration": 0,
                              "redraw": false
                            },
                            "fromcurrent": true,
                            "mode": "immediate",
                            "transition": {
                              "duration": 0,
                              "easing": "linear"
                            }
                          }
                        ],
                        "label": "1915-03-24 00:00:00",
                        "method": "animate"
                      },
                      {
                        "args": [
                          [
                            "1915-03-25 00:00:00"
                          ],
                          {
                            "frame": {
                              "duration": 0,
                              "redraw": false
                            },
                            "fromcurrent": true,
                            "mode": "immediate",
                            "transition": {
                              "duration": 0,
                              "easing": "linear"
                            }
                          }
                        ],
                        "label": "1915-03-25 00:00:00",
                        "method": "animate"
                      },
                      {
                        "args": [
                          [
                            "1915-04-23 00:00:00"
                          ],
                          {
                            "frame": {
                              "duration": 0,
                              "redraw": false
                            },
                            "fromcurrent": true,
                            "mode": "immediate",
                            "transition": {
                              "duration": 0,
                              "easing": "linear"
                            }
                          }
                        ],
                        "label": "1915-04-23 00:00:00",
                        "method": "animate"
                      },
                      {
                        "args": [
                          [
                            "1915-04-24 00:00:00"
                          ],
                          {
                            "frame": {
                              "duration": 0,
                              "redraw": false
                            },
                            "fromcurrent": true,
                            "mode": "immediate",
                            "transition": {
                              "duration": 0,
                              "easing": "linear"
                            }
                          }
                        ],
                        "label": "1915-04-24 00:00:00",
                        "method": "animate"
                      },
                      {
                        "args": [
                          [
                            "1915-05-23 00:00:00"
                          ],
                          {
                            "frame": {
                              "duration": 0,
                              "redraw": false
                            },
                            "fromcurrent": true,
                            "mode": "immediate",
                            "transition": {
                              "duration": 0,
                              "easing": "linear"
                            }
                          }
                        ],
                        "label": "1915-05-23 00:00:00",
                        "method": "animate"
                      },
                      {
                        "args": [
                          [
                            "1915-05-24 00:00:00"
                          ],
                          {
                            "frame": {
                              "duration": 0,
                              "redraw": false
                            },
                            "fromcurrent": true,
                            "mode": "immediate",
                            "transition": {
                              "duration": 0,
                              "easing": "linear"
                            }
                          }
                        ],
                        "label": "1915-05-24 00:00:00",
                        "method": "animate"
                      },
                      {
                        "args": [
                          [
                            "1915-06-22 00:00:00"
                          ],
                          {
                            "frame": {
                              "duration": 0,
                              "redraw": false
                            },
                            "fromcurrent": true,
                            "mode": "immediate",
                            "transition": {
                              "duration": 0,
                              "easing": "linear"
                            }
                          }
                        ],
                        "label": "1915-06-22 00:00:00",
                        "method": "animate"
                      },
                      {
                        "args": [
                          [
                            "1915-06-23 00:00:00"
                          ],
                          {
                            "frame": {
                              "duration": 0,
                              "redraw": false
                            },
                            "fromcurrent": true,
                            "mode": "immediate",
                            "transition": {
                              "duration": 0,
                              "easing": "linear"
                            }
                          }
                        ],
                        "label": "1915-06-23 00:00:00",
                        "method": "animate"
                      },
                      {
                        "args": [
                          [
                            "1915-07-22 00:00:00"
                          ],
                          {
                            "frame": {
                              "duration": 0,
                              "redraw": false
                            },
                            "fromcurrent": true,
                            "mode": "immediate",
                            "transition": {
                              "duration": 0,
                              "easing": "linear"
                            }
                          }
                        ],
                        "label": "1915-07-22 00:00:00",
                        "method": "animate"
                      },
                      {
                        "args": [
                          [
                            "1915-07-23 00:00:00"
                          ],
                          {
                            "frame": {
                              "duration": 0,
                              "redraw": false
                            },
                            "fromcurrent": true,
                            "mode": "immediate",
                            "transition": {
                              "duration": 0,
                              "easing": "linear"
                            }
                          }
                        ],
                        "label": "1915-07-23 00:00:00",
                        "method": "animate"
                      },
                      {
                        "args": [
                          [
                            "1915-08-21 00:00:00"
                          ],
                          {
                            "frame": {
                              "duration": 0,
                              "redraw": false
                            },
                            "fromcurrent": true,
                            "mode": "immediate",
                            "transition": {
                              "duration": 0,
                              "easing": "linear"
                            }
                          }
                        ],
                        "label": "1915-08-21 00:00:00",
                        "method": "animate"
                      },
                      {
                        "args": [
                          [
                            "1915-08-22 00:00:00"
                          ],
                          {
                            "frame": {
                              "duration": 0,
                              "redraw": false
                            },
                            "fromcurrent": true,
                            "mode": "immediate",
                            "transition": {
                              "duration": 0,
                              "easing": "linear"
                            }
                          }
                        ],
                        "label": "1915-08-22 00:00:00",
                        "method": "animate"
                      },
                      {
                        "args": [
                          [
                            "1915-09-20 00:00:00"
                          ],
                          {
                            "frame": {
                              "duration": 0,
                              "redraw": false
                            },
                            "fromcurrent": true,
                            "mode": "immediate",
                            "transition": {
                              "duration": 0,
                              "easing": "linear"
                            }
                          }
                        ],
                        "label": "1915-09-20 00:00:00",
                        "method": "animate"
                      },
                      {
                        "args": [
                          [
                            "1915-09-21 00:00:00"
                          ],
                          {
                            "frame": {
                              "duration": 0,
                              "redraw": false
                            },
                            "fromcurrent": true,
                            "mode": "immediate",
                            "transition": {
                              "duration": 0,
                              "easing": "linear"
                            }
                          }
                        ],
                        "label": "1915-09-21 00:00:00",
                        "method": "animate"
                      },
                      {
                        "args": [
                          [
                            "1915-10-20 00:00:00"
                          ],
                          {
                            "frame": {
                              "duration": 0,
                              "redraw": false
                            },
                            "fromcurrent": true,
                            "mode": "immediate",
                            "transition": {
                              "duration": 0,
                              "easing": "linear"
                            }
                          }
                        ],
                        "label": "1915-10-20 00:00:00",
                        "method": "animate"
                      },
                      {
                        "args": [
                          [
                            "1915-10-21 00:00:00"
                          ],
                          {
                            "frame": {
                              "duration": 0,
                              "redraw": false
                            },
                            "fromcurrent": true,
                            "mode": "immediate",
                            "transition": {
                              "duration": 0,
                              "easing": "linear"
                            }
                          }
                        ],
                        "label": "1915-10-21 00:00:00",
                        "method": "animate"
                      },
                      {
                        "args": [
                          [
                            "1915-11-19 00:00:00"
                          ],
                          {
                            "frame": {
                              "duration": 0,
                              "redraw": false
                            },
                            "fromcurrent": true,
                            "mode": "immediate",
                            "transition": {
                              "duration": 0,
                              "easing": "linear"
                            }
                          }
                        ],
                        "label": "1915-11-19 00:00:00",
                        "method": "animate"
                      },
                      {
                        "args": [
                          [
                            "1915-11-20 00:00:00"
                          ],
                          {
                            "frame": {
                              "duration": 0,
                              "redraw": false
                            },
                            "fromcurrent": true,
                            "mode": "immediate",
                            "transition": {
                              "duration": 0,
                              "easing": "linear"
                            }
                          }
                        ],
                        "label": "1915-11-20 00:00:00",
                        "method": "animate"
                      },
                      {
                        "args": [
                          [
                            "1915-12-19 00:00:00"
                          ],
                          {
                            "frame": {
                              "duration": 0,
                              "redraw": false
                            },
                            "fromcurrent": true,
                            "mode": "immediate",
                            "transition": {
                              "duration": 0,
                              "easing": "linear"
                            }
                          }
                        ],
                        "label": "1915-12-19 00:00:00",
                        "method": "animate"
                      },
                      {
                        "args": [
                          [
                            "1915-12-20 00:00:00"
                          ],
                          {
                            "frame": {
                              "duration": 0,
                              "redraw": false
                            },
                            "fromcurrent": true,
                            "mode": "immediate",
                            "transition": {
                              "duration": 0,
                              "easing": "linear"
                            }
                          }
                        ],
                        "label": "1915-12-20 00:00:00",
                        "method": "animate"
                      },
                      {
                        "args": [
                          [
                            "1916-01-18 00:00:00"
                          ],
                          {
                            "frame": {
                              "duration": 0,
                              "redraw": false
                            },
                            "fromcurrent": true,
                            "mode": "immediate",
                            "transition": {
                              "duration": 0,
                              "easing": "linear"
                            }
                          }
                        ],
                        "label": "1916-01-18 00:00:00",
                        "method": "animate"
                      },
                      {
                        "args": [
                          [
                            "1916-01-19 00:00:00"
                          ],
                          {
                            "frame": {
                              "duration": 0,
                              "redraw": false
                            },
                            "fromcurrent": true,
                            "mode": "immediate",
                            "transition": {
                              "duration": 0,
                              "easing": "linear"
                            }
                          }
                        ],
                        "label": "1916-01-19 00:00:00",
                        "method": "animate"
                      },
                      {
                        "args": [
                          [
                            "1916-02-17 00:00:00"
                          ],
                          {
                            "frame": {
                              "duration": 0,
                              "redraw": false
                            },
                            "fromcurrent": true,
                            "mode": "immediate",
                            "transition": {
                              "duration": 0,
                              "easing": "linear"
                            }
                          }
                        ],
                        "label": "1916-02-17 00:00:00",
                        "method": "animate"
                      },
                      {
                        "args": [
                          [
                            "1916-02-18 00:00:00"
                          ],
                          {
                            "frame": {
                              "duration": 0,
                              "redraw": false
                            },
                            "fromcurrent": true,
                            "mode": "immediate",
                            "transition": {
                              "duration": 0,
                              "easing": "linear"
                            }
                          }
                        ],
                        "label": "1916-02-18 00:00:00",
                        "method": "animate"
                      },
                      {
                        "args": [
                          [
                            "1916-03-18 00:00:00"
                          ],
                          {
                            "frame": {
                              "duration": 0,
                              "redraw": false
                            },
                            "fromcurrent": true,
                            "mode": "immediate",
                            "transition": {
                              "duration": 0,
                              "easing": "linear"
                            }
                          }
                        ],
                        "label": "1916-03-18 00:00:00",
                        "method": "animate"
                      },
                      {
                        "args": [
                          [
                            "1916-03-19 00:00:00"
                          ],
                          {
                            "frame": {
                              "duration": 0,
                              "redraw": false
                            },
                            "fromcurrent": true,
                            "mode": "immediate",
                            "transition": {
                              "duration": 0,
                              "easing": "linear"
                            }
                          }
                        ],
                        "label": "1916-03-19 00:00:00",
                        "method": "animate"
                      },
                      {
                        "args": [
                          [
                            "1916-04-17 00:00:00"
                          ],
                          {
                            "frame": {
                              "duration": 0,
                              "redraw": false
                            },
                            "fromcurrent": true,
                            "mode": "immediate",
                            "transition": {
                              "duration": 0,
                              "easing": "linear"
                            }
                          }
                        ],
                        "label": "1916-04-17 00:00:00",
                        "method": "animate"
                      },
                      {
                        "args": [
                          [
                            "1916-04-18 00:00:00"
                          ],
                          {
                            "frame": {
                              "duration": 0,
                              "redraw": false
                            },
                            "fromcurrent": true,
                            "mode": "immediate",
                            "transition": {
                              "duration": 0,
                              "easing": "linear"
                            }
                          }
                        ],
                        "label": "1916-04-18 00:00:00",
                        "method": "animate"
                      },
                      {
                        "args": [
                          [
                            "1916-05-17 00:00:00"
                          ],
                          {
                            "frame": {
                              "duration": 0,
                              "redraw": false
                            },
                            "fromcurrent": true,
                            "mode": "immediate",
                            "transition": {
                              "duration": 0,
                              "easing": "linear"
                            }
                          }
                        ],
                        "label": "1916-05-17 00:00:00",
                        "method": "animate"
                      },
                      {
                        "args": [
                          [
                            "1916-05-18 00:00:00"
                          ],
                          {
                            "frame": {
                              "duration": 0,
                              "redraw": false
                            },
                            "fromcurrent": true,
                            "mode": "immediate",
                            "transition": {
                              "duration": 0,
                              "easing": "linear"
                            }
                          }
                        ],
                        "label": "1916-05-18 00:00:00",
                        "method": "animate"
                      },
                      {
                        "args": [
                          [
                            "1916-06-16 00:00:00"
                          ],
                          {
                            "frame": {
                              "duration": 0,
                              "redraw": false
                            },
                            "fromcurrent": true,
                            "mode": "immediate",
                            "transition": {
                              "duration": 0,
                              "easing": "linear"
                            }
                          }
                        ],
                        "label": "1916-06-16 00:00:00",
                        "method": "animate"
                      },
                      {
                        "args": [
                          [
                            "1916-06-17 00:00:00"
                          ],
                          {
                            "frame": {
                              "duration": 0,
                              "redraw": false
                            },
                            "fromcurrent": true,
                            "mode": "immediate",
                            "transition": {
                              "duration": 0,
                              "easing": "linear"
                            }
                          }
                        ],
                        "label": "1916-06-17 00:00:00",
                        "method": "animate"
                      },
                      {
                        "args": [
                          [
                            "1916-07-16 00:00:00"
                          ],
                          {
                            "frame": {
                              "duration": 0,
                              "redraw": false
                            },
                            "fromcurrent": true,
                            "mode": "immediate",
                            "transition": {
                              "duration": 0,
                              "easing": "linear"
                            }
                          }
                        ],
                        "label": "1916-07-16 00:00:00",
                        "method": "animate"
                      },
                      {
                        "args": [
                          [
                            "1916-07-17 00:00:00"
                          ],
                          {
                            "frame": {
                              "duration": 0,
                              "redraw": false
                            },
                            "fromcurrent": true,
                            "mode": "immediate",
                            "transition": {
                              "duration": 0,
                              "easing": "linear"
                            }
                          }
                        ],
                        "label": "1916-07-17 00:00:00",
                        "method": "animate"
                      },
                      {
                        "args": [
                          [
                            "1916-08-15 00:00:00"
                          ],
                          {
                            "frame": {
                              "duration": 0,
                              "redraw": false
                            },
                            "fromcurrent": true,
                            "mode": "immediate",
                            "transition": {
                              "duration": 0,
                              "easing": "linear"
                            }
                          }
                        ],
                        "label": "1916-08-15 00:00:00",
                        "method": "animate"
                      },
                      {
                        "args": [
                          [
                            "1916-08-16 00:00:00"
                          ],
                          {
                            "frame": {
                              "duration": 0,
                              "redraw": false
                            },
                            "fromcurrent": true,
                            "mode": "immediate",
                            "transition": {
                              "duration": 0,
                              "easing": "linear"
                            }
                          }
                        ],
                        "label": "1916-08-16 00:00:00",
                        "method": "animate"
                      },
                      {
                        "args": [
                          [
                            "1916-09-14 00:00:00"
                          ],
                          {
                            "frame": {
                              "duration": 0,
                              "redraw": false
                            },
                            "fromcurrent": true,
                            "mode": "immediate",
                            "transition": {
                              "duration": 0,
                              "easing": "linear"
                            }
                          }
                        ],
                        "label": "1916-09-14 00:00:00",
                        "method": "animate"
                      },
                      {
                        "args": [
                          [
                            "1916-09-15 00:00:00"
                          ],
                          {
                            "frame": {
                              "duration": 0,
                              "redraw": false
                            },
                            "fromcurrent": true,
                            "mode": "immediate",
                            "transition": {
                              "duration": 0,
                              "easing": "linear"
                            }
                          }
                        ],
                        "label": "1916-09-15 00:00:00",
                        "method": "animate"
                      },
                      {
                        "args": [
                          [
                            "1916-10-14 00:00:00"
                          ],
                          {
                            "frame": {
                              "duration": 0,
                              "redraw": false
                            },
                            "fromcurrent": true,
                            "mode": "immediate",
                            "transition": {
                              "duration": 0,
                              "easing": "linear"
                            }
                          }
                        ],
                        "label": "1916-10-14 00:00:00",
                        "method": "animate"
                      },
                      {
                        "args": [
                          [
                            "1916-10-15 00:00:00"
                          ],
                          {
                            "frame": {
                              "duration": 0,
                              "redraw": false
                            },
                            "fromcurrent": true,
                            "mode": "immediate",
                            "transition": {
                              "duration": 0,
                              "easing": "linear"
                            }
                          }
                        ],
                        "label": "1916-10-15 00:00:00",
                        "method": "animate"
                      },
                      {
                        "args": [
                          [
                            "1916-11-13 00:00:00"
                          ],
                          {
                            "frame": {
                              "duration": 0,
                              "redraw": false
                            },
                            "fromcurrent": true,
                            "mode": "immediate",
                            "transition": {
                              "duration": 0,
                              "easing": "linear"
                            }
                          }
                        ],
                        "label": "1916-11-13 00:00:00",
                        "method": "animate"
                      },
                      {
                        "args": [
                          [
                            "1916-11-14 00:00:00"
                          ],
                          {
                            "frame": {
                              "duration": 0,
                              "redraw": false
                            },
                            "fromcurrent": true,
                            "mode": "immediate",
                            "transition": {
                              "duration": 0,
                              "easing": "linear"
                            }
                          }
                        ],
                        "label": "1916-11-14 00:00:00",
                        "method": "animate"
                      },
                      {
                        "args": [
                          [
                            "1916-12-13 00:00:00"
                          ],
                          {
                            "frame": {
                              "duration": 0,
                              "redraw": false
                            },
                            "fromcurrent": true,
                            "mode": "immediate",
                            "transition": {
                              "duration": 0,
                              "easing": "linear"
                            }
                          }
                        ],
                        "label": "1916-12-13 00:00:00",
                        "method": "animate"
                      },
                      {
                        "args": [
                          [
                            "1916-12-14 00:00:00"
                          ],
                          {
                            "frame": {
                              "duration": 0,
                              "redraw": false
                            },
                            "fromcurrent": true,
                            "mode": "immediate",
                            "transition": {
                              "duration": 0,
                              "easing": "linear"
                            }
                          }
                        ],
                        "label": "1916-12-14 00:00:00",
                        "method": "animate"
                      },
                      {
                        "args": [
                          [
                            "1917-01-12 00:00:00"
                          ],
                          {
                            "frame": {
                              "duration": 0,
                              "redraw": false
                            },
                            "fromcurrent": true,
                            "mode": "immediate",
                            "transition": {
                              "duration": 0,
                              "easing": "linear"
                            }
                          }
                        ],
                        "label": "1917-01-12 00:00:00",
                        "method": "animate"
                      },
                      {
                        "args": [
                          [
                            "1917-01-13 00:00:00"
                          ],
                          {
                            "frame": {
                              "duration": 0,
                              "redraw": false
                            },
                            "fromcurrent": true,
                            "mode": "immediate",
                            "transition": {
                              "duration": 0,
                              "easing": "linear"
                            }
                          }
                        ],
                        "label": "1917-01-13 00:00:00",
                        "method": "animate"
                      },
                      {
                        "args": [
                          [
                            "1917-02-11 00:00:00"
                          ],
                          {
                            "frame": {
                              "duration": 0,
                              "redraw": false
                            },
                            "fromcurrent": true,
                            "mode": "immediate",
                            "transition": {
                              "duration": 0,
                              "easing": "linear"
                            }
                          }
                        ],
                        "label": "1917-02-11 00:00:00",
                        "method": "animate"
                      },
                      {
                        "args": [
                          [
                            "1917-02-12 00:00:00"
                          ],
                          {
                            "frame": {
                              "duration": 0,
                              "redraw": false
                            },
                            "fromcurrent": true,
                            "mode": "immediate",
                            "transition": {
                              "duration": 0,
                              "easing": "linear"
                            }
                          }
                        ],
                        "label": "1917-02-12 00:00:00",
                        "method": "animate"
                      },
                      {
                        "args": [
                          [
                            "1917-03-13 00:00:00"
                          ],
                          {
                            "frame": {
                              "duration": 0,
                              "redraw": false
                            },
                            "fromcurrent": true,
                            "mode": "immediate",
                            "transition": {
                              "duration": 0,
                              "easing": "linear"
                            }
                          }
                        ],
                        "label": "1917-03-13 00:00:00",
                        "method": "animate"
                      },
                      {
                        "args": [
                          [
                            "1917-03-14 00:00:00"
                          ],
                          {
                            "frame": {
                              "duration": 0,
                              "redraw": false
                            },
                            "fromcurrent": true,
                            "mode": "immediate",
                            "transition": {
                              "duration": 0,
                              "easing": "linear"
                            }
                          }
                        ],
                        "label": "1917-03-14 00:00:00",
                        "method": "animate"
                      },
                      {
                        "args": [
                          [
                            "1917-04-12 00:00:00"
                          ],
                          {
                            "frame": {
                              "duration": 0,
                              "redraw": false
                            },
                            "fromcurrent": true,
                            "mode": "immediate",
                            "transition": {
                              "duration": 0,
                              "easing": "linear"
                            }
                          }
                        ],
                        "label": "1917-04-12 00:00:00",
                        "method": "animate"
                      },
                      {
                        "args": [
                          [
                            "1917-04-13 00:00:00"
                          ],
                          {
                            "frame": {
                              "duration": 0,
                              "redraw": false
                            },
                            "fromcurrent": true,
                            "mode": "immediate",
                            "transition": {
                              "duration": 0,
                              "easing": "linear"
                            }
                          }
                        ],
                        "label": "1917-04-13 00:00:00",
                        "method": "animate"
                      },
                      {
                        "args": [
                          [
                            "1917-05-12 00:00:00"
                          ],
                          {
                            "frame": {
                              "duration": 0,
                              "redraw": false
                            },
                            "fromcurrent": true,
                            "mode": "immediate",
                            "transition": {
                              "duration": 0,
                              "easing": "linear"
                            }
                          }
                        ],
                        "label": "1917-05-12 00:00:00",
                        "method": "animate"
                      },
                      {
                        "args": [
                          [
                            "1917-05-13 00:00:00"
                          ],
                          {
                            "frame": {
                              "duration": 0,
                              "redraw": false
                            },
                            "fromcurrent": true,
                            "mode": "immediate",
                            "transition": {
                              "duration": 0,
                              "easing": "linear"
                            }
                          }
                        ],
                        "label": "1917-05-13 00:00:00",
                        "method": "animate"
                      },
                      {
                        "args": [
                          [
                            "1917-06-11 00:00:00"
                          ],
                          {
                            "frame": {
                              "duration": 0,
                              "redraw": false
                            },
                            "fromcurrent": true,
                            "mode": "immediate",
                            "transition": {
                              "duration": 0,
                              "easing": "linear"
                            }
                          }
                        ],
                        "label": "1917-06-11 00:00:00",
                        "method": "animate"
                      },
                      {
                        "args": [
                          [
                            "1917-06-12 00:00:00"
                          ],
                          {
                            "frame": {
                              "duration": 0,
                              "redraw": false
                            },
                            "fromcurrent": true,
                            "mode": "immediate",
                            "transition": {
                              "duration": 0,
                              "easing": "linear"
                            }
                          }
                        ],
                        "label": "1917-06-12 00:00:00",
                        "method": "animate"
                      },
                      {
                        "args": [
                          [
                            "1917-07-11 00:00:00"
                          ],
                          {
                            "frame": {
                              "duration": 0,
                              "redraw": false
                            },
                            "fromcurrent": true,
                            "mode": "immediate",
                            "transition": {
                              "duration": 0,
                              "easing": "linear"
                            }
                          }
                        ],
                        "label": "1917-07-11 00:00:00",
                        "method": "animate"
                      },
                      {
                        "args": [
                          [
                            "1917-07-12 00:00:00"
                          ],
                          {
                            "frame": {
                              "duration": 0,
                              "redraw": false
                            },
                            "fromcurrent": true,
                            "mode": "immediate",
                            "transition": {
                              "duration": 0,
                              "easing": "linear"
                            }
                          }
                        ],
                        "label": "1917-07-12 00:00:00",
                        "method": "animate"
                      },
                      {
                        "args": [
                          [
                            "1917-08-10 00:00:00"
                          ],
                          {
                            "frame": {
                              "duration": 0,
                              "redraw": false
                            },
                            "fromcurrent": true,
                            "mode": "immediate",
                            "transition": {
                              "duration": 0,
                              "easing": "linear"
                            }
                          }
                        ],
                        "label": "1917-08-10 00:00:00",
                        "method": "animate"
                      },
                      {
                        "args": [
                          [
                            "1917-08-11 00:00:00"
                          ],
                          {
                            "frame": {
                              "duration": 0,
                              "redraw": false
                            },
                            "fromcurrent": true,
                            "mode": "immediate",
                            "transition": {
                              "duration": 0,
                              "easing": "linear"
                            }
                          }
                        ],
                        "label": "1917-08-11 00:00:00",
                        "method": "animate"
                      },
                      {
                        "args": [
                          [
                            "1917-09-09 00:00:00"
                          ],
                          {
                            "frame": {
                              "duration": 0,
                              "redraw": false
                            },
                            "fromcurrent": true,
                            "mode": "immediate",
                            "transition": {
                              "duration": 0,
                              "easing": "linear"
                            }
                          }
                        ],
                        "label": "1917-09-09 00:00:00",
                        "method": "animate"
                      },
                      {
                        "args": [
                          [
                            "1917-09-10 00:00:00"
                          ],
                          {
                            "frame": {
                              "duration": 0,
                              "redraw": false
                            },
                            "fromcurrent": true,
                            "mode": "immediate",
                            "transition": {
                              "duration": 0,
                              "easing": "linear"
                            }
                          }
                        ],
                        "label": "1917-09-10 00:00:00",
                        "method": "animate"
                      },
                      {
                        "args": [
                          [
                            "1917-10-09 00:00:00"
                          ],
                          {
                            "frame": {
                              "duration": 0,
                              "redraw": false
                            },
                            "fromcurrent": true,
                            "mode": "immediate",
                            "transition": {
                              "duration": 0,
                              "easing": "linear"
                            }
                          }
                        ],
                        "label": "1917-10-09 00:00:00",
                        "method": "animate"
                      },
                      {
                        "args": [
                          [
                            "1917-10-10 00:00:00"
                          ],
                          {
                            "frame": {
                              "duration": 0,
                              "redraw": false
                            },
                            "fromcurrent": true,
                            "mode": "immediate",
                            "transition": {
                              "duration": 0,
                              "easing": "linear"
                            }
                          }
                        ],
                        "label": "1917-10-10 00:00:00",
                        "method": "animate"
                      },
                      {
                        "args": [
                          [
                            "1917-11-08 00:00:00"
                          ],
                          {
                            "frame": {
                              "duration": 0,
                              "redraw": false
                            },
                            "fromcurrent": true,
                            "mode": "immediate",
                            "transition": {
                              "duration": 0,
                              "easing": "linear"
                            }
                          }
                        ],
                        "label": "1917-11-08 00:00:00",
                        "method": "animate"
                      },
                      {
                        "args": [
                          [
                            "1917-11-09 00:00:00"
                          ],
                          {
                            "frame": {
                              "duration": 0,
                              "redraw": false
                            },
                            "fromcurrent": true,
                            "mode": "immediate",
                            "transition": {
                              "duration": 0,
                              "easing": "linear"
                            }
                          }
                        ],
                        "label": "1917-11-09 00:00:00",
                        "method": "animate"
                      },
                      {
                        "args": [
                          [
                            "1917-12-08 00:00:00"
                          ],
                          {
                            "frame": {
                              "duration": 0,
                              "redraw": false
                            },
                            "fromcurrent": true,
                            "mode": "immediate",
                            "transition": {
                              "duration": 0,
                              "easing": "linear"
                            }
                          }
                        ],
                        "label": "1917-12-08 00:00:00",
                        "method": "animate"
                      },
                      {
                        "args": [
                          [
                            "1917-12-09 00:00:00"
                          ],
                          {
                            "frame": {
                              "duration": 0,
                              "redraw": false
                            },
                            "fromcurrent": true,
                            "mode": "immediate",
                            "transition": {
                              "duration": 0,
                              "easing": "linear"
                            }
                          }
                        ],
                        "label": "1917-12-09 00:00:00",
                        "method": "animate"
                      },
                      {
                        "args": [
                          [
                            "1918-01-07 00:00:00"
                          ],
                          {
                            "frame": {
                              "duration": 0,
                              "redraw": false
                            },
                            "fromcurrent": true,
                            "mode": "immediate",
                            "transition": {
                              "duration": 0,
                              "easing": "linear"
                            }
                          }
                        ],
                        "label": "1918-01-07 00:00:00",
                        "method": "animate"
                      },
                      {
                        "args": [
                          [
                            "1918-01-08 00:00:00"
                          ],
                          {
                            "frame": {
                              "duration": 0,
                              "redraw": false
                            },
                            "fromcurrent": true,
                            "mode": "immediate",
                            "transition": {
                              "duration": 0,
                              "easing": "linear"
                            }
                          }
                        ],
                        "label": "1918-01-08 00:00:00",
                        "method": "animate"
                      },
                      {
                        "args": [
                          [
                            "1918-02-06 00:00:00"
                          ],
                          {
                            "frame": {
                              "duration": 0,
                              "redraw": false
                            },
                            "fromcurrent": true,
                            "mode": "immediate",
                            "transition": {
                              "duration": 0,
                              "easing": "linear"
                            }
                          }
                        ],
                        "label": "1918-02-06 00:00:00",
                        "method": "animate"
                      },
                      {
                        "args": [
                          [
                            "1918-02-07 00:00:00"
                          ],
                          {
                            "frame": {
                              "duration": 0,
                              "redraw": false
                            },
                            "fromcurrent": true,
                            "mode": "immediate",
                            "transition": {
                              "duration": 0,
                              "easing": "linear"
                            }
                          }
                        ],
                        "label": "1918-02-07 00:00:00",
                        "method": "animate"
                      },
                      {
                        "args": [
                          [
                            "1918-03-08 00:00:00"
                          ],
                          {
                            "frame": {
                              "duration": 0,
                              "redraw": false
                            },
                            "fromcurrent": true,
                            "mode": "immediate",
                            "transition": {
                              "duration": 0,
                              "easing": "linear"
                            }
                          }
                        ],
                        "label": "1918-03-08 00:00:00",
                        "method": "animate"
                      },
                      {
                        "args": [
                          [
                            "1918-03-09 00:00:00"
                          ],
                          {
                            "frame": {
                              "duration": 0,
                              "redraw": false
                            },
                            "fromcurrent": true,
                            "mode": "immediate",
                            "transition": {
                              "duration": 0,
                              "easing": "linear"
                            }
                          }
                        ],
                        "label": "1918-03-09 00:00:00",
                        "method": "animate"
                      },
                      {
                        "args": [
                          [
                            "1918-04-07 00:00:00"
                          ],
                          {
                            "frame": {
                              "duration": 0,
                              "redraw": false
                            },
                            "fromcurrent": true,
                            "mode": "immediate",
                            "transition": {
                              "duration": 0,
                              "easing": "linear"
                            }
                          }
                        ],
                        "label": "1918-04-07 00:00:00",
                        "method": "animate"
                      },
                      {
                        "args": [
                          [
                            "1918-04-08 00:00:00"
                          ],
                          {
                            "frame": {
                              "duration": 0,
                              "redraw": false
                            },
                            "fromcurrent": true,
                            "mode": "immediate",
                            "transition": {
                              "duration": 0,
                              "easing": "linear"
                            }
                          }
                        ],
                        "label": "1918-04-08 00:00:00",
                        "method": "animate"
                      },
                      {
                        "args": [
                          [
                            "1918-05-07 00:00:00"
                          ],
                          {
                            "frame": {
                              "duration": 0,
                              "redraw": false
                            },
                            "fromcurrent": true,
                            "mode": "immediate",
                            "transition": {
                              "duration": 0,
                              "easing": "linear"
                            }
                          }
                        ],
                        "label": "1918-05-07 00:00:00",
                        "method": "animate"
                      },
                      {
                        "args": [
                          [
                            "1918-05-08 00:00:00"
                          ],
                          {
                            "frame": {
                              "duration": 0,
                              "redraw": false
                            },
                            "fromcurrent": true,
                            "mode": "immediate",
                            "transition": {
                              "duration": 0,
                              "easing": "linear"
                            }
                          }
                        ],
                        "label": "1918-05-08 00:00:00",
                        "method": "animate"
                      },
                      {
                        "args": [
                          [
                            "1918-06-06 00:00:00"
                          ],
                          {
                            "frame": {
                              "duration": 0,
                              "redraw": false
                            },
                            "fromcurrent": true,
                            "mode": "immediate",
                            "transition": {
                              "duration": 0,
                              "easing": "linear"
                            }
                          }
                        ],
                        "label": "1918-06-06 00:00:00",
                        "method": "animate"
                      },
                      {
                        "args": [
                          [
                            "1918-06-07 00:00:00"
                          ],
                          {
                            "frame": {
                              "duration": 0,
                              "redraw": false
                            },
                            "fromcurrent": true,
                            "mode": "immediate",
                            "transition": {
                              "duration": 0,
                              "easing": "linear"
                            }
                          }
                        ],
                        "label": "1918-06-07 00:00:00",
                        "method": "animate"
                      },
                      {
                        "args": [
                          [
                            "1918-07-06 00:00:00"
                          ],
                          {
                            "frame": {
                              "duration": 0,
                              "redraw": false
                            },
                            "fromcurrent": true,
                            "mode": "immediate",
                            "transition": {
                              "duration": 0,
                              "easing": "linear"
                            }
                          }
                        ],
                        "label": "1918-07-06 00:00:00",
                        "method": "animate"
                      },
                      {
                        "args": [
                          [
                            "1918-07-07 00:00:00"
                          ],
                          {
                            "frame": {
                              "duration": 0,
                              "redraw": false
                            },
                            "fromcurrent": true,
                            "mode": "immediate",
                            "transition": {
                              "duration": 0,
                              "easing": "linear"
                            }
                          }
                        ],
                        "label": "1918-07-07 00:00:00",
                        "method": "animate"
                      },
                      {
                        "args": [
                          [
                            "1918-08-05 00:00:00"
                          ],
                          {
                            "frame": {
                              "duration": 0,
                              "redraw": false
                            },
                            "fromcurrent": true,
                            "mode": "immediate",
                            "transition": {
                              "duration": 0,
                              "easing": "linear"
                            }
                          }
                        ],
                        "label": "1918-08-05 00:00:00",
                        "method": "animate"
                      },
                      {
                        "args": [
                          [
                            "1918-08-06 00:00:00"
                          ],
                          {
                            "frame": {
                              "duration": 0,
                              "redraw": false
                            },
                            "fromcurrent": true,
                            "mode": "immediate",
                            "transition": {
                              "duration": 0,
                              "easing": "linear"
                            }
                          }
                        ],
                        "label": "1918-08-06 00:00:00",
                        "method": "animate"
                      },
                      {
                        "args": [
                          [
                            "1918-09-04 00:00:00"
                          ],
                          {
                            "frame": {
                              "duration": 0,
                              "redraw": false
                            },
                            "fromcurrent": true,
                            "mode": "immediate",
                            "transition": {
                              "duration": 0,
                              "easing": "linear"
                            }
                          }
                        ],
                        "label": "1918-09-04 00:00:00",
                        "method": "animate"
                      },
                      {
                        "args": [
                          [
                            "1918-09-05 00:00:00"
                          ],
                          {
                            "frame": {
                              "duration": 0,
                              "redraw": false
                            },
                            "fromcurrent": true,
                            "mode": "immediate",
                            "transition": {
                              "duration": 0,
                              "easing": "linear"
                            }
                          }
                        ],
                        "label": "1918-09-05 00:00:00",
                        "method": "animate"
                      },
                      {
                        "args": [
                          [
                            "1918-10-04 00:00:00"
                          ],
                          {
                            "frame": {
                              "duration": 0,
                              "redraw": false
                            },
                            "fromcurrent": true,
                            "mode": "immediate",
                            "transition": {
                              "duration": 0,
                              "easing": "linear"
                            }
                          }
                        ],
                        "label": "1918-10-04 00:00:00",
                        "method": "animate"
                      },
                      {
                        "args": [
                          [
                            "1918-10-05 00:00:00"
                          ],
                          {
                            "frame": {
                              "duration": 0,
                              "redraw": false
                            },
                            "fromcurrent": true,
                            "mode": "immediate",
                            "transition": {
                              "duration": 0,
                              "easing": "linear"
                            }
                          }
                        ],
                        "label": "1918-10-05 00:00:00",
                        "method": "animate"
                      },
                      {
                        "args": [
                          [
                            "1918-11-03 00:00:00"
                          ],
                          {
                            "frame": {
                              "duration": 0,
                              "redraw": false
                            },
                            "fromcurrent": true,
                            "mode": "immediate",
                            "transition": {
                              "duration": 0,
                              "easing": "linear"
                            }
                          }
                        ],
                        "label": "1918-11-03 00:00:00",
                        "method": "animate"
                      },
                      {
                        "args": [
                          [
                            "1918-11-04 00:00:00"
                          ],
                          {
                            "frame": {
                              "duration": 0,
                              "redraw": false
                            },
                            "fromcurrent": true,
                            "mode": "immediate",
                            "transition": {
                              "duration": 0,
                              "easing": "linear"
                            }
                          }
                        ],
                        "label": "1918-11-04 00:00:00",
                        "method": "animate"
                      },
                      {
                        "args": [
                          [
                            "1918-12-03 00:00:00"
                          ],
                          {
                            "frame": {
                              "duration": 0,
                              "redraw": false
                            },
                            "fromcurrent": true,
                            "mode": "immediate",
                            "transition": {
                              "duration": 0,
                              "easing": "linear"
                            }
                          }
                        ],
                        "label": "1918-12-03 00:00:00",
                        "method": "animate"
                      }
                    ],
                    "x": 0.1,
                    "xanchor": "left",
                    "y": 0,
                    "yanchor": "top"
                  }
                ],
                "template": {
                  "data": {
                    "bar": [
                      {
                        "error_x": {
                          "color": "#2a3f5f"
                        },
                        "error_y": {
                          "color": "#2a3f5f"
                        },
                        "marker": {
                          "line": {
                            "color": "#E5ECF6",
                            "width": 0.5
                          },
                          "pattern": {
                            "fillmode": "overlay",
                            "size": 10,
                            "solidity": 0.2
                          }
                        },
                        "type": "bar"
                      }
                    ],
                    "barpolar": [
                      {
                        "marker": {
                          "line": {
                            "color": "#E5ECF6",
                            "width": 0.5
                          },
                          "pattern": {
                            "fillmode": "overlay",
                            "size": 10,
                            "solidity": 0.2
                          }
                        },
                        "type": "barpolar"
                      }
                    ],
                    "carpet": [
                      {
                        "aaxis": {
                          "endlinecolor": "#2a3f5f",
                          "gridcolor": "white",
                          "linecolor": "white",
                          "minorgridcolor": "white",
                          "startlinecolor": "#2a3f5f"
                        },
                        "baxis": {
                          "endlinecolor": "#2a3f5f",
                          "gridcolor": "white",
                          "linecolor": "white",
                          "minorgridcolor": "white",
                          "startlinecolor": "#2a3f5f"
                        },
                        "type": "carpet"
                      }
                    ],
                    "choropleth": [
                      {
                        "colorbar": {
                          "outlinewidth": 0,
                          "ticks": ""
                        },
                        "type": "choropleth"
                      }
                    ],
                    "contour": [
                      {
                        "colorbar": {
                          "outlinewidth": 0,
                          "ticks": ""
                        },
                        "colorscale": [
                          [
                            0,
                            "#0d0887"
                          ],
                          [
                            0.1111111111111111,
                            "#46039f"
                          ],
                          [
                            0.2222222222222222,
                            "#7201a8"
                          ],
                          [
                            0.3333333333333333,
                            "#9c179e"
                          ],
                          [
                            0.4444444444444444,
                            "#bd3786"
                          ],
                          [
                            0.5555555555555556,
                            "#d8576b"
                          ],
                          [
                            0.6666666666666666,
                            "#ed7953"
                          ],
                          [
                            0.7777777777777778,
                            "#fb9f3a"
                          ],
                          [
                            0.8888888888888888,
                            "#fdca26"
                          ],
                          [
                            1,
                            "#f0f921"
                          ]
                        ],
                        "type": "contour"
                      }
                    ],
                    "contourcarpet": [
                      {
                        "colorbar": {
                          "outlinewidth": 0,
                          "ticks": ""
                        },
                        "type": "contourcarpet"
                      }
                    ],
                    "heatmap": [
                      {
                        "colorbar": {
                          "outlinewidth": 0,
                          "ticks": ""
                        },
                        "colorscale": [
                          [
                            0,
                            "#0d0887"
                          ],
                          [
                            0.1111111111111111,
                            "#46039f"
                          ],
                          [
                            0.2222222222222222,
                            "#7201a8"
                          ],
                          [
                            0.3333333333333333,
                            "#9c179e"
                          ],
                          [
                            0.4444444444444444,
                            "#bd3786"
                          ],
                          [
                            0.5555555555555556,
                            "#d8576b"
                          ],
                          [
                            0.6666666666666666,
                            "#ed7953"
                          ],
                          [
                            0.7777777777777778,
                            "#fb9f3a"
                          ],
                          [
                            0.8888888888888888,
                            "#fdca26"
                          ],
                          [
                            1,
                            "#f0f921"
                          ]
                        ],
                        "type": "heatmap"
                      }
                    ],
                    "heatmapgl": [
                      {
                        "colorbar": {
                          "outlinewidth": 0,
                          "ticks": ""
                        },
                        "colorscale": [
                          [
                            0,
                            "#0d0887"
                          ],
                          [
                            0.1111111111111111,
                            "#46039f"
                          ],
                          [
                            0.2222222222222222,
                            "#7201a8"
                          ],
                          [
                            0.3333333333333333,
                            "#9c179e"
                          ],
                          [
                            0.4444444444444444,
                            "#bd3786"
                          ],
                          [
                            0.5555555555555556,
                            "#d8576b"
                          ],
                          [
                            0.6666666666666666,
                            "#ed7953"
                          ],
                          [
                            0.7777777777777778,
                            "#fb9f3a"
                          ],
                          [
                            0.8888888888888888,
                            "#fdca26"
                          ],
                          [
                            1,
                            "#f0f921"
                          ]
                        ],
                        "type": "heatmapgl"
                      }
                    ],
                    "histogram": [
                      {
                        "marker": {
                          "pattern": {
                            "fillmode": "overlay",
                            "size": 10,
                            "solidity": 0.2
                          }
                        },
                        "type": "histogram"
                      }
                    ],
                    "histogram2d": [
                      {
                        "colorbar": {
                          "outlinewidth": 0,
                          "ticks": ""
                        },
                        "colorscale": [
                          [
                            0,
                            "#0d0887"
                          ],
                          [
                            0.1111111111111111,
                            "#46039f"
                          ],
                          [
                            0.2222222222222222,
                            "#7201a8"
                          ],
                          [
                            0.3333333333333333,
                            "#9c179e"
                          ],
                          [
                            0.4444444444444444,
                            "#bd3786"
                          ],
                          [
                            0.5555555555555556,
                            "#d8576b"
                          ],
                          [
                            0.6666666666666666,
                            "#ed7953"
                          ],
                          [
                            0.7777777777777778,
                            "#fb9f3a"
                          ],
                          [
                            0.8888888888888888,
                            "#fdca26"
                          ],
                          [
                            1,
                            "#f0f921"
                          ]
                        ],
                        "type": "histogram2d"
                      }
                    ],
                    "histogram2dcontour": [
                      {
                        "colorbar": {
                          "outlinewidth": 0,
                          "ticks": ""
                        },
                        "colorscale": [
                          [
                            0,
                            "#0d0887"
                          ],
                          [
                            0.1111111111111111,
                            "#46039f"
                          ],
                          [
                            0.2222222222222222,
                            "#7201a8"
                          ],
                          [
                            0.3333333333333333,
                            "#9c179e"
                          ],
                          [
                            0.4444444444444444,
                            "#bd3786"
                          ],
                          [
                            0.5555555555555556,
                            "#d8576b"
                          ],
                          [
                            0.6666666666666666,
                            "#ed7953"
                          ],
                          [
                            0.7777777777777778,
                            "#fb9f3a"
                          ],
                          [
                            0.8888888888888888,
                            "#fdca26"
                          ],
                          [
                            1,
                            "#f0f921"
                          ]
                        ],
                        "type": "histogram2dcontour"
                      }
                    ],
                    "mesh3d": [
                      {
                        "colorbar": {
                          "outlinewidth": 0,
                          "ticks": ""
                        },
                        "type": "mesh3d"
                      }
                    ],
                    "parcoords": [
                      {
                        "line": {
                          "colorbar": {
                            "outlinewidth": 0,
                            "ticks": ""
                          }
                        },
                        "type": "parcoords"
                      }
                    ],
                    "pie": [
                      {
                        "automargin": true,
                        "type": "pie"
                      }
                    ],
                    "scatter": [
                      {
                        "fillpattern": {
                          "fillmode": "overlay",
                          "size": 10,
                          "solidity": 0.2
                        },
                        "type": "scatter"
                      }
                    ],
                    "scatter3d": [
                      {
                        "line": {
                          "colorbar": {
                            "outlinewidth": 0,
                            "ticks": ""
                          }
                        },
                        "marker": {
                          "colorbar": {
                            "outlinewidth": 0,
                            "ticks": ""
                          }
                        },
                        "type": "scatter3d"
                      }
                    ],
                    "scattercarpet": [
                      {
                        "marker": {
                          "colorbar": {
                            "outlinewidth": 0,
                            "ticks": ""
                          }
                        },
                        "type": "scattercarpet"
                      }
                    ],
                    "scattergeo": [
                      {
                        "marker": {
                          "colorbar": {
                            "outlinewidth": 0,
                            "ticks": ""
                          }
                        },
                        "type": "scattergeo"
                      }
                    ],
                    "scattergl": [
                      {
                        "marker": {
                          "colorbar": {
                            "outlinewidth": 0,
                            "ticks": ""
                          }
                        },
                        "type": "scattergl"
                      }
                    ],
                    "scattermapbox": [
                      {
                        "marker": {
                          "colorbar": {
                            "outlinewidth": 0,
                            "ticks": ""
                          }
                        },
                        "type": "scattermapbox"
                      }
                    ],
                    "scatterpolar": [
                      {
                        "marker": {
                          "colorbar": {
                            "outlinewidth": 0,
                            "ticks": ""
                          }
                        },
                        "type": "scatterpolar"
                      }
                    ],
                    "scatterpolargl": [
                      {
                        "marker": {
                          "colorbar": {
                            "outlinewidth": 0,
                            "ticks": ""
                          }
                        },
                        "type": "scatterpolargl"
                      }
                    ],
                    "scatterternary": [
                      {
                        "marker": {
                          "colorbar": {
                            "outlinewidth": 0,
                            "ticks": ""
                          }
                        },
                        "type": "scatterternary"
                      }
                    ],
                    "surface": [
                      {
                        "colorbar": {
                          "outlinewidth": 0,
                          "ticks": ""
                        },
                        "colorscale": [
                          [
                            0,
                            "#0d0887"
                          ],
                          [
                            0.1111111111111111,
                            "#46039f"
                          ],
                          [
                            0.2222222222222222,
                            "#7201a8"
                          ],
                          [
                            0.3333333333333333,
                            "#9c179e"
                          ],
                          [
                            0.4444444444444444,
                            "#bd3786"
                          ],
                          [
                            0.5555555555555556,
                            "#d8576b"
                          ],
                          [
                            0.6666666666666666,
                            "#ed7953"
                          ],
                          [
                            0.7777777777777778,
                            "#fb9f3a"
                          ],
                          [
                            0.8888888888888888,
                            "#fdca26"
                          ],
                          [
                            1,
                            "#f0f921"
                          ]
                        ],
                        "type": "surface"
                      }
                    ],
                    "table": [
                      {
                        "cells": {
                          "fill": {
                            "color": "#EBF0F8"
                          },
                          "line": {
                            "color": "white"
                          }
                        },
                        "header": {
                          "fill": {
                            "color": "#C8D4E3"
                          },
                          "line": {
                            "color": "white"
                          }
                        },
                        "type": "table"
                      }
                    ]
                  },
                  "layout": {
                    "annotationdefaults": {
                      "arrowcolor": "#2a3f5f",
                      "arrowhead": 0,
                      "arrowwidth": 1
                    },
                    "autotypenumbers": "strict",
                    "coloraxis": {
                      "colorbar": {
                        "outlinewidth": 0,
                        "ticks": ""
                      }
                    },
                    "colorscale": {
                      "diverging": [
                        [
                          0,
                          "#8e0152"
                        ],
                        [
                          0.1,
                          "#c51b7d"
                        ],
                        [
                          0.2,
                          "#de77ae"
                        ],
                        [
                          0.3,
                          "#f1b6da"
                        ],
                        [
                          0.4,
                          "#fde0ef"
                        ],
                        [
                          0.5,
                          "#f7f7f7"
                        ],
                        [
                          0.6,
                          "#e6f5d0"
                        ],
                        [
                          0.7,
                          "#b8e186"
                        ],
                        [
                          0.8,
                          "#7fbc41"
                        ],
                        [
                          0.9,
                          "#4d9221"
                        ],
                        [
                          1,
                          "#276419"
                        ]
                      ],
                      "sequential": [
                        [
                          0,
                          "#0d0887"
                        ],
                        [
                          0.1111111111111111,
                          "#46039f"
                        ],
                        [
                          0.2222222222222222,
                          "#7201a8"
                        ],
                        [
                          0.3333333333333333,
                          "#9c179e"
                        ],
                        [
                          0.4444444444444444,
                          "#bd3786"
                        ],
                        [
                          0.5555555555555556,
                          "#d8576b"
                        ],
                        [
                          0.6666666666666666,
                          "#ed7953"
                        ],
                        [
                          0.7777777777777778,
                          "#fb9f3a"
                        ],
                        [
                          0.8888888888888888,
                          "#fdca26"
                        ],
                        [
                          1,
                          "#f0f921"
                        ]
                      ],
                      "sequentialminus": [
                        [
                          0,
                          "#0d0887"
                        ],
                        [
                          0.1111111111111111,
                          "#46039f"
                        ],
                        [
                          0.2222222222222222,
                          "#7201a8"
                        ],
                        [
                          0.3333333333333333,
                          "#9c179e"
                        ],
                        [
                          0.4444444444444444,
                          "#bd3786"
                        ],
                        [
                          0.5555555555555556,
                          "#d8576b"
                        ],
                        [
                          0.6666666666666666,
                          "#ed7953"
                        ],
                        [
                          0.7777777777777778,
                          "#fb9f3a"
                        ],
                        [
                          0.8888888888888888,
                          "#fdca26"
                        ],
                        [
                          1,
                          "#f0f921"
                        ]
                      ]
                    },
                    "colorway": [
                      "#636efa",
                      "#EF553B",
                      "#00cc96",
                      "#ab63fa",
                      "#FFA15A",
                      "#19d3f3",
                      "#FF6692",
                      "#B6E880",
                      "#FF97FF",
                      "#FECB52"
                    ],
                    "font": {
                      "color": "#2a3f5f"
                    },
                    "geo": {
                      "bgcolor": "white",
                      "lakecolor": "white",
                      "landcolor": "#E5ECF6",
                      "showlakes": true,
                      "showland": true,
                      "subunitcolor": "white"
                    },
                    "hoverlabel": {
                      "align": "left"
                    },
                    "hovermode": "closest",
                    "mapbox": {
                      "style": "light"
                    },
                    "paper_bgcolor": "white",
                    "plot_bgcolor": "#E5ECF6",
                    "polar": {
                      "angularaxis": {
                        "gridcolor": "white",
                        "linecolor": "white",
                        "ticks": ""
                      },
                      "bgcolor": "#E5ECF6",
                      "radialaxis": {
                        "gridcolor": "white",
                        "linecolor": "white",
                        "ticks": ""
                      }
                    },
                    "scene": {
                      "xaxis": {
                        "backgroundcolor": "#E5ECF6",
                        "gridcolor": "white",
                        "gridwidth": 2,
                        "linecolor": "white",
                        "showbackground": true,
                        "ticks": "",
                        "zerolinecolor": "white"
                      },
                      "yaxis": {
                        "backgroundcolor": "#E5ECF6",
                        "gridcolor": "white",
                        "gridwidth": 2,
                        "linecolor": "white",
                        "showbackground": true,
                        "ticks": "",
                        "zerolinecolor": "white"
                      },
                      "zaxis": {
                        "backgroundcolor": "#E5ECF6",
                        "gridcolor": "white",
                        "gridwidth": 2,
                        "linecolor": "white",
                        "showbackground": true,
                        "ticks": "",
                        "zerolinecolor": "white"
                      }
                    },
                    "shapedefaults": {
                      "line": {
                        "color": "#2a3f5f"
                      }
                    },
                    "ternary": {
                      "aaxis": {
                        "gridcolor": "white",
                        "linecolor": "white",
                        "ticks": ""
                      },
                      "baxis": {
                        "gridcolor": "white",
                        "linecolor": "white",
                        "ticks": ""
                      },
                      "bgcolor": "#E5ECF6",
                      "caxis": {
                        "gridcolor": "white",
                        "linecolor": "white",
                        "ticks": ""
                      }
                    },
                    "title": {
                      "x": 0.05
                    },
                    "xaxis": {
                      "automargin": true,
                      "gridcolor": "white",
                      "linecolor": "white",
                      "ticks": "",
                      "title": {
                        "standoff": 15
                      },
                      "zerolinecolor": "white",
                      "zerolinewidth": 2
                    },
                    "yaxis": {
                      "automargin": true,
                      "gridcolor": "white",
                      "linecolor": "white",
                      "ticks": "",
                      "title": {
                        "standoff": 15
                      },
                      "zerolinecolor": "white",
                      "zerolinewidth": 2
                    }
                  }
                },
                "updatemenus": [
                  {
                    "buttons": [
                      {
                        "args": [
                          null,
                          {
                            "frame": {
                              "duration": 500,
                              "redraw": true
                            },
                            "fromcurrent": true,
                            "transition": {
                              "duration": 400,
                              "easing": "linear"
                            }
                          }
                        ],
                        "label": "Play",
                        "method": "animate"
                      },
                      {
                        "args": [
                          [
                            null
                          ],
                          {
                            "frame": {
                              "duration": 0,
                              "redraw": true
                            },
                            "mode": "immediate",
                            "transition": {
                              "duration": 0
                            }
                          }
                        ],
                        "label": "Pause",
                        "method": "animate"
                      }
                    ],
                    "direction": "left",
                    "pad": {
                      "r": 10,
                      "t": 70
                    },
                    "showactive": false,
                    "type": "buttons",
                    "x": 0.1,
                    "xanchor": "right",
                    "y": 0,
                    "yanchor": "top"
                  }
                ],
                "xaxis": {
                  "anchor": "y",
                  "domain": [
                    0,
                    1
                  ],
                  "range": [
                    -0.02,
                    0.2833333333
                  ],
                  "title": {
                    "text": "SW120DeathSentences"
                  }
                },
                "yaxis": {
                  "anchor": "x",
                  "domain": [
                    0,
                    1
                  ],
                  "range": [
                    -0.01,
                    0.06666666667
                  ],
                  "title": {
                    "text": "SW120execution"
                  }
                }
              }
            }
          },
          "metadata": {},
          "output_type": "display_data"
        }
      ],
      "source": [
        "makeChart(df, x='SW120DeathSentences', y='SW120execution', size='SW120Casualties')"
      ]
    }
  ],
  "metadata": {
    "colab": {
      "provenance": []
    },
    "kernelspec": {
      "display_name": "Python 3",
      "name": "python3"
    },
    "language_info": {
      "codemirror_mode": {
        "name": "ipython",
        "version": 3
      },
      "file_extension": ".py",
      "mimetype": "text/x-python",
      "name": "python",
      "nbconvert_exporter": "python",
      "pygments_lexer": "ipython3",
      "version": "3.9.0"
    }
  },
  "nbformat": 4,
  "nbformat_minor": 0
}
