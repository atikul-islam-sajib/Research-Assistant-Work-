{
  "cells": [
    {
      "cell_type": "code",
      "execution_count": 1,
      "metadata": {
        "colab": {
          "base_uri": "https://localhost:8080/"
        },
        "id": "ioDM8oximRYE",
        "outputId": "8987f10f-afde-456c-b8c2-bae4ce14b0c1"
      },
      "outputs": [
        {
          "output_type": "stream",
          "name": "stdout",
          "text": [
            "Cloning into 'TreeBasedModel'...\n",
            "remote: Enumerating objects: 915, done.\u001b[K\n",
            "remote: Counting objects: 100% (8/8), done.\u001b[K\n",
            "remote: Compressing objects: 100% (5/5), done.\u001b[K\n",
            "remote: Total 915 (delta 3), reused 8 (delta 3), pack-reused 907\u001b[K\n",
            "Receiving objects: 100% (915/915), 124.15 MiB | 28.73 MiB/s, done.\n",
            "Resolving deltas: 100% (505/505), done.\n",
            "Updating files: 100% (123/123), done.\n"
          ]
        }
      ],
      "source": [
        "!git clone https://github.com/atikul-islam-sajib/TreeBasedModel.git"
      ]
    },
    {
      "cell_type": "code",
      "execution_count": 2,
      "metadata": {
        "colab": {
          "base_uri": "https://localhost:8080/"
        },
        "id": "9Lti0TvkmSS9",
        "outputId": "d55927a3-3aac-4c00-9c2a-3ba7b6a7e3a1"
      },
      "outputs": [
        {
          "output_type": "stream",
          "name": "stdout",
          "text": [
            "/content/TreeBasedModel\n"
          ]
        }
      ],
      "source": [
        "%cd /content/TreeBasedModel"
      ]
    },
    {
      "cell_type": "code",
      "execution_count": 3,
      "metadata": {
        "colab": {
          "base_uri": "https://localhost:8080/"
        },
        "id": "GUQ0KZQ7mkAS",
        "outputId": "083889e7-6ef7-4dad-8f17-68561d03e579"
      },
      "outputs": [
        {
          "output_type": "stream",
          "name": "stdout",
          "text": [
            "Requirement already satisfied: pip in /usr/local/lib/python3.10/dist-packages (23.1.2)\n",
            "Collecting pip\n",
            "  Downloading pip-24.0-py3-none-any.whl (2.1 MB)\n",
            "\u001b[2K     \u001b[90m━━━━━━━━━━━━━━━━━━━━━━━━━━━━━━━━━━━━━━━━\u001b[0m \u001b[32m2.1/2.1 MB\u001b[0m \u001b[31m6.6 MB/s\u001b[0m eta \u001b[36m0:00:00\u001b[0m\n",
            "\u001b[?25hInstalling collected packages: pip\n",
            "  Attempting uninstall: pip\n",
            "    Found existing installation: pip 23.1.2\n",
            "    Uninstalling pip-23.1.2:\n",
            "      Successfully uninstalled pip-23.1.2\n",
            "Successfully installed pip-24.0\n"
          ]
        }
      ],
      "source": [
        "!pip install --upgrade pip"
      ]
    },
    {
      "cell_type": "code",
      "execution_count": 4,
      "metadata": {
        "colab": {
          "base_uri": "https://localhost:8080/"
        },
        "id": "XL7EtaRSmtYL",
        "outputId": "267d45f1-04ba-4505-f6ca-7aba49ea6e4f"
      },
      "outputs": [
        {
          "output_type": "stream",
          "name": "stdout",
          "text": [
            "Obtaining file:///content/TreeBasedModel\n",
            "  Preparing metadata (setup.py) ... \u001b[?25l\u001b[?25hdone\n",
            "Requirement already satisfied: pip>=9 in /usr/local/lib/python3.10/dist-packages (from AugmentedHierarchicalShrinkage==1) (24.0)\n",
            "Requirement already satisfied: setuptools>=26 in /usr/local/lib/python3.10/dist-packages (from AugmentedHierarchicalShrinkage==1) (67.7.2)\n",
            "Collecting twine (from AugmentedHierarchicalShrinkage==1)\n",
            "  Downloading twine-5.0.0-py3-none-any.whl.metadata (3.3 kB)\n",
            "Requirement already satisfied: wheel>=0.29 in /usr/local/lib/python3.10/dist-packages (from AugmentedHierarchicalShrinkage==1) (0.42.0)\n",
            "Requirement already satisfied: matplotlib!=3.6.*,>=3.3.4 in /usr/local/lib/python3.10/dist-packages (from AugmentedHierarchicalShrinkage==1) (3.7.1)\n",
            "Requirement already satisfied: seaborn>=0.11.2 in /usr/local/lib/python3.10/dist-packages (from AugmentedHierarchicalShrinkage==1) (0.13.1)\n",
            "Requirement already satisfied: numpy>=1.19.5 in /usr/local/lib/python3.10/dist-packages (from AugmentedHierarchicalShrinkage==1) (1.25.2)\n",
            "Requirement already satisfied: pandas>=1.1.5 in /usr/local/lib/python3.10/dist-packages (from AugmentedHierarchicalShrinkage==1) (1.5.3)\n",
            "Requirement already satisfied: scikit-learn>=0.24.2 in /usr/local/lib/python3.10/dist-packages (from AugmentedHierarchicalShrinkage==1) (1.2.2)\n",
            "Collecting shap>=0.41.0 (from AugmentedHierarchicalShrinkage==1)\n",
            "  Downloading shap-0.45.0-cp310-cp310-manylinux_2_12_x86_64.manylinux2010_x86_64.manylinux_2_17_x86_64.manylinux2014_x86_64.whl.metadata (24 kB)\n",
            "Collecting imodels>=1.3.6 (from AugmentedHierarchicalShrinkage==1)\n",
            "  Downloading imodels-1.4.3-py3-none-any.whl.metadata (30 kB)\n",
            "Collecting pmlb (from AugmentedHierarchicalShrinkage==1)\n",
            "  Downloading pmlb-1.0.1.post3-py3-none-any.whl.metadata (1.7 kB)\n",
            "Requirement already satisfied: six>=1.14 in /usr/local/lib/python3.10/dist-packages (from AugmentedHierarchicalShrinkage==1) (1.16.0)\n",
            "Requirement already satisfied: tqdm>=4.64.1 in /usr/local/lib/python3.10/dist-packages (from AugmentedHierarchicalShrinkage==1) (4.66.2)\n",
            "Collecting jupyter (from AugmentedHierarchicalShrinkage==1)\n",
            "  Downloading jupyter-1.0.0-py2.py3-none-any.whl.metadata (995 bytes)\n",
            "Requirement already satisfied: mlxtend>=0.18.0 in /usr/local/lib/python3.10/dist-packages (from imodels>=1.3.6->AugmentedHierarchicalShrinkage==1) (0.22.0)\n",
            "Requirement already satisfied: requests in /usr/local/lib/python3.10/dist-packages (from imodels>=1.3.6->AugmentedHierarchicalShrinkage==1) (2.31.0)\n",
            "Requirement already satisfied: scipy in /usr/local/lib/python3.10/dist-packages (from imodels>=1.3.6->AugmentedHierarchicalShrinkage==1) (1.11.4)\n",
            "Requirement already satisfied: contourpy>=1.0.1 in /usr/local/lib/python3.10/dist-packages (from matplotlib!=3.6.*,>=3.3.4->AugmentedHierarchicalShrinkage==1) (1.2.0)\n",
            "Requirement already satisfied: cycler>=0.10 in /usr/local/lib/python3.10/dist-packages (from matplotlib!=3.6.*,>=3.3.4->AugmentedHierarchicalShrinkage==1) (0.12.1)\n",
            "Requirement already satisfied: fonttools>=4.22.0 in /usr/local/lib/python3.10/dist-packages (from matplotlib!=3.6.*,>=3.3.4->AugmentedHierarchicalShrinkage==1) (4.49.0)\n",
            "Requirement already satisfied: kiwisolver>=1.0.1 in /usr/local/lib/python3.10/dist-packages (from matplotlib!=3.6.*,>=3.3.4->AugmentedHierarchicalShrinkage==1) (1.4.5)\n",
            "Requirement already satisfied: packaging>=20.0 in /usr/local/lib/python3.10/dist-packages (from matplotlib!=3.6.*,>=3.3.4->AugmentedHierarchicalShrinkage==1) (23.2)\n",
            "Requirement already satisfied: pillow>=6.2.0 in /usr/local/lib/python3.10/dist-packages (from matplotlib!=3.6.*,>=3.3.4->AugmentedHierarchicalShrinkage==1) (9.4.0)\n",
            "Requirement already satisfied: pyparsing>=2.3.1 in /usr/local/lib/python3.10/dist-packages (from matplotlib!=3.6.*,>=3.3.4->AugmentedHierarchicalShrinkage==1) (3.1.2)\n",
            "Requirement already satisfied: python-dateutil>=2.7 in /usr/local/lib/python3.10/dist-packages (from matplotlib!=3.6.*,>=3.3.4->AugmentedHierarchicalShrinkage==1) (2.8.2)\n",
            "Requirement already satisfied: pytz>=2020.1 in /usr/local/lib/python3.10/dist-packages (from pandas>=1.1.5->AugmentedHierarchicalShrinkage==1) (2023.4)\n",
            "Requirement already satisfied: joblib>=1.1.1 in /usr/local/lib/python3.10/dist-packages (from scikit-learn>=0.24.2->AugmentedHierarchicalShrinkage==1) (1.3.2)\n",
            "Requirement already satisfied: threadpoolctl>=2.0.0 in /usr/local/lib/python3.10/dist-packages (from scikit-learn>=0.24.2->AugmentedHierarchicalShrinkage==1) (3.3.0)\n",
            "Collecting slicer==0.0.7 (from shap>=0.41.0->AugmentedHierarchicalShrinkage==1)\n",
            "  Downloading slicer-0.0.7-py3-none-any.whl.metadata (3.7 kB)\n",
            "Requirement already satisfied: numba in /usr/local/lib/python3.10/dist-packages (from shap>=0.41.0->AugmentedHierarchicalShrinkage==1) (0.58.1)\n",
            "Requirement already satisfied: cloudpickle in /usr/local/lib/python3.10/dist-packages (from shap>=0.41.0->AugmentedHierarchicalShrinkage==1) (2.2.1)\n",
            "Requirement already satisfied: notebook in /usr/local/lib/python3.10/dist-packages (from jupyter->AugmentedHierarchicalShrinkage==1) (6.5.5)\n",
            "Collecting qtconsole (from jupyter->AugmentedHierarchicalShrinkage==1)\n",
            "  Downloading qtconsole-5.5.1-py3-none-any.whl.metadata (5.1 kB)\n",
            "Requirement already satisfied: jupyter-console in /usr/local/lib/python3.10/dist-packages (from jupyter->AugmentedHierarchicalShrinkage==1) (6.1.0)\n",
            "Requirement already satisfied: nbconvert in /usr/local/lib/python3.10/dist-packages (from jupyter->AugmentedHierarchicalShrinkage==1) (6.5.4)\n",
            "Requirement already satisfied: ipykernel in /usr/local/lib/python3.10/dist-packages (from jupyter->AugmentedHierarchicalShrinkage==1) (5.5.6)\n",
            "Requirement already satisfied: ipywidgets in /usr/local/lib/python3.10/dist-packages (from jupyter->AugmentedHierarchicalShrinkage==1) (7.7.1)\n",
            "Requirement already satisfied: pyyaml>=5.3.1 in /usr/local/lib/python3.10/dist-packages (from pmlb->AugmentedHierarchicalShrinkage==1) (6.0.1)\n",
            "Collecting pkginfo>=1.8.1 (from twine->AugmentedHierarchicalShrinkage==1)\n",
            "  Downloading pkginfo-1.10.0-py3-none-any.whl.metadata (11 kB)\n",
            "Collecting readme-renderer>=35.0 (from twine->AugmentedHierarchicalShrinkage==1)\n",
            "  Downloading readme_renderer-43.0-py3-none-any.whl.metadata (2.8 kB)\n",
            "Collecting requests-toolbelt!=0.9.0,>=0.8.0 (from twine->AugmentedHierarchicalShrinkage==1)\n",
            "  Downloading requests_toolbelt-1.0.0-py2.py3-none-any.whl.metadata (14 kB)\n",
            "Requirement already satisfied: urllib3>=1.26.0 in /usr/local/lib/python3.10/dist-packages (from twine->AugmentedHierarchicalShrinkage==1) (2.0.7)\n",
            "Requirement already satisfied: importlib-metadata>=3.6 in /usr/local/lib/python3.10/dist-packages (from twine->AugmentedHierarchicalShrinkage==1) (7.0.2)\n",
            "Requirement already satisfied: keyring>=15.1 in /usr/lib/python3/dist-packages (from twine->AugmentedHierarchicalShrinkage==1) (23.5.0)\n",
            "Collecting rfc3986>=1.4.0 (from twine->AugmentedHierarchicalShrinkage==1)\n",
            "  Downloading rfc3986-2.0.0-py2.py3-none-any.whl.metadata (6.6 kB)\n",
            "Requirement already satisfied: rich>=12.0.0 in /usr/local/lib/python3.10/dist-packages (from twine->AugmentedHierarchicalShrinkage==1) (13.7.1)\n",
            "Requirement already satisfied: zipp>=0.5 in /usr/local/lib/python3.10/dist-packages (from importlib-metadata>=3.6->twine->AugmentedHierarchicalShrinkage==1) (3.17.0)\n",
            "Collecting nh3>=0.2.14 (from readme-renderer>=35.0->twine->AugmentedHierarchicalShrinkage==1)\n",
            "  Downloading nh3-0.2.15-cp37-abi3-manylinux_2_17_x86_64.manylinux2014_x86_64.whl.metadata (1.7 kB)\n",
            "Requirement already satisfied: docutils>=0.13.1 in /usr/local/lib/python3.10/dist-packages (from readme-renderer>=35.0->twine->AugmentedHierarchicalShrinkage==1) (0.18.1)\n",
            "Requirement already satisfied: Pygments>=2.5.1 in /usr/local/lib/python3.10/dist-packages (from readme-renderer>=35.0->twine->AugmentedHierarchicalShrinkage==1) (2.16.1)\n",
            "Requirement already satisfied: charset-normalizer<4,>=2 in /usr/local/lib/python3.10/dist-packages (from requests->imodels>=1.3.6->AugmentedHierarchicalShrinkage==1) (3.3.2)\n",
            "Requirement already satisfied: idna<4,>=2.5 in /usr/local/lib/python3.10/dist-packages (from requests->imodels>=1.3.6->AugmentedHierarchicalShrinkage==1) (3.6)\n",
            "Requirement already satisfied: certifi>=2017.4.17 in /usr/local/lib/python3.10/dist-packages (from requests->imodels>=1.3.6->AugmentedHierarchicalShrinkage==1) (2024.2.2)\n",
            "Requirement already satisfied: markdown-it-py>=2.2.0 in /usr/local/lib/python3.10/dist-packages (from rich>=12.0.0->twine->AugmentedHierarchicalShrinkage==1) (3.0.0)\n",
            "Requirement already satisfied: ipython-genutils in /usr/local/lib/python3.10/dist-packages (from ipykernel->jupyter->AugmentedHierarchicalShrinkage==1) (0.2.0)\n",
            "Requirement already satisfied: ipython>=5.0.0 in /usr/local/lib/python3.10/dist-packages (from ipykernel->jupyter->AugmentedHierarchicalShrinkage==1) (7.34.0)\n",
            "Requirement already satisfied: traitlets>=4.1.0 in /usr/local/lib/python3.10/dist-packages (from ipykernel->jupyter->AugmentedHierarchicalShrinkage==1) (5.7.1)\n",
            "Requirement already satisfied: jupyter-client in /usr/local/lib/python3.10/dist-packages (from ipykernel->jupyter->AugmentedHierarchicalShrinkage==1) (6.1.12)\n",
            "Requirement already satisfied: tornado>=4.2 in /usr/local/lib/python3.10/dist-packages (from ipykernel->jupyter->AugmentedHierarchicalShrinkage==1) (6.3.3)\n",
            "Requirement already satisfied: widgetsnbextension~=3.6.0 in /usr/local/lib/python3.10/dist-packages (from ipywidgets->jupyter->AugmentedHierarchicalShrinkage==1) (3.6.6)\n",
            "Requirement already satisfied: jupyterlab-widgets>=1.0.0 in /usr/local/lib/python3.10/dist-packages (from ipywidgets->jupyter->AugmentedHierarchicalShrinkage==1) (3.0.10)\n",
            "Requirement already satisfied: prompt-toolkit!=3.0.0,!=3.0.1,<3.1.0,>=2.0.0 in /usr/local/lib/python3.10/dist-packages (from jupyter-console->jupyter->AugmentedHierarchicalShrinkage==1) (3.0.43)\n",
            "Requirement already satisfied: lxml in /usr/local/lib/python3.10/dist-packages (from nbconvert->jupyter->AugmentedHierarchicalShrinkage==1) (4.9.4)\n",
            "Requirement already satisfied: beautifulsoup4 in /usr/local/lib/python3.10/dist-packages (from nbconvert->jupyter->AugmentedHierarchicalShrinkage==1) (4.12.3)\n",
            "Requirement already satisfied: bleach in /usr/local/lib/python3.10/dist-packages (from nbconvert->jupyter->AugmentedHierarchicalShrinkage==1) (6.1.0)\n",
            "Requirement already satisfied: defusedxml in /usr/local/lib/python3.10/dist-packages (from nbconvert->jupyter->AugmentedHierarchicalShrinkage==1) (0.7.1)\n",
            "Requirement already satisfied: entrypoints>=0.2.2 in /usr/local/lib/python3.10/dist-packages (from nbconvert->jupyter->AugmentedHierarchicalShrinkage==1) (0.4)\n",
            "Requirement already satisfied: jinja2>=3.0 in /usr/local/lib/python3.10/dist-packages (from nbconvert->jupyter->AugmentedHierarchicalShrinkage==1) (3.1.3)\n",
            "Requirement already satisfied: jupyter-core>=4.7 in /usr/local/lib/python3.10/dist-packages (from nbconvert->jupyter->AugmentedHierarchicalShrinkage==1) (5.7.1)\n",
            "Requirement already satisfied: jupyterlab-pygments in /usr/local/lib/python3.10/dist-packages (from nbconvert->jupyter->AugmentedHierarchicalShrinkage==1) (0.3.0)\n",
            "Requirement already satisfied: MarkupSafe>=2.0 in /usr/local/lib/python3.10/dist-packages (from nbconvert->jupyter->AugmentedHierarchicalShrinkage==1) (2.1.5)\n",
            "Requirement already satisfied: mistune<2,>=0.8.1 in /usr/local/lib/python3.10/dist-packages (from nbconvert->jupyter->AugmentedHierarchicalShrinkage==1) (0.8.4)\n",
            "Requirement already satisfied: nbclient>=0.5.0 in /usr/local/lib/python3.10/dist-packages (from nbconvert->jupyter->AugmentedHierarchicalShrinkage==1) (0.9.0)\n",
            "Requirement already satisfied: nbformat>=5.1 in /usr/local/lib/python3.10/dist-packages (from nbconvert->jupyter->AugmentedHierarchicalShrinkage==1) (5.9.2)\n",
            "Requirement already satisfied: pandocfilters>=1.4.1 in /usr/local/lib/python3.10/dist-packages (from nbconvert->jupyter->AugmentedHierarchicalShrinkage==1) (1.5.1)\n",
            "Requirement already satisfied: tinycss2 in /usr/local/lib/python3.10/dist-packages (from nbconvert->jupyter->AugmentedHierarchicalShrinkage==1) (1.2.1)\n",
            "Requirement already satisfied: pyzmq<25,>=17 in /usr/local/lib/python3.10/dist-packages (from notebook->jupyter->AugmentedHierarchicalShrinkage==1) (23.2.1)\n",
            "Requirement already satisfied: argon2-cffi in /usr/local/lib/python3.10/dist-packages (from notebook->jupyter->AugmentedHierarchicalShrinkage==1) (23.1.0)\n",
            "Requirement already satisfied: nest-asyncio>=1.5 in /usr/local/lib/python3.10/dist-packages (from notebook->jupyter->AugmentedHierarchicalShrinkage==1) (1.6.0)\n",
            "Requirement already satisfied: Send2Trash>=1.8.0 in /usr/local/lib/python3.10/dist-packages (from notebook->jupyter->AugmentedHierarchicalShrinkage==1) (1.8.2)\n",
            "Requirement already satisfied: terminado>=0.8.3 in /usr/local/lib/python3.10/dist-packages (from notebook->jupyter->AugmentedHierarchicalShrinkage==1) (0.18.0)\n",
            "Requirement already satisfied: prometheus-client in /usr/local/lib/python3.10/dist-packages (from notebook->jupyter->AugmentedHierarchicalShrinkage==1) (0.20.0)\n",
            "Requirement already satisfied: nbclassic>=0.4.7 in /usr/local/lib/python3.10/dist-packages (from notebook->jupyter->AugmentedHierarchicalShrinkage==1) (1.0.0)\n",
            "Requirement already satisfied: llvmlite<0.42,>=0.41.0dev0 in /usr/local/lib/python3.10/dist-packages (from numba->shap>=0.41.0->AugmentedHierarchicalShrinkage==1) (0.41.1)\n",
            "Collecting qtpy>=2.4.0 (from qtconsole->jupyter->AugmentedHierarchicalShrinkage==1)\n",
            "  Downloading QtPy-2.4.1-py3-none-any.whl.metadata (12 kB)\n",
            "Collecting jedi>=0.16 (from ipython>=5.0.0->ipykernel->jupyter->AugmentedHierarchicalShrinkage==1)\n",
            "  Downloading jedi-0.19.1-py2.py3-none-any.whl.metadata (22 kB)\n",
            "Requirement already satisfied: decorator in /usr/local/lib/python3.10/dist-packages (from ipython>=5.0.0->ipykernel->jupyter->AugmentedHierarchicalShrinkage==1) (4.4.2)\n",
            "Requirement already satisfied: pickleshare in /usr/local/lib/python3.10/dist-packages (from ipython>=5.0.0->ipykernel->jupyter->AugmentedHierarchicalShrinkage==1) (0.7.5)\n",
            "Requirement already satisfied: backcall in /usr/local/lib/python3.10/dist-packages (from ipython>=5.0.0->ipykernel->jupyter->AugmentedHierarchicalShrinkage==1) (0.2.0)\n",
            "Requirement already satisfied: matplotlib-inline in /usr/local/lib/python3.10/dist-packages (from ipython>=5.0.0->ipykernel->jupyter->AugmentedHierarchicalShrinkage==1) (0.1.6)\n",
            "Requirement already satisfied: pexpect>4.3 in /usr/local/lib/python3.10/dist-packages (from ipython>=5.0.0->ipykernel->jupyter->AugmentedHierarchicalShrinkage==1) (4.9.0)\n",
            "Requirement already satisfied: platformdirs>=2.5 in /usr/local/lib/python3.10/dist-packages (from jupyter-core>=4.7->nbconvert->jupyter->AugmentedHierarchicalShrinkage==1) (4.2.0)\n",
            "Requirement already satisfied: mdurl~=0.1 in /usr/local/lib/python3.10/dist-packages (from markdown-it-py>=2.2.0->rich>=12.0.0->twine->AugmentedHierarchicalShrinkage==1) (0.1.2)\n",
            "Requirement already satisfied: jupyter-server>=1.8 in /usr/local/lib/python3.10/dist-packages (from nbclassic>=0.4.7->notebook->jupyter->AugmentedHierarchicalShrinkage==1) (1.24.0)\n",
            "Requirement already satisfied: notebook-shim>=0.2.3 in /usr/local/lib/python3.10/dist-packages (from nbclassic>=0.4.7->notebook->jupyter->AugmentedHierarchicalShrinkage==1) (0.2.4)\n",
            "Requirement already satisfied: fastjsonschema in /usr/local/lib/python3.10/dist-packages (from nbformat>=5.1->nbconvert->jupyter->AugmentedHierarchicalShrinkage==1) (2.19.1)\n",
            "Requirement already satisfied: jsonschema>=2.6 in /usr/local/lib/python3.10/dist-packages (from nbformat>=5.1->nbconvert->jupyter->AugmentedHierarchicalShrinkage==1) (4.19.2)\n",
            "Requirement already satisfied: wcwidth in /usr/local/lib/python3.10/dist-packages (from prompt-toolkit!=3.0.0,!=3.0.1,<3.1.0,>=2.0.0->jupyter-console->jupyter->AugmentedHierarchicalShrinkage==1) (0.2.13)\n",
            "Requirement already satisfied: ptyprocess in /usr/local/lib/python3.10/dist-packages (from terminado>=0.8.3->notebook->jupyter->AugmentedHierarchicalShrinkage==1) (0.7.0)\n",
            "Requirement already satisfied: argon2-cffi-bindings in /usr/local/lib/python3.10/dist-packages (from argon2-cffi->notebook->jupyter->AugmentedHierarchicalShrinkage==1) (21.2.0)\n",
            "Requirement already satisfied: soupsieve>1.2 in /usr/local/lib/python3.10/dist-packages (from beautifulsoup4->nbconvert->jupyter->AugmentedHierarchicalShrinkage==1) (2.5)\n",
            "Requirement already satisfied: webencodings in /usr/local/lib/python3.10/dist-packages (from bleach->nbconvert->jupyter->AugmentedHierarchicalShrinkage==1) (0.5.1)\n",
            "Requirement already satisfied: parso<0.9.0,>=0.8.3 in /usr/local/lib/python3.10/dist-packages (from jedi>=0.16->ipython>=5.0.0->ipykernel->jupyter->AugmentedHierarchicalShrinkage==1) (0.8.3)\n",
            "Requirement already satisfied: attrs>=22.2.0 in /usr/local/lib/python3.10/dist-packages (from jsonschema>=2.6->nbformat>=5.1->nbconvert->jupyter->AugmentedHierarchicalShrinkage==1) (23.2.0)\n",
            "Requirement already satisfied: jsonschema-specifications>=2023.03.6 in /usr/local/lib/python3.10/dist-packages (from jsonschema>=2.6->nbformat>=5.1->nbconvert->jupyter->AugmentedHierarchicalShrinkage==1) (2023.12.1)\n",
            "Requirement already satisfied: referencing>=0.28.4 in /usr/local/lib/python3.10/dist-packages (from jsonschema>=2.6->nbformat>=5.1->nbconvert->jupyter->AugmentedHierarchicalShrinkage==1) (0.33.0)\n",
            "Requirement already satisfied: rpds-py>=0.7.1 in /usr/local/lib/python3.10/dist-packages (from jsonschema>=2.6->nbformat>=5.1->nbconvert->jupyter->AugmentedHierarchicalShrinkage==1) (0.18.0)\n",
            "Requirement already satisfied: anyio<4,>=3.1.0 in /usr/local/lib/python3.10/dist-packages (from jupyter-server>=1.8->nbclassic>=0.4.7->notebook->jupyter->AugmentedHierarchicalShrinkage==1) (3.7.1)\n",
            "Requirement already satisfied: websocket-client in /usr/local/lib/python3.10/dist-packages (from jupyter-server>=1.8->nbclassic>=0.4.7->notebook->jupyter->AugmentedHierarchicalShrinkage==1) (1.7.0)\n",
            "Requirement already satisfied: cffi>=1.0.1 in /usr/local/lib/python3.10/dist-packages (from argon2-cffi-bindings->argon2-cffi->notebook->jupyter->AugmentedHierarchicalShrinkage==1) (1.16.0)\n",
            "Requirement already satisfied: sniffio>=1.1 in /usr/local/lib/python3.10/dist-packages (from anyio<4,>=3.1.0->jupyter-server>=1.8->nbclassic>=0.4.7->notebook->jupyter->AugmentedHierarchicalShrinkage==1) (1.3.1)\n",
            "Requirement already satisfied: exceptiongroup in /usr/local/lib/python3.10/dist-packages (from anyio<4,>=3.1.0->jupyter-server>=1.8->nbclassic>=0.4.7->notebook->jupyter->AugmentedHierarchicalShrinkage==1) (1.2.0)\n",
            "Requirement already satisfied: pycparser in /usr/local/lib/python3.10/dist-packages (from cffi>=1.0.1->argon2-cffi-bindings->argon2-cffi->notebook->jupyter->AugmentedHierarchicalShrinkage==1) (2.21)\n",
            "Downloading imodels-1.4.3-py3-none-any.whl (237 kB)\n",
            "\u001b[2K   \u001b[90m━━━━━━━━━━━━━━━━━━━━━━━━━━━━━━━━━━━━━━━━\u001b[0m \u001b[32m237.2/237.2 kB\u001b[0m \u001b[31m7.9 MB/s\u001b[0m eta \u001b[36m0:00:00\u001b[0m\n",
            "\u001b[?25hDownloading shap-0.45.0-cp310-cp310-manylinux_2_12_x86_64.manylinux2010_x86_64.manylinux_2_17_x86_64.manylinux2014_x86_64.whl (538 kB)\n",
            "\u001b[2K   \u001b[90m━━━━━━━━━━━━━━━━━━━━━━━━━━━━━━━━━━━━━━━━\u001b[0m \u001b[32m538.2/538.2 kB\u001b[0m \u001b[31m10.8 MB/s\u001b[0m eta \u001b[36m0:00:00\u001b[0m\n",
            "\u001b[?25hDownloading slicer-0.0.7-py3-none-any.whl (14 kB)\n",
            "Downloading jupyter-1.0.0-py2.py3-none-any.whl (2.7 kB)\n",
            "Downloading pmlb-1.0.1.post3-py3-none-any.whl (19 kB)\n",
            "Downloading twine-5.0.0-py3-none-any.whl (37 kB)\n",
            "Downloading pkginfo-1.10.0-py3-none-any.whl (30 kB)\n",
            "Downloading readme_renderer-43.0-py3-none-any.whl (13 kB)\n",
            "Downloading requests_toolbelt-1.0.0-py2.py3-none-any.whl (54 kB)\n",
            "\u001b[2K   \u001b[90m━━━━━━━━━━━━━━━━━━━━━━━━━━━━━━━━━━━━━━━━\u001b[0m \u001b[32m54.5/54.5 kB\u001b[0m \u001b[31m3.5 MB/s\u001b[0m eta \u001b[36m0:00:00\u001b[0m\n",
            "\u001b[?25hDownloading rfc3986-2.0.0-py2.py3-none-any.whl (31 kB)\n",
            "Downloading qtconsole-5.5.1-py3-none-any.whl (123 kB)\n",
            "\u001b[2K   \u001b[90m━━━━━━━━━━━━━━━━━━━━━━━━━━━━━━━━━━━━━━━━\u001b[0m \u001b[32m123.4/123.4 kB\u001b[0m \u001b[31m8.3 MB/s\u001b[0m eta \u001b[36m0:00:00\u001b[0m\n",
            "\u001b[?25hDownloading nh3-0.2.15-cp37-abi3-manylinux_2_17_x86_64.manylinux2014_x86_64.whl (1.7 MB)\n",
            "\u001b[2K   \u001b[90m━━━━━━━━━━━━━━━━━━━━━━━━━━━━━━━━━━━━━━━━\u001b[0m \u001b[32m1.7/1.7 MB\u001b[0m \u001b[31m26.2 MB/s\u001b[0m eta \u001b[36m0:00:00\u001b[0m\n",
            "\u001b[?25hDownloading QtPy-2.4.1-py3-none-any.whl (93 kB)\n",
            "\u001b[2K   \u001b[90m━━━━━━━━━━━━━━━━━━━━━━━━━━━━━━━━━━━━━━━━\u001b[0m \u001b[32m93.5/93.5 kB\u001b[0m \u001b[31m3.3 MB/s\u001b[0m eta \u001b[36m0:00:00\u001b[0m\n",
            "\u001b[?25hDownloading jedi-0.19.1-py2.py3-none-any.whl (1.6 MB)\n",
            "\u001b[2K   \u001b[90m━━━━━━━━━━━━━━━━━━━━━━━━━━━━━━━━━━━━━━━━\u001b[0m \u001b[32m1.6/1.6 MB\u001b[0m \u001b[31m28.2 MB/s\u001b[0m eta \u001b[36m0:00:00\u001b[0m\n",
            "\u001b[?25hInstalling collected packages: nh3, slicer, rfc3986, readme-renderer, qtpy, pkginfo, jedi, requests-toolbelt, twine, shap, pmlb, qtconsole, imodels, jupyter, AugmentedHierarchicalShrinkage\n",
            "  Running setup.py develop for AugmentedHierarchicalShrinkage\n",
            "Successfully installed AugmentedHierarchicalShrinkage imodels-1.4.3 jedi-0.19.1 jupyter-1.0.0 nh3-0.2.15 pkginfo-1.10.0 pmlb-1.0.1.post3 qtconsole-5.5.1 qtpy-2.4.1 readme-renderer-43.0 requests-toolbelt-1.0.0 rfc3986-2.0.0 shap-0.45.0 slicer-0.0.7 twine-5.0.0\n",
            "\u001b[33mWARNING: Running pip as the 'root' user can result in broken permissions and conflicting behaviour with the system package manager. It is recommended to use a virtual environment instead: https://pip.pypa.io/warnings/venv\u001b[0m\u001b[33m\n",
            "\u001b[0m"
          ]
        }
      ],
      "source": [
        "!pip install -e ."
      ]
    },
    {
      "cell_type": "code",
      "execution_count": 5,
      "metadata": {
        "id": "I8SGlzGgq9I7"
      },
      "outputs": [],
      "source": [
        "from TreeModelsFromScratch.RandomForest import RandomForest\n",
        "from TreeModelsFromScratch.datasets import DATASETS_CLASSIFICATION, DATASET_PATH"
      ]
    },
    {
      "cell_type": "code",
      "execution_count": 6,
      "metadata": {
        "id": "xYuH6SOugWFc"
      },
      "outputs": [],
      "source": [
        "import pandas as pd\n",
        "from sklearn.model_selection import train_test_split\n",
        "from sklearn.ensemble import RandomForestClassifier\n",
        "from sklearn.metrics import roc_auc_score\n",
        "from sklearn.model_selection import train_test_split\n",
        "from imodels import get_clean_dataset"
      ]
    },
    {
      "cell_type": "markdown",
      "source": [
        "#### With K, and Depth"
      ],
      "metadata": {
        "id": "BLq33-_2qHWw"
      }
    },
    {
      "cell_type": "code",
      "execution_count": 7,
      "metadata": {
        "colab": {
          "base_uri": "https://localhost:8080/"
        },
        "id": "G4ahC49Zc_SF",
        "outputId": "a2b7d147-7589-4cc1-a1c8-eec017b07711"
      },
      "outputs": [
        {
          "output_type": "stream",
          "name": "stderr",
          "text": [
            "/usr/local/lib/python3.10/dist-packages/ipykernel/ipkernel.py:283: DeprecationWarning: `should_run_async` will not call `transform_cell` automatically in the future. Please pass the result to `transformed_cell` argument and any exception that happen during thetransform in `preprocessing_exc_tuple` in IPython 7.17 and above.\n",
            "  and should_run_async(code)\n",
            "[Parallel(n_jobs=-1)]: Using backend LokyBackend with 2 concurrent workers.\n",
            "[Parallel(n_jobs=-1)]: Done   1 tasks      | elapsed:    3.9s\n",
            "[Parallel(n_jobs=-1)]: Done   4 out of   6 | elapsed:    4.7s remaining:    2.3s\n",
            "[Parallel(n_jobs=-1)]: Done   6 out of   6 | elapsed:    5.4s finished\n",
            "[Parallel(n_jobs=-1)]: Using backend LokyBackend with 2 concurrent workers.\n",
            "[Parallel(n_jobs=-1)]: Done   1 tasks      | elapsed:    3.9s\n",
            "[Parallel(n_jobs=-1)]: Done   4 tasks      | elapsed:    5.3s\n",
            "[Parallel(n_jobs=-1)]: Done   9 tasks      | elapsed:    7.4s\n",
            "[Parallel(n_jobs=-1)]: Done  12 out of  12 | elapsed:   10.1s finished\n"
          ]
        }
      ],
      "source": [
        "import warnings\n",
        "warnings.filterwarnings(\"ignore\")\n",
        "\n",
        "import pandas as pd\n",
        "from sklearn.model_selection import train_test_split\n",
        "from sklearn.metrics import mean_squared_error\n",
        "from sklearn.ensemble import RandomForestRegressor\n",
        "from imodels import get_clean_dataset\n",
        "from joblib import Parallel, delayed\n",
        "\n",
        "def perform_regression(dataset_name, n_trees=5, k=None, max_features=None):\n",
        "    # Fetch the dataset\n",
        "    X, y, feature_names = get_clean_dataset(dataset_name)  # Ensure this function can provide regression datasets\n",
        "\n",
        "    X = X[:50]\n",
        "    y = y[:50]\n",
        "\n",
        "    X_train, X_test, y_train, y_test = train_test_split(X, y, test_size=0.2, random_state=42)\n",
        "\n",
        "    # Initialize and fit your custom RandomForest for regression\n",
        "    custom_rf = RandomForest(n_trees=n_trees, treetype='regression', k=k, n_feature=max_features)\n",
        "    custom_rf.fit(X_train, y_train)\n",
        "\n",
        "    # Calculate MSE for custom predictions\n",
        "    custom_mse = mean_squared_error(y_test, custom_rf.predict(X_test))\n",
        "\n",
        "    # Creating a DataFrame for the result\n",
        "    result_df = pd.DataFrame({\n",
        "        'Dataset': [dataset_name],\n",
        "        'K': [k],\n",
        "        'Max Features': [max_features],\n",
        "        'Custom MSE': [custom_mse]\n",
        "    })\n",
        "\n",
        "    return result_df\n",
        "\n",
        "def perform_sklearn_regression(dataset_name, n_estimators=5, max_features=None):\n",
        "    X, y, _ = get_clean_dataset(dataset_name)  # Ensure this function can provide regression datasets\n",
        "\n",
        "    X = X[:50]\n",
        "    y = y[:50]\n",
        "\n",
        "    X_train, X_test, y_train, y_test = train_test_split(X, y, test_size=0.2, random_state=42)\n",
        "\n",
        "    model = RandomForestRegressor(n_estimators=n_estimators, max_features=max_features, random_state=42)\n",
        "    model.fit(X_train, y_train)\n",
        "    mse = mean_squared_error(y_test, model.predict(X_test))\n",
        "\n",
        "    # Creating a DataFrame for the result\n",
        "    result_df = pd.DataFrame({\n",
        "        'Dataset': [dataset_name],\n",
        "        'Max Features': [max_features],\n",
        "        'Sklearn MSE': [mse]\n",
        "    })\n",
        "\n",
        "    return result_df\n",
        "\n",
        "# Parameters\n",
        "regression_datasets = [\"fico\", \"credit_g\", \"juvenile_clean\"]\n",
        "\n",
        "# k_values = [1, 2, 4, 6, 8, 10, 15]\n",
        "# max_features_values = [0.2, 0.4, 0.6, 0.8]\n",
        "\n",
        "\n",
        "k_values = [1, 2]\n",
        "max_features_values = [0.4, 0.6]\n",
        "\n",
        "n_jobs = -1  # Use all available CPUs\n",
        "\n",
        "# Initialization of DataFrames\n",
        "regression_results = pd.DataFrame()\n",
        "sklearn_regression_results = pd.DataFrame()\n",
        "\n",
        "# Sklearn regression parallel execution\n",
        "sklearn_tasks = [\n",
        "    delayed(perform_sklearn_regression)(dataset_name, n_estimators=5, max_features=max_features)\n",
        "    for dataset_name in regression_datasets\n",
        "    for max_features in max_features_values\n",
        "]\n",
        "\n",
        "# Execute sklearn regression tasks in parallel\n",
        "sklearn_results_list = Parallel(n_jobs=n_jobs, verbose=10)(sklearn_tasks)\n",
        "\n",
        "# Aggregate sklearn regression results\n",
        "for result in sklearn_results_list:\n",
        "    sklearn_regression_results = pd.concat([sklearn_regression_results, result], ignore_index=True)\n",
        "\n",
        "# Custom regression parallel execution\n",
        "custom_tasks = [\n",
        "    delayed(perform_regression)(dataset_name, n_trees=5, k=k, max_features=max_features)\n",
        "    for dataset_name in regression_datasets\n",
        "    for k in k_values\n",
        "    for max_features in max_features_values\n",
        "]\n",
        "\n",
        "# Execute custom regression tasks in parallel\n",
        "custom_results_list = Parallel(n_jobs=n_jobs, verbose=10)(custom_tasks)\n",
        "\n",
        "# Aggregate custom regression results\n",
        "for result in custom_results_list:\n",
        "    regression_results = pd.concat([regression_results, result], ignore_index=True)"
      ]
    },
    {
      "cell_type": "code",
      "execution_count": 8,
      "metadata": {
        "id": "GmRYWu9XCEcv"
      },
      "outputs": [],
      "source": [
        "# Find the best combination of parameters for the custom RandomForest model\n",
        "best_combinations_custom_d_k = regression_results.groupby('Dataset').apply(lambda x: x.loc[x['Custom MSE'].idxmax()]).reset_index(drop=True)\n",
        "\n",
        "# Find the best combination for the sklearn RandomForest model\n",
        "best_combinations_sklearn = sklearn_regression_results.groupby('Dataset').apply(lambda x: x.loc[x['Sklearn MSE'].idxmax()]).reset_index(drop=True)"
      ]
    },
    {
      "cell_type": "markdown",
      "metadata": {
        "id": "TKBzOyBXHuOJ"
      },
      "source": [
        "# Philip Code without changing depth"
      ]
    },
    {
      "cell_type": "code",
      "execution_count": 9,
      "metadata": {
        "colab": {
          "base_uri": "https://localhost:8080/"
        },
        "id": "vHezAhKoHlrj",
        "outputId": "999e9a62-5482-4ad2-a5a4-fdb09cfdcb3b"
      },
      "outputs": [
        {
          "output_type": "stream",
          "name": "stdout",
          "text": [
            "Cloning into 'AugmentedHierarchicalShrinkage'...\n",
            "remote: Enumerating objects: 903, done.\u001b[K\n",
            "remote: Counting objects: 100% (81/81), done.\u001b[K\n",
            "remote: Compressing objects: 100% (11/11), done.\u001b[K\n",
            "remote: Total 903 (delta 72), reused 70 (delta 70), pack-reused 822\u001b[K\n",
            "Receiving objects: 100% (903/903), 124.13 MiB | 12.15 MiB/s, done.\n",
            "Resolving deltas: 100% (500/500), done.\n",
            "Updating files: 100% (123/123), done.\n"
          ]
        }
      ],
      "source": [
        "!git clone https://github.com/Heity94/AugmentedHierarchicalShrinkage.git"
      ]
    },
    {
      "cell_type": "code",
      "execution_count": 10,
      "metadata": {
        "colab": {
          "base_uri": "https://localhost:8080/"
        },
        "id": "s7lrNcAeHsfT",
        "outputId": "ca4b90dd-3481-4608-b5af-ec021211d08e"
      },
      "outputs": [
        {
          "output_type": "stream",
          "name": "stdout",
          "text": [
            "/content/TreeBasedModel/AugmentedHierarchicalShrinkage\n"
          ]
        }
      ],
      "source": [
        "%cd AugmentedHierarchicalShrinkage/"
      ]
    },
    {
      "cell_type": "code",
      "execution_count": 11,
      "metadata": {
        "colab": {
          "base_uri": "https://localhost:8080/"
        },
        "id": "xSqWne9EHshk",
        "outputId": "b1e8be71-61a8-4860-c1fe-8d720a4a2741"
      },
      "outputs": [
        {
          "output_type": "stream",
          "name": "stderr",
          "text": [
            "[Parallel(n_jobs=-1)]: Using backend LokyBackend with 2 concurrent workers.\n",
            "[Parallel(n_jobs=-1)]: Done   1 tasks      | elapsed:    0.4s\n",
            "[Parallel(n_jobs=-1)]: Done   4 out of   6 | elapsed:    0.9s remaining:    0.5s\n",
            "[Parallel(n_jobs=-1)]: Done   6 out of   6 | elapsed:    2.3s finished\n",
            "[Parallel(n_jobs=-1)]: Using backend LokyBackend with 2 concurrent workers.\n",
            "[Parallel(n_jobs=-1)]: Done   1 tasks      | elapsed:    1.4s\n",
            "[Parallel(n_jobs=-1)]: Done   4 tasks      | elapsed:    2.9s\n",
            "[Parallel(n_jobs=-1)]: Done   9 tasks      | elapsed:    4.7s\n",
            "[Parallel(n_jobs=-1)]: Done  12 out of  12 | elapsed:    5.7s finished\n"
          ]
        }
      ],
      "source": [
        "import warnings\n",
        "\n",
        "warnings.filterwarnings(\"ignore\")\n",
        "\n",
        "import pandas as pd\n",
        "from sklearn.model_selection import train_test_split\n",
        "from sklearn.metrics import mean_squared_error\n",
        "from sklearn.ensemble import RandomForestRegressor\n",
        "from imodels import get_clean_dataset\n",
        "from joblib import Parallel, delayed\n",
        "\n",
        "def perform_regression(dataset_name, n_trees=25, k=None, max_features=None):\n",
        "    # Fetch the dataset\n",
        "    X, y, feature_names = get_clean_dataset(dataset_name)  # Ensure this function can provide regression datasets\n",
        "\n",
        "    X = X[:50]\n",
        "    y = y[:50]\n",
        "\n",
        "    X_train, X_test, y_train, y_test = train_test_split(X, y, test_size=0.2, random_state=42)\n",
        "\n",
        "    # Initialize and fit your custom RandomForest for regression\n",
        "    custom_rf = RandomForest(n_trees=n_trees, treetype='regression', k=k, n_feature=max_features)\n",
        "    custom_rf.fit(X_train, y_train)\n",
        "\n",
        "    # Calculate MSE for custom predictions\n",
        "    custom_mse = mean_squared_error(y_test, custom_rf.predict(X_test))\n",
        "\n",
        "    # Creating a DataFrame for the result\n",
        "    result_df = pd.DataFrame({\n",
        "        'Dataset': [dataset_name],\n",
        "        'K': [k],\n",
        "        'Max Features': [max_features],\n",
        "        'Custom MSE': [custom_mse]\n",
        "    })\n",
        "\n",
        "    return result_df\n",
        "\n",
        "def perform_sklearn_regression(dataset_name, n_estimators=25, max_features=None):\n",
        "    X, y, _ = get_clean_dataset(dataset_name)  # Ensure this function can provide regression datasets\n",
        "\n",
        "    X = X[:50]\n",
        "    y = y[:50]\n",
        "\n",
        "    X_train, X_test, y_train, y_test = train_test_split(X, y, test_size=0.2, random_state=42)\n",
        "\n",
        "    model = RandomForestRegressor(n_estimators=n_estimators, max_features=max_features, random_state=42)\n",
        "    model.fit(X_train, y_train)\n",
        "    mse = mean_squared_error(y_test, model.predict(X_test))\n",
        "\n",
        "    # Creating a DataFrame for the result\n",
        "    result_df = pd.DataFrame({\n",
        "        'Dataset': [dataset_name],\n",
        "        'Max Features': [max_features],\n",
        "        'Sklearn MSE': [mse]\n",
        "    })\n",
        "\n",
        "    return result_df\n",
        "\n",
        "# Parameters\n",
        "regression_datasets = [\"fico\", \"credit_g\", \"juvenile_clean\"]\n",
        "# k_values = [1, 2, 4, 6, 8, 10, 15]\n",
        "# max_features_values = [0.2, 0.4, 0.6, 0.8]\n",
        "\n",
        "k_values = [1, 2]\n",
        "max_features_values = [0.4, 0.6]\n",
        "\n",
        "\n",
        "n_jobs = -1  # Use all available CPUs\n",
        "\n",
        "# Initialization of DataFrames\n",
        "regression_results = pd.DataFrame()\n",
        "sklearn_regression_results = pd.DataFrame()\n",
        "\n",
        "# Sklearn regression parallel execution\n",
        "sklearn_tasks = [\n",
        "    delayed(perform_sklearn_regression)(dataset_name, n_estimators=5, max_features=max_features)\n",
        "    for dataset_name in regression_datasets\n",
        "    for max_features in max_features_values\n",
        "]\n",
        "\n",
        "# Execute sklearn regression tasks in parallel\n",
        "sklearn_results_list = Parallel(n_jobs=n_jobs, verbose=10)(sklearn_tasks)\n",
        "\n",
        "# Aggregate sklearn regression results\n",
        "for result in sklearn_results_list:\n",
        "    sklearn_regression_results = pd.concat([sklearn_regression_results, result], ignore_index=True)\n",
        "\n",
        "# Custom regression parallel execution\n",
        "custom_tasks = [\n",
        "    delayed(perform_regression)(dataset_name, n_trees=5, k=k, max_features=max_features)\n",
        "    for dataset_name in regression_datasets\n",
        "    for k in k_values\n",
        "    for max_features in max_features_values\n",
        "]\n",
        "\n",
        "# Execute custom regression tasks in parallel\n",
        "custom_results_list = Parallel(n_jobs=n_jobs, verbose=10)(custom_tasks)\n",
        "\n",
        "# Aggregate custom regression results\n",
        "for result in custom_results_list:\n",
        "    regression_results = pd.concat([regression_results, result], ignore_index=True)"
      ]
    },
    {
      "cell_type": "code",
      "execution_count": 12,
      "metadata": {
        "id": "klE8hDzPHsju"
      },
      "outputs": [],
      "source": [
        "# Find the best combination of parameters for the custom RandomForest model\n",
        "best_combinations_custom_without_k = regression_results.groupby('Dataset').apply(lambda x: x.loc[x['Custom MSE'].idxmax()]).reset_index(drop=True)\n",
        "\n",
        "# Find the best combination for the sklearn RandomForest model\n",
        "best_combinations_sklearn = sklearn_regression_results.groupby('Dataset').apply(lambda x: x.loc[x['Sklearn MSE'].idxmax()]).reset_index(drop=True)"
      ]
    },
    {
      "cell_type": "markdown",
      "metadata": {
        "id": "p4oJUG_iJb-q"
      },
      "source": [
        "I would like a side-by-side comparison of the performance of our three methods: (i) sklearn RF, (ii) previous version of custom RF (not using depth, only K), and (iii) the latest version of custom RF ( using depth plus K)"
      ]
    },
    {
      "cell_type": "code",
      "execution_count": 13,
      "metadata": {
        "colab": {
          "base_uri": "https://localhost:8080/",
          "height": 707
        },
        "id": "AYUunXsnHsoN",
        "outputId": "6da1c0f6-cdb9-4f47-ce07-b4dc993f5f6b"
      },
      "outputs": [
        {
          "output_type": "display_data",
          "data": {
            "text/plain": [
              "<Figure size 1400x700 with 1 Axes>"
            ],
            "image/png": "[encoded data removed]"
          },
          "metadata": {}
        }
      ],
      "source": [
        "import matplotlib.pyplot as plt\n",
        "import seaborn as sns\n",
        "import numpy as np\n",
        "\n",
        "plt.figure(figsize=(14, 7))\n",
        "width = 0.25  # Adjusting the width of the bars to accommodate three groups\n",
        "\n",
        "# Assuming best_combinations_custom_d_k, best_combinations_custom_without_d, and best_combinations_sklearn are available\n",
        "r1 = np.arange(len(best_combinations_custom_d_k['Dataset']))\n",
        "r2 = [x + width for x in r1]\n",
        "r3 = [x + width for x in r2]\n",
        "\n",
        "# Plotting\n",
        "plt.bar(r1, best_combinations_custom_d_k['Custom MSE'], color='dodgerblue', width=width, edgecolor='grey', label='Custom RF with d and k')\n",
        "plt.bar(r2, best_combinations_custom_without_k['Custom MSE'], color='salmon', width=width, edgecolor='grey', label='Custom RF without d')\n",
        "plt.bar(r3, best_combinations_sklearn['Sklearn MSE'], color='mediumseagreen', width=width, edgecolor='grey', label='Sklearn RandomForest')\n",
        "\n",
        "# Adding xticks and labels\n",
        "plt.xlabel('Dataset', fontweight='bold', fontsize=15)\n",
        "plt.xticks([r + width for r in range(len(best_combinations_custom_d_k['Dataset']))], best_combinations_custom_d_k['Dataset'], rotation=45)\n",
        "plt.ylabel('MSE Score', fontweight='bold', fontsize=15)\n",
        "plt.title('MSE Scores: Custom RF with d and k vs. Custom RF without d vs. Sklearn RF', fontweight='bold', fontsize=16)\n",
        "plt.legend()\n",
        "\n",
        "# Adding value labels on top of bars\n",
        "for i in range(len(r1)):\n",
        "    plt.text(r1[i], best_combinations_custom_d_k['Custom MSE'].iloc[i] + 0.01, f\"{best_combinations_custom_d_k['Custom MSE'].iloc[i]:.2f}\", ha='center', va='bottom')\n",
        "    plt.text(r2[i], best_combinations_custom_without_k['Custom MSE'].iloc[i] + 0.01, f\"{best_combinations_custom_without_k['Custom MSE'].iloc[i]:.2f}\", ha='center', va='bottom')\n",
        "    plt.text(r3[i], best_combinations_sklearn['Sklearn MSE'].iloc[i] + 0.01, f\"{best_combinations_sklearn['Sklearn MSE'].iloc[i]:.2f}\", ha='center', va='bottom')\n",
        "\n",
        "plt.tight_layout()\n",
        "plt.show()"
      ]
    },
    {
      "cell_type": "code",
      "source": [],
      "metadata": {
        "id": "Qc534b3NXvPD"
      },
      "execution_count": 13,
      "outputs": []
    }
  ],
  "metadata": {
    "colab": {
      "provenance": []
    },
    "kernelspec": {
      "display_name": "Python 3",
      "name": "python3"
    },
    "language_info": {
      "name": "python"
    }
  },
  "nbformat": 4,
  "nbformat_minor": 0
}