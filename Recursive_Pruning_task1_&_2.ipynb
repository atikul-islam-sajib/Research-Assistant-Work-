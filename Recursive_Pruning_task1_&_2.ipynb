{
  "cells": [
    {
      "cell_type": "code",
      "execution_count": 28,
      "metadata": {
        "id": "RZMUD3TSMqof"
      },
      "outputs": [],
      "source": [
        "#git clone -b prune-experiment https://github.com/atikul-islam-sajib/TreeBasedModel.git\n",
        "!git clone -b prune-experiment https://github.com/markusloecher/TreeSandBox.git"
      ]
    },
    {
      "cell_type": "code",
      "execution_count": 2,
      "metadata": {
        "colab": {
          "base_uri": "https://localhost:8080/"
        },
        "id": "02fYDUwCMywU",
        "outputId": "5d34dbf3-5a31-40f7-d9a0-a5b70c71f213"
      },
      "outputs": [
        {
          "output_type": "stream",
          "name": "stdout",
          "text": [
            "/content/TreeBasedModel\n"
          ]
        }
      ],
      "source": [
        "%cd TreeSandBox"
      ]
    },
    {
      "cell_type": "code",
      "execution_count": 28,
      "metadata": {
        "id": "a3-BKXzdQOTb"
      },
      "outputs": [],
      "source": [
        "!pip install -e . --verbose"
      ]
    },
    {
      "cell_type": "code",
      "execution_count": 4,
      "metadata": {
        "id": "r1rI9F31M-4J"
      },
      "outputs": [],
      "source": [
        "from sklearn.datasets import make_classification\n",
        "from sklearn.model_selection import train_test_split\n",
        "import pandas as pd\n",
        "#import numpy as np\n",
        "#from sklearn.metrics import accuracy_score\n",
        "from TreeModelsFromScratch.RandomForest import RandomForest\n",
        "from copy import deepcopy"
      ]
    },
    {
      "cell_type": "code",
      "execution_count": 5,
      "metadata": {
        "colab": {
          "base_uri": "https://localhost:8080/"
        },
        "id": "u717YeZCQOTb",
        "outputId": "593755a9-02c9-44ae-b8bd-aca1b4bdebe7"
      },
      "outputs": [
        {
          "output_type": "stream",
          "name": "stderr",
          "text": [
            "/content/TreeBasedModel/TreeModelsFromScratch/RandomForest.py:277: UserWarning: 25 out of 75 samples do not have OOB scores. This probably means too few trees were used to compute any reliable OOB estimates. These samples were dropped before computing the oob_score\n",
            "  warn(message)\n"
          ]
        }
      ],
      "source": [
        "# Generate synthetic dataset\n",
        "X, y = make_classification(n_samples=100, n_features=20, n_informative=10, n_redundant=10, n_clusters_per_class=2, random_state=42)\n",
        "X = pd.DataFrame(X)\n",
        "y = pd.Series(y)\n",
        "\n",
        "# Split dataset\n",
        "X_train, X_test, y_train, y_test = train_test_split(X, y, test_size=0.25, random_state=42)\n",
        "\n",
        "# Instantiate RandomForest\n",
        "rf = RandomForest(n_trees=2, max_depth=10, min_samples_split=20, min_samples_leaf=5,\n",
        "                  n_feature=\"sqrt\", bootstrap=True, oob=True, criterion=\"gini\",\n",
        "                  treetype=\"classification\", random_state=42)\n",
        "\n",
        "# Fit the model\n",
        "rf.fit(X_train, y_train)\n"
      ]
    },
    {
      "cell_type": "markdown",
      "metadata": {
        "id": "xRyFhHbFQOTc"
      },
      "source": [
        "Understand the tree structure first"
      ]
    },
    {
      "cell_type": "code",
      "execution_count": 6,
      "metadata": {
        "colab": {
          "base_uri": "https://localhost:8080/"
        },
        "id": "WS9XzQhtQOTc",
        "outputId": "04665d98-b193-4846-cc4b-0e9c50b0e57e"
      },
      "outputs": [
        {
          "output_type": "stream",
          "name": "stdout",
          "text": [
            "75\n",
            "-0.6577327560706901\n",
            "0\n"
          ]
        },
        {
          "output_type": "execute_result",
          "data": {
            "text/plain": [
              "[(0, 1), (0, 2, 3), (0, 2, 4, 5), (0, 2, 4, 6)]"
            ]
          },
          "metadata": {},
          "execution_count": 6
        }
      ],
      "source": [
        "dt =deepcopy(rf.trees[0])\n",
        "rootNode = dt.node_list[0] #??\n",
        "print(rootNode.samples)\n",
        "print(rootNode.threshold)\n",
        "print(rootNode.value)\n",
        "rootNode.left.samples\n",
        "rootNode.right.leaf_node\n",
        "rootNode.right.samples\n",
        "dt._get_y_for_node(rootNode.right)\n",
        "rootNode.right.id\n",
        "rootNode.left.id\n",
        "dt.decision_paths\n"
      ]
    },
    {
      "cell_type": "markdown",
      "metadata": {
        "id": "KjLZAbkvQOTd"
      },
      "source": [
        "## Try a recursive function"
      ]
    },
    {
      "cell_type": "code",
      "execution_count": 7,
      "metadata": {
        "colab": {
          "base_uri": "https://localhost:8080/"
        },
        "id": "jHBQIPR4QOTd",
        "outputId": "3b55272c-8937-48a9-c073-4ab110e311f5"
      },
      "outputs": [
        {
          "output_type": "stream",
          "name": "stdout",
          "text": [
            "inner node 0 with 75 samples\n",
            "left turn\n",
            "leaf node 1 with 20 samples\n",
            "right turn\n",
            "inner node 2 with 55 samples\n",
            "left turn\n",
            "leaf node 3 with 17 samples\n",
            "right turn\n",
            "inner node 4 with 38 samples\n",
            "left turn\n",
            "leaf node 5 with 5 samples\n",
            "right turn\n",
            "leaf node 6 with 33 samples\n",
            "4 leaves in total\n"
          ]
        }
      ],
      "source": [
        "def traverseTree(parentNode, numLeafs):\n",
        "    if parentNode.leaf_node:\n",
        "        print(\"leaf node\", parentNode.id, \"with\", parentNode.samples, \"samples\")\n",
        "        return numLeafs+1\n",
        "    else:\n",
        "        print(\"inner node\", parentNode.id, \"with\", parentNode.samples, \"samples\")\n",
        "        if parentNode.left != None:\n",
        "            print(\"left turn\")\n",
        "            numLeafs = traverseTree(parentNode.left,numLeafs)\n",
        "        if parentNode.right != None:\n",
        "            print(\"right turn\")\n",
        "            numLeafs = traverseTree(parentNode.right, numLeafs)\n",
        "        return numLeafs\n",
        "\n",
        "nLeafs = traverseTree(rootNode,0)\n",
        "print(nLeafs, \"leaves in total\")"
      ]
    },
    {
      "cell_type": "markdown",
      "metadata": {
        "id": "jgpBalchQOTd"
      },
      "source": [
        "Now we use the same idea of a recursive function to prune:"
      ]
    },
    {
      "cell_type": "code",
      "execution_count": 27,
      "metadata": {
        "colab": {
          "base_uri": "https://localhost:8080/"
        },
        "id": "F6_q6SPPQOTd",
        "outputId": "3f09e6a4-733b-471a-f002-7cb7f3c2a760"
      },
      "outputs": [
        {
          "output_type": "stream",
          "name": "stdout",
          "text": [
            "inner node 0 with 75 samples and children: 1 2\n",
            "left turn to  1\n",
            "leaf node 1 with 20 samples\n",
            "right turn to  2\n",
            "inner node 2 with 55 samples and children: 3 4\n",
            "\u001b[1mpruning left child 3 with 17 samples\u001b[0m\n",
            "right turn to  4\n",
            "inner node 4 with 38 samples and children: 5 6\n",
            "\u001b[1mpruning left child 5 with 5 samples\u001b[0m\n",
            "right turn to  6\n",
            "leaf node 6 with 33 samples\n",
            "------------ done pruning, now just traversing again:---------------\n",
            "inner node 0 with 75 samples\n",
            "left turn\n",
            "leaf node 1 with 20 samples\n",
            "right turn\n",
            "inner node 2 with 55 samples\n",
            "right turn\n",
            "inner node 4 with 38 samples\n",
            "right turn\n",
            "leaf node 6 with 33 samples\n",
            "2 leaves in total\n"
          ]
        }
      ],
      "source": [
        "import math\n",
        "\n",
        "def pruneTree(parentNode, min_samples_leaf = 10):\n",
        "    if parentNode.leaf_node:\n",
        "        print(\"leaf node\", parentNode.id, \"with\", parentNode.samples, \"samples\")\n",
        "        return\n",
        "    else:\n",
        "        leftChild = parentNode.left\n",
        "        rightChild = parentNode.right\n",
        "        print(\"inner node\", parentNode.id, \"with\", parentNode.samples, \"samples and children:\",leftChild.id, rightChild.id)\n",
        "        if (leftChild.samples < min_samples_leaf) & (rightChild.samples < min_samples_leaf):#easiest case\n",
        "            print('\\033[1m' + \"pruning both children\", leftChild.id, \"with\", leftChild.samples, \"samples\", rightChild.id, \"with\", rightChild.samples, \"samples\" + '\\033[0m')\n",
        "            parentNode.leaf_node = True\n",
        "            parentNode.left = None\n",
        "            parentNode.right = None\n",
        "        elif (leftChild.samples >= min_samples_leaf) & (rightChild.samples >= min_samples_leaf):#also easy\n",
        "            print(\"left turn to \", leftChild.id)\n",
        "            pruneTree(leftChild,min_samples_leaf)\n",
        "            print(\"right turn to \", rightChild.id)\n",
        "            pruneTree(rightChild,min_samples_leaf)\n",
        "        elif leftChild.samples < min_samples_leaf:\n",
        "            print('\\033[1m' + \"pruning left child\", leftChild.id, \"with\", leftChild.samples, \"samples\" + '\\033[0m')\n",
        "            parentNode.left = None\n",
        "            #reminder: left_idxs = np.argwhere(X_column <= split_thresh).flatten()\n",
        "            parentNode.threshold = -math.inf#ideally one should remove this useless inner node\n",
        "            print(\"right turn to \", rightChild.id)\n",
        "            pruneTree(rightChild,min_samples_leaf)\n",
        "        elif rightChild.samples < min_samples_leaf:\n",
        "            print('\\033[1m' + \"pruning right child\", rightChild.id, \"with\", rightChild.samples, \"samples\" + '\\033[0m')\n",
        "            parentNode.right = None\n",
        "            parentNode.threshold = math.inf#ideally one should remove this useless inner node\n",
        "            print(\"left turn to \", leftChild.id)\n",
        "            pruneTree(leftChild,min_samples_leaf)\n",
        "\n",
        "    #print(\"parent node\", parentNode.id, \"with\", \"children:\",parentNode.left, parentNode.right)\n",
        "    #if (parentNode.left == None) & (parentNode.right == None):\n",
        "    #    parentNode.leaf_node = True\n",
        "\n",
        "dt =deepcopy(rf.trees[0])\n",
        "rootNode = dt.node_list[0] #??\n",
        "\n",
        "pruneTree(rootNode,20)\n",
        "print(\"------------ done pruning, now just traversing again:---------------\")\n",
        "nLeafs = traverseTree(rootNode,0)\n",
        "print(nLeafs, \"leaves in total\")"
      ]
    },
    {
      "cell_type": "markdown",
      "metadata": {
        "id": "nzbx0rQzQOTd"
      },
      "source": [
        "While the routine above sort of works, it needs two major improvements:\n",
        "1. The samples in the pruned nodes are discarded at the moment, whereas I think it would be better to redistribute them along all the children.\n",
        "2. When only one child is pruned, the other surviving one becomes a useless inner node without a split. (I set the split threshold to infinity) So best would be to remove that node."
      ]
    },
    {
      "cell_type": "markdown",
      "source": [
        "# **Task 1 & 2**\n",
        "\n",
        "**Task 1**: Redistribute Samples from Pruned Nodes to All Remaining Children\n",
        "1. **Function Creation:** Developed a function `redistribute_samples_to_children` to distribute samples from pruned nodes to their remaining sibling nodes.\n",
        "\n",
        "2. **Integration with Pruning Logic:** Incorporated this function into the pruning process so that whenever a node is pruned, its samples are redistributed among the remaining children.\n",
        "\n",
        "**Task 2**: Remove Useless Inner Nodes and Promote the Surviving Child\n",
        "1. **Identifying Useless Inner Nodes:** Updated the pruning logic to detect when only one child remains after pruning.\n",
        "\n",
        "2. **Promotion of Surviving Child:** Removed the useless inner node by promoting the surviving child, transferring its properties to the parent node.\n",
        "\n",
        "3. **Recursive Pruning:** Ensured that the pruning process continues recursively if the promoted node is not a leaf node."
      ],
      "metadata": {
        "id": "Z6F0xncQXLVa"
      }
    },
    {
      "cell_type": "code",
      "source": [
        "import math\n",
        "\n",
        "def redistribute_samples_to_children(parentNode, prunedChild):\n",
        "    remaining_children = [parentNode.left, parentNode.right]\n",
        "    remaining_children = [child for child in remaining_children if child and child.id != prunedChild.id]\n",
        "\n",
        "    if prunedChild and prunedChild.leaf_node and remaining_children:\n",
        "        num_remaining_children = len(remaining_children)\n",
        "        samples_per_child = prunedChild.samples // num_remaining_children\n",
        "        for child in remaining_children:\n",
        "            print(f\"Redistributing {samples_per_child} samples from pruned node {prunedChild.id} to child node {child.id}\")\n",
        "            child.samples += samples_per_child\n",
        "\n",
        "def pruneTree(parentNode, min_samples_leaf=10):\n",
        "    if parentNode.leaf_node:\n",
        "        print(\"leaf node\", parentNode.id, \"with\", parentNode.samples, \"samples\")\n",
        "        return\n",
        "    else:\n",
        "        leftChild = parentNode.left\n",
        "        rightChild = parentNode.right\n",
        "        print(\"inner node\", parentNode.id, \"with\", parentNode.samples, \"samples and children:\", leftChild.id if leftChild else None, rightChild.id if rightChild else None)\n",
        "\n",
        "        if leftChild and rightChild:\n",
        "            if (leftChild.samples < min_samples_leaf) and (rightChild.samples < min_samples_leaf):\n",
        "                # Prune both children\n",
        "                print('\\033[1m' + \"Pruning both children\", leftChild.id, \"with\", leftChild.samples, \"samples\", rightChild.id, \"with\", rightChild.samples, \"samples\" + '\\033[0m')\n",
        "                parentNode.leaf_node = True\n",
        "                parentNode.left = None\n",
        "                parentNode.right = None\n",
        "                # Distribute samples from pruned nodes\n",
        "                redistribute_samples_to_children(parentNode, leftChild)\n",
        "                redistribute_samples_to_children(parentNode, rightChild)\n",
        "            elif (leftChild.samples >= min_samples_leaf) and (rightChild.samples >= min_samples_leaf):\n",
        "                # Recurse on both children\n",
        "                print(\"left turn to \", leftChild.id)\n",
        "                pruneTree(leftChild, min_samples_leaf)\n",
        "                print(\"right turn to \", rightChild.id)\n",
        "                pruneTree(rightChild, min_samples_leaf)\n",
        "            elif leftChild.samples < min_samples_leaf:\n",
        "                # Prune left child only\n",
        "                print('\\033[1m' + \"Pruning left child\", leftChild.id, \"with\", leftChild.samples, \"samples\" + '\\033[0m')\n",
        "                redistribute_samples_to_children(parentNode, leftChild)\n",
        "                parentNode.left = None\n",
        "                print(f\"Removing useless inner node {parentNode.id} and promoting right child {rightChild.id}\")\n",
        "                # Remove useless inner node and promote the right child\n",
        "                parentNode.left = rightChild.left\n",
        "                parentNode.right = rightChild.right\n",
        "                parentNode.threshold = rightChild.threshold\n",
        "                parentNode.leaf_node = rightChild.leaf_node\n",
        "                if not parentNode.leaf_node:\n",
        "                    pruneTree(parentNode, min_samples_leaf)\n",
        "            elif rightChild.samples < min_samples_leaf:\n",
        "                # Prune right child only\n",
        "                print('\\033[1m' + \"Pruning right child\", rightChild.id, \"with\", rightChild.samples, \"samples\" + '\\033[0m')\n",
        "                redistribute_samples_to_children(parentNode, rightChild)\n",
        "                parentNode.right = None\n",
        "                print(f\"Removing useless inner node {parentNode.id} and promoting left child {leftChild.id}\")\n",
        "                # Remove useless inner node and promote the left child\n",
        "                parentNode.left = leftChild.left\n",
        "                parentNode.right = leftChild.right\n",
        "                parentNode.threshold = leftChild.threshold\n",
        "                parentNode.leaf_node = leftChild.leaf_node\n",
        "                if not parentNode.leaf_node:\n",
        "                    pruneTree(parentNode, min_samples_leaf)\n",
        "\n",
        "        elif leftChild:\n",
        "            if leftChild.samples < min_samples_leaf:\n",
        "                print('\\033[1m' + \"Pruning left child\", leftChild.id, \"with\", leftChild.samples, \"samples\" + '\\033[0m')\n",
        "                parentNode.left = None\n",
        "                redistribute_samples_to_children(parentNode, leftChild)\n",
        "                parentNode.leaf_node = True\n",
        "\n",
        "        elif rightChild:\n",
        "            if rightChild.samples < min_samples_leaf:\n",
        "                print('\\033[1m' + \"Pruning right child\", rightChild.id, \"with\", rightChild.samples, \"samples\" + '\\033[0m')\n",
        "                parentNode.right = None\n",
        "                redistribute_samples_to_children(parentNode, rightChild)\n",
        "                parentNode.leaf_node = True\n",
        "\n",
        "if __name__ == \"__main__\":\n",
        "  dt = deepcopy(rf.trees[0])\n",
        "  rootNode = dt.node_list[0]\n",
        "\n",
        "  pruneTree(rootNode, 20)\n",
        "  print(\"------------ done pruning, now just traversing again:---------------\")\n",
        "  nLeafs = traverseTree(rootNode, 0)\n",
        "  print(nLeafs, \"leaves in total\")"
      ],
      "metadata": {
        "colab": {
          "base_uri": "https://localhost:8080/"
        },
        "id": "xwCJKPqxW2YT",
        "outputId": "57cfa05e-e733-4b8e-fd8c-7ecadc837646"
      },
      "execution_count": 28,
      "outputs": [
        {
          "output_type": "stream",
          "name": "stdout",
          "text": [
            "inner node 0 with 75 samples and children: 1 2\n",
            "left turn to  1\n",
            "leaf node 1 with 20 samples\n",
            "right turn to  2\n",
            "inner node 2 with 55 samples and children: 3 4\n",
            "\u001b[1mPruning left child 3 with 17 samples\u001b[0m\n",
            "Redistributing 17 samples from pruned node 3 to child node 4\n",
            "Removing useless inner node 2 and promoting right child 4\n",
            "inner node 2 with 55 samples and children: 5 6\n",
            "\u001b[1mPruning left child 5 with 5 samples\u001b[0m\n",
            "Redistributing 5 samples from pruned node 5 to child node 6\n",
            "Removing useless inner node 2 and promoting right child 6\n",
            "------------ done pruning, now just traversing again:---------------\n",
            "inner node 0 with 75 samples\n",
            "left turn\n",
            "leaf node 1 with 20 samples\n",
            "right turn\n",
            "leaf node 2 with 55 samples\n",
            "2 leaves in total\n"
          ]
        }
      ]
    },
    {
      "cell_type": "code",
      "source": [],
      "metadata": {
        "id": "7dkHlV51XJRy"
      },
      "execution_count": null,
      "outputs": []
    }
  ],
  "metadata": {
    "colab": {
      "provenance": []
    },
    "kernelspec": {
      "display_name": "Python 3",
      "name": "python3"
    },
    "language_info": {
      "codemirror_mode": {
        "name": "ipython",
        "version": 3
      },
      "file_extension": ".py",
      "mimetype": "text/x-python",
      "name": "python",
      "nbconvert_exporter": "python",
      "pygments_lexer": "ipython3",
      "version": "3.9.0"
    }
  },
  "nbformat": 4,
  "nbformat_minor": 0
}