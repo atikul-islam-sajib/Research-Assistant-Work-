{
  "nbformat": 4,
  "nbformat_minor": 0,
  "metadata": {
    "colab": {
      "provenance": []
    },
    "kernelspec": {
      "name": "python3",
      "display_name": "Python 3"
    },
    "language_info": {
      "name": "python"
    }
  },
  "cells": [
    {
      "cell_type": "code",
      "execution_count": null,
      "metadata": {
        "id": "WkKccuMNu5IT"
      },
      "outputs": [],
      "source": [
        "import graphviz\n",
        "import numpy as np\n",
        "from sklearn.datasets import load_iris\n",
        "from sklearn.tree import DecisionTreeClassifier\n",
        "\n",
        "# Load the Iris dataset\n",
        "data = load_iris()\n",
        "X, y = data.data, data.target\n",
        "\n",
        "# Train a decision tree classifier\n",
        "tree = DecisionTreeClassifier(random_state=0)\n",
        "tree.fit(X, y)\n",
        "\n",
        "# Extract information from the tree for visualization\n",
        "n_nodes = tree.tree_.node_count\n",
        "children_left = tree.tree_.children_left\n",
        "children_right = tree.tree_.children_right\n",
        "feature = tree.tree_.feature\n",
        "threshold = tree.tree_.threshold\n",
        "impurity = tree.tree_.impurity\n",
        "n_node_samples = tree.tree_.n_node_samples\n",
        "weighted_n_node_samples = tree.tree_.weighted_n_node_samples\n",
        "feature_names = data.feature_names\n",
        "class_names = data.target_names\n",
        "\n",
        "# Check if nodes are leaves\n",
        "is_leaves = np.zeros(shape=n_nodes, dtype=bool)\n",
        "for i in range(n_nodes):\n",
        "    if children_left[i] == children_right[i]:\n",
        "        is_leaves[i] = True\n",
        "\n",
        "# Function to generate DOT source from the tree structure\n",
        "def get_dot_source(tree, feature_names, class_names):\n",
        "    dot_source = 'digraph Tree {\\n'\n",
        "\n",
        "    for i in range(n_nodes):\n",
        "        node_info = f\"Node {i}\\\\n\"\n",
        "        node_info += f\"Samples: {n_node_samples[i]}\\\\n\"\n",
        "        node_info += f\"Value: {tree.tree_.value[i].round(2)}\\\\n\"\n",
        "        node_info += f\"Impurity: {impurity[i].round(2)}\\\\n\"\n",
        "        node_info += f\"Weighted samples: {weighted_n_node_samples[i].round(2)}\\\\n\"\n",
        "\n",
        "        if is_leaves[i]:\n",
        "            dot_source += f'{i} [label=\"{node_info}\", shape=\"box\"];\\n'\n",
        "        else:\n",
        "            node_info += f\"Feature: {feature_names[feature[i]]}\\\\n\"\n",
        "            node_info += f\"Threshold: {threshold[i].round(2)}\"\n",
        "            dot_source += f'{i} [label=\"{node_info}\"];\\n'\n",
        "\n",
        "        if children_left[i] != -1:\n",
        "            dot_source += f'{i} -> {children_left[i]} [labeldistance=2.5, labelangle=45, headlabel=\"True\"];\\n'\n",
        "        if children_right[i] != -1:\n",
        "            dot_source += f'{i} -> {children_right[i]} [labeldistance=2.5, labelangle=-45, headlabel=\"False\"];\\n'\n",
        "\n",
        "    dot_source += '}'\n",
        "    return dot_source\n",
        "\n",
        "# Generate the DOT source\n",
        "dot_source = get_dot_source(tree, feature_names, class_names)\n",
        "\n",
        "# Define file paths\n",
        "dot_path = '/mnt/data/tree_graph.dot'\n",
        "png_path = '/mnt/data/tree_graph.png'\n",
        "\n",
        "import os\n",
        "\n",
        "# Define file paths\n",
        "directory = '/mnt/data'\n",
        "if not os.path.exists(directory):\n",
        "    os.makedirs(directory)\n",
        "\n",
        "dot_path = os.path.join(directory, 'tree_graph.dot')\n",
        "png_path = os.path.join(directory, 'tree_graph.png')\n",
        "\n",
        "# # The PNG file path\n",
        "# print(f\"The tree graph is saved as {png_path}\")"
      ]
    },
    {
      "cell_type": "code",
      "source": [
        "# Use the command line utility of Graphviz to render the PNG image\n",
        "!dot -Tpng {dot_path} -o {png_path}"
      ],
      "metadata": {
        "colab": {
          "base_uri": "https://localhost:8080/"
        },
        "id": "QxsPuyAHu5_A",
        "outputId": "67cd3d86-1513-408f-9ca0-9af764455da9"
      },
      "execution_count": null,
      "outputs": [
        {
          "output_type": "stream",
          "name": "stdout",
          "text": [
            "Error: dot: can't open /mnt/data/tree_graph.dot\n"
          ]
        }
      ]
    },
    {
      "cell_type": "code",
      "source": [
        "# Install graphviz in the Colab environment (if not already installed)\n",
        "!apt-get install graphviz -y\n",
        "\n",
        "# Save the DOT source to a file\n",
        "with open(dot_path, 'w') as f:\n",
        "    f.write(dot_source)\n",
        "\n",
        "# Use graphviz to render the image and display it within the notebook\n",
        "import graphviz\n",
        "with open(dot_path) as f:\n",
        "    dot_graph = f.read()\n",
        "graphviz.Source(dot_graph)"
      ],
      "metadata": {
        "colab": {
          "base_uri": "https://localhost:8080/",
          "height": 1000
        },
        "id": "rPNa3rNAwEHX",
        "outputId": "6361ee51-53f6-4ec1-cb1c-669e1a4782e9"
      },
      "execution_count": null,
      "outputs": [
        {
          "output_type": "stream",
          "name": "stdout",
          "text": [
            "Reading package lists... Done\n",
            "Building dependency tree... Done\n",
            "Reading state information... Done\n",
            "graphviz is already the newest version (2.42.2-6).\n",
            "0 upgraded, 0 newly installed, 0 to remove and 32 not upgraded.\n"
          ]
        },
        {
          "output_type": "execute_result",
          "data": {
            "image/svg+xml": "<?xml version=\"1.0\" encoding=\"UTF-8\" standalone=\"no\"?>\n<!DOCTYPE svg PUBLIC \"-//W3C//DTD SVG 1.1//EN\"\n \"http://www.w3.org/Graphics/SVG/1.1/DTD/svg11.dtd\">\n<!-- Generated by graphviz version 2.43.0 (0)\n -->\n<!-- Title: Tree Pages: 1 -->\n<svg width=\"1081pt\" height=\"1070pt\"\n viewBox=\"0.00 0.00 1081.00 1070.03\" xmlns=\"http://www.w3.org/2000/svg\" xmlns:xlink=\"http://www.w3.org/1999/xlink\">\n<g id=\"graph0\" class=\"graph\" transform=\"scale(1 1) rotate(0) translate(4 1066.03)\">\n<title>Tree</title>\n<polygon fill=\"white\" stroke=\"transparent\" points=\"-4,4 -4,-1066.03 1077,-1066.03 1077,4 -4,4\"/>\n<!-- 0 -->\n<g id=\"node1\" class=\"node\">\n<title>0</title>\n<ellipse fill=\"none\" stroke=\"black\" cx=\"554\" cy=\"-982.13\" rx=\"109.7\" ry=\"79.81\"/>\n<text text-anchor=\"middle\" x=\"554\" y=\"-1023.43\" font-family=\"Times,serif\" font-size=\"14.00\">Node 0</text>\n<text text-anchor=\"middle\" x=\"554\" y=\"-1008.43\" font-family=\"Times,serif\" font-size=\"14.00\">Samples: 150</text>\n<text text-anchor=\"middle\" x=\"554\" y=\"-993.43\" font-family=\"Times,serif\" font-size=\"14.00\">Value: [[50. 50. 50.]]</text>\n<text text-anchor=\"middle\" x=\"554\" y=\"-978.43\" font-family=\"Times,serif\" font-size=\"14.00\">Impurity: 0.67</text>\n<text text-anchor=\"middle\" x=\"554\" y=\"-963.43\" font-family=\"Times,serif\" font-size=\"14.00\">Weighted samples: 150.0</text>\n<text text-anchor=\"middle\" x=\"554\" y=\"-948.43\" font-family=\"Times,serif\" font-size=\"14.00\">Feature: petal width (cm)</text>\n<text text-anchor=\"middle\" x=\"554\" y=\"-933.43\" font-family=\"Times,serif\" font-size=\"14.00\">Threshold: 0.8</text>\n</g>\n<!-- 1 -->\n<g id=\"node2\" class=\"node\">\n<title>1</title>\n<polygon fill=\"none\" stroke=\"black\" points=\"527,-827.82 379,-827.82 379,-744.82 527,-744.82 527,-827.82\"/>\n<text text-anchor=\"middle\" x=\"453\" y=\"-812.62\" font-family=\"Times,serif\" font-size=\"14.00\">Node 1</text>\n<text text-anchor=\"middle\" x=\"453\" y=\"-797.62\" font-family=\"Times,serif\" font-size=\"14.00\">Samples: 50</text>\n<text text-anchor=\"middle\" x=\"453\" y=\"-782.62\" font-family=\"Times,serif\" font-size=\"14.00\">Value: [[50. &#160;0. &#160;0.]]</text>\n<text text-anchor=\"middle\" x=\"453\" y=\"-767.62\" font-family=\"Times,serif\" font-size=\"14.00\">Impurity: 0.0</text>\n<text text-anchor=\"middle\" x=\"453\" y=\"-752.62\" font-family=\"Times,serif\" font-size=\"14.00\">Weighted samples: 50.0</text>\n</g>\n<!-- 0&#45;&gt;1 -->\n<g id=\"edge1\" class=\"edge\">\n<title>0&#45;&gt;1</title>\n<path fill=\"none\" stroke=\"black\" d=\"M515.53,-907.3C503.24,-883.72 489.93,-858.19 478.77,-836.77\"/>\n<polygon fill=\"black\" stroke=\"black\" points=\"481.85,-835.12 474.13,-827.86 475.65,-838.35 481.85,-835.12\"/>\n<text text-anchor=\"middle\" x=\"466.62\" y=\"-848.01\" font-family=\"Times,serif\" font-size=\"14.00\">True</text>\n</g>\n<!-- 2 -->\n<g id=\"node3\" class=\"node\">\n<title>2</title>\n<ellipse fill=\"none\" stroke=\"black\" cx=\"655\" cy=\"-786.32\" rx=\"109.7\" ry=\"79.81\"/>\n<text text-anchor=\"middle\" x=\"655\" y=\"-827.62\" font-family=\"Times,serif\" font-size=\"14.00\">Node 2</text>\n<text text-anchor=\"middle\" x=\"655\" y=\"-812.62\" font-family=\"Times,serif\" font-size=\"14.00\">Samples: 100</text>\n<text text-anchor=\"middle\" x=\"655\" y=\"-797.62\" font-family=\"Times,serif\" font-size=\"14.00\">Value: [[ 0. 50. 50.]]</text>\n<text text-anchor=\"middle\" x=\"655\" y=\"-782.62\" font-family=\"Times,serif\" font-size=\"14.00\">Impurity: 0.5</text>\n<text text-anchor=\"middle\" x=\"655\" y=\"-767.62\" font-family=\"Times,serif\" font-size=\"14.00\">Weighted samples: 100.0</text>\n<text text-anchor=\"middle\" x=\"655\" y=\"-752.62\" font-family=\"Times,serif\" font-size=\"14.00\">Feature: petal width (cm)</text>\n<text text-anchor=\"middle\" x=\"655\" y=\"-737.62\" font-family=\"Times,serif\" font-size=\"14.00\">Threshold: 1.75</text>\n</g>\n<!-- 0&#45;&gt;2 -->\n<g id=\"edge2\" class=\"edge\">\n<title>0&#45;&gt;2</title>\n<path fill=\"none\" stroke=\"black\" d=\"M592.47,-907.3C598.8,-895.17 605.39,-882.52 611.82,-870.18\"/>\n<polygon fill=\"black\" stroke=\"black\" points=\"614.95,-871.75 616.47,-861.26 608.74,-868.51 614.95,-871.75\"/>\n<text text-anchor=\"middle\" x=\"623.97\" y=\"-881.41\" font-family=\"Times,serif\" font-size=\"14.00\">False</text>\n</g>\n<!-- 3 -->\n<g id=\"node4\" class=\"node\">\n<title>3</title>\n<ellipse fill=\"none\" stroke=\"black\" cx=\"514\" cy=\"-590.52\" rx=\"111.95\" ry=\"79.81\"/>\n<text text-anchor=\"middle\" x=\"514\" y=\"-631.82\" font-family=\"Times,serif\" font-size=\"14.00\">Node 3</text>\n<text text-anchor=\"middle\" x=\"514\" y=\"-616.82\" font-family=\"Times,serif\" font-size=\"14.00\">Samples: 54</text>\n<text text-anchor=\"middle\" x=\"514\" y=\"-601.82\" font-family=\"Times,serif\" font-size=\"14.00\">Value: [[ 0. 49. &#160;5.]]</text>\n<text text-anchor=\"middle\" x=\"514\" y=\"-586.82\" font-family=\"Times,serif\" font-size=\"14.00\">Impurity: 0.17</text>\n<text text-anchor=\"middle\" x=\"514\" y=\"-571.82\" font-family=\"Times,serif\" font-size=\"14.00\">Weighted samples: 54.0</text>\n<text text-anchor=\"middle\" x=\"514\" y=\"-556.82\" font-family=\"Times,serif\" font-size=\"14.00\">Feature: petal length (cm)</text>\n<text text-anchor=\"middle\" x=\"514\" y=\"-541.82\" font-family=\"Times,serif\" font-size=\"14.00\">Threshold: 4.95</text>\n</g>\n<!-- 2&#45;&gt;3 -->\n<g id=\"edge3\" class=\"edge\">\n<title>2&#45;&gt;3</title>\n<path fill=\"none\" stroke=\"black\" d=\"M604.1,-715.35C593.38,-700.62 582.01,-684.99 571.08,-669.98\"/>\n<polygon fill=\"black\" stroke=\"black\" points=\"573.78,-667.73 565.07,-661.71 568.12,-671.85 573.78,-667.73\"/>\n<text text-anchor=\"middle\" x=\"561.17\" y=\"-682.7\" font-family=\"Times,serif\" font-size=\"14.00\">True</text>\n</g>\n<!-- 12 -->\n<g id=\"node5\" class=\"node\">\n<title>12</title>\n<ellipse fill=\"none\" stroke=\"black\" cx=\"796\" cy=\"-590.52\" rx=\"111.95\" ry=\"79.81\"/>\n<text text-anchor=\"middle\" x=\"796\" y=\"-631.82\" font-family=\"Times,serif\" font-size=\"14.00\">Node 12</text>\n<text text-anchor=\"middle\" x=\"796\" y=\"-616.82\" font-family=\"Times,serif\" font-size=\"14.00\">Samples: 46</text>\n<text text-anchor=\"middle\" x=\"796\" y=\"-601.82\" font-family=\"Times,serif\" font-size=\"14.00\">Value: [[ 0. &#160;1. 45.]]</text>\n<text text-anchor=\"middle\" x=\"796\" y=\"-586.82\" font-family=\"Times,serif\" font-size=\"14.00\">Impurity: 0.04</text>\n<text text-anchor=\"middle\" x=\"796\" y=\"-571.82\" font-family=\"Times,serif\" font-size=\"14.00\">Weighted samples: 46.0</text>\n<text text-anchor=\"middle\" x=\"796\" y=\"-556.82\" font-family=\"Times,serif\" font-size=\"14.00\">Feature: petal length (cm)</text>\n<text text-anchor=\"middle\" x=\"796\" y=\"-541.82\" font-family=\"Times,serif\" font-size=\"14.00\">Threshold: 4.85</text>\n</g>\n<!-- 2&#45;&gt;12 -->\n<g id=\"edge4\" class=\"edge\">\n<title>2&#45;&gt;12</title>\n<path fill=\"none\" stroke=\"black\" d=\"M705.9,-715.35C716.62,-700.62 727.99,-684.99 738.92,-669.98\"/>\n<polygon fill=\"black\" stroke=\"black\" points=\"741.88,-671.85 744.93,-661.71 736.22,-667.73 741.88,-671.85\"/>\n<text text-anchor=\"middle\" x=\"748.83\" y=\"-682.7\" font-family=\"Times,serif\" font-size=\"14.00\">False</text>\n</g>\n<!-- 4 -->\n<g id=\"node6\" class=\"node\">\n<title>4</title>\n<ellipse fill=\"none\" stroke=\"black\" cx=\"237\" cy=\"-394.71\" rx=\"109.7\" ry=\"79.81\"/>\n<text text-anchor=\"middle\" x=\"237\" y=\"-436.01\" font-family=\"Times,serif\" font-size=\"14.00\">Node 4</text>\n<text text-anchor=\"middle\" x=\"237\" y=\"-421.01\" font-family=\"Times,serif\" font-size=\"14.00\">Samples: 48</text>\n<text text-anchor=\"middle\" x=\"237\" y=\"-406.01\" font-family=\"Times,serif\" font-size=\"14.00\">Value: [[ 0. 47. &#160;1.]]</text>\n<text text-anchor=\"middle\" x=\"237\" y=\"-391.01\" font-family=\"Times,serif\" font-size=\"14.00\">Impurity: 0.04</text>\n<text text-anchor=\"middle\" x=\"237\" y=\"-376.01\" font-family=\"Times,serif\" font-size=\"14.00\">Weighted samples: 48.0</text>\n<text text-anchor=\"middle\" x=\"237\" y=\"-361.01\" font-family=\"Times,serif\" font-size=\"14.00\">Feature: petal width (cm)</text>\n<text text-anchor=\"middle\" x=\"237\" y=\"-346.01\" font-family=\"Times,serif\" font-size=\"14.00\">Threshold: 1.65</text>\n</g>\n<!-- 3&#45;&gt;4 -->\n<g id=\"edge5\" class=\"edge\">\n<title>3&#45;&gt;4</title>\n<path fill=\"none\" stroke=\"black\" d=\"M434.62,-533.98C399.99,-509.75 359.29,-481.27 323.85,-456.47\"/>\n<polygon fill=\"black\" stroke=\"black\" points=\"325.63,-453.45 315.43,-450.58 321.62,-459.18 325.63,-453.45\"/>\n<text text-anchor=\"middle\" x=\"319.78\" y=\"-471.5\" font-family=\"Times,serif\" font-size=\"14.00\">True</text>\n</g>\n<!-- 7 -->\n<g id=\"node7\" class=\"node\">\n<title>7</title>\n<ellipse fill=\"none\" stroke=\"black\" cx=\"514\" cy=\"-394.71\" rx=\"109.7\" ry=\"79.81\"/>\n<text text-anchor=\"middle\" x=\"514\" y=\"-436.01\" font-family=\"Times,serif\" font-size=\"14.00\">Node 7</text>\n<text text-anchor=\"middle\" x=\"514\" y=\"-421.01\" font-family=\"Times,serif\" font-size=\"14.00\">Samples: 6</text>\n<text text-anchor=\"middle\" x=\"514\" y=\"-406.01\" font-family=\"Times,serif\" font-size=\"14.00\">Value: [[0. 2. 4.]]</text>\n<text text-anchor=\"middle\" x=\"514\" y=\"-391.01\" font-family=\"Times,serif\" font-size=\"14.00\">Impurity: 0.44</text>\n<text text-anchor=\"middle\" x=\"514\" y=\"-376.01\" font-family=\"Times,serif\" font-size=\"14.00\">Weighted samples: 6.0</text>\n<text text-anchor=\"middle\" x=\"514\" y=\"-361.01\" font-family=\"Times,serif\" font-size=\"14.00\">Feature: petal width (cm)</text>\n<text text-anchor=\"middle\" x=\"514\" y=\"-346.01\" font-family=\"Times,serif\" font-size=\"14.00\">Threshold: 1.55</text>\n</g>\n<!-- 3&#45;&gt;7 -->\n<g id=\"edge6\" class=\"edge\">\n<title>3&#45;&gt;7</title>\n<path fill=\"none\" stroke=\"black\" d=\"M514,-510.41C514,-502.07 514,-493.56 514,-485.12\"/>\n<polygon fill=\"black\" stroke=\"black\" points=\"517.5,-484.88 514,-474.88 510.5,-484.88 517.5,-484.88\"/>\n<text text-anchor=\"middle\" x=\"531.68\" y=\"-488.86\" font-family=\"Times,serif\" font-size=\"14.00\">False</text>\n</g>\n<!-- 13 -->\n<g id=\"node14\" class=\"node\">\n<title>13</title>\n<ellipse fill=\"none\" stroke=\"black\" cx=\"796\" cy=\"-394.71\" rx=\"111.03\" ry=\"79.81\"/>\n<text text-anchor=\"middle\" x=\"796\" y=\"-436.01\" font-family=\"Times,serif\" font-size=\"14.00\">Node 13</text>\n<text text-anchor=\"middle\" x=\"796\" y=\"-421.01\" font-family=\"Times,serif\" font-size=\"14.00\">Samples: 3</text>\n<text text-anchor=\"middle\" x=\"796\" y=\"-406.01\" font-family=\"Times,serif\" font-size=\"14.00\">Value: [[0. 1. 2.]]</text>\n<text text-anchor=\"middle\" x=\"796\" y=\"-391.01\" font-family=\"Times,serif\" font-size=\"14.00\">Impurity: 0.44</text>\n<text text-anchor=\"middle\" x=\"796\" y=\"-376.01\" font-family=\"Times,serif\" font-size=\"14.00\">Weighted samples: 3.0</text>\n<text text-anchor=\"middle\" x=\"796\" y=\"-361.01\" font-family=\"Times,serif\" font-size=\"14.00\">Feature: sepal width (cm)</text>\n<text text-anchor=\"middle\" x=\"796\" y=\"-346.01\" font-family=\"Times,serif\" font-size=\"14.00\">Threshold: 3.1</text>\n</g>\n<!-- 12&#45;&gt;13 -->\n<g id=\"edge13\" class=\"edge\">\n<title>12&#45;&gt;13</title>\n<path fill=\"none\" stroke=\"black\" d=\"M796,-510.41C796,-502.07 796,-493.56 796,-485.12\"/>\n<polygon fill=\"black\" stroke=\"black\" points=\"799.5,-484.88 796,-474.88 792.5,-484.88 799.5,-484.88\"/>\n<text text-anchor=\"middle\" x=\"778.32\" y=\"-488.86\" font-family=\"Times,serif\" font-size=\"14.00\">True</text>\n</g>\n<!-- 16 -->\n<g id=\"node15\" class=\"node\">\n<title>16</title>\n<polygon fill=\"none\" stroke=\"black\" points=\"1073,-436.21 925,-436.21 925,-353.21 1073,-353.21 1073,-436.21\"/>\n<text text-anchor=\"middle\" x=\"999\" y=\"-421.01\" font-family=\"Times,serif\" font-size=\"14.00\">Node 16</text>\n<text text-anchor=\"middle\" x=\"999\" y=\"-406.01\" font-family=\"Times,serif\" font-size=\"14.00\">Samples: 43</text>\n<text text-anchor=\"middle\" x=\"999\" y=\"-391.01\" font-family=\"Times,serif\" font-size=\"14.00\">Value: [[ 0. &#160;0. 43.]]</text>\n<text text-anchor=\"middle\" x=\"999\" y=\"-376.01\" font-family=\"Times,serif\" font-size=\"14.00\">Impurity: 0.0</text>\n<text text-anchor=\"middle\" x=\"999\" y=\"-361.01\" font-family=\"Times,serif\" font-size=\"14.00\">Weighted samples: 43.0</text>\n</g>\n<!-- 12&#45;&gt;16 -->\n<g id=\"edge14\" class=\"edge\">\n<title>12&#45;&gt;16</title>\n<path fill=\"none\" stroke=\"black\" d=\"M862.47,-526.06C890.57,-499.23 922.75,-468.5 948.81,-443.62\"/>\n<polygon fill=\"black\" stroke=\"black\" points=\"951.52,-445.87 956.34,-436.44 946.69,-440.81 951.52,-445.87\"/>\n<text text-anchor=\"middle\" x=\"955.76\" y=\"-457.73\" font-family=\"Times,serif\" font-size=\"14.00\">False</text>\n</g>\n<!-- 5 -->\n<g id=\"node8\" class=\"node\">\n<title>5</title>\n<polygon fill=\"none\" stroke=\"black\" points=\"148,-240.4 0,-240.4 0,-157.4 148,-157.4 148,-240.4\"/>\n<text text-anchor=\"middle\" x=\"74\" y=\"-225.2\" font-family=\"Times,serif\" font-size=\"14.00\">Node 5</text>\n<text text-anchor=\"middle\" x=\"74\" y=\"-210.2\" font-family=\"Times,serif\" font-size=\"14.00\">Samples: 47</text>\n<text text-anchor=\"middle\" x=\"74\" y=\"-195.2\" font-family=\"Times,serif\" font-size=\"14.00\">Value: [[ 0. 47. &#160;0.]]</text>\n<text text-anchor=\"middle\" x=\"74\" y=\"-180.2\" font-family=\"Times,serif\" font-size=\"14.00\">Impurity: 0.0</text>\n<text text-anchor=\"middle\" x=\"74\" y=\"-165.2\" font-family=\"Times,serif\" font-size=\"14.00\">Weighted samples: 47.0</text>\n</g>\n<!-- 4&#45;&gt;5 -->\n<g id=\"edge7\" class=\"edge\">\n<title>4&#45;&gt;5</title>\n<path fill=\"none\" stroke=\"black\" d=\"M180.22,-326.2C158.67,-300.58 134.58,-271.94 114.8,-248.41\"/>\n<polygon fill=\"black\" stroke=\"black\" points=\"117.38,-246.04 108.26,-240.64 112.02,-250.55 117.38,-246.04\"/>\n<text text-anchor=\"middle\" x=\"106.11\" y=\"-261.85\" font-family=\"Times,serif\" font-size=\"14.00\">True</text>\n</g>\n<!-- 6 -->\n<g id=\"node9\" class=\"node\">\n<title>6</title>\n<polygon fill=\"none\" stroke=\"black\" points=\"307.5,-240.4 166.5,-240.4 166.5,-157.4 307.5,-157.4 307.5,-240.4\"/>\n<text text-anchor=\"middle\" x=\"237\" y=\"-225.2\" font-family=\"Times,serif\" font-size=\"14.00\">Node 6</text>\n<text text-anchor=\"middle\" x=\"237\" y=\"-210.2\" font-family=\"Times,serif\" font-size=\"14.00\">Samples: 1</text>\n<text text-anchor=\"middle\" x=\"237\" y=\"-195.2\" font-family=\"Times,serif\" font-size=\"14.00\">Value: [[0. 0. 1.]]</text>\n<text text-anchor=\"middle\" x=\"237\" y=\"-180.2\" font-family=\"Times,serif\" font-size=\"14.00\">Impurity: 0.0</text>\n<text text-anchor=\"middle\" x=\"237\" y=\"-165.2\" font-family=\"Times,serif\" font-size=\"14.00\">Weighted samples: 1.0</text>\n</g>\n<!-- 4&#45;&gt;6 -->\n<g id=\"edge8\" class=\"edge\">\n<title>4&#45;&gt;6</title>\n<path fill=\"none\" stroke=\"black\" d=\"M237,-314.6C237,-293.04 237,-270.27 237,-250.74\"/>\n<polygon fill=\"black\" stroke=\"black\" points=\"240.5,-250.55 237,-240.55 233.5,-250.55 240.5,-250.55\"/>\n<text text-anchor=\"middle\" x=\"254.68\" y=\"-254.53\" font-family=\"Times,serif\" font-size=\"14.00\">False</text>\n</g>\n<!-- 8 -->\n<g id=\"node10\" class=\"node\">\n<title>8</title>\n<polygon fill=\"none\" stroke=\"black\" points=\"466.5,-240.4 325.5,-240.4 325.5,-157.4 466.5,-157.4 466.5,-240.4\"/>\n<text text-anchor=\"middle\" x=\"396\" y=\"-225.2\" font-family=\"Times,serif\" font-size=\"14.00\">Node 8</text>\n<text text-anchor=\"middle\" x=\"396\" y=\"-210.2\" font-family=\"Times,serif\" font-size=\"14.00\">Samples: 3</text>\n<text text-anchor=\"middle\" x=\"396\" y=\"-195.2\" font-family=\"Times,serif\" font-size=\"14.00\">Value: [[0. 0. 3.]]</text>\n<text text-anchor=\"middle\" x=\"396\" y=\"-180.2\" font-family=\"Times,serif\" font-size=\"14.00\">Impurity: 0.0</text>\n<text text-anchor=\"middle\" x=\"396\" y=\"-165.2\" font-family=\"Times,serif\" font-size=\"14.00\">Weighted samples: 3.0</text>\n</g>\n<!-- 7&#45;&gt;8 -->\n<g id=\"edge9\" class=\"edge\">\n<title>7&#45;&gt;8</title>\n<path fill=\"none\" stroke=\"black\" d=\"M469.89,-321.27C455.28,-297.27 439.36,-271.12 426.05,-249.27\"/>\n<polygon fill=\"black\" stroke=\"black\" points=\"428.9,-247.21 420.71,-240.49 422.92,-250.85 428.9,-247.21\"/>\n<text text-anchor=\"middle\" x=\"414.81\" y=\"-261.09\" font-family=\"Times,serif\" font-size=\"14.00\">True</text>\n</g>\n<!-- 9 -->\n<g id=\"node11\" class=\"node\">\n<title>9</title>\n<ellipse fill=\"none\" stroke=\"black\" cx=\"596\" cy=\"-198.9\" rx=\"111.95\" ry=\"79.81\"/>\n<text text-anchor=\"middle\" x=\"596\" y=\"-240.2\" font-family=\"Times,serif\" font-size=\"14.00\">Node 9</text>\n<text text-anchor=\"middle\" x=\"596\" y=\"-225.2\" font-family=\"Times,serif\" font-size=\"14.00\">Samples: 3</text>\n<text text-anchor=\"middle\" x=\"596\" y=\"-210.2\" font-family=\"Times,serif\" font-size=\"14.00\">Value: [[0. 2. 1.]]</text>\n<text text-anchor=\"middle\" x=\"596\" y=\"-195.2\" font-family=\"Times,serif\" font-size=\"14.00\">Impurity: 0.44</text>\n<text text-anchor=\"middle\" x=\"596\" y=\"-180.2\" font-family=\"Times,serif\" font-size=\"14.00\">Weighted samples: 3.0</text>\n<text text-anchor=\"middle\" x=\"596\" y=\"-165.2\" font-family=\"Times,serif\" font-size=\"14.00\">Feature: petal length (cm)</text>\n<text text-anchor=\"middle\" x=\"596\" y=\"-150.2\" font-family=\"Times,serif\" font-size=\"14.00\">Threshold: 5.45</text>\n</g>\n<!-- 7&#45;&gt;9 -->\n<g id=\"edge10\" class=\"edge\">\n<title>7&#45;&gt;9</title>\n<path fill=\"none\" stroke=\"black\" d=\"M545.94,-318.22C550.58,-307.26 555.38,-295.92 560.09,-284.79\"/>\n<polygon fill=\"black\" stroke=\"black\" points=\"563.34,-286.07 564.01,-275.5 556.89,-283.35 563.34,-286.07\"/>\n<text text-anchor=\"middle\" x=\"573.41\" y=\"-294.97\" font-family=\"Times,serif\" font-size=\"14.00\">False</text>\n</g>\n<!-- 10 -->\n<g id=\"node12\" class=\"node\">\n<title>10</title>\n<polygon fill=\"none\" stroke=\"black\" points=\"586.5,-83 445.5,-83 445.5,0 586.5,0 586.5,-83\"/>\n<text text-anchor=\"middle\" x=\"516\" y=\"-67.8\" font-family=\"Times,serif\" font-size=\"14.00\">Node 10</text>\n<text text-anchor=\"middle\" x=\"516\" y=\"-52.8\" font-family=\"Times,serif\" font-size=\"14.00\">Samples: 2</text>\n<text text-anchor=\"middle\" x=\"516\" y=\"-37.8\" font-family=\"Times,serif\" font-size=\"14.00\">Value: [[0. 2. 0.]]</text>\n<text text-anchor=\"middle\" x=\"516\" y=\"-22.8\" font-family=\"Times,serif\" font-size=\"14.00\">Impurity: 0.0</text>\n<text text-anchor=\"middle\" x=\"516\" y=\"-7.8\" font-family=\"Times,serif\" font-size=\"14.00\">Weighted samples: 2.0</text>\n</g>\n<!-- 9&#45;&gt;10 -->\n<g id=\"edge11\" class=\"edge\">\n<title>9&#45;&gt;10</title>\n<path fill=\"none\" stroke=\"black\" d=\"M557.64,-123.39C552.18,-112.77 546.67,-102.08 541.53,-92.1\"/>\n<polygon fill=\"black\" stroke=\"black\" points=\"544.62,-90.44 536.93,-83.15 538.39,-93.65 544.62,-90.44\"/>\n<text text-anchor=\"middle\" x=\"529.3\" y=\"-103.26\" font-family=\"Times,serif\" font-size=\"14.00\">True</text>\n</g>\n<!-- 11 -->\n<g id=\"node13\" class=\"node\">\n<title>11</title>\n<polygon fill=\"none\" stroke=\"black\" points=\"745.5,-83 604.5,-83 604.5,0 745.5,0 745.5,-83\"/>\n<text text-anchor=\"middle\" x=\"675\" y=\"-67.8\" font-family=\"Times,serif\" font-size=\"14.00\">Node 11</text>\n<text text-anchor=\"middle\" x=\"675\" y=\"-52.8\" font-family=\"Times,serif\" font-size=\"14.00\">Samples: 1</text>\n<text text-anchor=\"middle\" x=\"675\" y=\"-37.8\" font-family=\"Times,serif\" font-size=\"14.00\">Value: [[0. 0. 1.]]</text>\n<text text-anchor=\"middle\" x=\"675\" y=\"-22.8\" font-family=\"Times,serif\" font-size=\"14.00\">Impurity: 0.0</text>\n<text text-anchor=\"middle\" x=\"675\" y=\"-7.8\" font-family=\"Times,serif\" font-size=\"14.00\">Weighted samples: 1.0</text>\n</g>\n<!-- 9&#45;&gt;11 -->\n<g id=\"edge12\" class=\"edge\">\n<title>9&#45;&gt;11</title>\n<path fill=\"none\" stroke=\"black\" d=\"M633.88,-123.39C639.28,-112.77 644.71,-102.08 649.79,-92.1\"/>\n<polygon fill=\"black\" stroke=\"black\" points=\"652.92,-93.65 654.33,-83.15 646.68,-90.48 652.92,-93.65\"/>\n<text text-anchor=\"middle\" x=\"662.08\" y=\"-103.22\" font-family=\"Times,serif\" font-size=\"14.00\">False</text>\n</g>\n<!-- 14 -->\n<g id=\"node16\" class=\"node\">\n<title>14</title>\n<polygon fill=\"none\" stroke=\"black\" points=\"866.5,-240.4 725.5,-240.4 725.5,-157.4 866.5,-157.4 866.5,-240.4\"/>\n<text text-anchor=\"middle\" x=\"796\" y=\"-225.2\" font-family=\"Times,serif\" font-size=\"14.00\">Node 14</text>\n<text text-anchor=\"middle\" x=\"796\" y=\"-210.2\" font-family=\"Times,serif\" font-size=\"14.00\">Samples: 2</text>\n<text text-anchor=\"middle\" x=\"796\" y=\"-195.2\" font-family=\"Times,serif\" font-size=\"14.00\">Value: [[0. 0. 2.]]</text>\n<text text-anchor=\"middle\" x=\"796\" y=\"-180.2\" font-family=\"Times,serif\" font-size=\"14.00\">Impurity: 0.0</text>\n<text text-anchor=\"middle\" x=\"796\" y=\"-165.2\" font-family=\"Times,serif\" font-size=\"14.00\">Weighted samples: 2.0</text>\n</g>\n<!-- 13&#45;&gt;14 -->\n<g id=\"edge15\" class=\"edge\">\n<title>13&#45;&gt;14</title>\n<path fill=\"none\" stroke=\"black\" d=\"M796,-314.6C796,-293.04 796,-270.27 796,-250.74\"/>\n<polygon fill=\"black\" stroke=\"black\" points=\"799.5,-250.55 796,-240.55 792.5,-250.55 799.5,-250.55\"/>\n<text text-anchor=\"middle\" x=\"778.32\" y=\"-254.53\" font-family=\"Times,serif\" font-size=\"14.00\">True</text>\n</g>\n<!-- 15 -->\n<g id=\"node17\" class=\"node\">\n<title>15</title>\n<polygon fill=\"none\" stroke=\"black\" points=\"1025.5,-240.4 884.5,-240.4 884.5,-157.4 1025.5,-157.4 1025.5,-240.4\"/>\n<text text-anchor=\"middle\" x=\"955\" y=\"-225.2\" font-family=\"Times,serif\" font-size=\"14.00\">Node 15</text>\n<text text-anchor=\"middle\" x=\"955\" y=\"-210.2\" font-family=\"Times,serif\" font-size=\"14.00\">Samples: 1</text>\n<text text-anchor=\"middle\" x=\"955\" y=\"-195.2\" font-family=\"Times,serif\" font-size=\"14.00\">Value: [[0. 1. 0.]]</text>\n<text text-anchor=\"middle\" x=\"955\" y=\"-180.2\" font-family=\"Times,serif\" font-size=\"14.00\">Impurity: 0.0</text>\n<text text-anchor=\"middle\" x=\"955\" y=\"-165.2\" font-family=\"Times,serif\" font-size=\"14.00\">Weighted samples: 1.0</text>\n</g>\n<!-- 13&#45;&gt;15 -->\n<g id=\"edge16\" class=\"edge\">\n<title>13&#45;&gt;15</title>\n<path fill=\"none\" stroke=\"black\" d=\"M852.06,-325.38C872.85,-300.03 896,-271.82 915.06,-248.58\"/>\n<polygon fill=\"black\" stroke=\"black\" points=\"917.99,-250.53 921.63,-240.58 912.58,-246.09 917.99,-250.53\"/>\n<text text-anchor=\"middle\" x=\"924.08\" y=\"-261.76\" font-family=\"Times,serif\" font-size=\"14.00\">False</text>\n</g>\n</g>\n</svg>\n",
            "text/plain": [
              "<graphviz.sources.Source at 0x784db9491a20>"
            ]
          },
          "metadata": {},
          "execution_count": 7
        }
      ]
    },
    {
      "cell_type": "code",
      "source": [
        "import os\n",
        "import numpy as np\n",
        "import graphviz\n",
        "from sklearn.datasets import load_iris\n",
        "from sklearn.tree import DecisionTreeClassifier\n",
        "from sklearn.ensemble import RandomForestClassifier\n",
        "\n",
        "# Load the Iris dataset\n",
        "data = load_iris()\n",
        "X, y = data.data, data.target\n",
        "\n",
        "# Train a decision tree classifier\n",
        "tree = DecisionTreeClassifier(random_state=0)\n",
        "tree.fit(X, y)\n",
        "\n",
        "# Optionally, train a Random Forest to get OOB error (if you need OOB error)\n",
        "# forest = RandomForestClassifier(oob_score=True, random_state=0)\n",
        "# forest.fit(X, y)\n",
        "\n",
        "# Extract information from the tree for visualization\n",
        "n_nodes = tree.tree_.node_count\n",
        "children_left = tree.tree_.children_left\n",
        "children_right = tree.tree_.children_right\n",
        "feature = tree.tree_.feature\n",
        "threshold = tree.tree_.threshold\n",
        "impurity = tree.tree_.impurity\n",
        "n_node_samples = tree.tree_.n_node_samples\n",
        "weighted_n_node_samples = tree.tree_.weighted_n_node_samples\n",
        "feature_names = data.feature_names\n",
        "class_names = data.target_names\n",
        "\n",
        "# Calculate impurity reduction for each node\n",
        "impurity_reduction = np.zeros(shape=n_nodes)\n",
        "for node in range(n_nodes):\n",
        "    if children_left[node] != children_right[node]:  # if not a leaf node\n",
        "        left_weight = weighted_n_node_samples[children_left[node]] / weighted_n_node_samples[node]\n",
        "        right_weight = weighted_n_node_samples[children_right[node]] / weighted_n_node_samples[node]\n",
        "        impurity_reduction[node] = impurity[node] - (left_weight * impurity[children_left[node]] + right_weight * impurity[children_right[node]])\n",
        "\n",
        "# Placeholder for custom metric computation (replace with your actual computation)\n",
        "custom_metric = np.random.rand(n_nodes)  # Example: random numbers as custom metric\n",
        "\n",
        "# Check if nodes are leaves\n",
        "is_leaves = np.zeros(shape=n_nodes, dtype=bool)\n",
        "for i in range(n_nodes):\n",
        "    if children_left[i] == children_right[i]:\n",
        "        is_leaves[i] = True\n",
        "\n",
        "# Function to generate DOT source from the tree structure\n",
        "def get_dot_source(tree, feature_names, class_names, impurity_reduction, custom_metric):\n",
        "    dot_source = 'digraph Tree {\\n'\n",
        "\n",
        "    for i in range(n_nodes):\n",
        "        node_info = f\"Node {i}\\\\n\"\n",
        "        node_info += f\"Samples: {n_node_samples[i]}\\\\n\"\n",
        "        node_info += f\"Value: {tree.tree_.value[i].round(2)}\\\\n\"\n",
        "        node_info += f\"Impurity: {impurity[i].round(2)}\\\\n\"\n",
        "        node_info += f\"Impurity Reduction: {impurity_reduction[i].round(2)}\\\\n\"\n",
        "        node_info += f\"Custom Metric: {custom_metric[i].round(2)}\\\\n\"\n",
        "        node_info += f\"Weighted samples: {weighted_n_node_samples[i].round(2)}\\\\n\"\n",
        "\n",
        "        if is_leaves[i]:\n",
        "            dot_source += f'{i} [label=\"{node_info}\", shape=\"box\"];\\n'\n",
        "        else:\n",
        "            node_info += f\"Feature: {feature_names[feature[i]]}\\\\n\"\n",
        "            node_info += f\"Threshold: {threshold[i].round(2)}\"\n",
        "            dot_source += f'{i} [label=\"{node_info}\"];\\n'\n",
        "\n",
        "        if children_left[i] != -1:\n",
        "            dot_source += f'{i} -> {children_left[i]} [labeldistance=2.5, labelangle=45, headlabel=\"True\"];\\n'\n",
        "        if children_right[i] != -1:\n",
        "            dot_source += f'{i} -> {children_right[i]} [labeldistance=2.5, labelangle=-45, headlabel=\"False\"];\\n'\n",
        "\n",
        "    dot_source += '}'\n",
        "    return dot_source\n",
        "\n",
        "# Generate the DOT source\n",
        "dot_source = get_dot_source(tree, feature_names, class_names, impurity_reduction, custom_metric)\n",
        "\n",
        "# Define file paths\n",
        "directory = '/mnt/data'\n",
        "if not os.path.exists(directory):\n",
        "    os.makedirs(directory)\n",
        "\n",
        "dot_path = os.path.join(directory, 'tree_graph.dot')\n",
        "png_path = os.path.join(directory, 'tree_graph.png')\n",
        "\n",
        "# Save the DOT source to a file\n",
        "with open(dot_path, 'w') as f:\n",
        "    f.write(dot_source)\n",
        "\n",
        "# Use the command line utility of Graphviz to render the PNG image\n",
        "!dot -Tpng {dot_path} -o {png_path}\n",
        "\n",
        "# The PNG file path\n",
        "print(f\"The tree graph is saved as {png_path}\")"
      ],
      "metadata": {
        "colab": {
          "base_uri": "https://localhost:8080/"
        },
        "id": "m8hudb-cwhBx",
        "outputId": "b864aae6-e497-4d83-e1d6-2f5c4ab97db3"
      },
      "execution_count": null,
      "outputs": [
        {
          "output_type": "stream",
          "name": "stdout",
          "text": [
            "The tree graph is saved as /mnt/data/tree_graph.png\n"
          ]
        }
      ]
    },
    {
      "cell_type": "code",
      "source": [
        "# Install graphviz in the Colab environment (if not already installed)\n",
        "!apt-get install graphviz -y\n",
        "\n",
        "# Save the DOT source to a file\n",
        "with open(dot_path, 'w') as f:\n",
        "    f.write(dot_source)\n",
        "\n",
        "# Use graphviz to render the image and display it within the notebook\n",
        "import graphviz\n",
        "with open(dot_path) as f:\n",
        "    dot_graph = f.read()\n",
        "graphviz.Source(dot_graph)"
      ],
      "metadata": {
        "colab": {
          "base_uri": "https://localhost:8080/",
          "height": 1000
        },
        "id": "myW4hJxwxUx4",
        "outputId": "50586870-a66c-4cee-fb49-2215f5509abf"
      },
      "execution_count": null,
      "outputs": [
        {
          "output_type": "stream",
          "name": "stdout",
          "text": [
            "Reading package lists... Done\n",
            "Building dependency tree... Done\n",
            "Reading state information... Done\n",
            "graphviz is already the newest version (2.42.2-6).\n",
            "0 upgraded, 0 newly installed, 0 to remove and 32 not upgraded.\n"
          ]
        },
        {
          "output_type": "execute_result",
          "data": {
            "image/svg+xml": "<?xml version=\"1.0\" encoding=\"UTF-8\" standalone=\"no\"?>\n<!DOCTYPE svg PUBLIC \"-//W3C//DTD SVG 1.1//EN\"\n \"http://www.w3.org/Graphics/SVG/1.1/DTD/svg11.dtd\">\n<!-- Generated by graphviz version 2.43.0 (0)\n -->\n<!-- Title: Tree Pages: 1 -->\n<svg width=\"1103pt\" height=\"1312pt\"\n viewBox=\"0.00 0.00 1103.00 1312.16\" xmlns=\"http://www.w3.org/2000/svg\" xmlns:xlink=\"http://www.w3.org/1999/xlink\">\n<g id=\"graph0\" class=\"graph\" transform=\"scale(1 1) rotate(0) translate(4 1308.16)\">\n<title>Tree</title>\n<polygon fill=\"white\" stroke=\"transparent\" points=\"-4,4 -4,-1308.16 1099,-1308.16 1099,4 -4,4\"/>\n<!-- 0 -->\n<g id=\"node1\" class=\"node\">\n<title>0</title>\n<ellipse fill=\"none\" stroke=\"black\" cx=\"570.5\" cy=\"-1203.05\" rx=\"109.7\" ry=\"101.23\"/>\n<text text-anchor=\"middle\" x=\"570.5\" y=\"-1259.35\" font-family=\"Times,serif\" font-size=\"14.00\">Node 0</text>\n<text text-anchor=\"middle\" x=\"570.5\" y=\"-1244.35\" font-family=\"Times,serif\" font-size=\"14.00\">Samples: 150</text>\n<text text-anchor=\"middle\" x=\"570.5\" y=\"-1229.35\" font-family=\"Times,serif\" font-size=\"14.00\">Value: [[50. 50. 50.]]</text>\n<text text-anchor=\"middle\" x=\"570.5\" y=\"-1214.35\" font-family=\"Times,serif\" font-size=\"14.00\">Impurity: 0.67</text>\n<text text-anchor=\"middle\" x=\"570.5\" y=\"-1199.35\" font-family=\"Times,serif\" font-size=\"14.00\">Impurity Reduction: 0.33</text>\n<text text-anchor=\"middle\" x=\"570.5\" y=\"-1184.35\" font-family=\"Times,serif\" font-size=\"14.00\">Custom Metric: 0.87</text>\n<text text-anchor=\"middle\" x=\"570.5\" y=\"-1169.35\" font-family=\"Times,serif\" font-size=\"14.00\">Weighted samples: 150.0</text>\n<text text-anchor=\"middle\" x=\"570.5\" y=\"-1154.35\" font-family=\"Times,serif\" font-size=\"14.00\">Feature: petal width (cm)</text>\n<text text-anchor=\"middle\" x=\"570.5\" y=\"-1139.35\" font-family=\"Times,serif\" font-size=\"14.00\">Threshold: 0.8</text>\n</g>\n<!-- 1 -->\n<g id=\"node2\" class=\"node\">\n<title>1</title>\n<polygon fill=\"none\" stroke=\"black\" points=\"544,-1021.31 395,-1021.31 395,-908.31 544,-908.31 544,-1021.31\"/>\n<text text-anchor=\"middle\" x=\"469.5\" y=\"-1006.11\" font-family=\"Times,serif\" font-size=\"14.00\">Node 1</text>\n<text text-anchor=\"middle\" x=\"469.5\" y=\"-991.11\" font-family=\"Times,serif\" font-size=\"14.00\">Samples: 50</text>\n<text text-anchor=\"middle\" x=\"469.5\" y=\"-976.11\" font-family=\"Times,serif\" font-size=\"14.00\">Value: [[50. &#160;0. &#160;0.]]</text>\n<text text-anchor=\"middle\" x=\"469.5\" y=\"-961.11\" font-family=\"Times,serif\" font-size=\"14.00\">Impurity: 0.0</text>\n<text text-anchor=\"middle\" x=\"469.5\" y=\"-946.11\" font-family=\"Times,serif\" font-size=\"14.00\">Impurity Reduction: 0.0</text>\n<text text-anchor=\"middle\" x=\"469.5\" y=\"-931.11\" font-family=\"Times,serif\" font-size=\"14.00\">Custom Metric: 0.98</text>\n<text text-anchor=\"middle\" x=\"469.5\" y=\"-916.11\" font-family=\"Times,serif\" font-size=\"14.00\">Weighted samples: 50.0</text>\n</g>\n<!-- 0&#45;&gt;1 -->\n<g id=\"edge1\" class=\"edge\">\n<title>0&#45;&gt;1</title>\n<path fill=\"none\" stroke=\"black\" d=\"M530.58,-1108.68C519.43,-1082.61 507.57,-1054.85 497.29,-1030.81\"/>\n<polygon fill=\"black\" stroke=\"black\" points=\"500.43,-1029.26 493.28,-1021.44 493.99,-1032.01 500.43,-1029.26\"/>\n<text text-anchor=\"middle\" x=\"483.98\" y=\"-1040.94\" font-family=\"Times,serif\" font-size=\"14.00\">True</text>\n</g>\n<!-- 2 -->\n<g id=\"node3\" class=\"node\">\n<title>2</title>\n<ellipse fill=\"none\" stroke=\"black\" cx=\"671.5\" cy=\"-964.81\" rx=\"109.7\" ry=\"101.23\"/>\n<text text-anchor=\"middle\" x=\"671.5\" y=\"-1021.11\" font-family=\"Times,serif\" font-size=\"14.00\">Node 2</text>\n<text text-anchor=\"middle\" x=\"671.5\" y=\"-1006.11\" font-family=\"Times,serif\" font-size=\"14.00\">Samples: 100</text>\n<text text-anchor=\"middle\" x=\"671.5\" y=\"-991.11\" font-family=\"Times,serif\" font-size=\"14.00\">Value: [[ 0. 50. 50.]]</text>\n<text text-anchor=\"middle\" x=\"671.5\" y=\"-976.11\" font-family=\"Times,serif\" font-size=\"14.00\">Impurity: 0.5</text>\n<text text-anchor=\"middle\" x=\"671.5\" y=\"-961.11\" font-family=\"Times,serif\" font-size=\"14.00\">Impurity Reduction: 0.39</text>\n<text text-anchor=\"middle\" x=\"671.5\" y=\"-946.11\" font-family=\"Times,serif\" font-size=\"14.00\">Custom Metric: 0.66</text>\n<text text-anchor=\"middle\" x=\"671.5\" y=\"-931.11\" font-family=\"Times,serif\" font-size=\"14.00\">Weighted samples: 100.0</text>\n<text text-anchor=\"middle\" x=\"671.5\" y=\"-916.11\" font-family=\"Times,serif\" font-size=\"14.00\">Feature: petal width (cm)</text>\n<text text-anchor=\"middle\" x=\"671.5\" y=\"-901.11\" font-family=\"Times,serif\" font-size=\"14.00\">Threshold: 1.75</text>\n</g>\n<!-- 0&#45;&gt;2 -->\n<g id=\"edge2\" class=\"edge\">\n<title>0&#45;&gt;2</title>\n<path fill=\"none\" stroke=\"black\" d=\"M610.42,-1108.68C616.06,-1095.48 621.89,-1081.84 627.61,-1068.48\"/>\n<polygon fill=\"black\" stroke=\"black\" points=\"630.83,-1069.85 631.54,-1059.27 624.39,-1067.09 630.83,-1069.85\"/>\n<text text-anchor=\"middle\" x=\"640.85\" y=\"-1078.78\" font-family=\"Times,serif\" font-size=\"14.00\">False</text>\n</g>\n<!-- 3 -->\n<g id=\"node4\" class=\"node\">\n<title>3</title>\n<ellipse fill=\"none\" stroke=\"black\" cx=\"526.5\" cy=\"-726.58\" rx=\"111.95\" ry=\"101.23\"/>\n<text text-anchor=\"middle\" x=\"526.5\" y=\"-782.88\" font-family=\"Times,serif\" font-size=\"14.00\">Node 3</text>\n<text text-anchor=\"middle\" x=\"526.5\" y=\"-767.88\" font-family=\"Times,serif\" font-size=\"14.00\">Samples: 54</text>\n<text text-anchor=\"middle\" x=\"526.5\" y=\"-752.88\" font-family=\"Times,serif\" font-size=\"14.00\">Value: [[ 0. 49. &#160;5.]]</text>\n<text text-anchor=\"middle\" x=\"526.5\" y=\"-737.88\" font-family=\"Times,serif\" font-size=\"14.00\">Impurity: 0.17</text>\n<text text-anchor=\"middle\" x=\"526.5\" y=\"-722.88\" font-family=\"Times,serif\" font-size=\"14.00\">Impurity Reduction: 0.08</text>\n<text text-anchor=\"middle\" x=\"526.5\" y=\"-707.88\" font-family=\"Times,serif\" font-size=\"14.00\">Custom Metric: 0.3</text>\n<text text-anchor=\"middle\" x=\"526.5\" y=\"-692.88\" font-family=\"Times,serif\" font-size=\"14.00\">Weighted samples: 54.0</text>\n<text text-anchor=\"middle\" x=\"526.5\" y=\"-677.88\" font-family=\"Times,serif\" font-size=\"14.00\">Feature: petal length (cm)</text>\n<text text-anchor=\"middle\" x=\"526.5\" y=\"-662.88\" font-family=\"Times,serif\" font-size=\"14.00\">Threshold: 4.95</text>\n</g>\n<!-- 2&#45;&gt;3 -->\n<g id=\"edge3\" class=\"edge\">\n<title>2&#45;&gt;3</title>\n<path fill=\"none\" stroke=\"black\" d=\"M617.92,-876.52C607.48,-859.51 596.47,-841.58 585.86,-824.28\"/>\n<polygon fill=\"black\" stroke=\"black\" points=\"588.56,-822 580.34,-815.3 582.59,-825.66 588.56,-822\"/>\n<text text-anchor=\"middle\" x=\"574.53\" y=\"-835.92\" font-family=\"Times,serif\" font-size=\"14.00\">True</text>\n</g>\n<!-- 12 -->\n<g id=\"node5\" class=\"node\">\n<title>12</title>\n<ellipse fill=\"none\" stroke=\"black\" cx=\"816.5\" cy=\"-726.58\" rx=\"111.95\" ry=\"101.23\"/>\n<text text-anchor=\"middle\" x=\"816.5\" y=\"-782.88\" font-family=\"Times,serif\" font-size=\"14.00\">Node 12</text>\n<text text-anchor=\"middle\" x=\"816.5\" y=\"-767.88\" font-family=\"Times,serif\" font-size=\"14.00\">Samples: 46</text>\n<text text-anchor=\"middle\" x=\"816.5\" y=\"-752.88\" font-family=\"Times,serif\" font-size=\"14.00\">Value: [[ 0. &#160;1. 45.]]</text>\n<text text-anchor=\"middle\" x=\"816.5\" y=\"-737.88\" font-family=\"Times,serif\" font-size=\"14.00\">Impurity: 0.04</text>\n<text text-anchor=\"middle\" x=\"816.5\" y=\"-722.88\" font-family=\"Times,serif\" font-size=\"14.00\">Impurity Reduction: 0.01</text>\n<text text-anchor=\"middle\" x=\"816.5\" y=\"-707.88\" font-family=\"Times,serif\" font-size=\"14.00\">Custom Metric: 0.69</text>\n<text text-anchor=\"middle\" x=\"816.5\" y=\"-692.88\" font-family=\"Times,serif\" font-size=\"14.00\">Weighted samples: 46.0</text>\n<text text-anchor=\"middle\" x=\"816.5\" y=\"-677.88\" font-family=\"Times,serif\" font-size=\"14.00\">Feature: petal length (cm)</text>\n<text text-anchor=\"middle\" x=\"816.5\" y=\"-662.88\" font-family=\"Times,serif\" font-size=\"14.00\">Threshold: 4.85</text>\n</g>\n<!-- 2&#45;&gt;12 -->\n<g id=\"edge4\" class=\"edge\">\n<title>2&#45;&gt;12</title>\n<path fill=\"none\" stroke=\"black\" d=\"M725.08,-876.52C735.52,-859.51 746.53,-841.58 757.14,-824.28\"/>\n<polygon fill=\"black\" stroke=\"black\" points=\"760.41,-825.66 762.66,-815.3 754.44,-822 760.41,-825.66\"/>\n<text text-anchor=\"middle\" x=\"768.47\" y=\"-835.92\" font-family=\"Times,serif\" font-size=\"14.00\">False</text>\n</g>\n<!-- 4 -->\n<g id=\"node6\" class=\"node\">\n<title>4</title>\n<ellipse fill=\"none\" stroke=\"black\" cx=\"241.5\" cy=\"-488.35\" rx=\"109.7\" ry=\"101.23\"/>\n<text text-anchor=\"middle\" x=\"241.5\" y=\"-544.65\" font-family=\"Times,serif\" font-size=\"14.00\">Node 4</text>\n<text text-anchor=\"middle\" x=\"241.5\" y=\"-529.65\" font-family=\"Times,serif\" font-size=\"14.00\">Samples: 48</text>\n<text text-anchor=\"middle\" x=\"241.5\" y=\"-514.65\" font-family=\"Times,serif\" font-size=\"14.00\">Value: [[ 0. 47. &#160;1.]]</text>\n<text text-anchor=\"middle\" x=\"241.5\" y=\"-499.65\" font-family=\"Times,serif\" font-size=\"14.00\">Impurity: 0.04</text>\n<text text-anchor=\"middle\" x=\"241.5\" y=\"-484.65\" font-family=\"Times,serif\" font-size=\"14.00\">Impurity Reduction: 0.04</text>\n<text text-anchor=\"middle\" x=\"241.5\" y=\"-469.65\" font-family=\"Times,serif\" font-size=\"14.00\">Custom Metric: 0.87</text>\n<text text-anchor=\"middle\" x=\"241.5\" y=\"-454.65\" font-family=\"Times,serif\" font-size=\"14.00\">Weighted samples: 48.0</text>\n<text text-anchor=\"middle\" x=\"241.5\" y=\"-439.65\" font-family=\"Times,serif\" font-size=\"14.00\">Feature: petal width (cm)</text>\n<text text-anchor=\"middle\" x=\"241.5\" y=\"-424.65\" font-family=\"Times,serif\" font-size=\"14.00\">Threshold: 1.65</text>\n</g>\n<!-- 3&#45;&gt;4 -->\n<g id=\"edge5\" class=\"edge\">\n<title>3&#45;&gt;4</title>\n<path fill=\"none\" stroke=\"black\" d=\"M444.45,-657.57C408.98,-628.17 367.38,-593.69 331.11,-563.62\"/>\n<polygon fill=\"black\" stroke=\"black\" points=\"332.91,-560.57 322.97,-556.88 328.44,-565.96 332.91,-560.57\"/>\n<text text-anchor=\"middle\" x=\"325.3\" y=\"-578.07\" font-family=\"Times,serif\" font-size=\"14.00\">True</text>\n</g>\n<!-- 7 -->\n<g id=\"node7\" class=\"node\">\n<title>7</title>\n<ellipse fill=\"none\" stroke=\"black\" cx=\"526.5\" cy=\"-488.35\" rx=\"109.7\" ry=\"101.23\"/>\n<text text-anchor=\"middle\" x=\"526.5\" y=\"-544.65\" font-family=\"Times,serif\" font-size=\"14.00\">Node 7</text>\n<text text-anchor=\"middle\" x=\"526.5\" y=\"-529.65\" font-family=\"Times,serif\" font-size=\"14.00\">Samples: 6</text>\n<text text-anchor=\"middle\" x=\"526.5\" y=\"-514.65\" font-family=\"Times,serif\" font-size=\"14.00\">Value: [[0. 2. 4.]]</text>\n<text text-anchor=\"middle\" x=\"526.5\" y=\"-499.65\" font-family=\"Times,serif\" font-size=\"14.00\">Impurity: 0.44</text>\n<text text-anchor=\"middle\" x=\"526.5\" y=\"-484.65\" font-family=\"Times,serif\" font-size=\"14.00\">Impurity Reduction: 0.22</text>\n<text text-anchor=\"middle\" x=\"526.5\" y=\"-469.65\" font-family=\"Times,serif\" font-size=\"14.00\">Custom Metric: 0.96</text>\n<text text-anchor=\"middle\" x=\"526.5\" y=\"-454.65\" font-family=\"Times,serif\" font-size=\"14.00\">Weighted samples: 6.0</text>\n<text text-anchor=\"middle\" x=\"526.5\" y=\"-439.65\" font-family=\"Times,serif\" font-size=\"14.00\">Feature: petal width (cm)</text>\n<text text-anchor=\"middle\" x=\"526.5\" y=\"-424.65\" font-family=\"Times,serif\" font-size=\"14.00\">Threshold: 1.55</text>\n</g>\n<!-- 3&#45;&gt;7 -->\n<g id=\"edge6\" class=\"edge\">\n<title>3&#45;&gt;7</title>\n<path fill=\"none\" stroke=\"black\" d=\"M526.5,-625.4C526.5,-616.9 526.5,-608.28 526.5,-599.71\"/>\n<polygon fill=\"black\" stroke=\"black\" points=\"530,-599.69 526.5,-589.69 523,-599.69 530,-599.69\"/>\n<text text-anchor=\"middle\" x=\"544.18\" y=\"-603.67\" font-family=\"Times,serif\" font-size=\"14.00\">False</text>\n</g>\n<!-- 13 -->\n<g id=\"node14\" class=\"node\">\n<title>13</title>\n<ellipse fill=\"none\" stroke=\"black\" cx=\"816.5\" cy=\"-488.35\" rx=\"111.03\" ry=\"101.23\"/>\n<text text-anchor=\"middle\" x=\"816.5\" y=\"-544.65\" font-family=\"Times,serif\" font-size=\"14.00\">Node 13</text>\n<text text-anchor=\"middle\" x=\"816.5\" y=\"-529.65\" font-family=\"Times,serif\" font-size=\"14.00\">Samples: 3</text>\n<text text-anchor=\"middle\" x=\"816.5\" y=\"-514.65\" font-family=\"Times,serif\" font-size=\"14.00\">Value: [[0. 1. 2.]]</text>\n<text text-anchor=\"middle\" x=\"816.5\" y=\"-499.65\" font-family=\"Times,serif\" font-size=\"14.00\">Impurity: 0.44</text>\n<text text-anchor=\"middle\" x=\"816.5\" y=\"-484.65\" font-family=\"Times,serif\" font-size=\"14.00\">Impurity Reduction: 0.44</text>\n<text text-anchor=\"middle\" x=\"816.5\" y=\"-469.65\" font-family=\"Times,serif\" font-size=\"14.00\">Custom Metric: 0.53</text>\n<text text-anchor=\"middle\" x=\"816.5\" y=\"-454.65\" font-family=\"Times,serif\" font-size=\"14.00\">Weighted samples: 3.0</text>\n<text text-anchor=\"middle\" x=\"816.5\" y=\"-439.65\" font-family=\"Times,serif\" font-size=\"14.00\">Feature: sepal width (cm)</text>\n<text text-anchor=\"middle\" x=\"816.5\" y=\"-424.65\" font-family=\"Times,serif\" font-size=\"14.00\">Threshold: 3.1</text>\n</g>\n<!-- 12&#45;&gt;13 -->\n<g id=\"edge13\" class=\"edge\">\n<title>12&#45;&gt;13</title>\n<path fill=\"none\" stroke=\"black\" d=\"M816.5,-625.4C816.5,-616.9 816.5,-608.28 816.5,-599.71\"/>\n<polygon fill=\"black\" stroke=\"black\" points=\"820,-599.69 816.5,-589.69 813,-599.69 820,-599.69\"/>\n<text text-anchor=\"middle\" x=\"798.82\" y=\"-603.67\" font-family=\"Times,serif\" font-size=\"14.00\">True</text>\n</g>\n<!-- 16 -->\n<g id=\"node15\" class=\"node\">\n<title>16</title>\n<polygon fill=\"none\" stroke=\"black\" points=\"1095,-544.85 946,-544.85 946,-431.85 1095,-431.85 1095,-544.85\"/>\n<text text-anchor=\"middle\" x=\"1020.5\" y=\"-529.65\" font-family=\"Times,serif\" font-size=\"14.00\">Node 16</text>\n<text text-anchor=\"middle\" x=\"1020.5\" y=\"-514.65\" font-family=\"Times,serif\" font-size=\"14.00\">Samples: 43</text>\n<text text-anchor=\"middle\" x=\"1020.5\" y=\"-499.65\" font-family=\"Times,serif\" font-size=\"14.00\">Value: [[ 0. &#160;0. 43.]]</text>\n<text text-anchor=\"middle\" x=\"1020.5\" y=\"-484.65\" font-family=\"Times,serif\" font-size=\"14.00\">Impurity: 0.0</text>\n<text text-anchor=\"middle\" x=\"1020.5\" y=\"-469.65\" font-family=\"Times,serif\" font-size=\"14.00\">Impurity Reduction: 0.0</text>\n<text text-anchor=\"middle\" x=\"1020.5\" y=\"-454.65\" font-family=\"Times,serif\" font-size=\"14.00\">Custom Metric: 0.13</text>\n<text text-anchor=\"middle\" x=\"1020.5\" y=\"-439.65\" font-family=\"Times,serif\" font-size=\"14.00\">Weighted samples: 43.0</text>\n</g>\n<!-- 12&#45;&gt;16 -->\n<g id=\"edge14\" class=\"edge\">\n<title>12&#45;&gt;16</title>\n<path fill=\"none\" stroke=\"black\" d=\"M886.31,-647.05C902.85,-628.26 920.37,-608.21 936.5,-589.47 946.63,-577.68 957.36,-565.04 967.63,-552.84\"/>\n<polygon fill=\"black\" stroke=\"black\" points=\"970.55,-554.8 974.31,-544.9 965.19,-550.3 970.55,-554.8\"/>\n<text text-anchor=\"middle\" x=\"976.46\" y=\"-566.1\" font-family=\"Times,serif\" font-size=\"14.00\">False</text>\n</g>\n<!-- 5 -->\n<g id=\"node8\" class=\"node\">\n<title>5</title>\n<polygon fill=\"none\" stroke=\"black\" points=\"149,-306.62 0,-306.62 0,-193.62 149,-193.62 149,-306.62\"/>\n<text text-anchor=\"middle\" x=\"74.5\" y=\"-291.42\" font-family=\"Times,serif\" font-size=\"14.00\">Node 5</text>\n<text text-anchor=\"middle\" x=\"74.5\" y=\"-276.42\" font-family=\"Times,serif\" font-size=\"14.00\">Samples: 47</text>\n<text text-anchor=\"middle\" x=\"74.5\" y=\"-261.42\" font-family=\"Times,serif\" font-size=\"14.00\">Value: [[ 0. 47. &#160;0.]]</text>\n<text text-anchor=\"middle\" x=\"74.5\" y=\"-246.42\" font-family=\"Times,serif\" font-size=\"14.00\">Impurity: 0.0</text>\n<text text-anchor=\"middle\" x=\"74.5\" y=\"-231.42\" font-family=\"Times,serif\" font-size=\"14.00\">Impurity Reduction: 0.0</text>\n<text text-anchor=\"middle\" x=\"74.5\" y=\"-216.42\" font-family=\"Times,serif\" font-size=\"14.00\">Custom Metric: 0.71</text>\n<text text-anchor=\"middle\" x=\"74.5\" y=\"-201.42\" font-family=\"Times,serif\" font-size=\"14.00\">Weighted samples: 47.0</text>\n</g>\n<!-- 4&#45;&gt;5 -->\n<g id=\"edge7\" class=\"edge\">\n<title>4&#45;&gt;5</title>\n<path fill=\"none\" stroke=\"black\" d=\"M181.92,-403.06C161.46,-374.12 138.91,-342.22 119.77,-315.16\"/>\n<polygon fill=\"black\" stroke=\"black\" points=\"122.58,-313.07 113.95,-306.92 116.86,-317.11 122.58,-313.07\"/>\n<text text-anchor=\"middle\" x=\"109.72\" y=\"-327.86\" font-family=\"Times,serif\" font-size=\"14.00\">True</text>\n</g>\n<!-- 6 -->\n<g id=\"node9\" class=\"node\">\n<title>6</title>\n<polygon fill=\"none\" stroke=\"black\" points=\"316,-306.62 167,-306.62 167,-193.62 316,-193.62 316,-306.62\"/>\n<text text-anchor=\"middle\" x=\"241.5\" y=\"-291.42\" font-family=\"Times,serif\" font-size=\"14.00\">Node 6</text>\n<text text-anchor=\"middle\" x=\"241.5\" y=\"-276.42\" font-family=\"Times,serif\" font-size=\"14.00\">Samples: 1</text>\n<text text-anchor=\"middle\" x=\"241.5\" y=\"-261.42\" font-family=\"Times,serif\" font-size=\"14.00\">Value: [[0. 0. 1.]]</text>\n<text text-anchor=\"middle\" x=\"241.5\" y=\"-246.42\" font-family=\"Times,serif\" font-size=\"14.00\">Impurity: 0.0</text>\n<text text-anchor=\"middle\" x=\"241.5\" y=\"-231.42\" font-family=\"Times,serif\" font-size=\"14.00\">Impurity Reduction: 0.0</text>\n<text text-anchor=\"middle\" x=\"241.5\" y=\"-216.42\" font-family=\"Times,serif\" font-size=\"14.00\">Custom Metric: 0.13</text>\n<text text-anchor=\"middle\" x=\"241.5\" y=\"-201.42\" font-family=\"Times,serif\" font-size=\"14.00\">Weighted samples: 1.0</text>\n</g>\n<!-- 4&#45;&gt;6 -->\n<g id=\"edge8\" class=\"edge\">\n<title>4&#45;&gt;6</title>\n<path fill=\"none\" stroke=\"black\" d=\"M241.5,-387.16C241.5,-363.39 241.5,-338.62 241.5,-316.84\"/>\n<polygon fill=\"black\" stroke=\"black\" points=\"245,-316.73 241.5,-306.73 238,-316.73 245,-316.73\"/>\n<text text-anchor=\"middle\" x=\"259.18\" y=\"-320.71\" font-family=\"Times,serif\" font-size=\"14.00\">False</text>\n</g>\n<!-- 8 -->\n<g id=\"node10\" class=\"node\">\n<title>8</title>\n<polygon fill=\"none\" stroke=\"black\" points=\"483,-306.62 334,-306.62 334,-193.62 483,-193.62 483,-306.62\"/>\n<text text-anchor=\"middle\" x=\"408.5\" y=\"-291.42\" font-family=\"Times,serif\" font-size=\"14.00\">Node 8</text>\n<text text-anchor=\"middle\" x=\"408.5\" y=\"-276.42\" font-family=\"Times,serif\" font-size=\"14.00\">Samples: 3</text>\n<text text-anchor=\"middle\" x=\"408.5\" y=\"-261.42\" font-family=\"Times,serif\" font-size=\"14.00\">Value: [[0. 0. 3.]]</text>\n<text text-anchor=\"middle\" x=\"408.5\" y=\"-246.42\" font-family=\"Times,serif\" font-size=\"14.00\">Impurity: 0.0</text>\n<text text-anchor=\"middle\" x=\"408.5\" y=\"-231.42\" font-family=\"Times,serif\" font-size=\"14.00\">Impurity Reduction: 0.0</text>\n<text text-anchor=\"middle\" x=\"408.5\" y=\"-216.42\" font-family=\"Times,serif\" font-size=\"14.00\">Custom Metric: 0.38</text>\n<text text-anchor=\"middle\" x=\"408.5\" y=\"-201.42\" font-family=\"Times,serif\" font-size=\"14.00\">Weighted samples: 3.0</text>\n</g>\n<!-- 7&#45;&gt;8 -->\n<g id=\"edge9\" class=\"edge\">\n<title>7&#45;&gt;8</title>\n<path fill=\"none\" stroke=\"black\" d=\"M480.88,-396.02C467.54,-369.31 453.23,-340.67 440.89,-315.96\"/>\n<polygon fill=\"black\" stroke=\"black\" points=\"443.86,-314.08 436.26,-306.7 437.6,-317.21 443.86,-314.08\"/>\n<text text-anchor=\"middle\" x=\"428.35\" y=\"-326.71\" font-family=\"Times,serif\" font-size=\"14.00\">True</text>\n</g>\n<!-- 9 -->\n<g id=\"node11\" class=\"node\">\n<title>9</title>\n<ellipse fill=\"none\" stroke=\"black\" cx=\"612.5\" cy=\"-250.12\" rx=\"111.95\" ry=\"101.23\"/>\n<text text-anchor=\"middle\" x=\"612.5\" y=\"-306.42\" font-family=\"Times,serif\" font-size=\"14.00\">Node 9</text>\n<text text-anchor=\"middle\" x=\"612.5\" y=\"-291.42\" font-family=\"Times,serif\" font-size=\"14.00\">Samples: 3</text>\n<text text-anchor=\"middle\" x=\"612.5\" y=\"-276.42\" font-family=\"Times,serif\" font-size=\"14.00\">Value: [[0. 2. 1.]]</text>\n<text text-anchor=\"middle\" x=\"612.5\" y=\"-261.42\" font-family=\"Times,serif\" font-size=\"14.00\">Impurity: 0.44</text>\n<text text-anchor=\"middle\" x=\"612.5\" y=\"-246.42\" font-family=\"Times,serif\" font-size=\"14.00\">Impurity Reduction: 0.44</text>\n<text text-anchor=\"middle\" x=\"612.5\" y=\"-231.42\" font-family=\"Times,serif\" font-size=\"14.00\">Custom Metric: 0.29</text>\n<text text-anchor=\"middle\" x=\"612.5\" y=\"-216.42\" font-family=\"Times,serif\" font-size=\"14.00\">Weighted samples: 3.0</text>\n<text text-anchor=\"middle\" x=\"612.5\" y=\"-201.42\" font-family=\"Times,serif\" font-size=\"14.00\">Feature: petal length (cm)</text>\n<text text-anchor=\"middle\" x=\"612.5\" y=\"-186.42\" font-family=\"Times,serif\" font-size=\"14.00\">Threshold: 5.45</text>\n</g>\n<!-- 7&#45;&gt;9 -->\n<g id=\"edge10\" class=\"edge\">\n<title>7&#45;&gt;9</title>\n<path fill=\"none\" stroke=\"black\" d=\"M561.11,-392.29C565.45,-380.35 569.92,-368.08 574.32,-356.01\"/>\n<polygon fill=\"black\" stroke=\"black\" points=\"577.69,-356.96 577.82,-346.37 571.11,-354.57 577.69,-356.96\"/>\n<text text-anchor=\"middle\" x=\"588.39\" y=\"-365.33\" font-family=\"Times,serif\" font-size=\"14.00\">False</text>\n</g>\n<!-- 10 -->\n<g id=\"node12\" class=\"node\">\n<title>10</title>\n<polygon fill=\"none\" stroke=\"black\" points=\"603,-113 454,-113 454,0 603,0 603,-113\"/>\n<text text-anchor=\"middle\" x=\"528.5\" y=\"-97.8\" font-family=\"Times,serif\" font-size=\"14.00\">Node 10</text>\n<text text-anchor=\"middle\" x=\"528.5\" y=\"-82.8\" font-family=\"Times,serif\" font-size=\"14.00\">Samples: 2</text>\n<text text-anchor=\"middle\" x=\"528.5\" y=\"-67.8\" font-family=\"Times,serif\" font-size=\"14.00\">Value: [[0. 2. 0.]]</text>\n<text text-anchor=\"middle\" x=\"528.5\" y=\"-52.8\" font-family=\"Times,serif\" font-size=\"14.00\">Impurity: 0.0</text>\n<text text-anchor=\"middle\" x=\"528.5\" y=\"-37.8\" font-family=\"Times,serif\" font-size=\"14.00\">Impurity Reduction: 0.0</text>\n<text text-anchor=\"middle\" x=\"528.5\" y=\"-22.8\" font-family=\"Times,serif\" font-size=\"14.00\">Custom Metric: 0.85</text>\n<text text-anchor=\"middle\" x=\"528.5\" y=\"-7.8\" font-family=\"Times,serif\" font-size=\"14.00\">Weighted samples: 2.0</text>\n</g>\n<!-- 9&#45;&gt;10 -->\n<g id=\"edge11\" class=\"edge\">\n<title>9&#45;&gt;10</title>\n<path fill=\"none\" stroke=\"black\" d=\"M571.61,-155.83C566.67,-144.57 561.71,-133.26 557.01,-122.53\"/>\n<polygon fill=\"black\" stroke=\"black\" points=\"560.16,-121.01 552.94,-113.26 553.75,-123.82 560.16,-121.01\"/>\n<text text-anchor=\"middle\" x=\"543.85\" y=\"-132.85\" font-family=\"Times,serif\" font-size=\"14.00\">True</text>\n</g>\n<!-- 11 -->\n<g id=\"node13\" class=\"node\">\n<title>11</title>\n<polygon fill=\"none\" stroke=\"black\" points=\"770,-113 621,-113 621,0 770,0 770,-113\"/>\n<text text-anchor=\"middle\" x=\"695.5\" y=\"-97.8\" font-family=\"Times,serif\" font-size=\"14.00\">Node 11</text>\n<text text-anchor=\"middle\" x=\"695.5\" y=\"-82.8\" font-family=\"Times,serif\" font-size=\"14.00\">Samples: 1</text>\n<text text-anchor=\"middle\" x=\"695.5\" y=\"-67.8\" font-family=\"Times,serif\" font-size=\"14.00\">Value: [[0. 0. 1.]]</text>\n<text text-anchor=\"middle\" x=\"695.5\" y=\"-52.8\" font-family=\"Times,serif\" font-size=\"14.00\">Impurity: 0.0</text>\n<text text-anchor=\"middle\" x=\"695.5\" y=\"-37.8\" font-family=\"Times,serif\" font-size=\"14.00\">Impurity Reduction: 0.0</text>\n<text text-anchor=\"middle\" x=\"695.5\" y=\"-22.8\" font-family=\"Times,serif\" font-size=\"14.00\">Custom Metric: 0.78</text>\n<text text-anchor=\"middle\" x=\"695.5\" y=\"-7.8\" font-family=\"Times,serif\" font-size=\"14.00\">Weighted samples: 1.0</text>\n</g>\n<!-- 9&#45;&gt;11 -->\n<g id=\"edge12\" class=\"edge\">\n<title>9&#45;&gt;11</title>\n<path fill=\"none\" stroke=\"black\" d=\"M652.91,-155.83C657.78,-144.57 662.68,-133.26 667.33,-122.53\"/>\n<polygon fill=\"black\" stroke=\"black\" points=\"670.58,-123.83 671.35,-113.26 664.16,-121.05 670.58,-123.83\"/>\n<text text-anchor=\"middle\" x=\"680.54\" y=\"-132.81\" font-family=\"Times,serif\" font-size=\"14.00\">False</text>\n</g>\n<!-- 14 -->\n<g id=\"node16\" class=\"node\">\n<title>14</title>\n<polygon fill=\"none\" stroke=\"black\" points=\"891,-306.62 742,-306.62 742,-193.62 891,-193.62 891,-306.62\"/>\n<text text-anchor=\"middle\" x=\"816.5\" y=\"-291.42\" font-family=\"Times,serif\" font-size=\"14.00\">Node 14</text>\n<text text-anchor=\"middle\" x=\"816.5\" y=\"-276.42\" font-family=\"Times,serif\" font-size=\"14.00\">Samples: 2</text>\n<text text-anchor=\"middle\" x=\"816.5\" y=\"-261.42\" font-family=\"Times,serif\" font-size=\"14.00\">Value: [[0. 0. 2.]]</text>\n<text text-anchor=\"middle\" x=\"816.5\" y=\"-246.42\" font-family=\"Times,serif\" font-size=\"14.00\">Impurity: 0.0</text>\n<text text-anchor=\"middle\" x=\"816.5\" y=\"-231.42\" font-family=\"Times,serif\" font-size=\"14.00\">Impurity Reduction: 0.0</text>\n<text text-anchor=\"middle\" x=\"816.5\" y=\"-216.42\" font-family=\"Times,serif\" font-size=\"14.00\">Custom Metric: 0.06</text>\n<text text-anchor=\"middle\" x=\"816.5\" y=\"-201.42\" font-family=\"Times,serif\" font-size=\"14.00\">Weighted samples: 2.0</text>\n</g>\n<!-- 13&#45;&gt;14 -->\n<g id=\"edge15\" class=\"edge\">\n<title>13&#45;&gt;14</title>\n<path fill=\"none\" stroke=\"black\" d=\"M816.5,-387.16C816.5,-363.39 816.5,-338.62 816.5,-316.84\"/>\n<polygon fill=\"black\" stroke=\"black\" points=\"820,-316.73 816.5,-306.73 813,-316.73 820,-316.73\"/>\n<text text-anchor=\"middle\" x=\"798.82\" y=\"-320.71\" font-family=\"Times,serif\" font-size=\"14.00\">True</text>\n</g>\n<!-- 15 -->\n<g id=\"node17\" class=\"node\">\n<title>15</title>\n<polygon fill=\"none\" stroke=\"black\" points=\"1058,-306.62 909,-306.62 909,-193.62 1058,-193.62 1058,-306.62\"/>\n<text text-anchor=\"middle\" x=\"983.5\" y=\"-291.42\" font-family=\"Times,serif\" font-size=\"14.00\">Node 15</text>\n<text text-anchor=\"middle\" x=\"983.5\" y=\"-276.42\" font-family=\"Times,serif\" font-size=\"14.00\">Samples: 1</text>\n<text text-anchor=\"middle\" x=\"983.5\" y=\"-261.42\" font-family=\"Times,serif\" font-size=\"14.00\">Value: [[0. 1. 0.]]</text>\n<text text-anchor=\"middle\" x=\"983.5\" y=\"-246.42\" font-family=\"Times,serif\" font-size=\"14.00\">Impurity: 0.0</text>\n<text text-anchor=\"middle\" x=\"983.5\" y=\"-231.42\" font-family=\"Times,serif\" font-size=\"14.00\">Impurity Reduction: 0.0</text>\n<text text-anchor=\"middle\" x=\"983.5\" y=\"-216.42\" font-family=\"Times,serif\" font-size=\"14.00\">Custom Metric: 0.9</text>\n<text text-anchor=\"middle\" x=\"983.5\" y=\"-201.42\" font-family=\"Times,serif\" font-size=\"14.00\">Weighted samples: 1.0</text>\n</g>\n<!-- 13&#45;&gt;15 -->\n<g id=\"edge16\" class=\"edge\">\n<title>13&#45;&gt;15</title>\n<path fill=\"none\" stroke=\"black\" d=\"M876.32,-402.73C896.76,-373.82 919.27,-341.98 938.35,-314.98\"/>\n<polygon fill=\"black\" stroke=\"black\" points=\"941.25,-316.95 944.16,-306.76 935.53,-312.91 941.25,-316.95\"/>\n<text text-anchor=\"middle\" x=\"948.39\" y=\"-327.7\" font-family=\"Times,serif\" font-size=\"14.00\">False</text>\n</g>\n</g>\n</svg>\n",
            "text/plain": [
              "<graphviz.sources.Source at 0x784db7921a20>"
            ]
          },
          "metadata": {},
          "execution_count": 9
        }
      ]
    },
    {
      "cell_type": "code",
      "source": [
        "import os\n",
        "import numpy as np\n",
        "import graphviz\n",
        "from sklearn.datasets import load_iris\n",
        "from sklearn.tree import DecisionTreeClassifier, _tree\n",
        "from sklearn.ensemble import RandomForestClassifier\n",
        "from sklearn.base import is_classifier\n",
        "\n",
        "def calculate_impurity_reduction(tree):\n",
        "    \"\"\"Calculate impurity reduction for each node in the decision tree.\"\"\"\n",
        "    n_nodes = tree.node_count\n",
        "    children_left = tree.children_left\n",
        "    children_right = tree.children_right\n",
        "    impurity = tree.impurity\n",
        "    weighted_n_node_samples = tree.weighted_n_node_samples\n",
        "\n",
        "    impurity_reduction = np.zeros(shape=n_nodes)\n",
        "    for node in range(n_nodes):\n",
        "        if children_left[node] != children_right[node]:  # if not a leaf node\n",
        "            left_weight = weighted_n_node_samples[children_left[node]] / weighted_n_node_samples[node]\n",
        "            right_weight = weighted_n_node_samples[children_right[node]] / weighted_n_node_samples[node]\n",
        "            impurity_reduction[node] = impurity[node] - (left_weight * impurity[children_left[node]] + right_weight * impurity[children_right[node]])\n",
        "    return impurity_reduction\n",
        "\n",
        "def get_oob_error(model):\n",
        "    \"\"\"Get OOB error for models that support it.\"\"\"\n",
        "    if isinstance(model, RandomForestClassifier) and hasattr(model, 'oob_score_'):\n",
        "        return 1 - model.oob_score_\n",
        "    return None\n",
        "\n",
        "def get_dot_source(tree, feature_names, class_names, impurity_reduction, custom_metric, oob_error=None):\n",
        "    \"\"\"\n",
        "    Generate DOT source for tree visualization.\n",
        "\n",
        "    Parameters:\n",
        "    - tree: The trained tree model.\n",
        "    - feature_names: Names of the features.\n",
        "    - class_names: Names of the target classes.\n",
        "    - impurity_reduction: Impurity reduction values for the tree nodes.\n",
        "    - custom_metric: Custom metric values for the tree nodes.\n",
        "    - oob_error: OOB error of the model (if applicable).\n",
        "\n",
        "    Returns:\n",
        "    - The DOT source as a string.\n",
        "    \"\"\"\n",
        "    n_nodes = tree.node_count\n",
        "    children_left = tree.children_left\n",
        "    children_right = tree.children_right\n",
        "    feature = tree.feature\n",
        "    threshold = tree.threshold\n",
        "    impurity = tree.impurity\n",
        "    n_node_samples = tree.n_node_samples\n",
        "    weighted_n_node_samples = tree.weighted_n_node_samples\n",
        "\n",
        "    dot_source = 'digraph Tree {\\n'\n",
        "\n",
        "    if oob_error is not None:\n",
        "        dot_source += f'label=\"OOB Error: {oob_error.round(2)}\\\\n\";\\n'\n",
        "        dot_source += 'labelloc=\"t\";\\n'  # Position the model-level label at the top\n",
        "\n",
        "    for i in range(n_nodes):\n",
        "        node_info = f\"Node {i}\\\\n\"\n",
        "        node_info += f\"Samples: {n_node_samples[i]}\\\\n\"\n",
        "        node_info += f\"Value: {tree.value[i].round(2)}\\\\n\"\n",
        "        node_info += f\"Impurity: {impurity[i].round(2)}\\\\n\"\n",
        "        node_info += f\"Impurity Reduction: {impurity_reduction[i].round(2)}\\\\n\"\n",
        "        node_info += f\"Custom Metric: {custom_metric[i].round(2)}\\\\n\"\n",
        "        node_info += f\"Weighted samples: {weighted_n_node_samples[i].round(2)}\\\\n\"\n",
        "\n",
        "        if children_left[i] == children_right[i]:  # if leaf node\n",
        "            dot_source += f'{i} [label=\"{node_info}\", shape=\"box\"];\\n'\n",
        "        else:\n",
        "            node_info += f\"Feature: {feature_names[feature[i]]}\\\\n\"\n",
        "            node_info += f\"Threshold: {threshold[i].round(2)}\"\n",
        "            dot_source += f'{i} [label=\"{node_info}\"];\\n'\n",
        "\n",
        "        if children_left[i] != -1:\n",
        "            dot_source += f'{i} -> {children_left[i]} [labeldistance=2.5, labelangle=45, headlabel=\"True\"];\\n'\n",
        "        if children_right[i] != -1:\n",
        "            dot_source += f'{i} -> {children_right[i]} [labeldistance=2.5, labelangle=-45, headlabel=\"False\"];\\n'\n",
        "\n",
        "    dot_source += '}'\n",
        "    return dot_source\n",
        "\n",
        "def auto_generate_dot_source(model, feature_names, class_names):\n",
        "    \"\"\"\n",
        "    Automatically compute metrics and generate DOT source for tree visualization.\n",
        "\n",
        "    Parameters:\n",
        "    - model: The trained model (DecisionTreeClassifier or RandomForestClassifier).\n",
        "    - feature_names: Names of the features.\n",
        "    - class_names: Names of the target classes.\n",
        "\n",
        "    Returns:\n",
        "    - The DOT source as a string.\n",
        "    \"\"\"\n",
        "    is_rf = isinstance(model, RandomForestClassifier)\n",
        "\n",
        "    # For RandomForest, use one of the trees, for DecisionTree, use the model itself\n",
        "    tree = model.estimators_[0].tree_ if is_rf else model.tree_\n",
        "\n",
        "    # Compute metrics\n",
        "    impurity_reduction = calculate_impurity_reduction(tree)\n",
        "    custom_metric = np.random.rand(tree.node_count)  # Placeholder for custom metric\n",
        "    oob_error = get_oob_error(model) if is_rf else None  # Compute OOB error if model is RandomForest\n",
        "\n",
        "    # Generate the DOT source\n",
        "    dot_source = get_dot_source(tree, feature_names, class_names, impurity_reduction, custom_metric, oob_error)\n",
        "    return dot_source\n",
        "\n",
        "# Load the Iris dataset\n",
        "data = load_iris()\n",
        "X, y = data.data, data.target\n",
        "\n",
        "# Train a model (DecisionTree or RandomForest)\n",
        "# model = DecisionTreeClassifier(random_state=0)\n",
        "model = RandomForestClassifier(oob_score=True, random_state=0)\n",
        "model.fit(X, y)\n",
        "\n",
        "# Automatically compute metrics and generate the DOT source\n",
        "dot_source = auto_generate_dot_source(model, data.feature_names, data.target_names)\n",
        "\n",
        "# Define file paths\n",
        "directory = '/mnt/data'\n",
        "if not os.path.exists(directory):\n",
        "    os.makedirs(directory)\n",
        "\n",
        "dot_path = os.path.join(directory, 'tree_graph.dot')\n",
        "png_path = os.path.join(directory, 'tree_graph.png')\n",
        "\n",
        "# Save the DOT source to a file\n",
        "with open(dot_path, 'w') as f:\n",
        "    f.write(dot_source)\n",
        "\n",
        "# Use the command line utility of Graphviz to render the PNG image\n",
        "!dot -Tpng {dot_path} -o {png_path}\n",
        "\n",
        "# The PNG file path\n",
        "print(f\"The tree graph is saved as {png_path}\")"
      ],
      "metadata": {
        "colab": {
          "base_uri": "https://localhost:8080/"
        },
        "id": "mNfBCgtgxYCU",
        "outputId": "d79daf49-562d-481b-b53a-4f6732ae5ed0"
      },
      "execution_count": null,
      "outputs": [
        {
          "output_type": "stream",
          "name": "stdout",
          "text": [
            "The tree graph is saved as /mnt/data/tree_graph.png\n"
          ]
        }
      ]
    },
    {
      "cell_type": "code",
      "source": [
        "# Install graphviz in the Colab environment (if not already installed)\n",
        "!apt-get install graphviz -y\n",
        "\n",
        "# Save the DOT source to a file\n",
        "with open(dot_path, 'w') as f:\n",
        "    f.write(dot_source)\n",
        "\n",
        "# Use graphviz to render the image and display it within the notebook\n",
        "import graphviz\n",
        "with open(dot_path) as f:\n",
        "    dot_graph = f.read()\n",
        "graphviz.Source(dot_graph)"
      ],
      "metadata": {
        "colab": {
          "base_uri": "https://localhost:8080/",
          "height": 1000
        },
        "id": "mzx5YwL3zSgS",
        "outputId": "5e633bb3-dedc-403a-ad3b-5205421dddc6"
      },
      "execution_count": null,
      "outputs": [
        {
          "output_type": "stream",
          "name": "stdout",
          "text": [
            "Reading package lists... Done\n",
            "Building dependency tree... Done\n",
            "Reading state information... Done\n",
            "graphviz is already the newest version (2.42.2-6).\n",
            "0 upgraded, 0 newly installed, 0 to remove and 32 not upgraded.\n"
          ]
        },
        {
          "output_type": "execute_result",
          "data": {
            "image/svg+xml": "<?xml version=\"1.0\" encoding=\"UTF-8\" standalone=\"no\"?>\n<!DOCTYPE svg PUBLIC \"-//W3C//DTD SVG 1.1//EN\"\n \"http://www.w3.org/Graphics/SVG/1.1/DTD/svg11.dtd\">\n<!-- Generated by graphviz version 2.43.0 (0)\n -->\n<!-- Title: Tree Pages: 1 -->\n<svg width=\"843pt\" height=\"1097pt\"\n viewBox=\"0.00 0.00 843.00 1096.93\" xmlns=\"http://www.w3.org/2000/svg\" xmlns:xlink=\"http://www.w3.org/1999/xlink\">\n<g id=\"graph0\" class=\"graph\" transform=\"scale(1 1) rotate(0) translate(4 1092.93)\">\n<title>Tree</title>\n<polygon fill=\"white\" stroke=\"transparent\" points=\"-4,4 -4,-1092.93 839,-1092.93 839,4 -4,4\"/>\n<text text-anchor=\"middle\" x=\"417.5\" y=\"-1073.73\" font-family=\"Times,serif\" font-size=\"14.00\">OOB Error: 0.05</text>\n<!-- 0 -->\n<g id=\"node1\" class=\"node\">\n<title>0</title>\n<ellipse fill=\"none\" stroke=\"black\" cx=\"286.5\" cy=\"-964.81\" rx=\"109.7\" ry=\"101.23\"/>\n<text text-anchor=\"middle\" x=\"286.5\" y=\"-1021.11\" font-family=\"Times,serif\" font-size=\"14.00\">Node 0</text>\n<text text-anchor=\"middle\" x=\"286.5\" y=\"-1006.11\" font-family=\"Times,serif\" font-size=\"14.00\">Samples: 94</text>\n<text text-anchor=\"middle\" x=\"286.5\" y=\"-991.11\" font-family=\"Times,serif\" font-size=\"14.00\">Value: [[47. 44. 59.]]</text>\n<text text-anchor=\"middle\" x=\"286.5\" y=\"-976.11\" font-family=\"Times,serif\" font-size=\"14.00\">Impurity: 0.66</text>\n<text text-anchor=\"middle\" x=\"286.5\" y=\"-961.11\" font-family=\"Times,serif\" font-size=\"14.00\">Impurity Reduction: 0.33</text>\n<text text-anchor=\"middle\" x=\"286.5\" y=\"-946.11\" font-family=\"Times,serif\" font-size=\"14.00\">Custom Metric: 0.69</text>\n<text text-anchor=\"middle\" x=\"286.5\" y=\"-931.11\" font-family=\"Times,serif\" font-size=\"14.00\">Weighted samples: 150.0</text>\n<text text-anchor=\"middle\" x=\"286.5\" y=\"-916.11\" font-family=\"Times,serif\" font-size=\"14.00\">Feature: petal width (cm)</text>\n<text text-anchor=\"middle\" x=\"286.5\" y=\"-901.11\" font-family=\"Times,serif\" font-size=\"14.00\">Threshold: 0.75</text>\n</g>\n<!-- 1 -->\n<g id=\"node2\" class=\"node\">\n<title>1</title>\n<polygon fill=\"none\" stroke=\"black\" points=\"259,-783.08 110,-783.08 110,-670.08 259,-670.08 259,-783.08\"/>\n<text text-anchor=\"middle\" x=\"184.5\" y=\"-767.88\" font-family=\"Times,serif\" font-size=\"14.00\">Node 1</text>\n<text text-anchor=\"middle\" x=\"184.5\" y=\"-752.88\" font-family=\"Times,serif\" font-size=\"14.00\">Samples: 31</text>\n<text text-anchor=\"middle\" x=\"184.5\" y=\"-737.88\" font-family=\"Times,serif\" font-size=\"14.00\">Value: [[47. &#160;0. &#160;0.]]</text>\n<text text-anchor=\"middle\" x=\"184.5\" y=\"-722.88\" font-family=\"Times,serif\" font-size=\"14.00\">Impurity: 0.0</text>\n<text text-anchor=\"middle\" x=\"184.5\" y=\"-707.88\" font-family=\"Times,serif\" font-size=\"14.00\">Impurity Reduction: 0.0</text>\n<text text-anchor=\"middle\" x=\"184.5\" y=\"-692.88\" font-family=\"Times,serif\" font-size=\"14.00\">Custom Metric: 0.73</text>\n<text text-anchor=\"middle\" x=\"184.5\" y=\"-677.88\" font-family=\"Times,serif\" font-size=\"14.00\">Weighted samples: 47.0</text>\n</g>\n<!-- 0&#45;&gt;1 -->\n<g id=\"edge1\" class=\"edge\">\n<title>0&#45;&gt;1</title>\n<path fill=\"none\" stroke=\"black\" d=\"M246.19,-870.45C234.93,-844.38 222.94,-816.62 212.56,-792.57\"/>\n<polygon fill=\"black\" stroke=\"black\" points=\"215.69,-791 208.52,-783.21 209.27,-793.77 215.69,-791\"/>\n<text text-anchor=\"middle\" x=\"199.3\" y=\"-802.74\" font-family=\"Times,serif\" font-size=\"14.00\">True</text>\n</g>\n<!-- 2 -->\n<g id=\"node3\" class=\"node\">\n<title>2</title>\n<ellipse fill=\"none\" stroke=\"black\" cx=\"388.5\" cy=\"-726.58\" rx=\"111.95\" ry=\"101.23\"/>\n<text text-anchor=\"middle\" x=\"388.5\" y=\"-782.88\" font-family=\"Times,serif\" font-size=\"14.00\">Node 2</text>\n<text text-anchor=\"middle\" x=\"388.5\" y=\"-767.88\" font-family=\"Times,serif\" font-size=\"14.00\">Samples: 63</text>\n<text text-anchor=\"middle\" x=\"388.5\" y=\"-752.88\" font-family=\"Times,serif\" font-size=\"14.00\">Value: [[ 0. 44. 59.]]</text>\n<text text-anchor=\"middle\" x=\"388.5\" y=\"-737.88\" font-family=\"Times,serif\" font-size=\"14.00\">Impurity: 0.49</text>\n<text text-anchor=\"middle\" x=\"388.5\" y=\"-722.88\" font-family=\"Times,serif\" font-size=\"14.00\">Impurity Reduction: 0.42</text>\n<text text-anchor=\"middle\" x=\"388.5\" y=\"-707.88\" font-family=\"Times,serif\" font-size=\"14.00\">Custom Metric: 0.08</text>\n<text text-anchor=\"middle\" x=\"388.5\" y=\"-692.88\" font-family=\"Times,serif\" font-size=\"14.00\">Weighted samples: 103.0</text>\n<text text-anchor=\"middle\" x=\"388.5\" y=\"-677.88\" font-family=\"Times,serif\" font-size=\"14.00\">Feature: petal length (cm)</text>\n<text text-anchor=\"middle\" x=\"388.5\" y=\"-662.88\" font-family=\"Times,serif\" font-size=\"14.00\">Threshold: 4.85</text>\n</g>\n<!-- 0&#45;&gt;2 -->\n<g id=\"edge2\" class=\"edge\">\n<title>0&#45;&gt;2</title>\n<path fill=\"none\" stroke=\"black\" d=\"M326.81,-870.45C332.51,-857.25 338.4,-843.61 344.17,-830.24\"/>\n<polygon fill=\"black\" stroke=\"black\" points=\"347.39,-831.61 348.15,-821.04 340.97,-828.84 347.39,-831.61\"/>\n<text text-anchor=\"middle\" x=\"357.37\" y=\"-840.58\" font-family=\"Times,serif\" font-size=\"14.00\">False</text>\n</g>\n<!-- 3 -->\n<g id=\"node4\" class=\"node\">\n<title>3</title>\n<ellipse fill=\"none\" stroke=\"black\" cx=\"268.5\" cy=\"-488.35\" rx=\"109.7\" ry=\"101.23\"/>\n<text text-anchor=\"middle\" x=\"268.5\" y=\"-544.65\" font-family=\"Times,serif\" font-size=\"14.00\">Node 3</text>\n<text text-anchor=\"middle\" x=\"268.5\" y=\"-529.65\" font-family=\"Times,serif\" font-size=\"14.00\">Samples: 32</text>\n<text text-anchor=\"middle\" x=\"268.5\" y=\"-514.65\" font-family=\"Times,serif\" font-size=\"14.00\">Value: [[ 0. 43. &#160;3.]]</text>\n<text text-anchor=\"middle\" x=\"268.5\" y=\"-499.65\" font-family=\"Times,serif\" font-size=\"14.00\">Impurity: 0.12</text>\n<text text-anchor=\"middle\" x=\"268.5\" y=\"-484.65\" font-family=\"Times,serif\" font-size=\"14.00\">Impurity Reduction: 0.09</text>\n<text text-anchor=\"middle\" x=\"268.5\" y=\"-469.65\" font-family=\"Times,serif\" font-size=\"14.00\">Custom Metric: 0.7</text>\n<text text-anchor=\"middle\" x=\"268.5\" y=\"-454.65\" font-family=\"Times,serif\" font-size=\"14.00\">Weighted samples: 46.0</text>\n<text text-anchor=\"middle\" x=\"268.5\" y=\"-439.65\" font-family=\"Times,serif\" font-size=\"14.00\">Feature: petal width (cm)</text>\n<text text-anchor=\"middle\" x=\"268.5\" y=\"-424.65\" font-family=\"Times,serif\" font-size=\"14.00\">Threshold: 1.65</text>\n</g>\n<!-- 2&#45;&gt;3 -->\n<g id=\"edge3\" class=\"edge\">\n<title>2&#45;&gt;3</title>\n<path fill=\"none\" stroke=\"black\" d=\"M342.1,-634.25C334.68,-619.62 326.96,-604.42 319.43,-589.61\"/>\n<polygon fill=\"black\" stroke=\"black\" points=\"322.42,-587.77 314.77,-580.44 316.18,-590.94 322.42,-587.77\"/>\n<text text-anchor=\"middle\" x=\"307.02\" y=\"-600.51\" font-family=\"Times,serif\" font-size=\"14.00\">True</text>\n</g>\n<!-- 8 -->\n<g id=\"node5\" class=\"node\">\n<title>8</title>\n<ellipse fill=\"none\" stroke=\"black\" cx=\"509.5\" cy=\"-488.35\" rx=\"113.27\" ry=\"101.23\"/>\n<text text-anchor=\"middle\" x=\"509.5\" y=\"-544.65\" font-family=\"Times,serif\" font-size=\"14.00\">Node 8</text>\n<text text-anchor=\"middle\" x=\"509.5\" y=\"-529.65\" font-family=\"Times,serif\" font-size=\"14.00\">Samples: 31</text>\n<text text-anchor=\"middle\" x=\"509.5\" y=\"-514.65\" font-family=\"Times,serif\" font-size=\"14.00\">Value: [[ 0. &#160;1. 56.]]</text>\n<text text-anchor=\"middle\" x=\"509.5\" y=\"-499.65\" font-family=\"Times,serif\" font-size=\"14.00\">Impurity: 0.03</text>\n<text text-anchor=\"middle\" x=\"509.5\" y=\"-484.65\" font-family=\"Times,serif\" font-size=\"14.00\">Impurity Reduction: 0.0</text>\n<text text-anchor=\"middle\" x=\"509.5\" y=\"-469.65\" font-family=\"Times,serif\" font-size=\"14.00\">Custom Metric: 0.7</text>\n<text text-anchor=\"middle\" x=\"509.5\" y=\"-454.65\" font-family=\"Times,serif\" font-size=\"14.00\">Weighted samples: 57.0</text>\n<text text-anchor=\"middle\" x=\"509.5\" y=\"-439.65\" font-family=\"Times,serif\" font-size=\"14.00\">Feature: sepal length (cm)</text>\n<text text-anchor=\"middle\" x=\"509.5\" y=\"-424.65\" font-family=\"Times,serif\" font-size=\"14.00\">Threshold: 6.6</text>\n</g>\n<!-- 2&#45;&gt;8 -->\n<g id=\"edge4\" class=\"edge\">\n<title>2&#45;&gt;8</title>\n<path fill=\"none\" stroke=\"black\" d=\"M435.11,-634.59C442.61,-619.95 450.41,-604.72 458.01,-589.87\"/>\n<polygon fill=\"black\" stroke=\"black\" points=\"461.27,-591.18 462.72,-580.69 455.04,-587.99 461.27,-591.18\"/>\n<text text-anchor=\"middle\" x=\"470.39\" y=\"-600.78\" font-family=\"Times,serif\" font-size=\"14.00\">False</text>\n</g>\n<!-- 4 -->\n<g id=\"node6\" class=\"node\">\n<title>4</title>\n<polygon fill=\"none\" stroke=\"black\" points=\"149,-306.62 0,-306.62 0,-193.62 149,-193.62 149,-306.62\"/>\n<text text-anchor=\"middle\" x=\"74.5\" y=\"-291.42\" font-family=\"Times,serif\" font-size=\"14.00\">Node 4</text>\n<text text-anchor=\"middle\" x=\"74.5\" y=\"-276.42\" font-family=\"Times,serif\" font-size=\"14.00\">Samples: 29</text>\n<text text-anchor=\"middle\" x=\"74.5\" y=\"-261.42\" font-family=\"Times,serif\" font-size=\"14.00\">Value: [[ 0. 42. &#160;0.]]</text>\n<text text-anchor=\"middle\" x=\"74.5\" y=\"-246.42\" font-family=\"Times,serif\" font-size=\"14.00\">Impurity: 0.0</text>\n<text text-anchor=\"middle\" x=\"74.5\" y=\"-231.42\" font-family=\"Times,serif\" font-size=\"14.00\">Impurity Reduction: 0.0</text>\n<text text-anchor=\"middle\" x=\"74.5\" y=\"-216.42\" font-family=\"Times,serif\" font-size=\"14.00\">Custom Metric: 0.55</text>\n<text text-anchor=\"middle\" x=\"74.5\" y=\"-201.42\" font-family=\"Times,serif\" font-size=\"14.00\">Weighted samples: 42.0</text>\n</g>\n<!-- 3&#45;&gt;4 -->\n<g id=\"edge5\" class=\"edge\">\n<title>3&#45;&gt;4</title>\n<path fill=\"none\" stroke=\"black\" d=\"M202.82,-407.37C178,-377.15 150.12,-343.2 126.7,-314.68\"/>\n<polygon fill=\"black\" stroke=\"black\" points=\"129.27,-312.3 120.22,-306.79 123.86,-316.74 129.27,-312.3\"/>\n<text text-anchor=\"middle\" x=\"117.78\" y=\"-327.97\" font-family=\"Times,serif\" font-size=\"14.00\">True</text>\n</g>\n<!-- 5 -->\n<g id=\"node7\" class=\"node\">\n<title>5</title>\n<ellipse fill=\"none\" stroke=\"black\" cx=\"278.5\" cy=\"-250.12\" rx=\"111.03\" ry=\"101.23\"/>\n<text text-anchor=\"middle\" x=\"278.5\" y=\"-306.42\" font-family=\"Times,serif\" font-size=\"14.00\">Node 5</text>\n<text text-anchor=\"middle\" x=\"278.5\" y=\"-291.42\" font-family=\"Times,serif\" font-size=\"14.00\">Samples: 3</text>\n<text text-anchor=\"middle\" x=\"278.5\" y=\"-276.42\" font-family=\"Times,serif\" font-size=\"14.00\">Value: [[0. 1. 3.]]</text>\n<text text-anchor=\"middle\" x=\"278.5\" y=\"-261.42\" font-family=\"Times,serif\" font-size=\"14.00\">Impurity: 0.38</text>\n<text text-anchor=\"middle\" x=\"278.5\" y=\"-246.42\" font-family=\"Times,serif\" font-size=\"14.00\">Impurity Reduction: 0.38</text>\n<text text-anchor=\"middle\" x=\"278.5\" y=\"-231.42\" font-family=\"Times,serif\" font-size=\"14.00\">Custom Metric: 0.14</text>\n<text text-anchor=\"middle\" x=\"278.5\" y=\"-216.42\" font-family=\"Times,serif\" font-size=\"14.00\">Weighted samples: 4.0</text>\n<text text-anchor=\"middle\" x=\"278.5\" y=\"-201.42\" font-family=\"Times,serif\" font-size=\"14.00\">Feature: sepal width (cm)</text>\n<text text-anchor=\"middle\" x=\"278.5\" y=\"-186.42\" font-family=\"Times,serif\" font-size=\"14.00\">Threshold: 3.0</text>\n</g>\n<!-- 3&#45;&gt;5 -->\n<g id=\"edge6\" class=\"edge\">\n<title>3&#45;&gt;5</title>\n<path fill=\"none\" stroke=\"black\" d=\"M272.74,-387.16C273.1,-378.67 273.47,-370.05 273.83,-361.48\"/>\n<polygon fill=\"black\" stroke=\"black\" points=\"277.33,-361.59 274.25,-351.46 270.33,-361.3 277.33,-361.59\"/>\n<text text-anchor=\"middle\" x=\"291.17\" y=\"-366.16\" font-family=\"Times,serif\" font-size=\"14.00\">False</text>\n</g>\n<!-- 9 -->\n<g id=\"node10\" class=\"node\">\n<title>9</title>\n<polygon fill=\"none\" stroke=\"black\" points=\"575,-306.62 426,-306.62 426,-193.62 575,-193.62 575,-306.62\"/>\n<text text-anchor=\"middle\" x=\"500.5\" y=\"-291.42\" font-family=\"Times,serif\" font-size=\"14.00\">Node 9</text>\n<text text-anchor=\"middle\" x=\"500.5\" y=\"-276.42\" font-family=\"Times,serif\" font-size=\"14.00\">Samples: 15</text>\n<text text-anchor=\"middle\" x=\"500.5\" y=\"-261.42\" font-family=\"Times,serif\" font-size=\"14.00\">Value: [[ 0. &#160;0. 27.]]</text>\n<text text-anchor=\"middle\" x=\"500.5\" y=\"-246.42\" font-family=\"Times,serif\" font-size=\"14.00\">Impurity: 0.0</text>\n<text text-anchor=\"middle\" x=\"500.5\" y=\"-231.42\" font-family=\"Times,serif\" font-size=\"14.00\">Impurity Reduction: 0.0</text>\n<text text-anchor=\"middle\" x=\"500.5\" y=\"-216.42\" font-family=\"Times,serif\" font-size=\"14.00\">Custom Metric: 0.31</text>\n<text text-anchor=\"middle\" x=\"500.5\" y=\"-201.42\" font-family=\"Times,serif\" font-size=\"14.00\">Weighted samples: 27.0</text>\n</g>\n<!-- 8&#45;&gt;9 -->\n<g id=\"edge9\" class=\"edge\">\n<title>8&#45;&gt;9</title>\n<path fill=\"none\" stroke=\"black\" d=\"M505.68,-387.16C504.78,-363.39 503.83,-338.62 503,-316.84\"/>\n<polygon fill=\"black\" stroke=\"black\" points=\"506.5,-316.59 502.62,-306.73 499.5,-316.85 506.5,-316.59\"/>\n<text text-anchor=\"middle\" x=\"485.63\" y=\"-321.37\" font-family=\"Times,serif\" font-size=\"14.00\">True</text>\n</g>\n<!-- 10 -->\n<g id=\"node11\" class=\"node\">\n<title>10</title>\n<ellipse fill=\"none\" stroke=\"black\" cx=\"704.5\" cy=\"-250.12\" rx=\"111.95\" ry=\"101.23\"/>\n<text text-anchor=\"middle\" x=\"704.5\" y=\"-306.42\" font-family=\"Times,serif\" font-size=\"14.00\">Node 10</text>\n<text text-anchor=\"middle\" x=\"704.5\" y=\"-291.42\" font-family=\"Times,serif\" font-size=\"14.00\">Samples: 16</text>\n<text text-anchor=\"middle\" x=\"704.5\" y=\"-276.42\" font-family=\"Times,serif\" font-size=\"14.00\">Value: [[ 0. &#160;1. 29.]]</text>\n<text text-anchor=\"middle\" x=\"704.5\" y=\"-261.42\" font-family=\"Times,serif\" font-size=\"14.00\">Impurity: 0.06</text>\n<text text-anchor=\"middle\" x=\"704.5\" y=\"-246.42\" font-family=\"Times,serif\" font-size=\"14.00\">Impurity Reduction: 0.06</text>\n<text text-anchor=\"middle\" x=\"704.5\" y=\"-231.42\" font-family=\"Times,serif\" font-size=\"14.00\">Custom Metric: 0.56</text>\n<text text-anchor=\"middle\" x=\"704.5\" y=\"-216.42\" font-family=\"Times,serif\" font-size=\"14.00\">Weighted samples: 30.0</text>\n<text text-anchor=\"middle\" x=\"704.5\" y=\"-201.42\" font-family=\"Times,serif\" font-size=\"14.00\">Feature: petal length (cm)</text>\n<text text-anchor=\"middle\" x=\"704.5\" y=\"-186.42\" font-family=\"Times,serif\" font-size=\"14.00\">Threshold: 5.2</text>\n</g>\n<!-- 8&#45;&gt;10 -->\n<g id=\"edge10\" class=\"edge\">\n<title>8&#45;&gt;10</title>\n<path fill=\"none\" stroke=\"black\" d=\"M576.34,-406.38C594.11,-384.85 613.39,-361.49 631.48,-339.58\"/>\n<polygon fill=\"black\" stroke=\"black\" points=\"634.42,-341.52 638.08,-331.58 629.02,-337.06 634.42,-341.52\"/>\n<text text-anchor=\"middle\" x=\"640.46\" y=\"-352.76\" font-family=\"Times,serif\" font-size=\"14.00\">False</text>\n</g>\n<!-- 6 -->\n<g id=\"node8\" class=\"node\">\n<title>6</title>\n<polygon fill=\"none\" stroke=\"black\" points=\"297,-113 148,-113 148,0 297,0 297,-113\"/>\n<text text-anchor=\"middle\" x=\"222.5\" y=\"-97.8\" font-family=\"Times,serif\" font-size=\"14.00\">Node 6</text>\n<text text-anchor=\"middle\" x=\"222.5\" y=\"-82.8\" font-family=\"Times,serif\" font-size=\"14.00\">Samples: 2</text>\n<text text-anchor=\"middle\" x=\"222.5\" y=\"-67.8\" font-family=\"Times,serif\" font-size=\"14.00\">Value: [[0. 0. 3.]]</text>\n<text text-anchor=\"middle\" x=\"222.5\" y=\"-52.8\" font-family=\"Times,serif\" font-size=\"14.00\">Impurity: 0.0</text>\n<text text-anchor=\"middle\" x=\"222.5\" y=\"-37.8\" font-family=\"Times,serif\" font-size=\"14.00\">Impurity Reduction: 0.0</text>\n<text text-anchor=\"middle\" x=\"222.5\" y=\"-22.8\" font-family=\"Times,serif\" font-size=\"14.00\">Custom Metric: 0.61</text>\n<text text-anchor=\"middle\" x=\"222.5\" y=\"-7.8\" font-family=\"Times,serif\" font-size=\"14.00\">Weighted samples: 3.0</text>\n</g>\n<!-- 5&#45;&gt;6 -->\n<g id=\"edge7\" class=\"edge\">\n<title>5&#45;&gt;6</title>\n<path fill=\"none\" stroke=\"black\" d=\"M250.17,-152.19C247.27,-142.26 244.38,-132.36 241.61,-122.9\"/>\n<polygon fill=\"black\" stroke=\"black\" points=\"244.95,-121.83 238.78,-113.21 238.23,-123.79 244.95,-121.83\"/>\n<text text-anchor=\"middle\" x=\"226.77\" y=\"-131.44\" font-family=\"Times,serif\" font-size=\"14.00\">True</text>\n</g>\n<!-- 7 -->\n<g id=\"node9\" class=\"node\">\n<title>7</title>\n<polygon fill=\"none\" stroke=\"black\" points=\"464,-113 315,-113 315,0 464,0 464,-113\"/>\n<text text-anchor=\"middle\" x=\"389.5\" y=\"-97.8\" font-family=\"Times,serif\" font-size=\"14.00\">Node 7</text>\n<text text-anchor=\"middle\" x=\"389.5\" y=\"-82.8\" font-family=\"Times,serif\" font-size=\"14.00\">Samples: 1</text>\n<text text-anchor=\"middle\" x=\"389.5\" y=\"-67.8\" font-family=\"Times,serif\" font-size=\"14.00\">Value: [[0. 1. 0.]]</text>\n<text text-anchor=\"middle\" x=\"389.5\" y=\"-52.8\" font-family=\"Times,serif\" font-size=\"14.00\">Impurity: 0.0</text>\n<text text-anchor=\"middle\" x=\"389.5\" y=\"-37.8\" font-family=\"Times,serif\" font-size=\"14.00\">Impurity Reduction: 0.0</text>\n<text text-anchor=\"middle\" x=\"389.5\" y=\"-22.8\" font-family=\"Times,serif\" font-size=\"14.00\">Custom Metric: 0.35</text>\n<text text-anchor=\"middle\" x=\"389.5\" y=\"-7.8\" font-family=\"Times,serif\" font-size=\"14.00\">Weighted samples: 1.0</text>\n</g>\n<!-- 5&#45;&gt;7 -->\n<g id=\"edge8\" class=\"edge\">\n<title>5&#45;&gt;7</title>\n<path fill=\"none\" stroke=\"black\" d=\"M329.94,-160.32C337.42,-147.4 345.01,-134.31 352.14,-122\"/>\n<polygon fill=\"black\" stroke=\"black\" points=\"355.26,-123.59 357.25,-113.18 349.21,-120.08 355.26,-123.59\"/>\n<text text-anchor=\"middle\" x=\"363.68\" y=\"-133.64\" font-family=\"Times,serif\" font-size=\"14.00\">False</text>\n</g>\n<!-- 11 -->\n<g id=\"node12\" class=\"node\">\n<title>11</title>\n<polygon fill=\"none\" stroke=\"black\" points=\"668,-113 519,-113 519,0 668,0 668,-113\"/>\n<text text-anchor=\"middle\" x=\"593.5\" y=\"-97.8\" font-family=\"Times,serif\" font-size=\"14.00\">Node 11</text>\n<text text-anchor=\"middle\" x=\"593.5\" y=\"-82.8\" font-family=\"Times,serif\" font-size=\"14.00\">Samples: 1</text>\n<text text-anchor=\"middle\" x=\"593.5\" y=\"-67.8\" font-family=\"Times,serif\" font-size=\"14.00\">Value: [[0. 1. 0.]]</text>\n<text text-anchor=\"middle\" x=\"593.5\" y=\"-52.8\" font-family=\"Times,serif\" font-size=\"14.00\">Impurity: 0.0</text>\n<text text-anchor=\"middle\" x=\"593.5\" y=\"-37.8\" font-family=\"Times,serif\" font-size=\"14.00\">Impurity Reduction: 0.0</text>\n<text text-anchor=\"middle\" x=\"593.5\" y=\"-22.8\" font-family=\"Times,serif\" font-size=\"14.00\">Custom Metric: 0.12</text>\n<text text-anchor=\"middle\" x=\"593.5\" y=\"-7.8\" font-family=\"Times,serif\" font-size=\"14.00\">Weighted samples: 1.0</text>\n</g>\n<!-- 10&#45;&gt;11 -->\n<g id=\"edge11\" class=\"edge\">\n<title>10&#45;&gt;11</title>\n<path fill=\"none\" stroke=\"black\" d=\"M653.06,-160.32C645.58,-147.4 637.99,-134.31 630.86,-122\"/>\n<polygon fill=\"black\" stroke=\"black\" points=\"633.79,-120.08 625.75,-113.18 627.74,-123.59 633.79,-120.08\"/>\n<text text-anchor=\"middle\" x=\"619.32\" y=\"-133.64\" font-family=\"Times,serif\" font-size=\"14.00\">True</text>\n</g>\n<!-- 12 -->\n<g id=\"node13\" class=\"node\">\n<title>12</title>\n<polygon fill=\"none\" stroke=\"black\" points=\"835,-113 686,-113 686,0 835,0 835,-113\"/>\n<text text-anchor=\"middle\" x=\"760.5\" y=\"-97.8\" font-family=\"Times,serif\" font-size=\"14.00\">Node 12</text>\n<text text-anchor=\"middle\" x=\"760.5\" y=\"-82.8\" font-family=\"Times,serif\" font-size=\"14.00\">Samples: 15</text>\n<text text-anchor=\"middle\" x=\"760.5\" y=\"-67.8\" font-family=\"Times,serif\" font-size=\"14.00\">Value: [[ 0. &#160;0. 29.]]</text>\n<text text-anchor=\"middle\" x=\"760.5\" y=\"-52.8\" font-family=\"Times,serif\" font-size=\"14.00\">Impurity: 0.0</text>\n<text text-anchor=\"middle\" x=\"760.5\" y=\"-37.8\" font-family=\"Times,serif\" font-size=\"14.00\">Impurity Reduction: 0.0</text>\n<text text-anchor=\"middle\" x=\"760.5\" y=\"-22.8\" font-family=\"Times,serif\" font-size=\"14.00\">Custom Metric: 0.18</text>\n<text text-anchor=\"middle\" x=\"760.5\" y=\"-7.8\" font-family=\"Times,serif\" font-size=\"14.00\">Weighted samples: 29.0</text>\n</g>\n<!-- 10&#45;&gt;12 -->\n<g id=\"edge12\" class=\"edge\">\n<title>10&#45;&gt;12</title>\n<path fill=\"none\" stroke=\"black\" d=\"M732.83,-152.19C735.73,-142.26 738.62,-132.36 741.39,-122.9\"/>\n<polygon fill=\"black\" stroke=\"black\" points=\"744.77,-123.79 744.22,-113.21 738.05,-121.83 744.77,-123.79\"/>\n<text text-anchor=\"middle\" x=\"756.23\" y=\"-131.44\" font-family=\"Times,serif\" font-size=\"14.00\">False</text>\n</g>\n</g>\n</svg>\n",
            "text/plain": [
              "<graphviz.sources.Source at 0x784db774f7f0>"
            ]
          },
          "metadata": {},
          "execution_count": 11
        }
      ]
    },
    {
      "cell_type": "code",
      "source": [
        "import os\n",
        "import numpy as np\n",
        "import graphviz\n",
        "from sklearn.datasets import load_iris\n",
        "from sklearn.tree import DecisionTreeClassifier, _tree\n",
        "from sklearn.ensemble import RandomForestClassifier\n",
        "from sklearn.base import is_classifier\n",
        "\n",
        "def calculate_impurity_reduction(tree):\n",
        "    \"\"\"Calculate impurity reduction for each node in the decision tree.\"\"\"\n",
        "    n_nodes = tree.node_count\n",
        "    children_left = tree.children_left\n",
        "    children_right = tree.children_right\n",
        "    impurity = tree.impurity\n",
        "    weighted_n_node_samples = tree.weighted_n_node_samples\n",
        "\n",
        "    impurity_reduction = np.zeros(shape=n_nodes)\n",
        "    for node in range(n_nodes):\n",
        "        if children_left[node] != children_right[node]:  # if not a leaf node\n",
        "            left_weight = weighted_n_node_samples[children_left[node]] / weighted_n_node_samples[node]\n",
        "            right_weight = weighted_n_node_samples[children_right[node]] / weighted_n_node_samples[node]\n",
        "            impurity_reduction[node] = impurity[node] - (left_weight * impurity[children_left[node]] + right_weight * impurity[children_right[node]])\n",
        "    return impurity_reduction\n",
        "\n",
        "def get_oob_error(model):\n",
        "    \"\"\"Get OOB error for models that support it.\"\"\"\n",
        "    if isinstance(model, RandomForestClassifier) and hasattr(model, 'oob_score_'):\n",
        "        return 1 - model.oob_score_\n",
        "    return None\n",
        "\n",
        "def get_dot_source(tree, feature_names, class_names, impurity_reduction, custom_metric, oob_error=None):\n",
        "    \"\"\"\n",
        "    Generate DOT source for tree visualization.\n",
        "\n",
        "    Parameters:\n",
        "    - tree: The trained tree model.\n",
        "    - feature_names: Names of the features.\n",
        "    - class_names: Names of the target classes.\n",
        "    - impurity_reduction: Impurity reduction values for the tree nodes.\n",
        "    - custom_metric: Custom metric values for the tree nodes.\n",
        "    - oob_error: OOB error of the model (if applicable).\n",
        "\n",
        "    Returns:\n",
        "    - The DOT source as a string.\n",
        "    \"\"\"\n",
        "    n_nodes = tree.node_count\n",
        "    children_left = tree.children_left\n",
        "    children_right = tree.children_right\n",
        "    feature = tree.feature\n",
        "    threshold = tree.threshold\n",
        "    impurity = tree.impurity\n",
        "    n_node_samples = tree.n_node_samples\n",
        "    weighted_n_node_samples = tree.weighted_n_node_samples\n",
        "\n",
        "    dot_source = 'digraph Tree {\\n'\n",
        "\n",
        "    if oob_error is not None:\n",
        "        dot_source += f'label=\"OOB Error: {oob_error.round(2)}\\\\n\";\\n'\n",
        "        dot_source += 'labelloc=\"t\";\\n'  # Position the model-level label at the top\n",
        "\n",
        "    for i in range(n_nodes):\n",
        "        node_info = f\"Node {i}\\\\n\"\n",
        "        node_info += f\"Samples: {n_node_samples[i]}\\\\n\"\n",
        "        node_info += f\"Value: {tree.value[i].round(2)}\\\\n\"\n",
        "        node_info += f\"Impurity: {impurity[i].round(2)}\\\\n\"\n",
        "        node_info += f\"Impurity Reduction: {impurity_reduction[i].round(2)}\\\\n\"\n",
        "        node_info += f\"Custom Metric: {custom_metric[i].round(2)}\\\\n\"\n",
        "        node_info += f\"Weighted samples: {weighted_n_node_samples[i].round(2)}\\\\n\"\n",
        "\n",
        "        if children_left[i] == children_right[i]:  # if leaf node\n",
        "            dot_source += f'{i} [label=\"{node_info}\", shape=\"box\"];\\n'\n",
        "        else:\n",
        "            node_info += f\"Feature: {feature_names[feature[i]]}\\\\n\"\n",
        "            node_info += f\"Threshold: {threshold[i].round(2)}\"\n",
        "            dot_source += f'{i} [label=\"{node_info}\"];\\n'\n",
        "\n",
        "        if children_left[i] != -1:\n",
        "            dot_source += f'{i} -> {children_left[i]} [labeldistance=2.5, labelangle=45, headlabel=\"True\"];\\n'\n",
        "        if children_right[i] != -1:\n",
        "            dot_source += f'{i} -> {children_right[i]} [labeldistance=2.5, labelangle=-45, headlabel=\"False\"];\\n'\n",
        "\n",
        "    dot_source += '}'\n",
        "    return dot_source\n",
        "\n",
        "def auto_generate_dot_source(model, feature_names, class_names):\n",
        "    \"\"\"\n",
        "    Automatically compute metrics and generate DOT source for tree visualization.\n",
        "\n",
        "    Parameters:\n",
        "    - model: The trained model (DecisionTreeClassifier or RandomForestClassifier).\n",
        "    - feature_names: Names of the features.\n",
        "    - class_names: Names of the target classes.\n",
        "\n",
        "    Returns:\n",
        "    - The DOT source as a string.\n",
        "    \"\"\"\n",
        "    is_rf = isinstance(model, RandomForestClassifier)\n",
        "\n",
        "    # For RandomForest, use one of the trees, for DecisionTree, use the model itself\n",
        "    tree = model.estimators_[0].tree_ if is_rf else model.tree_\n",
        "\n",
        "    # Compute metrics\n",
        "    impurity_reduction = calculate_impurity_reduction(tree)\n",
        "    custom_metric = np.random.rand(tree.node_count)  # Placeholder for custom metric\n",
        "    oob_error = get_oob_error(model) if is_rf else None  # Compute OOB error if model is RandomForest\n",
        "\n",
        "    # Generate the DOT source\n",
        "    dot_source = get_dot_source(tree, feature_names, class_names, impurity_reduction, custom_metric, oob_error)\n",
        "    return dot_source\n",
        "\n",
        "\n",
        "from sklearn.tree import DecisionTreeClassifier\n",
        "\n",
        "# Load the Iris dataset\n",
        "data = load_iris()\n",
        "X, y = data.data, data.target\n",
        "\n",
        "# Train a DecisionTreeClassifier\n",
        "model = DecisionTreeClassifier(random_state=0)\n",
        "model.fit(X, y)\n",
        "\n",
        "# Automatically compute metrics and generate the DOT source\n",
        "dot_source = auto_generate_dot_source(model, data.feature_names, data.target_names)\n",
        "\n",
        "# ... (rest of your code for saving and rendering the tree) ...\n",
        "\n",
        "\n",
        "# Define file paths\n",
        "directory = '/mnt/data'\n",
        "if not os.path.exists(directory):\n",
        "    os.makedirs(directory)\n",
        "\n",
        "dot_path = os.path.join(directory, 'tree_graph.dot')\n",
        "png_path = os.path.join(directory, 'tree_graph.png')\n",
        "\n",
        "# Save the DOT source to a file\n",
        "with open(dot_path, 'w') as f:\n",
        "    f.write(dot_source)\n",
        "\n",
        "# Use the command line utility of Graphviz to render the PNG image\n",
        "!dot -Tpng {dot_path} -o {png_path}\n",
        "\n",
        "# The PNG file path\n",
        "print(f\"The tree graph is saved as {png_path}\")"
      ],
      "metadata": {
        "colab": {
          "base_uri": "https://localhost:8080/"
        },
        "id": "8nYP1XY9zWK6",
        "outputId": "b26d8c72-ee1b-4d0c-8bab-29b580b8ba3b"
      },
      "execution_count": null,
      "outputs": [
        {
          "output_type": "stream",
          "name": "stdout",
          "text": [
            "The tree graph is saved as /mnt/data/tree_graph.png\n"
          ]
        }
      ]
    },
    {
      "cell_type": "code",
      "source": [
        "# Install graphviz in the Colab environment (if not already installed)\n",
        "!apt-get install graphviz -y\n",
        "\n",
        "# Save the DOT source to a file\n",
        "with open(dot_path, 'w') as f:\n",
        "    f.write(dot_source)\n",
        "\n",
        "# Use graphviz to render the image and display it within the notebook\n",
        "import graphviz\n",
        "with open(dot_path) as f:\n",
        "    dot_graph = f.read()\n",
        "graphviz.Source(dot_graph)"
      ],
      "metadata": {
        "colab": {
          "base_uri": "https://localhost:8080/",
          "height": 1000
        },
        "id": "IErIiwSdzldi",
        "outputId": "3b645c1f-407e-4a24-c42f-60fef33595b3"
      },
      "execution_count": null,
      "outputs": [
        {
          "output_type": "stream",
          "name": "stdout",
          "text": [
            "Reading package lists... Done\n",
            "Building dependency tree... Done\n",
            "Reading state information... Done\n",
            "graphviz is already the newest version (2.42.2-6).\n",
            "0 upgraded, 0 newly installed, 0 to remove and 32 not upgraded.\n"
          ]
        },
        {
          "output_type": "execute_result",
          "data": {
            "image/svg+xml": "<?xml version=\"1.0\" encoding=\"UTF-8\" standalone=\"no\"?>\n<!DOCTYPE svg PUBLIC \"-//W3C//DTD SVG 1.1//EN\"\n \"http://www.w3.org/Graphics/SVG/1.1/DTD/svg11.dtd\">\n<!-- Generated by graphviz version 2.43.0 (0)\n -->\n<!-- Title: Tree Pages: 1 -->\n<svg width=\"1103pt\" height=\"1312pt\"\n viewBox=\"0.00 0.00 1103.00 1312.16\" xmlns=\"http://www.w3.org/2000/svg\" xmlns:xlink=\"http://www.w3.org/1999/xlink\">\n<g id=\"graph0\" class=\"graph\" transform=\"scale(1 1) rotate(0) translate(4 1308.16)\">\n<title>Tree</title>\n<polygon fill=\"white\" stroke=\"transparent\" points=\"-4,4 -4,-1308.16 1099,-1308.16 1099,4 -4,4\"/>\n<!-- 0 -->\n<g id=\"node1\" class=\"node\">\n<title>0</title>\n<ellipse fill=\"none\" stroke=\"black\" cx=\"570.5\" cy=\"-1203.05\" rx=\"109.7\" ry=\"101.23\"/>\n<text text-anchor=\"middle\" x=\"570.5\" y=\"-1259.35\" font-family=\"Times,serif\" font-size=\"14.00\">Node 0</text>\n<text text-anchor=\"middle\" x=\"570.5\" y=\"-1244.35\" font-family=\"Times,serif\" font-size=\"14.00\">Samples: 150</text>\n<text text-anchor=\"middle\" x=\"570.5\" y=\"-1229.35\" font-family=\"Times,serif\" font-size=\"14.00\">Value: [[50. 50. 50.]]</text>\n<text text-anchor=\"middle\" x=\"570.5\" y=\"-1214.35\" font-family=\"Times,serif\" font-size=\"14.00\">Impurity: 0.67</text>\n<text text-anchor=\"middle\" x=\"570.5\" y=\"-1199.35\" font-family=\"Times,serif\" font-size=\"14.00\">Impurity Reduction: 0.33</text>\n<text text-anchor=\"middle\" x=\"570.5\" y=\"-1184.35\" font-family=\"Times,serif\" font-size=\"14.00\">Custom Metric: 0.38</text>\n<text text-anchor=\"middle\" x=\"570.5\" y=\"-1169.35\" font-family=\"Times,serif\" font-size=\"14.00\">Weighted samples: 150.0</text>\n<text text-anchor=\"middle\" x=\"570.5\" y=\"-1154.35\" font-family=\"Times,serif\" font-size=\"14.00\">Feature: petal width (cm)</text>\n<text text-anchor=\"middle\" x=\"570.5\" y=\"-1139.35\" font-family=\"Times,serif\" font-size=\"14.00\">Threshold: 0.8</text>\n</g>\n<!-- 1 -->\n<g id=\"node2\" class=\"node\">\n<title>1</title>\n<polygon fill=\"none\" stroke=\"black\" points=\"544,-1021.31 395,-1021.31 395,-908.31 544,-908.31 544,-1021.31\"/>\n<text text-anchor=\"middle\" x=\"469.5\" y=\"-1006.11\" font-family=\"Times,serif\" font-size=\"14.00\">Node 1</text>\n<text text-anchor=\"middle\" x=\"469.5\" y=\"-991.11\" font-family=\"Times,serif\" font-size=\"14.00\">Samples: 50</text>\n<text text-anchor=\"middle\" x=\"469.5\" y=\"-976.11\" font-family=\"Times,serif\" font-size=\"14.00\">Value: [[50. &#160;0. &#160;0.]]</text>\n<text text-anchor=\"middle\" x=\"469.5\" y=\"-961.11\" font-family=\"Times,serif\" font-size=\"14.00\">Impurity: 0.0</text>\n<text text-anchor=\"middle\" x=\"469.5\" y=\"-946.11\" font-family=\"Times,serif\" font-size=\"14.00\">Impurity Reduction: 0.0</text>\n<text text-anchor=\"middle\" x=\"469.5\" y=\"-931.11\" font-family=\"Times,serif\" font-size=\"14.00\">Custom Metric: 0.11</text>\n<text text-anchor=\"middle\" x=\"469.5\" y=\"-916.11\" font-family=\"Times,serif\" font-size=\"14.00\">Weighted samples: 50.0</text>\n</g>\n<!-- 0&#45;&gt;1 -->\n<g id=\"edge1\" class=\"edge\">\n<title>0&#45;&gt;1</title>\n<path fill=\"none\" stroke=\"black\" d=\"M530.58,-1108.68C519.43,-1082.61 507.57,-1054.85 497.29,-1030.81\"/>\n<polygon fill=\"black\" stroke=\"black\" points=\"500.43,-1029.26 493.28,-1021.44 493.99,-1032.01 500.43,-1029.26\"/>\n<text text-anchor=\"middle\" x=\"483.98\" y=\"-1040.94\" font-family=\"Times,serif\" font-size=\"14.00\">True</text>\n</g>\n<!-- 2 -->\n<g id=\"node3\" class=\"node\">\n<title>2</title>\n<ellipse fill=\"none\" stroke=\"black\" cx=\"671.5\" cy=\"-964.81\" rx=\"109.7\" ry=\"101.23\"/>\n<text text-anchor=\"middle\" x=\"671.5\" y=\"-1021.11\" font-family=\"Times,serif\" font-size=\"14.00\">Node 2</text>\n<text text-anchor=\"middle\" x=\"671.5\" y=\"-1006.11\" font-family=\"Times,serif\" font-size=\"14.00\">Samples: 100</text>\n<text text-anchor=\"middle\" x=\"671.5\" y=\"-991.11\" font-family=\"Times,serif\" font-size=\"14.00\">Value: [[ 0. 50. 50.]]</text>\n<text text-anchor=\"middle\" x=\"671.5\" y=\"-976.11\" font-family=\"Times,serif\" font-size=\"14.00\">Impurity: 0.5</text>\n<text text-anchor=\"middle\" x=\"671.5\" y=\"-961.11\" font-family=\"Times,serif\" font-size=\"14.00\">Impurity Reduction: 0.39</text>\n<text text-anchor=\"middle\" x=\"671.5\" y=\"-946.11\" font-family=\"Times,serif\" font-size=\"14.00\">Custom Metric: 0.88</text>\n<text text-anchor=\"middle\" x=\"671.5\" y=\"-931.11\" font-family=\"Times,serif\" font-size=\"14.00\">Weighted samples: 100.0</text>\n<text text-anchor=\"middle\" x=\"671.5\" y=\"-916.11\" font-family=\"Times,serif\" font-size=\"14.00\">Feature: petal width (cm)</text>\n<text text-anchor=\"middle\" x=\"671.5\" y=\"-901.11\" font-family=\"Times,serif\" font-size=\"14.00\">Threshold: 1.75</text>\n</g>\n<!-- 0&#45;&gt;2 -->\n<g id=\"edge2\" class=\"edge\">\n<title>0&#45;&gt;2</title>\n<path fill=\"none\" stroke=\"black\" d=\"M610.42,-1108.68C616.06,-1095.48 621.89,-1081.84 627.61,-1068.48\"/>\n<polygon fill=\"black\" stroke=\"black\" points=\"630.83,-1069.85 631.54,-1059.27 624.39,-1067.09 630.83,-1069.85\"/>\n<text text-anchor=\"middle\" x=\"640.85\" y=\"-1078.78\" font-family=\"Times,serif\" font-size=\"14.00\">False</text>\n</g>\n<!-- 3 -->\n<g id=\"node4\" class=\"node\">\n<title>3</title>\n<ellipse fill=\"none\" stroke=\"black\" cx=\"526.5\" cy=\"-726.58\" rx=\"111.95\" ry=\"101.23\"/>\n<text text-anchor=\"middle\" x=\"526.5\" y=\"-782.88\" font-family=\"Times,serif\" font-size=\"14.00\">Node 3</text>\n<text text-anchor=\"middle\" x=\"526.5\" y=\"-767.88\" font-family=\"Times,serif\" font-size=\"14.00\">Samples: 54</text>\n<text text-anchor=\"middle\" x=\"526.5\" y=\"-752.88\" font-family=\"Times,serif\" font-size=\"14.00\">Value: [[ 0. 49. &#160;5.]]</text>\n<text text-anchor=\"middle\" x=\"526.5\" y=\"-737.88\" font-family=\"Times,serif\" font-size=\"14.00\">Impurity: 0.17</text>\n<text text-anchor=\"middle\" x=\"526.5\" y=\"-722.88\" font-family=\"Times,serif\" font-size=\"14.00\">Impurity Reduction: 0.08</text>\n<text text-anchor=\"middle\" x=\"526.5\" y=\"-707.88\" font-family=\"Times,serif\" font-size=\"14.00\">Custom Metric: 0.49</text>\n<text text-anchor=\"middle\" x=\"526.5\" y=\"-692.88\" font-family=\"Times,serif\" font-size=\"14.00\">Weighted samples: 54.0</text>\n<text text-anchor=\"middle\" x=\"526.5\" y=\"-677.88\" font-family=\"Times,serif\" font-size=\"14.00\">Feature: petal length (cm)</text>\n<text text-anchor=\"middle\" x=\"526.5\" y=\"-662.88\" font-family=\"Times,serif\" font-size=\"14.00\">Threshold: 4.95</text>\n</g>\n<!-- 2&#45;&gt;3 -->\n<g id=\"edge3\" class=\"edge\">\n<title>2&#45;&gt;3</title>\n<path fill=\"none\" stroke=\"black\" d=\"M617.92,-876.52C607.48,-859.51 596.47,-841.58 585.86,-824.28\"/>\n<polygon fill=\"black\" stroke=\"black\" points=\"588.56,-822 580.34,-815.3 582.59,-825.66 588.56,-822\"/>\n<text text-anchor=\"middle\" x=\"574.53\" y=\"-835.92\" font-family=\"Times,serif\" font-size=\"14.00\">True</text>\n</g>\n<!-- 12 -->\n<g id=\"node5\" class=\"node\">\n<title>12</title>\n<ellipse fill=\"none\" stroke=\"black\" cx=\"816.5\" cy=\"-726.58\" rx=\"111.95\" ry=\"101.23\"/>\n<text text-anchor=\"middle\" x=\"816.5\" y=\"-782.88\" font-family=\"Times,serif\" font-size=\"14.00\">Node 12</text>\n<text text-anchor=\"middle\" x=\"816.5\" y=\"-767.88\" font-family=\"Times,serif\" font-size=\"14.00\">Samples: 46</text>\n<text text-anchor=\"middle\" x=\"816.5\" y=\"-752.88\" font-family=\"Times,serif\" font-size=\"14.00\">Value: [[ 0. &#160;1. 45.]]</text>\n<text text-anchor=\"middle\" x=\"816.5\" y=\"-737.88\" font-family=\"Times,serif\" font-size=\"14.00\">Impurity: 0.04</text>\n<text text-anchor=\"middle\" x=\"816.5\" y=\"-722.88\" font-family=\"Times,serif\" font-size=\"14.00\">Impurity Reduction: 0.01</text>\n<text text-anchor=\"middle\" x=\"816.5\" y=\"-707.88\" font-family=\"Times,serif\" font-size=\"14.00\">Custom Metric: 0.49</text>\n<text text-anchor=\"middle\" x=\"816.5\" y=\"-692.88\" font-family=\"Times,serif\" font-size=\"14.00\">Weighted samples: 46.0</text>\n<text text-anchor=\"middle\" x=\"816.5\" y=\"-677.88\" font-family=\"Times,serif\" font-size=\"14.00\">Feature: petal length (cm)</text>\n<text text-anchor=\"middle\" x=\"816.5\" y=\"-662.88\" font-family=\"Times,serif\" font-size=\"14.00\">Threshold: 4.85</text>\n</g>\n<!-- 2&#45;&gt;12 -->\n<g id=\"edge4\" class=\"edge\">\n<title>2&#45;&gt;12</title>\n<path fill=\"none\" stroke=\"black\" d=\"M725.08,-876.52C735.52,-859.51 746.53,-841.58 757.14,-824.28\"/>\n<polygon fill=\"black\" stroke=\"black\" points=\"760.41,-825.66 762.66,-815.3 754.44,-822 760.41,-825.66\"/>\n<text text-anchor=\"middle\" x=\"768.47\" y=\"-835.92\" font-family=\"Times,serif\" font-size=\"14.00\">False</text>\n</g>\n<!-- 4 -->\n<g id=\"node6\" class=\"node\">\n<title>4</title>\n<ellipse fill=\"none\" stroke=\"black\" cx=\"241.5\" cy=\"-488.35\" rx=\"109.7\" ry=\"101.23\"/>\n<text text-anchor=\"middle\" x=\"241.5\" y=\"-544.65\" font-family=\"Times,serif\" font-size=\"14.00\">Node 4</text>\n<text text-anchor=\"middle\" x=\"241.5\" y=\"-529.65\" font-family=\"Times,serif\" font-size=\"14.00\">Samples: 48</text>\n<text text-anchor=\"middle\" x=\"241.5\" y=\"-514.65\" font-family=\"Times,serif\" font-size=\"14.00\">Value: [[ 0. 47. &#160;1.]]</text>\n<text text-anchor=\"middle\" x=\"241.5\" y=\"-499.65\" font-family=\"Times,serif\" font-size=\"14.00\">Impurity: 0.04</text>\n<text text-anchor=\"middle\" x=\"241.5\" y=\"-484.65\" font-family=\"Times,serif\" font-size=\"14.00\">Impurity Reduction: 0.04</text>\n<text text-anchor=\"middle\" x=\"241.5\" y=\"-469.65\" font-family=\"Times,serif\" font-size=\"14.00\">Custom Metric: 0.41</text>\n<text text-anchor=\"middle\" x=\"241.5\" y=\"-454.65\" font-family=\"Times,serif\" font-size=\"14.00\">Weighted samples: 48.0</text>\n<text text-anchor=\"middle\" x=\"241.5\" y=\"-439.65\" font-family=\"Times,serif\" font-size=\"14.00\">Feature: petal width (cm)</text>\n<text text-anchor=\"middle\" x=\"241.5\" y=\"-424.65\" font-family=\"Times,serif\" font-size=\"14.00\">Threshold: 1.65</text>\n</g>\n<!-- 3&#45;&gt;4 -->\n<g id=\"edge5\" class=\"edge\">\n<title>3&#45;&gt;4</title>\n<path fill=\"none\" stroke=\"black\" d=\"M444.45,-657.57C408.98,-628.17 367.38,-593.69 331.11,-563.62\"/>\n<polygon fill=\"black\" stroke=\"black\" points=\"332.91,-560.57 322.97,-556.88 328.44,-565.96 332.91,-560.57\"/>\n<text text-anchor=\"middle\" x=\"325.3\" y=\"-578.07\" font-family=\"Times,serif\" font-size=\"14.00\">True</text>\n</g>\n<!-- 7 -->\n<g id=\"node7\" class=\"node\">\n<title>7</title>\n<ellipse fill=\"none\" stroke=\"black\" cx=\"526.5\" cy=\"-488.35\" rx=\"109.7\" ry=\"101.23\"/>\n<text text-anchor=\"middle\" x=\"526.5\" y=\"-544.65\" font-family=\"Times,serif\" font-size=\"14.00\">Node 7</text>\n<text text-anchor=\"middle\" x=\"526.5\" y=\"-529.65\" font-family=\"Times,serif\" font-size=\"14.00\">Samples: 6</text>\n<text text-anchor=\"middle\" x=\"526.5\" y=\"-514.65\" font-family=\"Times,serif\" font-size=\"14.00\">Value: [[0. 2. 4.]]</text>\n<text text-anchor=\"middle\" x=\"526.5\" y=\"-499.65\" font-family=\"Times,serif\" font-size=\"14.00\">Impurity: 0.44</text>\n<text text-anchor=\"middle\" x=\"526.5\" y=\"-484.65\" font-family=\"Times,serif\" font-size=\"14.00\">Impurity Reduction: 0.22</text>\n<text text-anchor=\"middle\" x=\"526.5\" y=\"-469.65\" font-family=\"Times,serif\" font-size=\"14.00\">Custom Metric: 0.26</text>\n<text text-anchor=\"middle\" x=\"526.5\" y=\"-454.65\" font-family=\"Times,serif\" font-size=\"14.00\">Weighted samples: 6.0</text>\n<text text-anchor=\"middle\" x=\"526.5\" y=\"-439.65\" font-family=\"Times,serif\" font-size=\"14.00\">Feature: petal width (cm)</text>\n<text text-anchor=\"middle\" x=\"526.5\" y=\"-424.65\" font-family=\"Times,serif\" font-size=\"14.00\">Threshold: 1.55</text>\n</g>\n<!-- 3&#45;&gt;7 -->\n<g id=\"edge6\" class=\"edge\">\n<title>3&#45;&gt;7</title>\n<path fill=\"none\" stroke=\"black\" d=\"M526.5,-625.4C526.5,-616.9 526.5,-608.28 526.5,-599.71\"/>\n<polygon fill=\"black\" stroke=\"black\" points=\"530,-599.69 526.5,-589.69 523,-599.69 530,-599.69\"/>\n<text text-anchor=\"middle\" x=\"544.18\" y=\"-603.67\" font-family=\"Times,serif\" font-size=\"14.00\">False</text>\n</g>\n<!-- 13 -->\n<g id=\"node14\" class=\"node\">\n<title>13</title>\n<ellipse fill=\"none\" stroke=\"black\" cx=\"816.5\" cy=\"-488.35\" rx=\"111.03\" ry=\"101.23\"/>\n<text text-anchor=\"middle\" x=\"816.5\" y=\"-544.65\" font-family=\"Times,serif\" font-size=\"14.00\">Node 13</text>\n<text text-anchor=\"middle\" x=\"816.5\" y=\"-529.65\" font-family=\"Times,serif\" font-size=\"14.00\">Samples: 3</text>\n<text text-anchor=\"middle\" x=\"816.5\" y=\"-514.65\" font-family=\"Times,serif\" font-size=\"14.00\">Value: [[0. 1. 2.]]</text>\n<text text-anchor=\"middle\" x=\"816.5\" y=\"-499.65\" font-family=\"Times,serif\" font-size=\"14.00\">Impurity: 0.44</text>\n<text text-anchor=\"middle\" x=\"816.5\" y=\"-484.65\" font-family=\"Times,serif\" font-size=\"14.00\">Impurity Reduction: 0.44</text>\n<text text-anchor=\"middle\" x=\"816.5\" y=\"-469.65\" font-family=\"Times,serif\" font-size=\"14.00\">Custom Metric: 0.45</text>\n<text text-anchor=\"middle\" x=\"816.5\" y=\"-454.65\" font-family=\"Times,serif\" font-size=\"14.00\">Weighted samples: 3.0</text>\n<text text-anchor=\"middle\" x=\"816.5\" y=\"-439.65\" font-family=\"Times,serif\" font-size=\"14.00\">Feature: sepal width (cm)</text>\n<text text-anchor=\"middle\" x=\"816.5\" y=\"-424.65\" font-family=\"Times,serif\" font-size=\"14.00\">Threshold: 3.1</text>\n</g>\n<!-- 12&#45;&gt;13 -->\n<g id=\"edge13\" class=\"edge\">\n<title>12&#45;&gt;13</title>\n<path fill=\"none\" stroke=\"black\" d=\"M816.5,-625.4C816.5,-616.9 816.5,-608.28 816.5,-599.71\"/>\n<polygon fill=\"black\" stroke=\"black\" points=\"820,-599.69 816.5,-589.69 813,-599.69 820,-599.69\"/>\n<text text-anchor=\"middle\" x=\"798.82\" y=\"-603.67\" font-family=\"Times,serif\" font-size=\"14.00\">True</text>\n</g>\n<!-- 16 -->\n<g id=\"node15\" class=\"node\">\n<title>16</title>\n<polygon fill=\"none\" stroke=\"black\" points=\"1095,-544.85 946,-544.85 946,-431.85 1095,-431.85 1095,-544.85\"/>\n<text text-anchor=\"middle\" x=\"1020.5\" y=\"-529.65\" font-family=\"Times,serif\" font-size=\"14.00\">Node 16</text>\n<text text-anchor=\"middle\" x=\"1020.5\" y=\"-514.65\" font-family=\"Times,serif\" font-size=\"14.00\">Samples: 43</text>\n<text text-anchor=\"middle\" x=\"1020.5\" y=\"-499.65\" font-family=\"Times,serif\" font-size=\"14.00\">Value: [[ 0. &#160;0. 43.]]</text>\n<text text-anchor=\"middle\" x=\"1020.5\" y=\"-484.65\" font-family=\"Times,serif\" font-size=\"14.00\">Impurity: 0.0</text>\n<text text-anchor=\"middle\" x=\"1020.5\" y=\"-469.65\" font-family=\"Times,serif\" font-size=\"14.00\">Impurity Reduction: 0.0</text>\n<text text-anchor=\"middle\" x=\"1020.5\" y=\"-454.65\" font-family=\"Times,serif\" font-size=\"14.00\">Custom Metric: 0.18</text>\n<text text-anchor=\"middle\" x=\"1020.5\" y=\"-439.65\" font-family=\"Times,serif\" font-size=\"14.00\">Weighted samples: 43.0</text>\n</g>\n<!-- 12&#45;&gt;16 -->\n<g id=\"edge14\" class=\"edge\">\n<title>12&#45;&gt;16</title>\n<path fill=\"none\" stroke=\"black\" d=\"M886.31,-647.05C902.85,-628.26 920.37,-608.21 936.5,-589.47 946.63,-577.68 957.36,-565.04 967.63,-552.84\"/>\n<polygon fill=\"black\" stroke=\"black\" points=\"970.55,-554.8 974.31,-544.9 965.19,-550.3 970.55,-554.8\"/>\n<text text-anchor=\"middle\" x=\"976.46\" y=\"-566.1\" font-family=\"Times,serif\" font-size=\"14.00\">False</text>\n</g>\n<!-- 5 -->\n<g id=\"node8\" class=\"node\">\n<title>5</title>\n<polygon fill=\"none\" stroke=\"black\" points=\"149,-306.62 0,-306.62 0,-193.62 149,-193.62 149,-306.62\"/>\n<text text-anchor=\"middle\" x=\"74.5\" y=\"-291.42\" font-family=\"Times,serif\" font-size=\"14.00\">Node 5</text>\n<text text-anchor=\"middle\" x=\"74.5\" y=\"-276.42\" font-family=\"Times,serif\" font-size=\"14.00\">Samples: 47</text>\n<text text-anchor=\"middle\" x=\"74.5\" y=\"-261.42\" font-family=\"Times,serif\" font-size=\"14.00\">Value: [[ 0. 47. &#160;0.]]</text>\n<text text-anchor=\"middle\" x=\"74.5\" y=\"-246.42\" font-family=\"Times,serif\" font-size=\"14.00\">Impurity: 0.0</text>\n<text text-anchor=\"middle\" x=\"74.5\" y=\"-231.42\" font-family=\"Times,serif\" font-size=\"14.00\">Impurity Reduction: 0.0</text>\n<text text-anchor=\"middle\" x=\"74.5\" y=\"-216.42\" font-family=\"Times,serif\" font-size=\"14.00\">Custom Metric: 0.21</text>\n<text text-anchor=\"middle\" x=\"74.5\" y=\"-201.42\" font-family=\"Times,serif\" font-size=\"14.00\">Weighted samples: 47.0</text>\n</g>\n<!-- 4&#45;&gt;5 -->\n<g id=\"edge7\" class=\"edge\">\n<title>4&#45;&gt;5</title>\n<path fill=\"none\" stroke=\"black\" d=\"M181.92,-403.06C161.46,-374.12 138.91,-342.22 119.77,-315.16\"/>\n<polygon fill=\"black\" stroke=\"black\" points=\"122.58,-313.07 113.95,-306.92 116.86,-317.11 122.58,-313.07\"/>\n<text text-anchor=\"middle\" x=\"109.72\" y=\"-327.86\" font-family=\"Times,serif\" font-size=\"14.00\">True</text>\n</g>\n<!-- 6 -->\n<g id=\"node9\" class=\"node\">\n<title>6</title>\n<polygon fill=\"none\" stroke=\"black\" points=\"316,-306.62 167,-306.62 167,-193.62 316,-193.62 316,-306.62\"/>\n<text text-anchor=\"middle\" x=\"241.5\" y=\"-291.42\" font-family=\"Times,serif\" font-size=\"14.00\">Node 6</text>\n<text text-anchor=\"middle\" x=\"241.5\" y=\"-276.42\" font-family=\"Times,serif\" font-size=\"14.00\">Samples: 1</text>\n<text text-anchor=\"middle\" x=\"241.5\" y=\"-261.42\" font-family=\"Times,serif\" font-size=\"14.00\">Value: [[0. 0. 1.]]</text>\n<text text-anchor=\"middle\" x=\"241.5\" y=\"-246.42\" font-family=\"Times,serif\" font-size=\"14.00\">Impurity: 0.0</text>\n<text text-anchor=\"middle\" x=\"241.5\" y=\"-231.42\" font-family=\"Times,serif\" font-size=\"14.00\">Impurity Reduction: 0.0</text>\n<text text-anchor=\"middle\" x=\"241.5\" y=\"-216.42\" font-family=\"Times,serif\" font-size=\"14.00\">Custom Metric: 0.3</text>\n<text text-anchor=\"middle\" x=\"241.5\" y=\"-201.42\" font-family=\"Times,serif\" font-size=\"14.00\">Weighted samples: 1.0</text>\n</g>\n<!-- 4&#45;&gt;6 -->\n<g id=\"edge8\" class=\"edge\">\n<title>4&#45;&gt;6</title>\n<path fill=\"none\" stroke=\"black\" d=\"M241.5,-387.16C241.5,-363.39 241.5,-338.62 241.5,-316.84\"/>\n<polygon fill=\"black\" stroke=\"black\" points=\"245,-316.73 241.5,-306.73 238,-316.73 245,-316.73\"/>\n<text text-anchor=\"middle\" x=\"259.18\" y=\"-320.71\" font-family=\"Times,serif\" font-size=\"14.00\">False</text>\n</g>\n<!-- 8 -->\n<g id=\"node10\" class=\"node\">\n<title>8</title>\n<polygon fill=\"none\" stroke=\"black\" points=\"483,-306.62 334,-306.62 334,-193.62 483,-193.62 483,-306.62\"/>\n<text text-anchor=\"middle\" x=\"408.5\" y=\"-291.42\" font-family=\"Times,serif\" font-size=\"14.00\">Node 8</text>\n<text text-anchor=\"middle\" x=\"408.5\" y=\"-276.42\" font-family=\"Times,serif\" font-size=\"14.00\">Samples: 3</text>\n<text text-anchor=\"middle\" x=\"408.5\" y=\"-261.42\" font-family=\"Times,serif\" font-size=\"14.00\">Value: [[0. 0. 3.]]</text>\n<text text-anchor=\"middle\" x=\"408.5\" y=\"-246.42\" font-family=\"Times,serif\" font-size=\"14.00\">Impurity: 0.0</text>\n<text text-anchor=\"middle\" x=\"408.5\" y=\"-231.42\" font-family=\"Times,serif\" font-size=\"14.00\">Impurity Reduction: 0.0</text>\n<text text-anchor=\"middle\" x=\"408.5\" y=\"-216.42\" font-family=\"Times,serif\" font-size=\"14.00\">Custom Metric: 0.61</text>\n<text text-anchor=\"middle\" x=\"408.5\" y=\"-201.42\" font-family=\"Times,serif\" font-size=\"14.00\">Weighted samples: 3.0</text>\n</g>\n<!-- 7&#45;&gt;8 -->\n<g id=\"edge9\" class=\"edge\">\n<title>7&#45;&gt;8</title>\n<path fill=\"none\" stroke=\"black\" d=\"M480.88,-396.02C467.54,-369.31 453.23,-340.67 440.89,-315.96\"/>\n<polygon fill=\"black\" stroke=\"black\" points=\"443.86,-314.08 436.26,-306.7 437.6,-317.21 443.86,-314.08\"/>\n<text text-anchor=\"middle\" x=\"428.35\" y=\"-326.71\" font-family=\"Times,serif\" font-size=\"14.00\">True</text>\n</g>\n<!-- 9 -->\n<g id=\"node11\" class=\"node\">\n<title>9</title>\n<ellipse fill=\"none\" stroke=\"black\" cx=\"612.5\" cy=\"-250.12\" rx=\"111.95\" ry=\"101.23\"/>\n<text text-anchor=\"middle\" x=\"612.5\" y=\"-306.42\" font-family=\"Times,serif\" font-size=\"14.00\">Node 9</text>\n<text text-anchor=\"middle\" x=\"612.5\" y=\"-291.42\" font-family=\"Times,serif\" font-size=\"14.00\">Samples: 3</text>\n<text text-anchor=\"middle\" x=\"612.5\" y=\"-276.42\" font-family=\"Times,serif\" font-size=\"14.00\">Value: [[0. 2. 1.]]</text>\n<text text-anchor=\"middle\" x=\"612.5\" y=\"-261.42\" font-family=\"Times,serif\" font-size=\"14.00\">Impurity: 0.44</text>\n<text text-anchor=\"middle\" x=\"612.5\" y=\"-246.42\" font-family=\"Times,serif\" font-size=\"14.00\">Impurity Reduction: 0.44</text>\n<text text-anchor=\"middle\" x=\"612.5\" y=\"-231.42\" font-family=\"Times,serif\" font-size=\"14.00\">Custom Metric: 0.33</text>\n<text text-anchor=\"middle\" x=\"612.5\" y=\"-216.42\" font-family=\"Times,serif\" font-size=\"14.00\">Weighted samples: 3.0</text>\n<text text-anchor=\"middle\" x=\"612.5\" y=\"-201.42\" font-family=\"Times,serif\" font-size=\"14.00\">Feature: petal length (cm)</text>\n<text text-anchor=\"middle\" x=\"612.5\" y=\"-186.42\" font-family=\"Times,serif\" font-size=\"14.00\">Threshold: 5.45</text>\n</g>\n<!-- 7&#45;&gt;9 -->\n<g id=\"edge10\" class=\"edge\">\n<title>7&#45;&gt;9</title>\n<path fill=\"none\" stroke=\"black\" d=\"M561.11,-392.29C565.45,-380.35 569.92,-368.08 574.32,-356.01\"/>\n<polygon fill=\"black\" stroke=\"black\" points=\"577.69,-356.96 577.82,-346.37 571.11,-354.57 577.69,-356.96\"/>\n<text text-anchor=\"middle\" x=\"588.39\" y=\"-365.33\" font-family=\"Times,serif\" font-size=\"14.00\">False</text>\n</g>\n<!-- 10 -->\n<g id=\"node12\" class=\"node\">\n<title>10</title>\n<polygon fill=\"none\" stroke=\"black\" points=\"603,-113 454,-113 454,0 603,0 603,-113\"/>\n<text text-anchor=\"middle\" x=\"528.5\" y=\"-97.8\" font-family=\"Times,serif\" font-size=\"14.00\">Node 10</text>\n<text text-anchor=\"middle\" x=\"528.5\" y=\"-82.8\" font-family=\"Times,serif\" font-size=\"14.00\">Samples: 2</text>\n<text text-anchor=\"middle\" x=\"528.5\" y=\"-67.8\" font-family=\"Times,serif\" font-size=\"14.00\">Value: [[0. 2. 0.]]</text>\n<text text-anchor=\"middle\" x=\"528.5\" y=\"-52.8\" font-family=\"Times,serif\" font-size=\"14.00\">Impurity: 0.0</text>\n<text text-anchor=\"middle\" x=\"528.5\" y=\"-37.8\" font-family=\"Times,serif\" font-size=\"14.00\">Impurity Reduction: 0.0</text>\n<text text-anchor=\"middle\" x=\"528.5\" y=\"-22.8\" font-family=\"Times,serif\" font-size=\"14.00\">Custom Metric: 0.57</text>\n<text text-anchor=\"middle\" x=\"528.5\" y=\"-7.8\" font-family=\"Times,serif\" font-size=\"14.00\">Weighted samples: 2.0</text>\n</g>\n<!-- 9&#45;&gt;10 -->\n<g id=\"edge11\" class=\"edge\">\n<title>9&#45;&gt;10</title>\n<path fill=\"none\" stroke=\"black\" d=\"M571.61,-155.83C566.67,-144.57 561.71,-133.26 557.01,-122.53\"/>\n<polygon fill=\"black\" stroke=\"black\" points=\"560.16,-121.01 552.94,-113.26 553.75,-123.82 560.16,-121.01\"/>\n<text text-anchor=\"middle\" x=\"543.85\" y=\"-132.85\" font-family=\"Times,serif\" font-size=\"14.00\">True</text>\n</g>\n<!-- 11 -->\n<g id=\"node13\" class=\"node\">\n<title>11</title>\n<polygon fill=\"none\" stroke=\"black\" points=\"770,-113 621,-113 621,0 770,0 770,-113\"/>\n<text text-anchor=\"middle\" x=\"695.5\" y=\"-97.8\" font-family=\"Times,serif\" font-size=\"14.00\">Node 11</text>\n<text text-anchor=\"middle\" x=\"695.5\" y=\"-82.8\" font-family=\"Times,serif\" font-size=\"14.00\">Samples: 1</text>\n<text text-anchor=\"middle\" x=\"695.5\" y=\"-67.8\" font-family=\"Times,serif\" font-size=\"14.00\">Value: [[0. 0. 1.]]</text>\n<text text-anchor=\"middle\" x=\"695.5\" y=\"-52.8\" font-family=\"Times,serif\" font-size=\"14.00\">Impurity: 0.0</text>\n<text text-anchor=\"middle\" x=\"695.5\" y=\"-37.8\" font-family=\"Times,serif\" font-size=\"14.00\">Impurity Reduction: 0.0</text>\n<text text-anchor=\"middle\" x=\"695.5\" y=\"-22.8\" font-family=\"Times,serif\" font-size=\"14.00\">Custom Metric: 0.9</text>\n<text text-anchor=\"middle\" x=\"695.5\" y=\"-7.8\" font-family=\"Times,serif\" font-size=\"14.00\">Weighted samples: 1.0</text>\n</g>\n<!-- 9&#45;&gt;11 -->\n<g id=\"edge12\" class=\"edge\">\n<title>9&#45;&gt;11</title>\n<path fill=\"none\" stroke=\"black\" d=\"M652.91,-155.83C657.78,-144.57 662.68,-133.26 667.33,-122.53\"/>\n<polygon fill=\"black\" stroke=\"black\" points=\"670.58,-123.83 671.35,-113.26 664.16,-121.05 670.58,-123.83\"/>\n<text text-anchor=\"middle\" x=\"680.54\" y=\"-132.81\" font-family=\"Times,serif\" font-size=\"14.00\">False</text>\n</g>\n<!-- 14 -->\n<g id=\"node16\" class=\"node\">\n<title>14</title>\n<polygon fill=\"none\" stroke=\"black\" points=\"891,-306.62 742,-306.62 742,-193.62 891,-193.62 891,-306.62\"/>\n<text text-anchor=\"middle\" x=\"816.5\" y=\"-291.42\" font-family=\"Times,serif\" font-size=\"14.00\">Node 14</text>\n<text text-anchor=\"middle\" x=\"816.5\" y=\"-276.42\" font-family=\"Times,serif\" font-size=\"14.00\">Samples: 2</text>\n<text text-anchor=\"middle\" x=\"816.5\" y=\"-261.42\" font-family=\"Times,serif\" font-size=\"14.00\">Value: [[0. 0. 2.]]</text>\n<text text-anchor=\"middle\" x=\"816.5\" y=\"-246.42\" font-family=\"Times,serif\" font-size=\"14.00\">Impurity: 0.0</text>\n<text text-anchor=\"middle\" x=\"816.5\" y=\"-231.42\" font-family=\"Times,serif\" font-size=\"14.00\">Impurity Reduction: 0.0</text>\n<text text-anchor=\"middle\" x=\"816.5\" y=\"-216.42\" font-family=\"Times,serif\" font-size=\"14.00\">Custom Metric: 0.18</text>\n<text text-anchor=\"middle\" x=\"816.5\" y=\"-201.42\" font-family=\"Times,serif\" font-size=\"14.00\">Weighted samples: 2.0</text>\n</g>\n<!-- 13&#45;&gt;14 -->\n<g id=\"edge15\" class=\"edge\">\n<title>13&#45;&gt;14</title>\n<path fill=\"none\" stroke=\"black\" d=\"M816.5,-387.16C816.5,-363.39 816.5,-338.62 816.5,-316.84\"/>\n<polygon fill=\"black\" stroke=\"black\" points=\"820,-316.73 816.5,-306.73 813,-316.73 820,-316.73\"/>\n<text text-anchor=\"middle\" x=\"798.82\" y=\"-320.71\" font-family=\"Times,serif\" font-size=\"14.00\">True</text>\n</g>\n<!-- 15 -->\n<g id=\"node17\" class=\"node\">\n<title>15</title>\n<polygon fill=\"none\" stroke=\"black\" points=\"1058,-306.62 909,-306.62 909,-193.62 1058,-193.62 1058,-306.62\"/>\n<text text-anchor=\"middle\" x=\"983.5\" y=\"-291.42\" font-family=\"Times,serif\" font-size=\"14.00\">Node 15</text>\n<text text-anchor=\"middle\" x=\"983.5\" y=\"-276.42\" font-family=\"Times,serif\" font-size=\"14.00\">Samples: 1</text>\n<text text-anchor=\"middle\" x=\"983.5\" y=\"-261.42\" font-family=\"Times,serif\" font-size=\"14.00\">Value: [[0. 1. 0.]]</text>\n<text text-anchor=\"middle\" x=\"983.5\" y=\"-246.42\" font-family=\"Times,serif\" font-size=\"14.00\">Impurity: 0.0</text>\n<text text-anchor=\"middle\" x=\"983.5\" y=\"-231.42\" font-family=\"Times,serif\" font-size=\"14.00\">Impurity Reduction: 0.0</text>\n<text text-anchor=\"middle\" x=\"983.5\" y=\"-216.42\" font-family=\"Times,serif\" font-size=\"14.00\">Custom Metric: 0.65</text>\n<text text-anchor=\"middle\" x=\"983.5\" y=\"-201.42\" font-family=\"Times,serif\" font-size=\"14.00\">Weighted samples: 1.0</text>\n</g>\n<!-- 13&#45;&gt;15 -->\n<g id=\"edge16\" class=\"edge\">\n<title>13&#45;&gt;15</title>\n<path fill=\"none\" stroke=\"black\" d=\"M876.32,-402.73C896.76,-373.82 919.27,-341.98 938.35,-314.98\"/>\n<polygon fill=\"black\" stroke=\"black\" points=\"941.25,-316.95 944.16,-306.76 935.53,-312.91 941.25,-316.95\"/>\n<text text-anchor=\"middle\" x=\"948.39\" y=\"-327.7\" font-family=\"Times,serif\" font-size=\"14.00\">False</text>\n</g>\n</g>\n</svg>\n",
            "text/plain": [
              "<graphviz.sources.Source at 0x784ddff63e20>"
            ]
          },
          "metadata": {},
          "execution_count": 13
        }
      ]
    },
    {
      "cell_type": "code",
      "source": [],
      "metadata": {
        "id": "1xezXhiXzoy1"
      },
      "execution_count": null,
      "outputs": []
    }
  ]
}